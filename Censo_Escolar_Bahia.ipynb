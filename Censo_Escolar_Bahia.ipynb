{
  "cells": [
    {
      "cell_type": "markdown",
      "metadata": {
        "id": "view-in-github",
        "colab_type": "text"
      },
      "source": [
        "<a href=\"https://colab.research.google.com/github/SuperRAS/SuperRAS/blob/main/Censo_Escolar_Bahia.ipynb\" target=\"_parent\"><img src=\"https://colab.research.google.com/assets/colab-badge.svg\" alt=\"Open In Colab\"/></a>"
      ]
    },
    {
      "cell_type": "code",
      "execution_count": 4,
      "id": "ab82b477",
      "metadata": {
        "id": "ab82b477"
      },
      "outputs": [],
      "source": [
        "import pandas as pd\n",
        "import numpy as np\n",
        "import datetime\n",
        "import matplotlib.pyplot as plt\n",
        "import matplotlib.cm as cm\n",
        "import seaborn as sns; sns.set()"
      ]
    },
    {
      "cell_type": "code",
      "execution_count": 1,
      "id": "a65f849a",
      "metadata": {
        "colab": {
          "base_uri": "https://localhost:8080/"
        },
        "id": "a65f849a",
        "outputId": "b1fe94c3-5b14-428e-923a-69b61488c57f"
      },
      "outputs": [
        {
          "output_type": "stream",
          "name": "stdout",
          "text": [
            "Looking in indexes: https://pypi.org/simple, https://us-python.pkg.dev/colab-wheels/public/simple/\n",
            "Requirement already satisfied: plotly in /usr/local/lib/python3.10/dist-packages (5.13.1)\n",
            "Collecting plotly\n",
            "  Downloading plotly-5.15.0-py2.py3-none-any.whl (15.5 MB)\n",
            "\u001b[2K     \u001b[90m━━━━━━━━━━━━━━━━━━━━━━━━━━━━━━━━━━━━━━━\u001b[0m \u001b[32m15.5/15.5 MB\u001b[0m \u001b[31m119.1 MB/s\u001b[0m eta \u001b[36m0:00:00\u001b[0m\n",
            "\u001b[?25hRequirement already satisfied: tenacity>=6.2.0 in /usr/local/lib/python3.10/dist-packages (from plotly) (8.2.2)\n",
            "Requirement already satisfied: packaging in /usr/local/lib/python3.10/dist-packages (from plotly) (23.1)\n",
            "Installing collected packages: plotly\n",
            "  Attempting uninstall: plotly\n",
            "    Found existing installation: plotly 5.13.1\n",
            "    Uninstalling plotly-5.13.1:\n",
            "      Successfully uninstalled plotly-5.13.1\n",
            "Successfully installed plotly-5.15.0\n"
          ]
        }
      ],
      "source": [
        "pip install plotly --upgrade"
      ]
    },
    {
      "cell_type": "code",
      "execution_count": 2,
      "id": "6e45b615",
      "metadata": {
        "id": "6e45b615"
      },
      "outputs": [],
      "source": [
        "import plotly.express as px;"
      ]
    },
    {
      "cell_type": "code",
      "source": [
        "pip install xlrd"
      ],
      "metadata": {
        "colab": {
          "base_uri": "https://localhost:8080/"
        },
        "id": "-hZbNlRQxVKR",
        "outputId": "efd0ffd8-01de-4ed6-bbca-846651b1cfbf"
      },
      "id": "-hZbNlRQxVKR",
      "execution_count": 9,
      "outputs": [
        {
          "output_type": "stream",
          "name": "stdout",
          "text": [
            "Looking in indexes: https://pypi.org/simple, https://us-python.pkg.dev/colab-wheels/public/simple/\n",
            "Requirement already satisfied: xlrd in /usr/local/lib/python3.10/dist-packages (2.0.1)\n"
          ]
        }
      ]
    },
    {
      "cell_type": "code",
      "execution_count": 13,
      "id": "3d2a903b",
      "metadata": {
        "colab": {
          "base_uri": "https://localhost:8080/",
          "height": 329
        },
        "id": "3d2a903b",
        "outputId": "e0963238-bf9d-45f7-8eb1-96d45b246e70"
      },
      "outputs": [
        {
          "output_type": "error",
          "ename": "BadZipFile",
          "evalue": "ignored",
          "traceback": [
            "\u001b[0;31m---------------------------------------------------------------------------\u001b[0m",
            "\u001b[0;31mBadZipFile\u001b[0m                                Traceback (most recent call last)",
            "\u001b[0;32m<ipython-input-13-0aa37574142a>\u001b[0m in \u001b[0;36m<cell line: 1>\u001b[0;34m()\u001b[0m\n\u001b[0;32m----> 1\u001b[0;31m \u001b[0mCensoBA\u001b[0m\u001b[0;34m=\u001b[0m\u001b[0mpd\u001b[0m\u001b[0;34m.\u001b[0m\u001b[0mread_excel\u001b[0m\u001b[0;34m(\u001b[0m\u001b[0;34m\"https://github.com/SuperRAS/SuperRAS/blob/main/CensoTeste2.xls\"\u001b[0m\u001b[0;34m,\u001b[0m \u001b[0mengine\u001b[0m\u001b[0;34m=\u001b[0m\u001b[0;34m\"openpyxl\"\u001b[0m\u001b[0;34m)\u001b[0m\u001b[0;34m\u001b[0m\u001b[0;34m\u001b[0m\u001b[0m\n\u001b[0m\u001b[1;32m      2\u001b[0m \u001b[0mCensoBA\u001b[0m\u001b[0;34m.\u001b[0m\u001b[0mhead\u001b[0m\u001b[0;34m(\u001b[0m\u001b[0;36m10\u001b[0m\u001b[0;34m)\u001b[0m\u001b[0;34m\u001b[0m\u001b[0;34m\u001b[0m\u001b[0m\n",
            "\u001b[0;32m/usr/local/lib/python3.10/dist-packages/pandas/util/_decorators.py\u001b[0m in \u001b[0;36mwrapper\u001b[0;34m(*args, **kwargs)\u001b[0m\n\u001b[1;32m    209\u001b[0m                 \u001b[0;32melse\u001b[0m\u001b[0;34m:\u001b[0m\u001b[0;34m\u001b[0m\u001b[0;34m\u001b[0m\u001b[0m\n\u001b[1;32m    210\u001b[0m                     \u001b[0mkwargs\u001b[0m\u001b[0;34m[\u001b[0m\u001b[0mnew_arg_name\u001b[0m\u001b[0;34m]\u001b[0m \u001b[0;34m=\u001b[0m \u001b[0mnew_arg_value\u001b[0m\u001b[0;34m\u001b[0m\u001b[0;34m\u001b[0m\u001b[0m\n\u001b[0;32m--> 211\u001b[0;31m             \u001b[0;32mreturn\u001b[0m \u001b[0mfunc\u001b[0m\u001b[0;34m(\u001b[0m\u001b[0;34m*\u001b[0m\u001b[0margs\u001b[0m\u001b[0;34m,\u001b[0m \u001b[0;34m**\u001b[0m\u001b[0mkwargs\u001b[0m\u001b[0;34m)\u001b[0m\u001b[0;34m\u001b[0m\u001b[0;34m\u001b[0m\u001b[0m\n\u001b[0m\u001b[1;32m    212\u001b[0m \u001b[0;34m\u001b[0m\u001b[0m\n\u001b[1;32m    213\u001b[0m         \u001b[0;32mreturn\u001b[0m \u001b[0mcast\u001b[0m\u001b[0;34m(\u001b[0m\u001b[0mF\u001b[0m\u001b[0;34m,\u001b[0m \u001b[0mwrapper\u001b[0m\u001b[0;34m)\u001b[0m\u001b[0;34m\u001b[0m\u001b[0;34m\u001b[0m\u001b[0m\n",
            "\u001b[0;32m/usr/local/lib/python3.10/dist-packages/pandas/util/_decorators.py\u001b[0m in \u001b[0;36mwrapper\u001b[0;34m(*args, **kwargs)\u001b[0m\n\u001b[1;32m    329\u001b[0m                     \u001b[0mstacklevel\u001b[0m\u001b[0;34m=\u001b[0m\u001b[0mfind_stack_level\u001b[0m\u001b[0;34m(\u001b[0m\u001b[0;34m)\u001b[0m\u001b[0;34m,\u001b[0m\u001b[0;34m\u001b[0m\u001b[0;34m\u001b[0m\u001b[0m\n\u001b[1;32m    330\u001b[0m                 )\n\u001b[0;32m--> 331\u001b[0;31m             \u001b[0;32mreturn\u001b[0m \u001b[0mfunc\u001b[0m\u001b[0;34m(\u001b[0m\u001b[0;34m*\u001b[0m\u001b[0margs\u001b[0m\u001b[0;34m,\u001b[0m \u001b[0;34m**\u001b[0m\u001b[0mkwargs\u001b[0m\u001b[0;34m)\u001b[0m\u001b[0;34m\u001b[0m\u001b[0;34m\u001b[0m\u001b[0m\n\u001b[0m\u001b[1;32m    332\u001b[0m \u001b[0;34m\u001b[0m\u001b[0m\n\u001b[1;32m    333\u001b[0m         \u001b[0;31m# error: \"Callable[[VarArg(Any), KwArg(Any)], Any]\" has no\u001b[0m\u001b[0;34m\u001b[0m\u001b[0;34m\u001b[0m\u001b[0m\n",
            "\u001b[0;32m/usr/local/lib/python3.10/dist-packages/pandas/io/excel/_base.py\u001b[0m in \u001b[0;36mread_excel\u001b[0;34m(io, sheet_name, header, names, index_col, usecols, squeeze, dtype, engine, converters, true_values, false_values, skiprows, nrows, na_values, keep_default_na, na_filter, verbose, parse_dates, date_parser, thousands, decimal, comment, skipfooter, convert_float, mangle_dupe_cols, storage_options)\u001b[0m\n\u001b[1;32m    480\u001b[0m     \u001b[0;32mif\u001b[0m \u001b[0;32mnot\u001b[0m \u001b[0misinstance\u001b[0m\u001b[0;34m(\u001b[0m\u001b[0mio\u001b[0m\u001b[0;34m,\u001b[0m \u001b[0mExcelFile\u001b[0m\u001b[0;34m)\u001b[0m\u001b[0;34m:\u001b[0m\u001b[0;34m\u001b[0m\u001b[0;34m\u001b[0m\u001b[0m\n\u001b[1;32m    481\u001b[0m         \u001b[0mshould_close\u001b[0m \u001b[0;34m=\u001b[0m \u001b[0;32mTrue\u001b[0m\u001b[0;34m\u001b[0m\u001b[0;34m\u001b[0m\u001b[0m\n\u001b[0;32m--> 482\u001b[0;31m         \u001b[0mio\u001b[0m \u001b[0;34m=\u001b[0m \u001b[0mExcelFile\u001b[0m\u001b[0;34m(\u001b[0m\u001b[0mio\u001b[0m\u001b[0;34m,\u001b[0m \u001b[0mstorage_options\u001b[0m\u001b[0;34m=\u001b[0m\u001b[0mstorage_options\u001b[0m\u001b[0;34m,\u001b[0m \u001b[0mengine\u001b[0m\u001b[0;34m=\u001b[0m\u001b[0mengine\u001b[0m\u001b[0;34m)\u001b[0m\u001b[0;34m\u001b[0m\u001b[0;34m\u001b[0m\u001b[0m\n\u001b[0m\u001b[1;32m    483\u001b[0m     \u001b[0;32melif\u001b[0m \u001b[0mengine\u001b[0m \u001b[0;32mand\u001b[0m \u001b[0mengine\u001b[0m \u001b[0;34m!=\u001b[0m \u001b[0mio\u001b[0m\u001b[0;34m.\u001b[0m\u001b[0mengine\u001b[0m\u001b[0;34m:\u001b[0m\u001b[0;34m\u001b[0m\u001b[0;34m\u001b[0m\u001b[0m\n\u001b[1;32m    484\u001b[0m         raise ValueError(\n",
            "\u001b[0;32m/usr/local/lib/python3.10/dist-packages/pandas/io/excel/_base.py\u001b[0m in \u001b[0;36m__init__\u001b[0;34m(self, path_or_buffer, engine, storage_options)\u001b[0m\n\u001b[1;32m   1693\u001b[0m         \u001b[0mself\u001b[0m\u001b[0;34m.\u001b[0m\u001b[0mstorage_options\u001b[0m \u001b[0;34m=\u001b[0m \u001b[0mstorage_options\u001b[0m\u001b[0;34m\u001b[0m\u001b[0;34m\u001b[0m\u001b[0m\n\u001b[1;32m   1694\u001b[0m \u001b[0;34m\u001b[0m\u001b[0m\n\u001b[0;32m-> 1695\u001b[0;31m         \u001b[0mself\u001b[0m\u001b[0;34m.\u001b[0m\u001b[0m_reader\u001b[0m \u001b[0;34m=\u001b[0m \u001b[0mself\u001b[0m\u001b[0;34m.\u001b[0m\u001b[0m_engines\u001b[0m\u001b[0;34m[\u001b[0m\u001b[0mengine\u001b[0m\u001b[0;34m]\u001b[0m\u001b[0;34m(\u001b[0m\u001b[0mself\u001b[0m\u001b[0;34m.\u001b[0m\u001b[0m_io\u001b[0m\u001b[0;34m,\u001b[0m \u001b[0mstorage_options\u001b[0m\u001b[0;34m=\u001b[0m\u001b[0mstorage_options\u001b[0m\u001b[0;34m)\u001b[0m\u001b[0;34m\u001b[0m\u001b[0;34m\u001b[0m\u001b[0m\n\u001b[0m\u001b[1;32m   1696\u001b[0m \u001b[0;34m\u001b[0m\u001b[0m\n\u001b[1;32m   1697\u001b[0m     \u001b[0;32mdef\u001b[0m \u001b[0m__fspath__\u001b[0m\u001b[0;34m(\u001b[0m\u001b[0mself\u001b[0m\u001b[0;34m)\u001b[0m\u001b[0;34m:\u001b[0m\u001b[0;34m\u001b[0m\u001b[0;34m\u001b[0m\u001b[0m\n",
            "\u001b[0;32m/usr/local/lib/python3.10/dist-packages/pandas/io/excel/_openpyxl.py\u001b[0m in \u001b[0;36m__init__\u001b[0;34m(self, filepath_or_buffer, storage_options)\u001b[0m\n\u001b[1;32m    555\u001b[0m         \"\"\"\n\u001b[1;32m    556\u001b[0m         \u001b[0mimport_optional_dependency\u001b[0m\u001b[0;34m(\u001b[0m\u001b[0;34m\"openpyxl\"\u001b[0m\u001b[0;34m)\u001b[0m\u001b[0;34m\u001b[0m\u001b[0;34m\u001b[0m\u001b[0m\n\u001b[0;32m--> 557\u001b[0;31m         \u001b[0msuper\u001b[0m\u001b[0;34m(\u001b[0m\u001b[0;34m)\u001b[0m\u001b[0;34m.\u001b[0m\u001b[0m__init__\u001b[0m\u001b[0;34m(\u001b[0m\u001b[0mfilepath_or_buffer\u001b[0m\u001b[0;34m,\u001b[0m \u001b[0mstorage_options\u001b[0m\u001b[0;34m=\u001b[0m\u001b[0mstorage_options\u001b[0m\u001b[0;34m)\u001b[0m\u001b[0;34m\u001b[0m\u001b[0;34m\u001b[0m\u001b[0m\n\u001b[0m\u001b[1;32m    558\u001b[0m \u001b[0;34m\u001b[0m\u001b[0m\n\u001b[1;32m    559\u001b[0m     \u001b[0;34m@\u001b[0m\u001b[0mproperty\u001b[0m\u001b[0;34m\u001b[0m\u001b[0;34m\u001b[0m\u001b[0m\n",
            "\u001b[0;32m/usr/local/lib/python3.10/dist-packages/pandas/io/excel/_base.py\u001b[0m in \u001b[0;36m__init__\u001b[0;34m(self, filepath_or_buffer, storage_options)\u001b[0m\n\u001b[1;32m    543\u001b[0m             \u001b[0mself\u001b[0m\u001b[0;34m.\u001b[0m\u001b[0mhandles\u001b[0m\u001b[0;34m.\u001b[0m\u001b[0mhandle\u001b[0m\u001b[0;34m.\u001b[0m\u001b[0mseek\u001b[0m\u001b[0;34m(\u001b[0m\u001b[0;36m0\u001b[0m\u001b[0;34m)\u001b[0m\u001b[0;34m\u001b[0m\u001b[0;34m\u001b[0m\u001b[0m\n\u001b[1;32m    544\u001b[0m             \u001b[0;32mtry\u001b[0m\u001b[0;34m:\u001b[0m\u001b[0;34m\u001b[0m\u001b[0;34m\u001b[0m\u001b[0m\n\u001b[0;32m--> 545\u001b[0;31m                 \u001b[0mself\u001b[0m\u001b[0;34m.\u001b[0m\u001b[0mbook\u001b[0m \u001b[0;34m=\u001b[0m \u001b[0mself\u001b[0m\u001b[0;34m.\u001b[0m\u001b[0mload_workbook\u001b[0m\u001b[0;34m(\u001b[0m\u001b[0mself\u001b[0m\u001b[0;34m.\u001b[0m\u001b[0mhandles\u001b[0m\u001b[0;34m.\u001b[0m\u001b[0mhandle\u001b[0m\u001b[0;34m)\u001b[0m\u001b[0;34m\u001b[0m\u001b[0;34m\u001b[0m\u001b[0m\n\u001b[0m\u001b[1;32m    546\u001b[0m             \u001b[0;32mexcept\u001b[0m \u001b[0mException\u001b[0m\u001b[0;34m:\u001b[0m\u001b[0;34m\u001b[0m\u001b[0;34m\u001b[0m\u001b[0m\n\u001b[1;32m    547\u001b[0m                 \u001b[0mself\u001b[0m\u001b[0;34m.\u001b[0m\u001b[0mclose\u001b[0m\u001b[0;34m(\u001b[0m\u001b[0;34m)\u001b[0m\u001b[0;34m\u001b[0m\u001b[0;34m\u001b[0m\u001b[0m\n",
            "\u001b[0;32m/usr/local/lib/python3.10/dist-packages/pandas/io/excel/_openpyxl.py\u001b[0m in \u001b[0;36mload_workbook\u001b[0;34m(self, filepath_or_buffer)\u001b[0m\n\u001b[1;32m    566\u001b[0m         \u001b[0;32mfrom\u001b[0m \u001b[0mopenpyxl\u001b[0m \u001b[0;32mimport\u001b[0m \u001b[0mload_workbook\u001b[0m\u001b[0;34m\u001b[0m\u001b[0;34m\u001b[0m\u001b[0m\n\u001b[1;32m    567\u001b[0m \u001b[0;34m\u001b[0m\u001b[0m\n\u001b[0;32m--> 568\u001b[0;31m         return load_workbook(\n\u001b[0m\u001b[1;32m    569\u001b[0m             \u001b[0mfilepath_or_buffer\u001b[0m\u001b[0;34m,\u001b[0m \u001b[0mread_only\u001b[0m\u001b[0;34m=\u001b[0m\u001b[0;32mTrue\u001b[0m\u001b[0;34m,\u001b[0m \u001b[0mdata_only\u001b[0m\u001b[0;34m=\u001b[0m\u001b[0;32mTrue\u001b[0m\u001b[0;34m,\u001b[0m \u001b[0mkeep_links\u001b[0m\u001b[0;34m=\u001b[0m\u001b[0;32mFalse\u001b[0m\u001b[0;34m\u001b[0m\u001b[0;34m\u001b[0m\u001b[0m\n\u001b[1;32m    570\u001b[0m         )\n",
            "\u001b[0;32m/usr/local/lib/python3.10/dist-packages/openpyxl/reader/excel.py\u001b[0m in \u001b[0;36mload_workbook\u001b[0;34m(filename, read_only, keep_vba, data_only, keep_links)\u001b[0m\n\u001b[1;32m    313\u001b[0m \u001b[0;34m\u001b[0m\u001b[0m\n\u001b[1;32m    314\u001b[0m     \"\"\"\n\u001b[0;32m--> 315\u001b[0;31m     reader = ExcelReader(filename, read_only, keep_vba,\n\u001b[0m\u001b[1;32m    316\u001b[0m                         data_only, keep_links)\n\u001b[1;32m    317\u001b[0m     \u001b[0mreader\u001b[0m\u001b[0;34m.\u001b[0m\u001b[0mread\u001b[0m\u001b[0;34m(\u001b[0m\u001b[0;34m)\u001b[0m\u001b[0;34m\u001b[0m\u001b[0;34m\u001b[0m\u001b[0m\n",
            "\u001b[0;32m/usr/local/lib/python3.10/dist-packages/openpyxl/reader/excel.py\u001b[0m in \u001b[0;36m__init__\u001b[0;34m(self, fn, read_only, keep_vba, data_only, keep_links)\u001b[0m\n\u001b[1;32m    122\u001b[0m     def __init__(self,  fn, read_only=False, keep_vba=KEEP_VBA,\n\u001b[1;32m    123\u001b[0m                   data_only=False, keep_links=True):\n\u001b[0;32m--> 124\u001b[0;31m         \u001b[0mself\u001b[0m\u001b[0;34m.\u001b[0m\u001b[0marchive\u001b[0m \u001b[0;34m=\u001b[0m \u001b[0m_validate_archive\u001b[0m\u001b[0;34m(\u001b[0m\u001b[0mfn\u001b[0m\u001b[0;34m)\u001b[0m\u001b[0;34m\u001b[0m\u001b[0;34m\u001b[0m\u001b[0m\n\u001b[0m\u001b[1;32m    125\u001b[0m         \u001b[0mself\u001b[0m\u001b[0;34m.\u001b[0m\u001b[0mvalid_files\u001b[0m \u001b[0;34m=\u001b[0m \u001b[0mself\u001b[0m\u001b[0;34m.\u001b[0m\u001b[0marchive\u001b[0m\u001b[0;34m.\u001b[0m\u001b[0mnamelist\u001b[0m\u001b[0;34m(\u001b[0m\u001b[0;34m)\u001b[0m\u001b[0;34m\u001b[0m\u001b[0;34m\u001b[0m\u001b[0m\n\u001b[1;32m    126\u001b[0m         \u001b[0mself\u001b[0m\u001b[0;34m.\u001b[0m\u001b[0mread_only\u001b[0m \u001b[0;34m=\u001b[0m \u001b[0mread_only\u001b[0m\u001b[0;34m\u001b[0m\u001b[0;34m\u001b[0m\u001b[0m\n",
            "\u001b[0;32m/usr/local/lib/python3.10/dist-packages/openpyxl/reader/excel.py\u001b[0m in \u001b[0;36m_validate_archive\u001b[0;34m(filename)\u001b[0m\n\u001b[1;32m     94\u001b[0m             \u001b[0;32mraise\u001b[0m \u001b[0mInvalidFileException\u001b[0m\u001b[0;34m(\u001b[0m\u001b[0mmsg\u001b[0m\u001b[0;34m)\u001b[0m\u001b[0;34m\u001b[0m\u001b[0;34m\u001b[0m\u001b[0m\n\u001b[1;32m     95\u001b[0m \u001b[0;34m\u001b[0m\u001b[0m\n\u001b[0;32m---> 96\u001b[0;31m     \u001b[0marchive\u001b[0m \u001b[0;34m=\u001b[0m \u001b[0mZipFile\u001b[0m\u001b[0;34m(\u001b[0m\u001b[0mfilename\u001b[0m\u001b[0;34m,\u001b[0m \u001b[0;34m'r'\u001b[0m\u001b[0;34m)\u001b[0m\u001b[0;34m\u001b[0m\u001b[0;34m\u001b[0m\u001b[0m\n\u001b[0m\u001b[1;32m     97\u001b[0m     \u001b[0;32mreturn\u001b[0m \u001b[0marchive\u001b[0m\u001b[0;34m\u001b[0m\u001b[0;34m\u001b[0m\u001b[0m\n\u001b[1;32m     98\u001b[0m \u001b[0;34m\u001b[0m\u001b[0m\n",
            "\u001b[0;32m/usr/lib/python3.10/zipfile.py\u001b[0m in \u001b[0;36m__init__\u001b[0;34m(self, file, mode, compression, allowZip64, compresslevel, strict_timestamps)\u001b[0m\n\u001b[1;32m   1267\u001b[0m         \u001b[0;32mtry\u001b[0m\u001b[0;34m:\u001b[0m\u001b[0;34m\u001b[0m\u001b[0;34m\u001b[0m\u001b[0m\n\u001b[1;32m   1268\u001b[0m             \u001b[0;32mif\u001b[0m \u001b[0mmode\u001b[0m \u001b[0;34m==\u001b[0m \u001b[0;34m'r'\u001b[0m\u001b[0;34m:\u001b[0m\u001b[0;34m\u001b[0m\u001b[0;34m\u001b[0m\u001b[0m\n\u001b[0;32m-> 1269\u001b[0;31m                 \u001b[0mself\u001b[0m\u001b[0;34m.\u001b[0m\u001b[0m_RealGetContents\u001b[0m\u001b[0;34m(\u001b[0m\u001b[0;34m)\u001b[0m\u001b[0;34m\u001b[0m\u001b[0;34m\u001b[0m\u001b[0m\n\u001b[0m\u001b[1;32m   1270\u001b[0m             \u001b[0;32melif\u001b[0m \u001b[0mmode\u001b[0m \u001b[0;32min\u001b[0m \u001b[0;34m(\u001b[0m\u001b[0;34m'w'\u001b[0m\u001b[0;34m,\u001b[0m \u001b[0;34m'x'\u001b[0m\u001b[0;34m)\u001b[0m\u001b[0;34m:\u001b[0m\u001b[0;34m\u001b[0m\u001b[0;34m\u001b[0m\u001b[0m\n\u001b[1;32m   1271\u001b[0m                 \u001b[0;31m# set the modified flag so central directory gets written\u001b[0m\u001b[0;34m\u001b[0m\u001b[0;34m\u001b[0m\u001b[0m\n",
            "\u001b[0;32m/usr/lib/python3.10/zipfile.py\u001b[0m in \u001b[0;36m_RealGetContents\u001b[0;34m(self)\u001b[0m\n\u001b[1;32m   1334\u001b[0m             \u001b[0;32mraise\u001b[0m \u001b[0mBadZipFile\u001b[0m\u001b[0;34m(\u001b[0m\u001b[0;34m\"File is not a zip file\"\u001b[0m\u001b[0;34m)\u001b[0m\u001b[0;34m\u001b[0m\u001b[0;34m\u001b[0m\u001b[0m\n\u001b[1;32m   1335\u001b[0m         \u001b[0;32mif\u001b[0m \u001b[0;32mnot\u001b[0m \u001b[0mendrec\u001b[0m\u001b[0;34m:\u001b[0m\u001b[0;34m\u001b[0m\u001b[0;34m\u001b[0m\u001b[0m\n\u001b[0;32m-> 1336\u001b[0;31m             \u001b[0;32mraise\u001b[0m \u001b[0mBadZipFile\u001b[0m\u001b[0;34m(\u001b[0m\u001b[0;34m\"File is not a zip file\"\u001b[0m\u001b[0;34m)\u001b[0m\u001b[0;34m\u001b[0m\u001b[0;34m\u001b[0m\u001b[0m\n\u001b[0m\u001b[1;32m   1337\u001b[0m         \u001b[0;32mif\u001b[0m \u001b[0mself\u001b[0m\u001b[0;34m.\u001b[0m\u001b[0mdebug\u001b[0m \u001b[0;34m>\u001b[0m \u001b[0;36m1\u001b[0m\u001b[0;34m:\u001b[0m\u001b[0;34m\u001b[0m\u001b[0;34m\u001b[0m\u001b[0m\n\u001b[1;32m   1338\u001b[0m             \u001b[0mprint\u001b[0m\u001b[0;34m(\u001b[0m\u001b[0mendrec\u001b[0m\u001b[0;34m)\u001b[0m\u001b[0;34m\u001b[0m\u001b[0;34m\u001b[0m\u001b[0m\n",
            "\u001b[0;31mBadZipFile\u001b[0m: File is not a zip file"
          ]
        }
      ],
      "source": [
        "CensoBA=pd.read_excel(\"https://github.com/SuperRAS/SuperRAS/blob/main/CensoTeste2.xls\", engine=\"openpyxl\")\n",
        "CensoBA.head(10)"
      ]
    },
    {
      "cell_type": "code",
      "execution_count": null,
      "id": "440cef16",
      "metadata": {
        "id": "440cef16",
        "outputId": "5fa19f64-fba3-4cc6-e912-6f24266df45d"
      },
      "outputs": [
        {
          "name": "stdout",
          "output_type": "stream",
          "text": [
            "CO_MUNICIPIO          2.917150e+06\n",
            "QT_MAT_INF_19         9.842710e+02\n",
            "QT_MAT_INF_20         1.298504e+03\n",
            "QT_MAT_INF_21         1.048374e+03\n",
            "QT_MAT_INF_22         1.041990e+03\n",
            "QT_MAT_FUND_19        3.609652e+03\n",
            "QT_MAT_FUND_20        4.669489e+03\n",
            "QT_MAT_FUND_21        3.665293e+03\n",
            "QT_MAT_FUND_22        3.564830e+03\n",
            "QT_MAT_EJA_FUND_19    4.737506e+02\n",
            "QT_MAT_EJA_FUND_20    5.041031e+02\n",
            "QT_MAT_EJA_FUND_21    5.189017e+02\n",
            "QT_MAT_EJA_FUND_22    5.604508e+02\n",
            "QT_MAT_ESP_19         1.887362e+02\n",
            "QT_MAT_ESP_20         2.452902e+02\n",
            "QT_MAT_ESP_21         2.070264e+02\n",
            "QT_MAT_ESP_22         2.364269e+02\n",
            "QT_MAT_INF_INT_19     2.781583e+02\n",
            "QT_MAT_INF_INT_20     3.189089e+02\n",
            "QT_MAT_INF_INT_21     3.138993e+02\n",
            "QT_MAT_INF_INT_22     3.300120e+02\n",
            "QT_MAT_FUND_INT_19    4.626954e+02\n",
            "QT_MAT_FUND_INT_20    2.393381e+02\n",
            "QT_MAT_FUND_INT_21    2.779688e+02\n",
            "QT_MAT_FUND_INT_22    4.085228e+02\n",
            "dtype: float64\n"
          ]
        }
      ],
      "source": [
        "##mean = CensoBA['Age'].mean()\n",
        "mean = CensoBA.mean()\n",
        "print(mean)"
      ]
    },
    {
      "cell_type": "code",
      "execution_count": null,
      "id": "e008bcda",
      "metadata": {
        "id": "e008bcda",
        "outputId": "98043a4d-8f59-48f5-ff68-3298c8bcdb43"
      },
      "outputs": [
        {
          "name": "stdout",
          "output_type": "stream",
          "text": [
            "CO_MUNICIPIO          2917607.0\n",
            "QT_MAT_INF_19             629.0\n",
            "QT_MAT_INF_20             680.0\n",
            "QT_MAT_INF_21             661.0\n",
            "QT_MAT_INF_22             654.0\n",
            "QT_MAT_FUND_19           2259.0\n",
            "QT_MAT_FUND_20           2371.0\n",
            "QT_MAT_FUND_21           2206.0\n",
            "QT_MAT_FUND_22           2145.0\n",
            "QT_MAT_EJA_FUND_19        253.0\n",
            "QT_MAT_EJA_FUND_20        232.0\n",
            "QT_MAT_EJA_FUND_21        258.0\n",
            "QT_MAT_EJA_FUND_22        273.0\n",
            "QT_MAT_ESP_19             104.0\n",
            "QT_MAT_ESP_20             121.0\n",
            "QT_MAT_ESP_21             112.0\n",
            "QT_MAT_ESP_22             132.0\n",
            "QT_MAT_INF_INT_19         145.0\n",
            "QT_MAT_INF_INT_20         147.0\n",
            "QT_MAT_INF_INT_21         158.0\n",
            "QT_MAT_INF_INT_22         186.0\n",
            "QT_MAT_FUND_INT_19        141.0\n",
            "QT_MAT_FUND_INT_20          0.0\n",
            "QT_MAT_FUND_INT_21          0.0\n",
            "QT_MAT_FUND_INT_22        113.0\n",
            "dtype: float64\n"
          ]
        }
      ],
      "source": [
        "median = CensoBA.median()\n",
        "print(median)"
      ]
    },
    {
      "cell_type": "code",
      "execution_count": null,
      "id": "5a812047",
      "metadata": {
        "id": "5a812047",
        "outputId": "7b37d2fc-594b-4672-a3de-eb987e37d488"
      },
      "outputs": [
        {
          "data": {
            "application/vnd.plotly.v1+json": {
              "config": {
                "plotlyServerURL": "https://plot.ly"
              },
              "data": [
                {
                  "hovertemplate": "<b>%{hovertext}</b><br><br>POP_Censo_2022=%{x}<br>QT_MAT_EJA_FUND_22=%{y}<extra></extra>",
                  "hovertext": [
                    "Abaíra",
                    "Abaré",
                    "Acajutiba",
                    "Adustina",
                    "Água Fria",
                    "Aiquara",
                    "Alagoinhas",
                    "Alcobaça",
                    "Almadina",
                    "Amargosa",
                    "Amélia Rodrigues",
                    "América Dourada",
                    "Anagé",
                    "Andaraí",
                    "Andorinha",
                    "Angical",
                    "Anguera",
                    "Antas",
                    "Antônio Cardoso",
                    "Antônio Gonçalves",
                    "Aporá",
                    "Apuarema",
                    "Araçás",
                    "Aracatu",
                    "Araci",
                    "Aramari",
                    "Arataca",
                    "Aratuípe",
                    "Aurelino Leal",
                    "Baianópolis",
                    "Baixa Grande",
                    "Banzaê",
                    "Barra",
                    "Barra da Estiva",
                    "Barra do Choça",
                    "Barra do Mendes",
                    "Barra do Rocha",
                    "Barreiras",
                    "Barro Alto",
                    "Barro Preto",
                    "Barrocas",
                    "Belmonte",
                    "Belo Campo",
                    "Biritinga",
                    "Boa Nova",
                    "Boa Vista do Tupim",
                    "Bom Jesus da Lapa",
                    "Bom Jesus da Serra",
                    "Boninal",
                    "Bonito",
                    "Boquira",
                    "Botuporã",
                    "Brejões",
                    "Brejolândia",
                    "Brotas de Macaúbas",
                    "Brumado",
                    "Buerarema",
                    "Buritirama",
                    "Caatiba",
                    "Cabaceiras do Paraguaçu",
                    "Cachoeira",
                    "Caculé",
                    "Caém",
                    "Caetanos",
                    "Caetité",
                    "Cafarnaum",
                    "Cairu",
                    "Caldeirão Grande",
                    "Camacan",
                    "Camaçari",
                    "Camamu",
                    "Campo Alegre de Lourdes",
                    "Campo Formoso",
                    "Canápolis",
                    "Canarana",
                    "Canavieiras",
                    "Candeal",
                    "Candeias",
                    "Candiba",
                    "Cândido Sales",
                    "Cansanção",
                    "Canudos",
                    "Capela do Alto Alegre",
                    "Capim Grosso",
                    "Caraíbas",
                    "Caravelas",
                    "Cardeal da Silva",
                    "Carinhanha",
                    "Casa Nova",
                    "Castro Alves",
                    "Catolândia",
                    "Catu",
                    "Caturama",
                    "Central",
                    "Chorrochó",
                    "Cícero Dantas",
                    "Cipó",
                    "Coaraci",
                    "Cocos",
                    "Conceição da Feira",
                    "Conceição do Almeida",
                    "Conceição do Coité",
                    "Conceição do Jacuípe",
                    "Conde",
                    "Condeúba",
                    "Contendas do Sincorá",
                    "Coração de Maria",
                    "Cordeiros",
                    "Coribe",
                    "Coronel João Sá",
                    "Correntina",
                    "Cotegipe",
                    "Cravolândia",
                    "Crisópolis",
                    "Cristópolis",
                    "Cruz das Almas",
                    "Curaçá",
                    "Dário Meira",
                    "Dias d'Ávila",
                    "Dom Basílio",
                    "Dom Macedo Costa",
                    "Elísio Medrado",
                    "Encruzilhada",
                    "Entre Rios",
                    "Érico Cardoso",
                    "Esplanada",
                    "Euclides da Cunha",
                    "Eunápolis",
                    "Fátima",
                    "Feira da Mata",
                    "Feira de Santana",
                    "Filadélfia",
                    "Firmino Alves",
                    "Floresta Azul",
                    "Formosa do Rio Preto",
                    "Gandu",
                    "Gavião",
                    "Gentio do Ouro",
                    "Glória",
                    "Gongogi",
                    "Governador Mangabeira",
                    "Guajeru",
                    "Guanambi",
                    "Guaratinga",
                    "Heliópolis",
                    "Iaçu",
                    "Ibiassucê",
                    "Ibicaraí",
                    "Ibicoara",
                    "Ibicuí",
                    "Ibipeba",
                    "Ibipitanga",
                    "Ibiquera",
                    "Ibirapitanga",
                    "Ibirapuã",
                    "Ibirataia",
                    "Ibitiara",
                    "Ibititá",
                    "Ibotirama",
                    "Ichu",
                    "Igaporã",
                    "Igrapiúna",
                    "Iguaí",
                    "Ilhéus",
                    "Inhambupe",
                    "Ipecaetá",
                    "Ipiaú",
                    "Ipirá",
                    "Ipupiara",
                    "Irajuba",
                    "Iramaia",
                    "Iraquara",
                    "Irará",
                    "Irecê",
                    "Itabela",
                    "Itaberaba",
                    "Itabuna",
                    "Itacaré",
                    "Itaeté",
                    "Itagi",
                    "Itagibá",
                    "Itagimirim",
                    "Itaguaçu da Bahia",
                    "Itaju do Colônia",
                    "Itajuípe",
                    "Itamaraju",
                    "Itamari",
                    "Itambé",
                    "Itanagra",
                    "Itanhém",
                    "Itaparica",
                    "Itapé",
                    "Itapebi",
                    "Itapetinga",
                    "Itapicuru",
                    "Itapitanga",
                    "Itaquara",
                    "Itarantim",
                    "Itatim",
                    "Itiruçu",
                    "Itiúba",
                    "Itororó",
                    "Ituaçu",
                    "Ituberá",
                    "Iuiu",
                    "Jaborandi",
                    "Jacaraci",
                    "Jacobina",
                    "Jaguaquara",
                    "Jaguarari",
                    "Jaguaripe",
                    "Jandaíra",
                    "Jequié",
                    "Jeremoabo",
                    "Jiquiriçá",
                    "Jitaúna",
                    "João Dourado",
                    "Juazeiro",
                    "Jucuruçu",
                    "Jussara",
                    "Jussari",
                    "Jussiape",
                    "Lafaiete Coutinho",
                    "Lagoa Real",
                    "Laje",
                    "Lajedão",
                    "Lajedinho",
                    "Lajedo do Tabocal",
                    "Lamarão",
                    "Lapão",
                    "Lauro de Freitas",
                    "Lençóis",
                    "Licínio de Almeida",
                    "Livramento de Nossa Senhora",
                    "Luís Eduardo Magalhães",
                    "Macajuba",
                    "Macarani",
                    "Macaúbas",
                    "Macururé",
                    "Madre de Deus",
                    "Maetinga",
                    "Maiquinique",
                    "Mairi",
                    "Malhada",
                    "Malhada de Pedras",
                    "Manoel Vitorino",
                    "Mansidão",
                    "Maracás",
                    "Maragogipe",
                    "Maraú",
                    "Marcionílio Souza",
                    "Mascote",
                    "Mata de São João",
                    "Matina",
                    "Medeiros Neto",
                    "Miguel Calmon",
                    "Milagres",
                    "Mirangaba",
                    "Mirante",
                    "Monte Santo",
                    "Morpará",
                    "Morro do Chapéu",
                    "Mortugaba",
                    "Mucugê",
                    "Mucuri",
                    "Mulungu do Morro",
                    "Mundo Novo",
                    "Muniz Ferreira",
                    "Muquém do São Francisco",
                    "Muritiba",
                    "Mutuípe",
                    "Nazaré",
                    "Nilo Peçanha",
                    "Nordestina",
                    "Nova Canaã",
                    "Nova Fátima",
                    "Nova Ibiá",
                    "Nova Itarana",
                    "Nova Redenção",
                    "Nova Soure",
                    "Nova Viçosa",
                    "Novo Horizonte",
                    "Novo Triunfo",
                    "Olindina",
                    "Oliveira dos Brejinhos",
                    "Ouriçangas",
                    "Ourolândia",
                    "Palmas de Monte Alto",
                    "Palmeiras",
                    "Paramirim",
                    "Paratinga",
                    "Paripiranga",
                    "Pau Brasil",
                    "Paulo Afonso",
                    "Pé de Serra",
                    "Pedrão",
                    "Pedro Alexandre",
                    "Piatã",
                    "Pilão Arcado",
                    "Pindaí",
                    "Pindobaçu",
                    "Pintadas",
                    "Piraí do Norte",
                    "Piripá",
                    "Piritiba",
                    "Planaltino",
                    "Planalto",
                    "Poções",
                    "Pojuca",
                    "Ponto Novo",
                    "Porto Seguro",
                    "Potiraguá",
                    "Prado",
                    "Presidente Dutra",
                    "Presidente Jânio Quadros",
                    "Presidente Tancredo Neves",
                    "Queimadas",
                    "Quijingue",
                    "Quixabeira",
                    "Rafael Jambeiro",
                    "Remanso",
                    "Retirolândia",
                    "Riachão das Neves",
                    "Riachão do Jacuípe",
                    "Riacho de Santana",
                    "Ribeira do Amparo",
                    "Ribeira do Pombal",
                    "Ribeirão do Largo",
                    "Rio de Contas",
                    "Rio do Antônio",
                    "Rio do Pires",
                    "Rio Real",
                    "Rodelas",
                    "Ruy Barbosa",
                    "Salinas da Margarida",
                    "Salvador",
                    "Santa Bárbara",
                    "Santa Brígida",
                    "Santa Cruz Cabrália",
                    "Santa Cruz da Vitória",
                    "Santa Inês",
                    "Santa Luzia",
                    "Santa Maria da Vitória",
                    "Santa Rita de Cássia",
                    "Santa Terezinha",
                    "Santaluz",
                    "Santana",
                    "Santanópolis",
                    "Santo Amaro",
                    "Santo Antônio de Jesus",
                    "Santo Estêvão",
                    "São Desidério",
                    "São Domingos",
                    "São Felipe",
                    "São Félix",
                    "São Félix do Coribe",
                    "São Francisco do Conde",
                    "São Gabriel",
                    "São Gonçalo dos Campos",
                    "São José da Vitória",
                    "São José do Jacuípe",
                    "São Miguel das Matas",
                    "São Sebastião do Passé",
                    "Sapeaçu",
                    "Sátiro Dias",
                    "Saubara",
                    "Saúde",
                    "Seabra",
                    "Sebastião Laranjeiras",
                    "Senhor do Bonfim",
                    "Sento Sé",
                    "Serra do Ramalho",
                    "Serra Dourada",
                    "Serra Preta",
                    "Serrinha",
                    "Serrolândia",
                    "Simões Filho",
                    "Sítio do Mato",
                    "Sítio do Quinto",
                    "Sobradinho",
                    "Souto Soares",
                    "Tabocas do Brejo Velho",
                    "Tanhaçu",
                    "Tanque Novo",
                    "Tanquinho",
                    "Taperoá",
                    "Tapiramutá",
                    "Teixeira de Freitas",
                    "Teodoro Sampaio",
                    "Teofilândia",
                    "Teolândia",
                    "Terra Nova",
                    "Tremedal",
                    "Tucano",
                    "Uauá",
                    "Ubaíra",
                    "Ubaitaba",
                    "Ubatã",
                    "Uibaí",
                    "Umburanas",
                    "Una",
                    "Urandi",
                    "Uruçuca",
                    "Utinga",
                    "Valença",
                    "Valente",
                    "Várzea da Roça",
                    "Várzea do Poço",
                    "Várzea Nova",
                    "Varzedo",
                    "Vera Cruz",
                    "Vereda",
                    "Vitória da Conquista",
                    "Wagner",
                    "Wanderley",
                    "Wenceslau Guimarães",
                    "Xique-Xique"
                  ],
                  "legendgroup": "",
                  "marker": {
                    "color": "#636efa",
                    "line": {
                      "width": 2
                    },
                    "size": 12,
                    "symbol": "circle"
                  },
                  "mode": "markers",
                  "name": "",
                  "orientation": "v",
                  "showlegend": false,
                  "type": "scatter",
                  "x": [
                    " 7.290 ",
                    " 18.766 ",
                    " 13.715 ",
                    " 14.166 ",
                    " 17.398 ",
                    " 4.566 ",
                    " 157.864 ",
                    " 23.633 ",
                    " 5.195 ",
                    " 36.260 ",
                    " 23.639 ",
                    " 15.104 ",
                    " 25.452 ",
                    " 13.406 ",
                    " 15.011 ",
                    " 14.973 ",
                    " 11.019 ",
                    " 14.453 ",
                    " 11.268 ",
                    " 11.921 ",
                    " 16.909 ",
                    " 6.900 ",
                    " 12.605 ",
                    " 13.819 ",
                    " 51.377 ",
                    " 9.781 ",
                    " 8.219 ",
                    " 10.006 ",
                    " 11.782 ",
                    " 13.618 ",
                    " 17.880 ",
                    " 11.869 ",
                    " 50.543 ",
                    " 26.031 ",
                    " 40.025 ",
                    " 13.852 ",
                    " 6.682 ",
                    " 165.413 ",
                    " 13.761 ",
                    " 5.820 ",
                    " 15.396 ",
                    " 20.565 ",
                    " 18.399 ",
                    " 15.151 ",
                    " 14.160 ",
                    " 19.320 ",
                    " 74.040 ",
                    " 9.572 ",
                    " 13.653 ",
                    " 15.837 ",
                    " 20.588 ",
                    " 11.040 ",
                    " 12.914 ",
                    " 9.114 ",
                    " 12.467 ",
                    " 70.268 ",
                    " 16.880 ",
                    " 19.514 ",
                    " 6.915 ",
                    " 19.432 ",
                    " 31.982 ",
                    " 22.412 ",
                    " 10.360 ",
                    " 13.242 ",
                    " 52.099 ",
                    " 17.975 ",
                    " 17.591 ",
                    " 13.063 ",
                    " 22.460 ",
                    " 334.195 ",
                    " 30.480 ",
                    " 30.659 ",
                    " 68.571 ",
                    " 10.225 ",
                    " 23.491 ",
                    " 33.080 ",
                    " 7.785 ",
                    " 77.026 ",
                    " 13.007 ",
                    " 25.278 ",
                    " 39.475 ",
                    " 15.906 ",
                    " 10.754 ",
                    " 33.344 ",
                    " 9.938 ",
                    " 21.612 ",
                    " 8.376 ",
                    " 28.869 ",
                    " 71.572 ",
                    " 24.700 ",
                    " 3.480 ",
                    " 48.137 ",
                    " 8.847 ",
                    " 16.223 ",
                    " 10.587 ",
                    " 30.836 ",
                    " 17.246 ",
                    " 17.949 ",
                    " 19.156 ",
                    " 22.936 ",
                    " 15.401 ",
                    " 70.202 ",
                    " 34.994 ",
                    " 24.433 ",
                    " 17.059 ",
                    " 4.750 ",
                    " 28.340 ",
                    " 7.555 ",
                    " 14.158 ",
                    "17.000(26)",
                    " 32.709 ",
                    " 13.059 ",
                    " 4.445 ",
                    " 19.720 ",
                    " 14.002 ",
                    " 60.633 ",
                    " 33.603 ",
                    " 10.025 ",
                    " 69.211 ",
                    " 11.905 ",
                    " 4.418 ",
                    " 7.782 ",
                    " 19.111 ",
                    " 38.880 ",
                    " 10.581 ",
                    " 34.033 ",
                    " 65.187 ",
                    " 112.477 ",
                    " 17.899 ",
                    " 5.618 ",
                    " 652.592 ",
                    " 17.892 ",
                    " 5.925 ",
                    " 11.068 ",
                    " 25.185 ",
                    " 29.776 ",
                    " 4.357 ",
                    " 11.896 ",
                    " 16.698 ",
                    " 5.549 ",
                    " 20.604 ",
                    " 8.054 ",
                    " 87.580 ",
                    " 20.338 ",
                    " 12.301 ",
                    " 25.178 ",
                    "10.426(27)",
                    " 21.688 ",
                    " 20.874 ",
                    " 13.791 ",
                    " 18.540 ",
                    " 13.905 ",
                    " 3.722 ",
                    " 27.341 ",
                    " 8.331 ",
                    " 19.613 ",
                    " 14.622 ",
                    " 17.954 ",
                    " 26.611 ",
                    " 6.192 ",
                    " 17.022 ",
                    " 13.077 ",
                    " 25.114 ",
                    " 197.163 ",
                    " 33.771 ",
                    " 16.230 ",
                    " 43.078 ",
                    " 58.094 ",
                    " 9.925 ",
                    " 6.100 ",
                    " 10.755 ",
                    " 25.590 ",
                    " 27.984 ",
                    " 76.491 ",
                    " 27.691 ",
                    " 67.605 ",
                    " 185.500 ",
                    " 28.214 ",
                    " 14.031 ",
                    " 13.925 ",
                    " 15.556 ",
                    " 7.037 ",
                    " 13.116 ",
                    " 6.033 ",
                    " 19.913 ",
                    " 60.831 ",
                    " 7.050 ",
                    " 26.420 ",
                    " 5.814 ",
                    " 19.025 ",
                    " 19.738 ",
                    " 10.327 ",
                    " 9.779 ",
                    " 68.704 ",
                    " 32.793 ",
                    " 10.320 ",
                    " 8.175 ",
                    " 17.035 ",
                    " 15.749 ",
                    " 11.016 ",
                    " 33.671 ",
                    " 17.729 ",
                    " 18.992 ",
                    " 21.974 ",
                    " 11.101 ",
                    " 9.269 ",
                    " 14.625 ",
                    " 88.296 ",
                    " 46.026 ",
                    " 32.495 ",
                    " 20.237 ",
                    " 9.112 ",
                    " 156.408 ",
                    " 37.519 ",
                    " 13.623 ",
                    " 14.614 ",
                    " 26.186 ",
                    " 244.406 ",
                    " 9.971 ",
                    " 16.922 ",
                    " 5.902 ",
                    " 7.381 ",
                    " 4.044 ",
                    " 13.990 ",
                    " 23.198 ",
                    " 4.550 ",
                    " 4.102 ",
                    " 7.486 ",
                    " 9.062 ",
                    " 25.713 ",
                    " 220.437 ",
                    " 11.022 ",
                    " 11.848 ",
                    " 43.898 ",
                    " 108.271 ",
                    " 10.463 ",
                    " 21.556 ",
                    " 41.631 ",
                    " 7.600 ",
                    " 18.767 ",
                    " 6.968 ",
                    " 9.452 ",
                    " 16.122 ",
                    " 15.426 ",
                    " 8.673 ",
                    " 13.327 ",
                    " 13.902 ",
                    " 27.747 ",
                    " 38.394 ",
                    " 24.713 ",
                    " 9.256 ",
                    " 11.991 ",
                    " 48.698 ",
                    " 10.338 ",
                    " 23.096 ",
                    " 27.817 ",
                    " 11.076 ",
                    " 15.050 ",
                    " 10.072 ",
                    " 47.758 ",
                    " 8.303 ",
                    " 33.389 ",
                    " 11.131 ",
                    " 12.988 ",
                    " 38.082 ",
                    " 13.166 ",
                    " 20.564 ",
                    " 7.165 ",
                    " 11.029 ",
                    " 28.558 ",
                    " 20.028 ",
                    " 28.181 ",
                    " 12.032 ",
                    " 18.536 ",
                    " 15.959 ",
                    " 7.958 ",
                    " 8.325 ",
                    " 7.820 ",
                    " 7.525 ",
                    " 24.206 ",
                    " 41.089 ",
                    " 11.163 ",
                    " 10.666 ",
                    " 22.615 ",
                    " 22.850 ",
                    " 7.728 ",
                    " 19.322 ",
                    " 20.091 ",
                    " 10.383 ",
                    " 20.378 ",
                    " 28.947 ",
                    " 26.609 ",
                    " 10.669 ",
                    " 118.412 ",
                    " 13.242 ",
                    " 6.229 ",
                    " 14.056 ",
                    " 20.098 ",
                    " 35.326 ",
                    " 14.740 ",
                    " 19.133 ",
                    " 9.805 ",
                    " 10.200 ",
                    " 9.158 ",
                    " 17.549 ",
                    " 8.012 ",
                    " 23.290 ",
                    " 48.197 ",
                    " 33.079 ",
                    " 17.941 ",
                    " 158.736 ",
                    " 11.524 ",
                    " 31.715 ",
                    " 15.133 ",
                    " 12.627 ",
                    " 27.662 ",
                    " 26.027 ",
                    " 27.317 ",
                    " 9.429 ",
                    " 20.242 ",
                    " 40.531 ",
                    " 13.654 ",
                    " 22.289 ",
                    " 33.422 ",
                    " 39.127 ",
                    " 13.831 ",
                    " 53.997 ",
                    " 10.382 ",
                    " 13.634 ",
                    " 13.098 ",
                    " 9.585 ",
                    " 35.378 ",
                    "10.303(28)",
                    " 30.172 ",
                    " 14.989 ",
                    " 2.610.987 ",
                    " 22.446 ",
                    " 14.979 ",
                    " 30.385 ",
                    " 4.672 ",
                    " 10.293 ",
                    " 11.776 ",
                    " 38.686 ",
                    " 28.084 ",
                    " 9.790 ",
                    " 37.079 ",
                    " 24.778 ",
                    " 9.831 ",
                    " 55.935 ",
                    " 103.055 ",
                    " 55.696 ",
                    " 36.793 ",
                    " 8.417 ",
                    " 20.286 ",
                    " 10.946 ",
                    " 15.704 ",
                    " 37.892 ",
                    " 18.417 ",
                    " 39.570 ",
                    " 5.321 ",
                    " 10.195 ",
                    " 10.334 ",
                    " 40.376 ",
                    " 17.993 ",
                    " 16.021 ",
                    " 11.433 ",
                    " 10.482 ",
                    " 49.587 ",
                    " 9.373 ",
                    " 77.514 ",
                    " 37.389 ",
                    " 34.270 ",
                    " 16.691 ",
                    " 18.090 ",
                    " 85.696 ",
                    " 13.320 ",
                    " 127.093 ",
                    " 13.408 ",
                    " 14.778 ",
                    " 24.799 ",
                    " 16.904 ",
                    " 11.990 ",
                    " 21.407 ",
                    " 18.459 ",
                    " 7.729 ",
                    " 18.016 ",
                    " 15.884 ",
                    " 147.454 ",
                    " 7.220 ",
                    " 21.811 ",
                    " 15.892 ",
                    " 10.802 ",
                    " 17.497 ",
                    " 48.062 ",
                    " 24.654 ",
                    " 18.605 ",
                    " 17.626 ",
                    " 18.161 ",
                    " 14.844 ",
                    " 13.511 ",
                    " 17.998 ",
                    " 15.365 ",
                    " 21.365 ",
                    " 16.285 ",
                    " 96.226 ",
                    " 23.683 ",
                    " 13.043 ",
                    " 8.115 ",
                    " 13.369 ",
                    " 9.913 ",
                    " 40.915 ",
                    " 7.072 ",
                    " 387.524 ",
                    " 8.861 ",
                    " 13.071 ",
                    " 26.279 ",
                    " 46.328 "
                  ],
                  "xaxis": "x",
                  "y": [
                    18,
                    126,
                    171,
                    450,
                    191,
                    473,
                    1038,
                    442,
                    82,
                    226,
                    229,
                    226,
                    302,
                    50,
                    1483,
                    59,
                    330,
                    2379,
                    181,
                    522,
                    341,
                    282,
                    389,
                    42,
                    3258,
                    99,
                    188,
                    114,
                    384,
                    73,
                    165,
                    534,
                    211,
                    134,
                    662,
                    30,
                    1474,
                    996,
                    0,
                    949,
                    177,
                    373,
                    415,
                    1151,
                    72,
                    121,
                    1533,
                    53,
                    0,
                    137,
                    33,
                    491,
                    162,
                    60,
                    43,
                    325,
                    292,
                    98,
                    175,
                    526,
                    541,
                    302,
                    285,
                    90,
                    794,
                    64,
                    405,
                    533,
                    499,
                    1992,
                    546,
                    83,
                    969,
                    0,
                    231,
                    777,
                    48,
                    502,
                    50,
                    794,
                    7894,
                    627,
                    73,
                    1124,
                    55,
                    260,
                    274,
                    321,
                    447,
                    803,
                    7,
                    257,
                    419,
                    81,
                    321,
                    4423,
                    1872,
                    300,
                    14,
                    294,
                    277,
                    360,
                    215,
                    476,
                    118,
                    80,
                    551,
                    0,
                    27,
                    4199,
                    349,
                    53,
                    241,
                    1169,
                    0,
                    493,
                    272,
                    1294,
                    514,
                    94,
                    44,
                    522,
                    451,
                    608,
                    471,
                    597,
                    3013,
                    1509,
                    1595,
                    38,
                    3277,
                    928,
                    123,
                    77,
                    179,
                    384,
                    277,
                    24,
                    95,
                    607,
                    429,
                    32,
                    646,
                    240,
                    688,
                    670,
                    60,
                    396,
                    172,
                    80,
                    35,
                    111,
                    46,
                    589,
                    100,
                    296,
                    10,
                    35,
                    93,
                    56,
                    52,
                    330,
                    474,
                    1361,
                    872,
                    1658,
                    658,
                    1686,
                    67,
                    597,
                    462,
                    184,
                    815,
                    162,
                    337,
                    969,
                    1679,
                    684,
                    322,
                    766,
                    220,
                    295,
                    15,
                    173,
                    364,
                    339,
                    250,
                    753,
                    156,
                    878,
                    440,
                    272,
                    263,
                    622,
                    3355,
                    594,
                    100,
                    79,
                    1041,
                    163,
                    899,
                    293,
                    175,
                    274,
                    155,
                    0,
                    0,
                    541,
                    739,
                    175,
                    437,
                    42,
                    2407,
                    962,
                    1514,
                    2987,
                    176,
                    1350,
                    0,
                    58,
                    730,
                    31,
                    364,
                    74,
                    437,
                    65,
                    37,
                    695,
                    229,
                    79,
                    2165,
                    324,
                    33,
                    148,
                    1108,
                    80,
                    206,
                    75,
                    254,
                    115,
                    38,
                    243,
                    53,
                    144,
                    1416,
                    84,
                    0,
                    196,
                    350,
                    459,
                    439,
                    213,
                    273,
                    88,
                    189,
                    261,
                    83,
                    225,
                    39,
                    2350,
                    95,
                    319,
                    43,
                    60,
                    1477,
                    98,
                    816,
                    43,
                    339,
                    2615,
                    272,
                    6052,
                    1377,
                    508,
                    692,
                    245,
                    529,
                    233,
                    66,
                    759,
                    331,
                    23,
                    1817,
                    820,
                    68,
                    263,
                    133,
                    361,
                    47,
                    92,
                    212,
                    447,
                    82,
                    770,
                    226,
                    178,
                    275,
                    56,
                    465,
                    137,
                    938,
                    205,
                    142,
                    0,
                    58,
                    193,
                    336,
                    632,
                    331,
                    1150,
                    2098,
                    147,
                    329,
                    48,
                    141,
                    564,
                    649,
                    377,
                    2080,
                    180,
                    305,
                    175,
                    169,
                    148,
                    172,
                    453,
                    2008,
                    292,
                    28,
                    65,
                    20,
                    147,
                    83,
                    103,
                    190,
                    10909,
                    360,
                    195,
                    802,
                    323,
                    555,
                    453,
                    95,
                    91,
                    189,
                    712,
                    25,
                    144,
                    1290,
                    595,
                    239,
                    83,
                    177,
                    2350,
                    164,
                    79,
                    592,
                    127,
                    459,
                    106,
                    407,
                    80,
                    251,
                    3842,
                    968,
                    50,
                    243,
                    57,
                    30,
                    622,
                    491,
                    518,
                    49,
                    112,
                    3387,
                    360,
                    1691,
                    50,
                    729,
                    328,
                    141,
                    48,
                    96,
                    115,
                    60,
                    1936,
                    104,
                    1156,
                    0,
                    531,
                    189,
                    203,
                    688,
                    1069,
                    1647,
                    336,
                    321,
                    647,
                    50,
                    52,
                    540,
                    88,
                    675,
                    67,
                    1741,
                    1868,
                    783,
                    74,
                    102,
                    50,
                    765,
                    144,
                    3618,
                    32,
                    442,
                    693,
                    1482
                  ],
                  "yaxis": "y"
                }
              ],
              "layout": {
                "legend": {
                  "tracegroupgap": 0
                },
                "margin": {
                  "t": 60
                },
                "template": {
                  "data": {
                    "bar": [
                      {
                        "error_x": {
                          "color": "#2a3f5f"
                        },
                        "error_y": {
                          "color": "#2a3f5f"
                        },
                        "marker": {
                          "line": {
                            "color": "#E5ECF6",
                            "width": 0.5
                          },
                          "pattern": {
                            "fillmode": "overlay",
                            "size": 10,
                            "solidity": 0.2
                          }
                        },
                        "type": "bar"
                      }
                    ],
                    "barpolar": [
                      {
                        "marker": {
                          "line": {
                            "color": "#E5ECF6",
                            "width": 0.5
                          },
                          "pattern": {
                            "fillmode": "overlay",
                            "size": 10,
                            "solidity": 0.2
                          }
                        },
                        "type": "barpolar"
                      }
                    ],
                    "carpet": [
                      {
                        "aaxis": {
                          "endlinecolor": "#2a3f5f",
                          "gridcolor": "white",
                          "linecolor": "white",
                          "minorgridcolor": "white",
                          "startlinecolor": "#2a3f5f"
                        },
                        "baxis": {
                          "endlinecolor": "#2a3f5f",
                          "gridcolor": "white",
                          "linecolor": "white",
                          "minorgridcolor": "white",
                          "startlinecolor": "#2a3f5f"
                        },
                        "type": "carpet"
                      }
                    ],
                    "choropleth": [
                      {
                        "colorbar": {
                          "outlinewidth": 0,
                          "ticks": ""
                        },
                        "type": "choropleth"
                      }
                    ],
                    "contour": [
                      {
                        "colorbar": {
                          "outlinewidth": 0,
                          "ticks": ""
                        },
                        "colorscale": [
                          [
                            0,
                            "#0d0887"
                          ],
                          [
                            0.1111111111111111,
                            "#46039f"
                          ],
                          [
                            0.2222222222222222,
                            "#7201a8"
                          ],
                          [
                            0.3333333333333333,
                            "#9c179e"
                          ],
                          [
                            0.4444444444444444,
                            "#bd3786"
                          ],
                          [
                            0.5555555555555556,
                            "#d8576b"
                          ],
                          [
                            0.6666666666666666,
                            "#ed7953"
                          ],
                          [
                            0.7777777777777778,
                            "#fb9f3a"
                          ],
                          [
                            0.8888888888888888,
                            "#fdca26"
                          ],
                          [
                            1,
                            "#f0f921"
                          ]
                        ],
                        "type": "contour"
                      }
                    ],
                    "contourcarpet": [
                      {
                        "colorbar": {
                          "outlinewidth": 0,
                          "ticks": ""
                        },
                        "type": "contourcarpet"
                      }
                    ],
                    "heatmap": [
                      {
                        "colorbar": {
                          "outlinewidth": 0,
                          "ticks": ""
                        },
                        "colorscale": [
                          [
                            0,
                            "#0d0887"
                          ],
                          [
                            0.1111111111111111,
                            "#46039f"
                          ],
                          [
                            0.2222222222222222,
                            "#7201a8"
                          ],
                          [
                            0.3333333333333333,
                            "#9c179e"
                          ],
                          [
                            0.4444444444444444,
                            "#bd3786"
                          ],
                          [
                            0.5555555555555556,
                            "#d8576b"
                          ],
                          [
                            0.6666666666666666,
                            "#ed7953"
                          ],
                          [
                            0.7777777777777778,
                            "#fb9f3a"
                          ],
                          [
                            0.8888888888888888,
                            "#fdca26"
                          ],
                          [
                            1,
                            "#f0f921"
                          ]
                        ],
                        "type": "heatmap"
                      }
                    ],
                    "heatmapgl": [
                      {
                        "colorbar": {
                          "outlinewidth": 0,
                          "ticks": ""
                        },
                        "colorscale": [
                          [
                            0,
                            "#0d0887"
                          ],
                          [
                            0.1111111111111111,
                            "#46039f"
                          ],
                          [
                            0.2222222222222222,
                            "#7201a8"
                          ],
                          [
                            0.3333333333333333,
                            "#9c179e"
                          ],
                          [
                            0.4444444444444444,
                            "#bd3786"
                          ],
                          [
                            0.5555555555555556,
                            "#d8576b"
                          ],
                          [
                            0.6666666666666666,
                            "#ed7953"
                          ],
                          [
                            0.7777777777777778,
                            "#fb9f3a"
                          ],
                          [
                            0.8888888888888888,
                            "#fdca26"
                          ],
                          [
                            1,
                            "#f0f921"
                          ]
                        ],
                        "type": "heatmapgl"
                      }
                    ],
                    "histogram": [
                      {
                        "marker": {
                          "pattern": {
                            "fillmode": "overlay",
                            "size": 10,
                            "solidity": 0.2
                          }
                        },
                        "type": "histogram"
                      }
                    ],
                    "histogram2d": [
                      {
                        "colorbar": {
                          "outlinewidth": 0,
                          "ticks": ""
                        },
                        "colorscale": [
                          [
                            0,
                            "#0d0887"
                          ],
                          [
                            0.1111111111111111,
                            "#46039f"
                          ],
                          [
                            0.2222222222222222,
                            "#7201a8"
                          ],
                          [
                            0.3333333333333333,
                            "#9c179e"
                          ],
                          [
                            0.4444444444444444,
                            "#bd3786"
                          ],
                          [
                            0.5555555555555556,
                            "#d8576b"
                          ],
                          [
                            0.6666666666666666,
                            "#ed7953"
                          ],
                          [
                            0.7777777777777778,
                            "#fb9f3a"
                          ],
                          [
                            0.8888888888888888,
                            "#fdca26"
                          ],
                          [
                            1,
                            "#f0f921"
                          ]
                        ],
                        "type": "histogram2d"
                      }
                    ],
                    "histogram2dcontour": [
                      {
                        "colorbar": {
                          "outlinewidth": 0,
                          "ticks": ""
                        },
                        "colorscale": [
                          [
                            0,
                            "#0d0887"
                          ],
                          [
                            0.1111111111111111,
                            "#46039f"
                          ],
                          [
                            0.2222222222222222,
                            "#7201a8"
                          ],
                          [
                            0.3333333333333333,
                            "#9c179e"
                          ],
                          [
                            0.4444444444444444,
                            "#bd3786"
                          ],
                          [
                            0.5555555555555556,
                            "#d8576b"
                          ],
                          [
                            0.6666666666666666,
                            "#ed7953"
                          ],
                          [
                            0.7777777777777778,
                            "#fb9f3a"
                          ],
                          [
                            0.8888888888888888,
                            "#fdca26"
                          ],
                          [
                            1,
                            "#f0f921"
                          ]
                        ],
                        "type": "histogram2dcontour"
                      }
                    ],
                    "mesh3d": [
                      {
                        "colorbar": {
                          "outlinewidth": 0,
                          "ticks": ""
                        },
                        "type": "mesh3d"
                      }
                    ],
                    "parcoords": [
                      {
                        "line": {
                          "colorbar": {
                            "outlinewidth": 0,
                            "ticks": ""
                          }
                        },
                        "type": "parcoords"
                      }
                    ],
                    "pie": [
                      {
                        "automargin": true,
                        "type": "pie"
                      }
                    ],
                    "scatter": [
                      {
                        "fillpattern": {
                          "fillmode": "overlay",
                          "size": 10,
                          "solidity": 0.2
                        },
                        "type": "scatter"
                      }
                    ],
                    "scatter3d": [
                      {
                        "line": {
                          "colorbar": {
                            "outlinewidth": 0,
                            "ticks": ""
                          }
                        },
                        "marker": {
                          "colorbar": {
                            "outlinewidth": 0,
                            "ticks": ""
                          }
                        },
                        "type": "scatter3d"
                      }
                    ],
                    "scattercarpet": [
                      {
                        "marker": {
                          "colorbar": {
                            "outlinewidth": 0,
                            "ticks": ""
                          }
                        },
                        "type": "scattercarpet"
                      }
                    ],
                    "scattergeo": [
                      {
                        "marker": {
                          "colorbar": {
                            "outlinewidth": 0,
                            "ticks": ""
                          }
                        },
                        "type": "scattergeo"
                      }
                    ],
                    "scattergl": [
                      {
                        "marker": {
                          "colorbar": {
                            "outlinewidth": 0,
                            "ticks": ""
                          }
                        },
                        "type": "scattergl"
                      }
                    ],
                    "scattermapbox": [
                      {
                        "marker": {
                          "colorbar": {
                            "outlinewidth": 0,
                            "ticks": ""
                          }
                        },
                        "type": "scattermapbox"
                      }
                    ],
                    "scatterpolar": [
                      {
                        "marker": {
                          "colorbar": {
                            "outlinewidth": 0,
                            "ticks": ""
                          }
                        },
                        "type": "scatterpolar"
                      }
                    ],
                    "scatterpolargl": [
                      {
                        "marker": {
                          "colorbar": {
                            "outlinewidth": 0,
                            "ticks": ""
                          }
                        },
                        "type": "scatterpolargl"
                      }
                    ],
                    "scatterternary": [
                      {
                        "marker": {
                          "colorbar": {
                            "outlinewidth": 0,
                            "ticks": ""
                          }
                        },
                        "type": "scatterternary"
                      }
                    ],
                    "surface": [
                      {
                        "colorbar": {
                          "outlinewidth": 0,
                          "ticks": ""
                        },
                        "colorscale": [
                          [
                            0,
                            "#0d0887"
                          ],
                          [
                            0.1111111111111111,
                            "#46039f"
                          ],
                          [
                            0.2222222222222222,
                            "#7201a8"
                          ],
                          [
                            0.3333333333333333,
                            "#9c179e"
                          ],
                          [
                            0.4444444444444444,
                            "#bd3786"
                          ],
                          [
                            0.5555555555555556,
                            "#d8576b"
                          ],
                          [
                            0.6666666666666666,
                            "#ed7953"
                          ],
                          [
                            0.7777777777777778,
                            "#fb9f3a"
                          ],
                          [
                            0.8888888888888888,
                            "#fdca26"
                          ],
                          [
                            1,
                            "#f0f921"
                          ]
                        ],
                        "type": "surface"
                      }
                    ],
                    "table": [
                      {
                        "cells": {
                          "fill": {
                            "color": "#EBF0F8"
                          },
                          "line": {
                            "color": "white"
                          }
                        },
                        "header": {
                          "fill": {
                            "color": "#C8D4E3"
                          },
                          "line": {
                            "color": "white"
                          }
                        },
                        "type": "table"
                      }
                    ]
                  },
                  "layout": {
                    "annotationdefaults": {
                      "arrowcolor": "#2a3f5f",
                      "arrowhead": 0,
                      "arrowwidth": 1
                    },
                    "autotypenumbers": "strict",
                    "coloraxis": {
                      "colorbar": {
                        "outlinewidth": 0,
                        "ticks": ""
                      }
                    },
                    "colorscale": {
                      "diverging": [
                        [
                          0,
                          "#8e0152"
                        ],
                        [
                          0.1,
                          "#c51b7d"
                        ],
                        [
                          0.2,
                          "#de77ae"
                        ],
                        [
                          0.3,
                          "#f1b6da"
                        ],
                        [
                          0.4,
                          "#fde0ef"
                        ],
                        [
                          0.5,
                          "#f7f7f7"
                        ],
                        [
                          0.6,
                          "#e6f5d0"
                        ],
                        [
                          0.7,
                          "#b8e186"
                        ],
                        [
                          0.8,
                          "#7fbc41"
                        ],
                        [
                          0.9,
                          "#4d9221"
                        ],
                        [
                          1,
                          "#276419"
                        ]
                      ],
                      "sequential": [
                        [
                          0,
                          "#0d0887"
                        ],
                        [
                          0.1111111111111111,
                          "#46039f"
                        ],
                        [
                          0.2222222222222222,
                          "#7201a8"
                        ],
                        [
                          0.3333333333333333,
                          "#9c179e"
                        ],
                        [
                          0.4444444444444444,
                          "#bd3786"
                        ],
                        [
                          0.5555555555555556,
                          "#d8576b"
                        ],
                        [
                          0.6666666666666666,
                          "#ed7953"
                        ],
                        [
                          0.7777777777777778,
                          "#fb9f3a"
                        ],
                        [
                          0.8888888888888888,
                          "#fdca26"
                        ],
                        [
                          1,
                          "#f0f921"
                        ]
                      ],
                      "sequentialminus": [
                        [
                          0,
                          "#0d0887"
                        ],
                        [
                          0.1111111111111111,
                          "#46039f"
                        ],
                        [
                          0.2222222222222222,
                          "#7201a8"
                        ],
                        [
                          0.3333333333333333,
                          "#9c179e"
                        ],
                        [
                          0.4444444444444444,
                          "#bd3786"
                        ],
                        [
                          0.5555555555555556,
                          "#d8576b"
                        ],
                        [
                          0.6666666666666666,
                          "#ed7953"
                        ],
                        [
                          0.7777777777777778,
                          "#fb9f3a"
                        ],
                        [
                          0.8888888888888888,
                          "#fdca26"
                        ],
                        [
                          1,
                          "#f0f921"
                        ]
                      ]
                    },
                    "colorway": [
                      "#636efa",
                      "#EF553B",
                      "#00cc96",
                      "#ab63fa",
                      "#FFA15A",
                      "#19d3f3",
                      "#FF6692",
                      "#B6E880",
                      "#FF97FF",
                      "#FECB52"
                    ],
                    "font": {
                      "color": "#2a3f5f"
                    },
                    "geo": {
                      "bgcolor": "white",
                      "lakecolor": "white",
                      "landcolor": "#E5ECF6",
                      "showlakes": true,
                      "showland": true,
                      "subunitcolor": "white"
                    },
                    "hoverlabel": {
                      "align": "left"
                    },
                    "hovermode": "closest",
                    "mapbox": {
                      "style": "light"
                    },
                    "paper_bgcolor": "white",
                    "plot_bgcolor": "#E5ECF6",
                    "polar": {
                      "angularaxis": {
                        "gridcolor": "white",
                        "linecolor": "white",
                        "ticks": ""
                      },
                      "bgcolor": "#E5ECF6",
                      "radialaxis": {
                        "gridcolor": "white",
                        "linecolor": "white",
                        "ticks": ""
                      }
                    },
                    "scene": {
                      "xaxis": {
                        "backgroundcolor": "#E5ECF6",
                        "gridcolor": "white",
                        "gridwidth": 2,
                        "linecolor": "white",
                        "showbackground": true,
                        "ticks": "",
                        "zerolinecolor": "white"
                      },
                      "yaxis": {
                        "backgroundcolor": "#E5ECF6",
                        "gridcolor": "white",
                        "gridwidth": 2,
                        "linecolor": "white",
                        "showbackground": true,
                        "ticks": "",
                        "zerolinecolor": "white"
                      },
                      "zaxis": {
                        "backgroundcolor": "#E5ECF6",
                        "gridcolor": "white",
                        "gridwidth": 2,
                        "linecolor": "white",
                        "showbackground": true,
                        "ticks": "",
                        "zerolinecolor": "white"
                      }
                    },
                    "shapedefaults": {
                      "line": {
                        "color": "#2a3f5f"
                      }
                    },
                    "ternary": {
                      "aaxis": {
                        "gridcolor": "white",
                        "linecolor": "white",
                        "ticks": ""
                      },
                      "baxis": {
                        "gridcolor": "white",
                        "linecolor": "white",
                        "ticks": ""
                      },
                      "bgcolor": "#E5ECF6",
                      "caxis": {
                        "gridcolor": "white",
                        "linecolor": "white",
                        "ticks": ""
                      }
                    },
                    "title": {
                      "x": 0.05
                    },
                    "xaxis": {
                      "automargin": true,
                      "gridcolor": "white",
                      "linecolor": "white",
                      "ticks": "",
                      "title": {
                        "standoff": 15
                      },
                      "zerolinecolor": "white",
                      "zerolinewidth": 2
                    },
                    "yaxis": {
                      "automargin": true,
                      "gridcolor": "white",
                      "linecolor": "white",
                      "ticks": "",
                      "title": {
                        "standoff": 15
                      },
                      "zerolinecolor": "white",
                      "zerolinewidth": 2
                    }
                  }
                },
                "title": {
                  "text": "População X Matrículas Eja Fundamental"
                },
                "width": 800,
                "xaxis": {
                  "anchor": "y",
                  "domain": [
                    0,
                    1
                  ],
                  "title": {
                    "text": "População 2022"
                  },
                  "type": "log"
                },
                "yaxis": {
                  "anchor": "x",
                  "domain": [
                    0,
                    1
                  ],
                  "title": {
                    "text": "Matrículas Eja Fundamental"
                  }
                }
              }
            },
            "text/html": [
              "<div>                            <div id=\"e0b84b88-89bf-4cc6-b639-f0141db12db2\" class=\"plotly-graph-div\" style=\"height:525px; width:800px;\"></div>            <script type=\"text/javascript\">                require([\"plotly\"], function(Plotly) {                    window.PLOTLYENV=window.PLOTLYENV || {};                                    if (document.getElementById(\"e0b84b88-89bf-4cc6-b639-f0141db12db2\")) {                    Plotly.newPlot(                        \"e0b84b88-89bf-4cc6-b639-f0141db12db2\",                        [{\"hovertemplate\":\"\\u003cb\\u003e%{hovertext}\\u003c\\u002fb\\u003e\\u003cbr\\u003e\\u003cbr\\u003ePOP_Censo_2022=%{x}\\u003cbr\\u003eQT_MAT_EJA_FUND_22=%{y}\\u003cextra\\u003e\\u003c\\u002fextra\\u003e\",\"hovertext\":[\"Aba\\u00edra\",\"Abar\\u00e9\",\"Acajutiba\",\"Adustina\",\"\\u00c1gua Fria\",\"Aiquara\",\"Alagoinhas\",\"Alcoba\\u00e7a\",\"Almadina\",\"Amargosa\",\"Am\\u00e9lia Rodrigues\",\"Am\\u00e9rica Dourada\",\"Anag\\u00e9\",\"Andara\\u00ed\",\"Andorinha\",\"Angical\",\"Anguera\",\"Antas\",\"Ant\\u00f4nio Cardoso\",\"Ant\\u00f4nio Gon\\u00e7alves\",\"Apor\\u00e1\",\"Apuarema\",\"Ara\\u00e7\\u00e1s\",\"Aracatu\",\"Araci\",\"Aramari\",\"Arataca\",\"Aratu\\u00edpe\",\"Aurelino Leal\",\"Baian\\u00f3polis\",\"Baixa Grande\",\"Banza\\u00ea\",\"Barra\",\"Barra da Estiva\",\"Barra do Cho\\u00e7a\",\"Barra do Mendes\",\"Barra do Rocha\",\"Barreiras\",\"Barro Alto\",\"Barro Preto\",\"Barrocas\",\"Belmonte\",\"Belo Campo\",\"Biritinga\",\"Boa Nova\",\"Boa Vista do Tupim\",\"Bom Jesus da Lapa\",\"Bom Jesus da Serra\",\"Boninal\",\"Bonito\",\"Boquira\",\"Botupor\\u00e3\",\"Brej\\u00f5es\",\"Brejol\\u00e2ndia\",\"Brotas de Maca\\u00fabas\",\"Brumado\",\"Buerarema\",\"Buritirama\",\"Caatiba\",\"Cabaceiras do Paragua\\u00e7u\",\"Cachoeira\",\"Cacul\\u00e9\",\"Ca\\u00e9m\",\"Caetanos\",\"Caetit\\u00e9\",\"Cafarnaum\",\"Cairu\",\"Caldeir\\u00e3o Grande\",\"Camacan\",\"Cama\\u00e7ari\",\"Camamu\",\"Campo Alegre de Lourdes\",\"Campo Formoso\",\"Can\\u00e1polis\",\"Canarana\",\"Canavieiras\",\"Candeal\",\"Candeias\",\"Candiba\",\"C\\u00e2ndido Sales\",\"Cansan\\u00e7\\u00e3o\",\"Canudos\",\"Capela do Alto Alegre\",\"Capim Grosso\",\"Cara\\u00edbas\",\"Caravelas\",\"Cardeal da Silva\",\"Carinhanha\",\"Casa Nova\",\"Castro Alves\",\"Catol\\u00e2ndia\",\"Catu\",\"Caturama\",\"Central\",\"Chorroch\\u00f3\",\"C\\u00edcero Dantas\",\"Cip\\u00f3\",\"Coaraci\",\"Cocos\",\"Concei\\u00e7\\u00e3o da Feira\",\"Concei\\u00e7\\u00e3o do Almeida\",\"Concei\\u00e7\\u00e3o do Coit\\u00e9\",\"Concei\\u00e7\\u00e3o do Jacu\\u00edpe\",\"Conde\",\"Conde\\u00faba\",\"Contendas do Sincor\\u00e1\",\"Cora\\u00e7\\u00e3o de Maria\",\"Cordeiros\",\"Coribe\",\"Coronel Jo\\u00e3o S\\u00e1\",\"Correntina\",\"Cotegipe\",\"Cravol\\u00e2ndia\",\"Cris\\u00f3polis\",\"Crist\\u00f3polis\",\"Cruz das Almas\",\"Cura\\u00e7\\u00e1\",\"D\\u00e1rio Meira\",\"Dias d'\\u00c1vila\",\"Dom Bas\\u00edlio\",\"Dom Macedo Costa\",\"El\\u00edsio Medrado\",\"Encruzilhada\",\"Entre Rios\",\"\\u00c9rico Cardoso\",\"Esplanada\",\"Euclides da Cunha\",\"Eun\\u00e1polis\",\"F\\u00e1tima\",\"Feira da Mata\",\"Feira de Santana\",\"Filad\\u00e9lfia\",\"Firmino Alves\",\"Floresta Azul\",\"Formosa do Rio Preto\",\"Gandu\",\"Gavi\\u00e3o\",\"Gentio do Ouro\",\"Gl\\u00f3ria\",\"Gongogi\",\"Governador Mangabeira\",\"Guajeru\",\"Guanambi\",\"Guaratinga\",\"Heli\\u00f3polis\",\"Ia\\u00e7u\",\"Ibiassuc\\u00ea\",\"Ibicara\\u00ed\",\"Ibicoara\",\"Ibicu\\u00ed\",\"Ibipeba\",\"Ibipitanga\",\"Ibiquera\",\"Ibirapitanga\",\"Ibirapu\\u00e3\",\"Ibirataia\",\"Ibitiara\",\"Ibitit\\u00e1\",\"Ibotirama\",\"Ichu\",\"Igapor\\u00e3\",\"Igrapi\\u00fana\",\"Igua\\u00ed\",\"Ilh\\u00e9us\",\"Inhambupe\",\"Ipecaet\\u00e1\",\"Ipia\\u00fa\",\"Ipir\\u00e1\",\"Ipupiara\",\"Irajuba\",\"Iramaia\",\"Iraquara\",\"Irar\\u00e1\",\"Irec\\u00ea\",\"Itabela\",\"Itaberaba\",\"Itabuna\",\"Itacar\\u00e9\",\"Itaet\\u00e9\",\"Itagi\",\"Itagib\\u00e1\",\"Itagimirim\",\"Itagua\\u00e7u da Bahia\",\"Itaju do Col\\u00f4nia\",\"Itaju\\u00edpe\",\"Itamaraju\",\"Itamari\",\"Itamb\\u00e9\",\"Itanagra\",\"Itanh\\u00e9m\",\"Itaparica\",\"Itap\\u00e9\",\"Itapebi\",\"Itapetinga\",\"Itapicuru\",\"Itapitanga\",\"Itaquara\",\"Itarantim\",\"Itatim\",\"Itiru\\u00e7u\",\"Iti\\u00faba\",\"Itoror\\u00f3\",\"Itua\\u00e7u\",\"Ituber\\u00e1\",\"Iuiu\",\"Jaborandi\",\"Jacaraci\",\"Jacobina\",\"Jaguaquara\",\"Jaguarari\",\"Jaguaripe\",\"Janda\\u00edra\",\"Jequi\\u00e9\",\"Jeremoabo\",\"Jiquiri\\u00e7\\u00e1\",\"Jita\\u00fana\",\"Jo\\u00e3o Dourado\",\"Juazeiro\",\"Jucuru\\u00e7u\",\"Jussara\",\"Jussari\",\"Jussiape\",\"Lafaiete Coutinho\",\"Lagoa Real\",\"Laje\",\"Lajed\\u00e3o\",\"Lajedinho\",\"Lajedo do Tabocal\",\"Lamar\\u00e3o\",\"Lap\\u00e3o\",\"Lauro de Freitas\",\"Len\\u00e7\\u00f3is\",\"Lic\\u00ednio de Almeida\",\"Livramento de Nossa Senhora\",\"Lu\\u00eds Eduardo Magalh\\u00e3es\",\"Macajuba\",\"Macarani\",\"Maca\\u00fabas\",\"Macurur\\u00e9\",\"Madre de Deus\",\"Maetinga\",\"Maiquinique\",\"Mairi\",\"Malhada\",\"Malhada de Pedras\",\"Manoel Vitorino\",\"Mansid\\u00e3o\",\"Marac\\u00e1s\",\"Maragogipe\",\"Mara\\u00fa\",\"Marcion\\u00edlio Souza\",\"Mascote\",\"Mata de S\\u00e3o Jo\\u00e3o\",\"Matina\",\"Medeiros Neto\",\"Miguel Calmon\",\"Milagres\",\"Mirangaba\",\"Mirante\",\"Monte Santo\",\"Morpar\\u00e1\",\"Morro do Chap\\u00e9u\",\"Mortugaba\",\"Mucug\\u00ea\",\"Mucuri\",\"Mulungu do Morro\",\"Mundo Novo\",\"Muniz Ferreira\",\"Muqu\\u00e9m do S\\u00e3o Francisco\",\"Muritiba\",\"Mutu\\u00edpe\",\"Nazar\\u00e9\",\"Nilo Pe\\u00e7anha\",\"Nordestina\",\"Nova Cana\\u00e3\",\"Nova F\\u00e1tima\",\"Nova Ibi\\u00e1\",\"Nova Itarana\",\"Nova Reden\\u00e7\\u00e3o\",\"Nova Soure\",\"Nova Vi\\u00e7osa\",\"Novo Horizonte\",\"Novo Triunfo\",\"Olindina\",\"Oliveira dos Brejinhos\",\"Ouri\\u00e7angas\",\"Ourol\\u00e2ndia\",\"Palmas de Monte Alto\",\"Palmeiras\",\"Paramirim\",\"Paratinga\",\"Paripiranga\",\"Pau Brasil\",\"Paulo Afonso\",\"P\\u00e9 de Serra\",\"Pedr\\u00e3o\",\"Pedro Alexandre\",\"Piat\\u00e3\",\"Pil\\u00e3o Arcado\",\"Pinda\\u00ed\",\"Pindoba\\u00e7u\",\"Pintadas\",\"Pira\\u00ed do Norte\",\"Pirip\\u00e1\",\"Piritiba\",\"Planaltino\",\"Planalto\",\"Po\\u00e7\\u00f5es\",\"Pojuca\",\"Ponto Novo\",\"Porto Seguro\",\"Potiragu\\u00e1\",\"Prado\",\"Presidente Dutra\",\"Presidente J\\u00e2nio Quadros\",\"Presidente Tancredo Neves\",\"Queimadas\",\"Quijingue\",\"Quixabeira\",\"Rafael Jambeiro\",\"Remanso\",\"Retirol\\u00e2ndia\",\"Riach\\u00e3o das Neves\",\"Riach\\u00e3o do Jacu\\u00edpe\",\"Riacho de Santana\",\"Ribeira do Amparo\",\"Ribeira do Pombal\",\"Ribeir\\u00e3o do Largo\",\"Rio de Contas\",\"Rio do Ant\\u00f4nio\",\"Rio do Pires\",\"Rio Real\",\"Rodelas\",\"Ruy Barbosa\",\"Salinas da Margarida\",\"Salvador\",\"Santa B\\u00e1rbara\",\"Santa Br\\u00edgida\",\"Santa Cruz Cabr\\u00e1lia\",\"Santa Cruz da Vit\\u00f3ria\",\"Santa In\\u00eas\",\"Santa Luzia\",\"Santa Maria da Vit\\u00f3ria\",\"Santa Rita de C\\u00e1ssia\",\"Santa Terezinha\",\"Santaluz\",\"Santana\",\"Santan\\u00f3polis\",\"Santo Amaro\",\"Santo Ant\\u00f4nio de Jesus\",\"Santo Est\\u00eav\\u00e3o\",\"S\\u00e3o Desid\\u00e9rio\",\"S\\u00e3o Domingos\",\"S\\u00e3o Felipe\",\"S\\u00e3o F\\u00e9lix\",\"S\\u00e3o F\\u00e9lix do Coribe\",\"S\\u00e3o Francisco do Conde\",\"S\\u00e3o Gabriel\",\"S\\u00e3o Gon\\u00e7alo dos Campos\",\"S\\u00e3o Jos\\u00e9 da Vit\\u00f3ria\",\"S\\u00e3o Jos\\u00e9 do Jacu\\u00edpe\",\"S\\u00e3o Miguel das Matas\",\"S\\u00e3o Sebasti\\u00e3o do Pass\\u00e9\",\"Sapea\\u00e7u\",\"S\\u00e1tiro Dias\",\"Saubara\",\"Sa\\u00fade\",\"Seabra\",\"Sebasti\\u00e3o Laranjeiras\",\"Senhor do Bonfim\",\"Sento S\\u00e9\",\"Serra do Ramalho\",\"Serra Dourada\",\"Serra Preta\",\"Serrinha\",\"Serrol\\u00e2ndia\",\"Sim\\u00f5es Filho\",\"S\\u00edtio do Mato\",\"S\\u00edtio do Quinto\",\"Sobradinho\",\"Souto Soares\",\"Tabocas do Brejo Velho\",\"Tanha\\u00e7u\",\"Tanque Novo\",\"Tanquinho\",\"Tapero\\u00e1\",\"Tapiramut\\u00e1\",\"Teixeira de Freitas\",\"Teodoro Sampaio\",\"Teofil\\u00e2ndia\",\"Teol\\u00e2ndia\",\"Terra Nova\",\"Tremedal\",\"Tucano\",\"Uau\\u00e1\",\"Uba\\u00edra\",\"Ubaitaba\",\"Ubat\\u00e3\",\"Uiba\\u00ed\",\"Umburanas\",\"Una\",\"Urandi\",\"Uru\\u00e7uca\",\"Utinga\",\"Valen\\u00e7a\",\"Valente\",\"V\\u00e1rzea da Ro\\u00e7a\",\"V\\u00e1rzea do Po\\u00e7o\",\"V\\u00e1rzea Nova\",\"Varzedo\",\"Vera Cruz\",\"Vereda\",\"Vit\\u00f3ria da Conquista\",\"Wagner\",\"Wanderley\",\"Wenceslau Guimar\\u00e3es\",\"Xique-Xique\"],\"legendgroup\":\"\",\"marker\":{\"color\":\"#636efa\",\"symbol\":\"circle\",\"line\":{\"width\":2},\"size\":12},\"mode\":\"markers\",\"name\":\"\",\"orientation\":\"v\",\"showlegend\":false,\"x\":[\" 7.290 \",\" 18.766 \",\" 13.715 \",\" 14.166 \",\" 17.398 \",\" 4.566 \",\" 157.864 \",\" 23.633 \",\" 5.195 \",\" 36.260 \",\" 23.639 \",\" 15.104 \",\" 25.452 \",\" 13.406 \",\" 15.011 \",\" 14.973 \",\" 11.019 \",\" 14.453 \",\" 11.268 \",\" 11.921 \",\" 16.909 \",\" 6.900 \",\" 12.605 \",\" 13.819 \",\" 51.377 \",\" 9.781 \",\" 8.219 \",\" 10.006 \",\" 11.782 \",\" 13.618 \",\" 17.880 \",\" 11.869 \",\" 50.543 \",\" 26.031 \",\" 40.025 \",\" 13.852 \",\" 6.682 \",\" 165.413 \",\" 13.761 \",\" 5.820 \",\" 15.396 \",\" 20.565 \",\" 18.399 \",\" 15.151 \",\" 14.160 \",\" 19.320 \",\" 74.040 \",\" 9.572 \",\" 13.653 \",\" 15.837 \",\" 20.588 \",\" 11.040 \",\" 12.914 \",\" 9.114 \",\" 12.467 \",\" 70.268 \",\" 16.880 \",\" 19.514 \",\" 6.915 \",\" 19.432 \",\" 31.982 \",\" 22.412 \",\" 10.360 \",\" 13.242 \",\" 52.099 \",\" 17.975 \",\" 17.591 \",\" 13.063 \",\" 22.460 \",\" 334.195 \",\" 30.480 \",\" 30.659 \",\" 68.571 \",\" 10.225 \",\" 23.491 \",\" 33.080 \",\" 7.785 \",\" 77.026 \",\" 13.007 \",\" 25.278 \",\" 39.475 \",\" 15.906 \",\" 10.754 \",\" 33.344 \",\" 9.938 \",\" 21.612 \",\" 8.376 \",\" 28.869 \",\" 71.572 \",\" 24.700 \",\" 3.480 \",\" 48.137 \",\" 8.847 \",\" 16.223 \",\" 10.587 \",\" 30.836 \",\" 17.246 \",\" 17.949 \",\" 19.156 \",\" 22.936 \",\" 15.401 \",\" 70.202 \",\" 34.994 \",\" 24.433 \",\" 17.059 \",\" 4.750 \",\" 28.340 \",\" 7.555 \",\" 14.158 \",\"17.000(26)\",\" 32.709 \",\" 13.059 \",\" 4.445 \",\" 19.720 \",\" 14.002 \",\" 60.633 \",\" 33.603 \",\" 10.025 \",\" 69.211 \",\" 11.905 \",\" 4.418 \",\" 7.782 \",\" 19.111 \",\" 38.880 \",\" 10.581 \",\" 34.033 \",\" 65.187 \",\" 112.477 \",\" 17.899 \",\" 5.618 \",\" 652.592 \",\" 17.892 \",\" 5.925 \",\" 11.068 \",\" 25.185 \",\" 29.776 \",\" 4.357 \",\" 11.896 \",\" 16.698 \",\" 5.549 \",\" 20.604 \",\" 8.054 \",\" 87.580 \",\" 20.338 \",\" 12.301 \",\" 25.178 \",\"10.426(27)\",\" 21.688 \",\" 20.874 \",\" 13.791 \",\" 18.540 \",\" 13.905 \",\" 3.722 \",\" 27.341 \",\" 8.331 \",\" 19.613 \",\" 14.622 \",\" 17.954 \",\" 26.611 \",\" 6.192 \",\" 17.022 \",\" 13.077 \",\" 25.114 \",\" 197.163 \",\" 33.771 \",\" 16.230 \",\" 43.078 \",\" 58.094 \",\" 9.925 \",\" 6.100 \",\" 10.755 \",\" 25.590 \",\" 27.984 \",\" 76.491 \",\" 27.691 \",\" 67.605 \",\" 185.500 \",\" 28.214 \",\" 14.031 \",\" 13.925 \",\" 15.556 \",\" 7.037 \",\" 13.116 \",\" 6.033 \",\" 19.913 \",\" 60.831 \",\" 7.050 \",\" 26.420 \",\" 5.814 \",\" 19.025 \",\" 19.738 \",\" 10.327 \",\" 9.779 \",\" 68.704 \",\" 32.793 \",\" 10.320 \",\" 8.175 \",\" 17.035 \",\" 15.749 \",\" 11.016 \",\" 33.671 \",\" 17.729 \",\" 18.992 \",\" 21.974 \",\" 11.101 \",\" 9.269 \",\" 14.625 \",\" 88.296 \",\" 46.026 \",\" 32.495 \",\" 20.237 \",\" 9.112 \",\" 156.408 \",\" 37.519 \",\" 13.623 \",\" 14.614 \",\" 26.186 \",\" 244.406 \",\" 9.971 \",\" 16.922 \",\" 5.902 \",\" 7.381 \",\" 4.044 \",\" 13.990 \",\" 23.198 \",\" 4.550 \",\" 4.102 \",\" 7.486 \",\" 9.062 \",\" 25.713 \",\" 220.437 \",\" 11.022 \",\" 11.848 \",\" 43.898 \",\" 108.271 \",\" 10.463 \",\" 21.556 \",\" 41.631 \",\" 7.600 \",\" 18.767 \",\" 6.968 \",\" 9.452 \",\" 16.122 \",\" 15.426 \",\" 8.673 \",\" 13.327 \",\" 13.902 \",\" 27.747 \",\" 38.394 \",\" 24.713 \",\" 9.256 \",\" 11.991 \",\" 48.698 \",\" 10.338 \",\" 23.096 \",\" 27.817 \",\" 11.076 \",\" 15.050 \",\" 10.072 \",\" 47.758 \",\" 8.303 \",\" 33.389 \",\" 11.131 \",\" 12.988 \",\" 38.082 \",\" 13.166 \",\" 20.564 \",\" 7.165 \",\" 11.029 \",\" 28.558 \",\" 20.028 \",\" 28.181 \",\" 12.032 \",\" 18.536 \",\" 15.959 \",\" 7.958 \",\" 8.325 \",\" 7.820 \",\" 7.525 \",\" 24.206 \",\" 41.089 \",\" 11.163 \",\" 10.666 \",\" 22.615 \",\" 22.850 \",\" 7.728 \",\" 19.322 \",\" 20.091 \",\" 10.383 \",\" 20.378 \",\" 28.947 \",\" 26.609 \",\" 10.669 \",\" 118.412 \",\" 13.242 \",\" 6.229 \",\" 14.056 \",\" 20.098 \",\" 35.326 \",\" 14.740 \",\" 19.133 \",\" 9.805 \",\" 10.200 \",\" 9.158 \",\" 17.549 \",\" 8.012 \",\" 23.290 \",\" 48.197 \",\" 33.079 \",\" 17.941 \",\" 158.736 \",\" 11.524 \",\" 31.715 \",\" 15.133 \",\" 12.627 \",\" 27.662 \",\" 26.027 \",\" 27.317 \",\" 9.429 \",\" 20.242 \",\" 40.531 \",\" 13.654 \",\" 22.289 \",\" 33.422 \",\" 39.127 \",\" 13.831 \",\" 53.997 \",\" 10.382 \",\" 13.634 \",\" 13.098 \",\" 9.585 \",\" 35.378 \",\"10.303(28)\",\" 30.172 \",\" 14.989 \",\" 2.610.987 \",\" 22.446 \",\" 14.979 \",\" 30.385 \",\" 4.672 \",\" 10.293 \",\" 11.776 \",\" 38.686 \",\" 28.084 \",\" 9.790 \",\" 37.079 \",\" 24.778 \",\" 9.831 \",\" 55.935 \",\" 103.055 \",\" 55.696 \",\" 36.793 \",\" 8.417 \",\" 20.286 \",\" 10.946 \",\" 15.704 \",\" 37.892 \",\" 18.417 \",\" 39.570 \",\" 5.321 \",\" 10.195 \",\" 10.334 \",\" 40.376 \",\" 17.993 \",\" 16.021 \",\" 11.433 \",\" 10.482 \",\" 49.587 \",\" 9.373 \",\" 77.514 \",\" 37.389 \",\" 34.270 \",\" 16.691 \",\" 18.090 \",\" 85.696 \",\" 13.320 \",\" 127.093 \",\" 13.408 \",\" 14.778 \",\" 24.799 \",\" 16.904 \",\" 11.990 \",\" 21.407 \",\" 18.459 \",\" 7.729 \",\" 18.016 \",\" 15.884 \",\" 147.454 \",\" 7.220 \",\" 21.811 \",\" 15.892 \",\" 10.802 \",\" 17.497 \",\" 48.062 \",\" 24.654 \",\" 18.605 \",\" 17.626 \",\" 18.161 \",\" 14.844 \",\" 13.511 \",\" 17.998 \",\" 15.365 \",\" 21.365 \",\" 16.285 \",\" 96.226 \",\" 23.683 \",\" 13.043 \",\" 8.115 \",\" 13.369 \",\" 9.913 \",\" 40.915 \",\" 7.072 \",\" 387.524 \",\" 8.861 \",\" 13.071 \",\" 26.279 \",\" 46.328 \"],\"xaxis\":\"x\",\"y\":[18,126,171,450,191,473,1038,442,82,226,229,226,302,50,1483,59,330,2379,181,522,341,282,389,42,3258,99,188,114,384,73,165,534,211,134,662,30,1474,996,0,949,177,373,415,1151,72,121,1533,53,0,137,33,491,162,60,43,325,292,98,175,526,541,302,285,90,794,64,405,533,499,1992,546,83,969,0,231,777,48,502,50,794,7894,627,73,1124,55,260,274,321,447,803,7,257,419,81,321,4423,1872,300,14,294,277,360,215,476,118,80,551,0,27,4199,349,53,241,1169,0,493,272,1294,514,94,44,522,451,608,471,597,3013,1509,1595,38,3277,928,123,77,179,384,277,24,95,607,429,32,646,240,688,670,60,396,172,80,35,111,46,589,100,296,10,35,93,56,52,330,474,1361,872,1658,658,1686,67,597,462,184,815,162,337,969,1679,684,322,766,220,295,15,173,364,339,250,753,156,878,440,272,263,622,3355,594,100,79,1041,163,899,293,175,274,155,0,0,541,739,175,437,42,2407,962,1514,2987,176,1350,0,58,730,31,364,74,437,65,37,695,229,79,2165,324,33,148,1108,80,206,75,254,115,38,243,53,144,1416,84,0,196,350,459,439,213,273,88,189,261,83,225,39,2350,95,319,43,60,1477,98,816,43,339,2615,272,6052,1377,508,692,245,529,233,66,759,331,23,1817,820,68,263,133,361,47,92,212,447,82,770,226,178,275,56,465,137,938,205,142,0,58,193,336,632,331,1150,2098,147,329,48,141,564,649,377,2080,180,305,175,169,148,172,453,2008,292,28,65,20,147,83,103,190,10909,360,195,802,323,555,453,95,91,189,712,25,144,1290,595,239,83,177,2350,164,79,592,127,459,106,407,80,251,3842,968,50,243,57,30,622,491,518,49,112,3387,360,1691,50,729,328,141,48,96,115,60,1936,104,1156,0,531,189,203,688,1069,1647,336,321,647,50,52,540,88,675,67,1741,1868,783,74,102,50,765,144,3618,32,442,693,1482],\"yaxis\":\"y\",\"type\":\"scatter\"}],                        {\"template\":{\"data\":{\"histogram2dcontour\":[{\"type\":\"histogram2dcontour\",\"colorbar\":{\"outlinewidth\":0,\"ticks\":\"\"},\"colorscale\":[[0.0,\"#0d0887\"],[0.1111111111111111,\"#46039f\"],[0.2222222222222222,\"#7201a8\"],[0.3333333333333333,\"#9c179e\"],[0.4444444444444444,\"#bd3786\"],[0.5555555555555556,\"#d8576b\"],[0.6666666666666666,\"#ed7953\"],[0.7777777777777778,\"#fb9f3a\"],[0.8888888888888888,\"#fdca26\"],[1.0,\"#f0f921\"]]}],\"choropleth\":[{\"type\":\"choropleth\",\"colorbar\":{\"outlinewidth\":0,\"ticks\":\"\"}}],\"histogram2d\":[{\"type\":\"histogram2d\",\"colorbar\":{\"outlinewidth\":0,\"ticks\":\"\"},\"colorscale\":[[0.0,\"#0d0887\"],[0.1111111111111111,\"#46039f\"],[0.2222222222222222,\"#7201a8\"],[0.3333333333333333,\"#9c179e\"],[0.4444444444444444,\"#bd3786\"],[0.5555555555555556,\"#d8576b\"],[0.6666666666666666,\"#ed7953\"],[0.7777777777777778,\"#fb9f3a\"],[0.8888888888888888,\"#fdca26\"],[1.0,\"#f0f921\"]]}],\"heatmap\":[{\"type\":\"heatmap\",\"colorbar\":{\"outlinewidth\":0,\"ticks\":\"\"},\"colorscale\":[[0.0,\"#0d0887\"],[0.1111111111111111,\"#46039f\"],[0.2222222222222222,\"#7201a8\"],[0.3333333333333333,\"#9c179e\"],[0.4444444444444444,\"#bd3786\"],[0.5555555555555556,\"#d8576b\"],[0.6666666666666666,\"#ed7953\"],[0.7777777777777778,\"#fb9f3a\"],[0.8888888888888888,\"#fdca26\"],[1.0,\"#f0f921\"]]}],\"heatmapgl\":[{\"type\":\"heatmapgl\",\"colorbar\":{\"outlinewidth\":0,\"ticks\":\"\"},\"colorscale\":[[0.0,\"#0d0887\"],[0.1111111111111111,\"#46039f\"],[0.2222222222222222,\"#7201a8\"],[0.3333333333333333,\"#9c179e\"],[0.4444444444444444,\"#bd3786\"],[0.5555555555555556,\"#d8576b\"],[0.6666666666666666,\"#ed7953\"],[0.7777777777777778,\"#fb9f3a\"],[0.8888888888888888,\"#fdca26\"],[1.0,\"#f0f921\"]]}],\"contourcarpet\":[{\"type\":\"contourcarpet\",\"colorbar\":{\"outlinewidth\":0,\"ticks\":\"\"}}],\"contour\":[{\"type\":\"contour\",\"colorbar\":{\"outlinewidth\":0,\"ticks\":\"\"},\"colorscale\":[[0.0,\"#0d0887\"],[0.1111111111111111,\"#46039f\"],[0.2222222222222222,\"#7201a8\"],[0.3333333333333333,\"#9c179e\"],[0.4444444444444444,\"#bd3786\"],[0.5555555555555556,\"#d8576b\"],[0.6666666666666666,\"#ed7953\"],[0.7777777777777778,\"#fb9f3a\"],[0.8888888888888888,\"#fdca26\"],[1.0,\"#f0f921\"]]}],\"surface\":[{\"type\":\"surface\",\"colorbar\":{\"outlinewidth\":0,\"ticks\":\"\"},\"colorscale\":[[0.0,\"#0d0887\"],[0.1111111111111111,\"#46039f\"],[0.2222222222222222,\"#7201a8\"],[0.3333333333333333,\"#9c179e\"],[0.4444444444444444,\"#bd3786\"],[0.5555555555555556,\"#d8576b\"],[0.6666666666666666,\"#ed7953\"],[0.7777777777777778,\"#fb9f3a\"],[0.8888888888888888,\"#fdca26\"],[1.0,\"#f0f921\"]]}],\"mesh3d\":[{\"type\":\"mesh3d\",\"colorbar\":{\"outlinewidth\":0,\"ticks\":\"\"}}],\"scatter\":[{\"fillpattern\":{\"fillmode\":\"overlay\",\"size\":10,\"solidity\":0.2},\"type\":\"scatter\"}],\"parcoords\":[{\"type\":\"parcoords\",\"line\":{\"colorbar\":{\"outlinewidth\":0,\"ticks\":\"\"}}}],\"scatterpolargl\":[{\"type\":\"scatterpolargl\",\"marker\":{\"colorbar\":{\"outlinewidth\":0,\"ticks\":\"\"}}}],\"bar\":[{\"error_x\":{\"color\":\"#2a3f5f\"},\"error_y\":{\"color\":\"#2a3f5f\"},\"marker\":{\"line\":{\"color\":\"#E5ECF6\",\"width\":0.5},\"pattern\":{\"fillmode\":\"overlay\",\"size\":10,\"solidity\":0.2}},\"type\":\"bar\"}],\"scattergeo\":[{\"type\":\"scattergeo\",\"marker\":{\"colorbar\":{\"outlinewidth\":0,\"ticks\":\"\"}}}],\"scatterpolar\":[{\"type\":\"scatterpolar\",\"marker\":{\"colorbar\":{\"outlinewidth\":0,\"ticks\":\"\"}}}],\"histogram\":[{\"marker\":{\"pattern\":{\"fillmode\":\"overlay\",\"size\":10,\"solidity\":0.2}},\"type\":\"histogram\"}],\"scattergl\":[{\"type\":\"scattergl\",\"marker\":{\"colorbar\":{\"outlinewidth\":0,\"ticks\":\"\"}}}],\"scatter3d\":[{\"type\":\"scatter3d\",\"line\":{\"colorbar\":{\"outlinewidth\":0,\"ticks\":\"\"}},\"marker\":{\"colorbar\":{\"outlinewidth\":0,\"ticks\":\"\"}}}],\"scattermapbox\":[{\"type\":\"scattermapbox\",\"marker\":{\"colorbar\":{\"outlinewidth\":0,\"ticks\":\"\"}}}],\"scatterternary\":[{\"type\":\"scatterternary\",\"marker\":{\"colorbar\":{\"outlinewidth\":0,\"ticks\":\"\"}}}],\"scattercarpet\":[{\"type\":\"scattercarpet\",\"marker\":{\"colorbar\":{\"outlinewidth\":0,\"ticks\":\"\"}}}],\"carpet\":[{\"aaxis\":{\"endlinecolor\":\"#2a3f5f\",\"gridcolor\":\"white\",\"linecolor\":\"white\",\"minorgridcolor\":\"white\",\"startlinecolor\":\"#2a3f5f\"},\"baxis\":{\"endlinecolor\":\"#2a3f5f\",\"gridcolor\":\"white\",\"linecolor\":\"white\",\"minorgridcolor\":\"white\",\"startlinecolor\":\"#2a3f5f\"},\"type\":\"carpet\"}],\"table\":[{\"cells\":{\"fill\":{\"color\":\"#EBF0F8\"},\"line\":{\"color\":\"white\"}},\"header\":{\"fill\":{\"color\":\"#C8D4E3\"},\"line\":{\"color\":\"white\"}},\"type\":\"table\"}],\"barpolar\":[{\"marker\":{\"line\":{\"color\":\"#E5ECF6\",\"width\":0.5},\"pattern\":{\"fillmode\":\"overlay\",\"size\":10,\"solidity\":0.2}},\"type\":\"barpolar\"}],\"pie\":[{\"automargin\":true,\"type\":\"pie\"}]},\"layout\":{\"autotypenumbers\":\"strict\",\"colorway\":[\"#636efa\",\"#EF553B\",\"#00cc96\",\"#ab63fa\",\"#FFA15A\",\"#19d3f3\",\"#FF6692\",\"#B6E880\",\"#FF97FF\",\"#FECB52\"],\"font\":{\"color\":\"#2a3f5f\"},\"hovermode\":\"closest\",\"hoverlabel\":{\"align\":\"left\"},\"paper_bgcolor\":\"white\",\"plot_bgcolor\":\"#E5ECF6\",\"polar\":{\"bgcolor\":\"#E5ECF6\",\"angularaxis\":{\"gridcolor\":\"white\",\"linecolor\":\"white\",\"ticks\":\"\"},\"radialaxis\":{\"gridcolor\":\"white\",\"linecolor\":\"white\",\"ticks\":\"\"}},\"ternary\":{\"bgcolor\":\"#E5ECF6\",\"aaxis\":{\"gridcolor\":\"white\",\"linecolor\":\"white\",\"ticks\":\"\"},\"baxis\":{\"gridcolor\":\"white\",\"linecolor\":\"white\",\"ticks\":\"\"},\"caxis\":{\"gridcolor\":\"white\",\"linecolor\":\"white\",\"ticks\":\"\"}},\"coloraxis\":{\"colorbar\":{\"outlinewidth\":0,\"ticks\":\"\"}},\"colorscale\":{\"sequential\":[[0.0,\"#0d0887\"],[0.1111111111111111,\"#46039f\"],[0.2222222222222222,\"#7201a8\"],[0.3333333333333333,\"#9c179e\"],[0.4444444444444444,\"#bd3786\"],[0.5555555555555556,\"#d8576b\"],[0.6666666666666666,\"#ed7953\"],[0.7777777777777778,\"#fb9f3a\"],[0.8888888888888888,\"#fdca26\"],[1.0,\"#f0f921\"]],\"sequentialminus\":[[0.0,\"#0d0887\"],[0.1111111111111111,\"#46039f\"],[0.2222222222222222,\"#7201a8\"],[0.3333333333333333,\"#9c179e\"],[0.4444444444444444,\"#bd3786\"],[0.5555555555555556,\"#d8576b\"],[0.6666666666666666,\"#ed7953\"],[0.7777777777777778,\"#fb9f3a\"],[0.8888888888888888,\"#fdca26\"],[1.0,\"#f0f921\"]],\"diverging\":[[0,\"#8e0152\"],[0.1,\"#c51b7d\"],[0.2,\"#de77ae\"],[0.3,\"#f1b6da\"],[0.4,\"#fde0ef\"],[0.5,\"#f7f7f7\"],[0.6,\"#e6f5d0\"],[0.7,\"#b8e186\"],[0.8,\"#7fbc41\"],[0.9,\"#4d9221\"],[1,\"#276419\"]]},\"xaxis\":{\"gridcolor\":\"white\",\"linecolor\":\"white\",\"ticks\":\"\",\"title\":{\"standoff\":15},\"zerolinecolor\":\"white\",\"automargin\":true,\"zerolinewidth\":2},\"yaxis\":{\"gridcolor\":\"white\",\"linecolor\":\"white\",\"ticks\":\"\",\"title\":{\"standoff\":15},\"zerolinecolor\":\"white\",\"automargin\":true,\"zerolinewidth\":2},\"scene\":{\"xaxis\":{\"backgroundcolor\":\"#E5ECF6\",\"gridcolor\":\"white\",\"linecolor\":\"white\",\"showbackground\":true,\"ticks\":\"\",\"zerolinecolor\":\"white\",\"gridwidth\":2},\"yaxis\":{\"backgroundcolor\":\"#E5ECF6\",\"gridcolor\":\"white\",\"linecolor\":\"white\",\"showbackground\":true,\"ticks\":\"\",\"zerolinecolor\":\"white\",\"gridwidth\":2},\"zaxis\":{\"backgroundcolor\":\"#E5ECF6\",\"gridcolor\":\"white\",\"linecolor\":\"white\",\"showbackground\":true,\"ticks\":\"\",\"zerolinecolor\":\"white\",\"gridwidth\":2}},\"shapedefaults\":{\"line\":{\"color\":\"#2a3f5f\"}},\"annotationdefaults\":{\"arrowcolor\":\"#2a3f5f\",\"arrowhead\":0,\"arrowwidth\":1},\"geo\":{\"bgcolor\":\"white\",\"landcolor\":\"#E5ECF6\",\"subunitcolor\":\"white\",\"showland\":true,\"showlakes\":true,\"lakecolor\":\"white\"},\"title\":{\"x\":0.05},\"mapbox\":{\"style\":\"light\"}}},\"xaxis\":{\"anchor\":\"y\",\"domain\":[0.0,1.0],\"title\":{\"text\":\"Popula\\u00e7\\u00e3o 2022\"},\"type\":\"log\"},\"yaxis\":{\"anchor\":\"x\",\"domain\":[0.0,1.0],\"title\":{\"text\":\"Matr\\u00edculas Eja Fundamental\"}},\"legend\":{\"tracegroupgap\":0},\"margin\":{\"t\":60},\"width\":800,\"title\":{\"text\":\"Popula\\u00e7\\u00e3o X Matr\\u00edculas Eja Fundamental\"}},                        {\"responsive\": true}                    ).then(function(){\n",
              "                            \n",
              "var gd = document.getElementById('e0b84b88-89bf-4cc6-b639-f0141db12db2');\n",
              "var x = new MutationObserver(function (mutations, observer) {{\n",
              "        var display = window.getComputedStyle(gd).display;\n",
              "        if (!display || display === 'none') {{\n",
              "            console.log([gd, 'removed!']);\n",
              "            Plotly.purge(gd);\n",
              "            observer.disconnect();\n",
              "        }}\n",
              "}});\n",
              "\n",
              "// Listen for the removal of the full notebook cells\n",
              "var notebookContainer = gd.closest('#notebook-container');\n",
              "if (notebookContainer) {{\n",
              "    x.observe(notebookContainer, {childList: true});\n",
              "}}\n",
              "\n",
              "// Listen for the clearing of the current output cell\n",
              "var outputEl = gd.closest('.output');\n",
              "if (outputEl) {{\n",
              "    x.observe(outputEl, {childList: true});\n",
              "}}\n",
              "\n",
              "                        })                };                });            </script>        </div>"
            ]
          },
          "metadata": {},
          "output_type": "display_data"
        },
        {
          "data": {
            "application/vnd.plotly.v1+json": {
              "config": {
                "plotlyServerURL": "https://plot.ly"
              },
              "data": [
                {
                  "hovertemplate": "<b>%{hovertext}</b><br><br>POP_Censo_2022=%{x}<br>QT_MAT_INF_22=%{y}<extra></extra>",
                  "hovertext": [
                    "Abaíra",
                    "Abaré",
                    "Acajutiba",
                    "Adustina",
                    "Água Fria",
                    "Aiquara",
                    "Alagoinhas",
                    "Alcobaça",
                    "Almadina",
                    "Amargosa",
                    "Amélia Rodrigues",
                    "América Dourada",
                    "Anagé",
                    "Andaraí",
                    "Andorinha",
                    "Angical",
                    "Anguera",
                    "Antas",
                    "Antônio Cardoso",
                    "Antônio Gonçalves",
                    "Aporá",
                    "Apuarema",
                    "Araçás",
                    "Aracatu",
                    "Araci",
                    "Aramari",
                    "Arataca",
                    "Aratuípe",
                    "Aurelino Leal",
                    "Baianópolis",
                    "Baixa Grande",
                    "Banzaê",
                    "Barra",
                    "Barra da Estiva",
                    "Barra do Choça",
                    "Barra do Mendes",
                    "Barra do Rocha",
                    "Barreiras",
                    "Barro Alto",
                    "Barro Preto",
                    "Barrocas",
                    "Belmonte",
                    "Belo Campo",
                    "Biritinga",
                    "Boa Nova",
                    "Boa Vista do Tupim",
                    "Bom Jesus da Lapa",
                    "Bom Jesus da Serra",
                    "Boninal",
                    "Bonito",
                    "Boquira",
                    "Botuporã",
                    "Brejões",
                    "Brejolândia",
                    "Brotas de Macaúbas",
                    "Brumado",
                    "Buerarema",
                    "Buritirama",
                    "Caatiba",
                    "Cabaceiras do Paraguaçu",
                    "Cachoeira",
                    "Caculé",
                    "Caém",
                    "Caetanos",
                    "Caetité",
                    "Cafarnaum",
                    "Cairu",
                    "Caldeirão Grande",
                    "Camacan",
                    "Camaçari",
                    "Camamu",
                    "Campo Alegre de Lourdes",
                    "Campo Formoso",
                    "Canápolis",
                    "Canarana",
                    "Canavieiras",
                    "Candeal",
                    "Candeias",
                    "Candiba",
                    "Cândido Sales",
                    "Cansanção",
                    "Canudos",
                    "Capela do Alto Alegre",
                    "Capim Grosso",
                    "Caraíbas",
                    "Caravelas",
                    "Cardeal da Silva",
                    "Carinhanha",
                    "Casa Nova",
                    "Castro Alves",
                    "Catolândia",
                    "Catu",
                    "Caturama",
                    "Central",
                    "Chorrochó",
                    "Cícero Dantas",
                    "Cipó",
                    "Coaraci",
                    "Cocos",
                    "Conceição da Feira",
                    "Conceição do Almeida",
                    "Conceição do Coité",
                    "Conceição do Jacuípe",
                    "Conde",
                    "Condeúba",
                    "Contendas do Sincorá",
                    "Coração de Maria",
                    "Cordeiros",
                    "Coribe",
                    "Coronel João Sá",
                    "Correntina",
                    "Cotegipe",
                    "Cravolândia",
                    "Crisópolis",
                    "Cristópolis",
                    "Cruz das Almas",
                    "Curaçá",
                    "Dário Meira",
                    "Dias d'Ávila",
                    "Dom Basílio",
                    "Dom Macedo Costa",
                    "Elísio Medrado",
                    "Encruzilhada",
                    "Entre Rios",
                    "Érico Cardoso",
                    "Esplanada",
                    "Euclides da Cunha",
                    "Eunápolis",
                    "Fátima",
                    "Feira da Mata",
                    "Feira de Santana",
                    "Filadélfia",
                    "Firmino Alves",
                    "Floresta Azul",
                    "Formosa do Rio Preto",
                    "Gandu",
                    "Gavião",
                    "Gentio do Ouro",
                    "Glória",
                    "Gongogi",
                    "Governador Mangabeira",
                    "Guajeru",
                    "Guanambi",
                    "Guaratinga",
                    "Heliópolis",
                    "Iaçu",
                    "Ibiassucê",
                    "Ibicaraí",
                    "Ibicoara",
                    "Ibicuí",
                    "Ibipeba",
                    "Ibipitanga",
                    "Ibiquera",
                    "Ibirapitanga",
                    "Ibirapuã",
                    "Ibirataia",
                    "Ibitiara",
                    "Ibititá",
                    "Ibotirama",
                    "Ichu",
                    "Igaporã",
                    "Igrapiúna",
                    "Iguaí",
                    "Ilhéus",
                    "Inhambupe",
                    "Ipecaetá",
                    "Ipiaú",
                    "Ipirá",
                    "Ipupiara",
                    "Irajuba",
                    "Iramaia",
                    "Iraquara",
                    "Irará",
                    "Irecê",
                    "Itabela",
                    "Itaberaba",
                    "Itabuna",
                    "Itacaré",
                    "Itaeté",
                    "Itagi",
                    "Itagibá",
                    "Itagimirim",
                    "Itaguaçu da Bahia",
                    "Itaju do Colônia",
                    "Itajuípe",
                    "Itamaraju",
                    "Itamari",
                    "Itambé",
                    "Itanagra",
                    "Itanhém",
                    "Itaparica",
                    "Itapé",
                    "Itapebi",
                    "Itapetinga",
                    "Itapicuru",
                    "Itapitanga",
                    "Itaquara",
                    "Itarantim",
                    "Itatim",
                    "Itiruçu",
                    "Itiúba",
                    "Itororó",
                    "Ituaçu",
                    "Ituberá",
                    "Iuiu",
                    "Jaborandi",
                    "Jacaraci",
                    "Jacobina",
                    "Jaguaquara",
                    "Jaguarari",
                    "Jaguaripe",
                    "Jandaíra",
                    "Jequié",
                    "Jeremoabo",
                    "Jiquiriçá",
                    "Jitaúna",
                    "João Dourado",
                    "Juazeiro",
                    "Jucuruçu",
                    "Jussara",
                    "Jussari",
                    "Jussiape",
                    "Lafaiete Coutinho",
                    "Lagoa Real",
                    "Laje",
                    "Lajedão",
                    "Lajedinho",
                    "Lajedo do Tabocal",
                    "Lamarão",
                    "Lapão",
                    "Lauro de Freitas",
                    "Lençóis",
                    "Licínio de Almeida",
                    "Livramento de Nossa Senhora",
                    "Luís Eduardo Magalhães",
                    "Macajuba",
                    "Macarani",
                    "Macaúbas",
                    "Macururé",
                    "Madre de Deus",
                    "Maetinga",
                    "Maiquinique",
                    "Mairi",
                    "Malhada",
                    "Malhada de Pedras",
                    "Manoel Vitorino",
                    "Mansidão",
                    "Maracás",
                    "Maragogipe",
                    "Maraú",
                    "Marcionílio Souza",
                    "Mascote",
                    "Mata de São João",
                    "Matina",
                    "Medeiros Neto",
                    "Miguel Calmon",
                    "Milagres",
                    "Mirangaba",
                    "Mirante",
                    "Monte Santo",
                    "Morpará",
                    "Morro do Chapéu",
                    "Mortugaba",
                    "Mucugê",
                    "Mucuri",
                    "Mulungu do Morro",
                    "Mundo Novo",
                    "Muniz Ferreira",
                    "Muquém do São Francisco",
                    "Muritiba",
                    "Mutuípe",
                    "Nazaré",
                    "Nilo Peçanha",
                    "Nordestina",
                    "Nova Canaã",
                    "Nova Fátima",
                    "Nova Ibiá",
                    "Nova Itarana",
                    "Nova Redenção",
                    "Nova Soure",
                    "Nova Viçosa",
                    "Novo Horizonte",
                    "Novo Triunfo",
                    "Olindina",
                    "Oliveira dos Brejinhos",
                    "Ouriçangas",
                    "Ourolândia",
                    "Palmas de Monte Alto",
                    "Palmeiras",
                    "Paramirim",
                    "Paratinga",
                    "Paripiranga",
                    "Pau Brasil",
                    "Paulo Afonso",
                    "Pé de Serra",
                    "Pedrão",
                    "Pedro Alexandre",
                    "Piatã",
                    "Pilão Arcado",
                    "Pindaí",
                    "Pindobaçu",
                    "Pintadas",
                    "Piraí do Norte",
                    "Piripá",
                    "Piritiba",
                    "Planaltino",
                    "Planalto",
                    "Poções",
                    "Pojuca",
                    "Ponto Novo",
                    "Porto Seguro",
                    "Potiraguá",
                    "Prado",
                    "Presidente Dutra",
                    "Presidente Jânio Quadros",
                    "Presidente Tancredo Neves",
                    "Queimadas",
                    "Quijingue",
                    "Quixabeira",
                    "Rafael Jambeiro",
                    "Remanso",
                    "Retirolândia",
                    "Riachão das Neves",
                    "Riachão do Jacuípe",
                    "Riacho de Santana",
                    "Ribeira do Amparo",
                    "Ribeira do Pombal",
                    "Ribeirão do Largo",
                    "Rio de Contas",
                    "Rio do Antônio",
                    "Rio do Pires",
                    "Rio Real",
                    "Rodelas",
                    "Ruy Barbosa",
                    "Salinas da Margarida",
                    "Salvador",
                    "Santa Bárbara",
                    "Santa Brígida",
                    "Santa Cruz Cabrália",
                    "Santa Cruz da Vitória",
                    "Santa Inês",
                    "Santa Luzia",
                    "Santa Maria da Vitória",
                    "Santa Rita de Cássia",
                    "Santa Terezinha",
                    "Santaluz",
                    "Santana",
                    "Santanópolis",
                    "Santo Amaro",
                    "Santo Antônio de Jesus",
                    "Santo Estêvão",
                    "São Desidério",
                    "São Domingos",
                    "São Felipe",
                    "São Félix",
                    "São Félix do Coribe",
                    "São Francisco do Conde",
                    "São Gabriel",
                    "São Gonçalo dos Campos",
                    "São José da Vitória",
                    "São José do Jacuípe",
                    "São Miguel das Matas",
                    "São Sebastião do Passé",
                    "Sapeaçu",
                    "Sátiro Dias",
                    "Saubara",
                    "Saúde",
                    "Seabra",
                    "Sebastião Laranjeiras",
                    "Senhor do Bonfim",
                    "Sento Sé",
                    "Serra do Ramalho",
                    "Serra Dourada",
                    "Serra Preta",
                    "Serrinha",
                    "Serrolândia",
                    "Simões Filho",
                    "Sítio do Mato",
                    "Sítio do Quinto",
                    "Sobradinho",
                    "Souto Soares",
                    "Tabocas do Brejo Velho",
                    "Tanhaçu",
                    "Tanque Novo",
                    "Tanquinho",
                    "Taperoá",
                    "Tapiramutá",
                    "Teixeira de Freitas",
                    "Teodoro Sampaio",
                    "Teofilândia",
                    "Teolândia",
                    "Terra Nova",
                    "Tremedal",
                    "Tucano",
                    "Uauá",
                    "Ubaíra",
                    "Ubaitaba",
                    "Ubatã",
                    "Uibaí",
                    "Umburanas",
                    "Una",
                    "Urandi",
                    "Uruçuca",
                    "Utinga",
                    "Valença",
                    "Valente",
                    "Várzea da Roça",
                    "Várzea do Poço",
                    "Várzea Nova",
                    "Varzedo",
                    "Vera Cruz",
                    "Vereda",
                    "Vitória da Conquista",
                    "Wagner",
                    "Wanderley",
                    "Wenceslau Guimarães",
                    "Xique-Xique"
                  ],
                  "legendgroup": "",
                  "marker": {
                    "color": "#636efa",
                    "line": {
                      "width": 2
                    },
                    "size": 12,
                    "symbol": "circle"
                  },
                  "mode": "markers",
                  "name": "",
                  "orientation": "v",
                  "showlegend": false,
                  "type": "scatter",
                  "x": [
                    " 7.290 ",
                    " 18.766 ",
                    " 13.715 ",
                    " 14.166 ",
                    " 17.398 ",
                    " 4.566 ",
                    " 157.864 ",
                    " 23.633 ",
                    " 5.195 ",
                    " 36.260 ",
                    " 23.639 ",
                    " 15.104 ",
                    " 25.452 ",
                    " 13.406 ",
                    " 15.011 ",
                    " 14.973 ",
                    " 11.019 ",
                    " 14.453 ",
                    " 11.268 ",
                    " 11.921 ",
                    " 16.909 ",
                    " 6.900 ",
                    " 12.605 ",
                    " 13.819 ",
                    " 51.377 ",
                    " 9.781 ",
                    " 8.219 ",
                    " 10.006 ",
                    " 11.782 ",
                    " 13.618 ",
                    " 17.880 ",
                    " 11.869 ",
                    " 50.543 ",
                    " 26.031 ",
                    " 40.025 ",
                    " 13.852 ",
                    " 6.682 ",
                    " 165.413 ",
                    " 13.761 ",
                    " 5.820 ",
                    " 15.396 ",
                    " 20.565 ",
                    " 18.399 ",
                    " 15.151 ",
                    " 14.160 ",
                    " 19.320 ",
                    " 74.040 ",
                    " 9.572 ",
                    " 13.653 ",
                    " 15.837 ",
                    " 20.588 ",
                    " 11.040 ",
                    " 12.914 ",
                    " 9.114 ",
                    " 12.467 ",
                    " 70.268 ",
                    " 16.880 ",
                    " 19.514 ",
                    " 6.915 ",
                    " 19.432 ",
                    " 31.982 ",
                    " 22.412 ",
                    " 10.360 ",
                    " 13.242 ",
                    " 52.099 ",
                    " 17.975 ",
                    " 17.591 ",
                    " 13.063 ",
                    " 22.460 ",
                    " 334.195 ",
                    " 30.480 ",
                    " 30.659 ",
                    " 68.571 ",
                    " 10.225 ",
                    " 23.491 ",
                    " 33.080 ",
                    " 7.785 ",
                    " 77.026 ",
                    " 13.007 ",
                    " 25.278 ",
                    " 39.475 ",
                    " 15.906 ",
                    " 10.754 ",
                    " 33.344 ",
                    " 9.938 ",
                    " 21.612 ",
                    " 8.376 ",
                    " 28.869 ",
                    " 71.572 ",
                    " 24.700 ",
                    " 3.480 ",
                    " 48.137 ",
                    " 8.847 ",
                    " 16.223 ",
                    " 10.587 ",
                    " 30.836 ",
                    " 17.246 ",
                    " 17.949 ",
                    " 19.156 ",
                    " 22.936 ",
                    " 15.401 ",
                    " 70.202 ",
                    " 34.994 ",
                    " 24.433 ",
                    " 17.059 ",
                    " 4.750 ",
                    " 28.340 ",
                    " 7.555 ",
                    " 14.158 ",
                    "17.000(26)",
                    " 32.709 ",
                    " 13.059 ",
                    " 4.445 ",
                    " 19.720 ",
                    " 14.002 ",
                    " 60.633 ",
                    " 33.603 ",
                    " 10.025 ",
                    " 69.211 ",
                    " 11.905 ",
                    " 4.418 ",
                    " 7.782 ",
                    " 19.111 ",
                    " 38.880 ",
                    " 10.581 ",
                    " 34.033 ",
                    " 65.187 ",
                    " 112.477 ",
                    " 17.899 ",
                    " 5.618 ",
                    " 652.592 ",
                    " 17.892 ",
                    " 5.925 ",
                    " 11.068 ",
                    " 25.185 ",
                    " 29.776 ",
                    " 4.357 ",
                    " 11.896 ",
                    " 16.698 ",
                    " 5.549 ",
                    " 20.604 ",
                    " 8.054 ",
                    " 87.580 ",
                    " 20.338 ",
                    " 12.301 ",
                    " 25.178 ",
                    "10.426(27)",
                    " 21.688 ",
                    " 20.874 ",
                    " 13.791 ",
                    " 18.540 ",
                    " 13.905 ",
                    " 3.722 ",
                    " 27.341 ",
                    " 8.331 ",
                    " 19.613 ",
                    " 14.622 ",
                    " 17.954 ",
                    " 26.611 ",
                    " 6.192 ",
                    " 17.022 ",
                    " 13.077 ",
                    " 25.114 ",
                    " 197.163 ",
                    " 33.771 ",
                    " 16.230 ",
                    " 43.078 ",
                    " 58.094 ",
                    " 9.925 ",
                    " 6.100 ",
                    " 10.755 ",
                    " 25.590 ",
                    " 27.984 ",
                    " 76.491 ",
                    " 27.691 ",
                    " 67.605 ",
                    " 185.500 ",
                    " 28.214 ",
                    " 14.031 ",
                    " 13.925 ",
                    " 15.556 ",
                    " 7.037 ",
                    " 13.116 ",
                    " 6.033 ",
                    " 19.913 ",
                    " 60.831 ",
                    " 7.050 ",
                    " 26.420 ",
                    " 5.814 ",
                    " 19.025 ",
                    " 19.738 ",
                    " 10.327 ",
                    " 9.779 ",
                    " 68.704 ",
                    " 32.793 ",
                    " 10.320 ",
                    " 8.175 ",
                    " 17.035 ",
                    " 15.749 ",
                    " 11.016 ",
                    " 33.671 ",
                    " 17.729 ",
                    " 18.992 ",
                    " 21.974 ",
                    " 11.101 ",
                    " 9.269 ",
                    " 14.625 ",
                    " 88.296 ",
                    " 46.026 ",
                    " 32.495 ",
                    " 20.237 ",
                    " 9.112 ",
                    " 156.408 ",
                    " 37.519 ",
                    " 13.623 ",
                    " 14.614 ",
                    " 26.186 ",
                    " 244.406 ",
                    " 9.971 ",
                    " 16.922 ",
                    " 5.902 ",
                    " 7.381 ",
                    " 4.044 ",
                    " 13.990 ",
                    " 23.198 ",
                    " 4.550 ",
                    " 4.102 ",
                    " 7.486 ",
                    " 9.062 ",
                    " 25.713 ",
                    " 220.437 ",
                    " 11.022 ",
                    " 11.848 ",
                    " 43.898 ",
                    " 108.271 ",
                    " 10.463 ",
                    " 21.556 ",
                    " 41.631 ",
                    " 7.600 ",
                    " 18.767 ",
                    " 6.968 ",
                    " 9.452 ",
                    " 16.122 ",
                    " 15.426 ",
                    " 8.673 ",
                    " 13.327 ",
                    " 13.902 ",
                    " 27.747 ",
                    " 38.394 ",
                    " 24.713 ",
                    " 9.256 ",
                    " 11.991 ",
                    " 48.698 ",
                    " 10.338 ",
                    " 23.096 ",
                    " 27.817 ",
                    " 11.076 ",
                    " 15.050 ",
                    " 10.072 ",
                    " 47.758 ",
                    " 8.303 ",
                    " 33.389 ",
                    " 11.131 ",
                    " 12.988 ",
                    " 38.082 ",
                    " 13.166 ",
                    " 20.564 ",
                    " 7.165 ",
                    " 11.029 ",
                    " 28.558 ",
                    " 20.028 ",
                    " 28.181 ",
                    " 12.032 ",
                    " 18.536 ",
                    " 15.959 ",
                    " 7.958 ",
                    " 8.325 ",
                    " 7.820 ",
                    " 7.525 ",
                    " 24.206 ",
                    " 41.089 ",
                    " 11.163 ",
                    " 10.666 ",
                    " 22.615 ",
                    " 22.850 ",
                    " 7.728 ",
                    " 19.322 ",
                    " 20.091 ",
                    " 10.383 ",
                    " 20.378 ",
                    " 28.947 ",
                    " 26.609 ",
                    " 10.669 ",
                    " 118.412 ",
                    " 13.242 ",
                    " 6.229 ",
                    " 14.056 ",
                    " 20.098 ",
                    " 35.326 ",
                    " 14.740 ",
                    " 19.133 ",
                    " 9.805 ",
                    " 10.200 ",
                    " 9.158 ",
                    " 17.549 ",
                    " 8.012 ",
                    " 23.290 ",
                    " 48.197 ",
                    " 33.079 ",
                    " 17.941 ",
                    " 158.736 ",
                    " 11.524 ",
                    " 31.715 ",
                    " 15.133 ",
                    " 12.627 ",
                    " 27.662 ",
                    " 26.027 ",
                    " 27.317 ",
                    " 9.429 ",
                    " 20.242 ",
                    " 40.531 ",
                    " 13.654 ",
                    " 22.289 ",
                    " 33.422 ",
                    " 39.127 ",
                    " 13.831 ",
                    " 53.997 ",
                    " 10.382 ",
                    " 13.634 ",
                    " 13.098 ",
                    " 9.585 ",
                    " 35.378 ",
                    "10.303(28)",
                    " 30.172 ",
                    " 14.989 ",
                    " 2.610.987 ",
                    " 22.446 ",
                    " 14.979 ",
                    " 30.385 ",
                    " 4.672 ",
                    " 10.293 ",
                    " 11.776 ",
                    " 38.686 ",
                    " 28.084 ",
                    " 9.790 ",
                    " 37.079 ",
                    " 24.778 ",
                    " 9.831 ",
                    " 55.935 ",
                    " 103.055 ",
                    " 55.696 ",
                    " 36.793 ",
                    " 8.417 ",
                    " 20.286 ",
                    " 10.946 ",
                    " 15.704 ",
                    " 37.892 ",
                    " 18.417 ",
                    " 39.570 ",
                    " 5.321 ",
                    " 10.195 ",
                    " 10.334 ",
                    " 40.376 ",
                    " 17.993 ",
                    " 16.021 ",
                    " 11.433 ",
                    " 10.482 ",
                    " 49.587 ",
                    " 9.373 ",
                    " 77.514 ",
                    " 37.389 ",
                    " 34.270 ",
                    " 16.691 ",
                    " 18.090 ",
                    " 85.696 ",
                    " 13.320 ",
                    " 127.093 ",
                    " 13.408 ",
                    " 14.778 ",
                    " 24.799 ",
                    " 16.904 ",
                    " 11.990 ",
                    " 21.407 ",
                    " 18.459 ",
                    " 7.729 ",
                    " 18.016 ",
                    " 15.884 ",
                    " 147.454 ",
                    " 7.220 ",
                    " 21.811 ",
                    " 15.892 ",
                    " 10.802 ",
                    " 17.497 ",
                    " 48.062 ",
                    " 24.654 ",
                    " 18.605 ",
                    " 17.626 ",
                    " 18.161 ",
                    " 14.844 ",
                    " 13.511 ",
                    " 17.998 ",
                    " 15.365 ",
                    " 21.365 ",
                    " 16.285 ",
                    " 96.226 ",
                    " 23.683 ",
                    " 13.043 ",
                    " 8.115 ",
                    " 13.369 ",
                    " 9.913 ",
                    " 40.915 ",
                    " 7.072 ",
                    " 387.524 ",
                    " 8.861 ",
                    " 13.071 ",
                    " 26.279 ",
                    " 46.328 "
                  ],
                  "xaxis": "x",
                  "y": [
                    226,
                    838,
                    481,
                    501,
                    605,
                    257,
                    3047,
                    891,
                    250,
                    1555,
                    827,
                    945,
                    624,
                    529,
                    656,
                    640,
                    405,
                    765,
                    407,
                    410,
                    680,
                    302,
                    596,
                    620,
                    2494,
                    302,
                    311,
                    412,
                    582,
                    551,
                    622,
                    747,
                    2192,
                    763,
                    1738,
                    510,
                    250,
                    5149,
                    537,
                    480,
                    677,
                    940,
                    649,
                    680,
                    606,
                    576,
                    3142,
                    344,
                    536,
                    765,
                    605,
                    453,
                    680,
                    269,
                    457,
                    2052,
                    404,
                    904,
                    289,
                    847,
                    1054,
                    878,
                    556,
                    397,
                    1416,
                    694,
                    1415,
                    1013,
                    694,
                    4425,
                    1356,
                    916,
                    2913,
                    425,
                    1250,
                    988,
                    276,
                    2412,
                    471,
                    991,
                    1812,
                    821,
                    274,
                    989,
                    388,
                    1072,
                    383,
                    898,
                    2078,
                    1493,
                    150,
                    1369,
                    429,
                    426,
                    679,
                    874,
                    792,
                    698,
                    711,
                    956,
                    464,
                    2004,
                    986,
                    1250,
                    690,
                    219,
                    911,
                    391,
                    608,
                    819,
                    979,
                    525,
                    226,
                    936,
                    452,
                    1675,
                    1683,
                    731,
                    2647,
                    491,
                    202,
                    375,
                    798,
                    1185,
                    317,
                    1149,
                    2398,
                    3006,
                    711,
                    277,
                    10935,
                    675,
                    181,
                    299,
                    636,
                    815,
                    266,
                    474,
                    601,
                    305,
                    851,
                    241,
                    2344,
                    600,
                    494,
                    1226,
                    282,
                    626,
                    969,
                    543,
                    405,
                    467,
                    146,
                    1056,
                    441,
                    638,
                    474,
                    585,
                    1260,
                    309,
                    474,
                    585,
                    769,
                    2994,
                    1454,
                    766,
                    1444,
                    1419,
                    462,
                    248,
                    324,
                    1056,
                    1219,
                    2057,
                    661,
                    2455,
                    3711,
                    1255,
                    632,
                    478,
                    507,
                    343,
                    440,
                    312,
                    615,
                    2187,
                    261,
                    852,
                    342,
                    481,
                    999,
                    398,
                    386,
                    2164,
                    1312,
                    173,
                    314,
                    592,
                    905,
                    364,
                    1777,
                    545,
                    813,
                    827,
                    536,
                    303,
                    512,
                    2095,
                    1701,
                    1116,
                    779,
                    531,
                    3751,
                    1758,
                    577,
                    512,
                    1221,
                    10236,
                    421,
                    483,
                    370,
                    268,
                    249,
                    388,
                    1012,
                    218,
                    160,
                    407,
                    274,
                    1612,
                    4974,
                    393,
                    486,
                    1132,
                    4506,
                    568,
                    692,
                    1722,
                    425,
                    525,
                    248,
                    371,
                    501,
                    482,
                    353,
                    405,
                    407,
                    1213,
                    1477,
                    955,
                    455,
                    529,
                    2536,
                    436,
                    798,
                    941,
                    441,
                    713,
                    314,
                    2362,
                    319,
                    1238,
                    444,
                    384,
                    1571,
                    626,
                    651,
                    312,
                    669,
                    1327,
                    848,
                    1314,
                    621,
                    604,
                    691,
                    250,
                    319,
                    436,
                    335,
                    726,
                    1747,
                    439,
                    446,
                    701,
                    639,
                    353,
                    724,
                    662,
                    340,
                    504,
                    1294,
                    886,
                    425,
                    2582,
                    482,
                    270,
                    794,
                    845,
                    1268,
                    573,
                    1108,
                    300,
                    333,
                    379,
                    651,
                    331,
                    673,
                    1475,
                    889,
                    849,
                    5684,
                    443,
                    1559,
                    587,
                    581,
                    835,
                    887,
                    1290,
                    523,
                    829,
                    1733,
                    638,
                    739,
                    777,
                    931,
                    722,
                    2035,
                    464,
                    471,
                    427,
                    258,
                    1494,
                    536,
                    1087,
                    989,
                    26300,
                    637,
                    513,
                    1511,
                    301,
                    449,
                    569,
                    1319,
                    1095,
                    455,
                    1455,
                    747,
                    365,
                    2354,
                    2621,
                    1849,
                    1208,
                    319,
                    900,
                    360,
                    749,
                    1936,
                    678,
                    826,
                    215,
                    536,
                    327,
                    1187,
                    883,
                    944,
                    523,
                    314,
                    1583,
                    342,
                    1882,
                    1539,
                    1773,
                    494,
                    484,
                    3962,
                    654,
                    4411,
                    529,
                    410,
                    888,
                    699,
                    378,
                    718,
                    714,
                    201,
                    694,
                    535,
                    3607,
                    261,
                    1128,
                    908,
                    467,
                    455,
                    2478,
                    1165,
                    913,
                    760,
                    709,
                    404,
                    483,
                    746,
                    568,
                    796,
                    509,
                    3570,
                    979,
                    501,
                    377,
                    489,
                    290,
                    1845,
                    236,
                    8537,
                    332,
                    654,
                    1125,
                    2842
                  ],
                  "yaxis": "y"
                }
              ],
              "layout": {
                "legend": {
                  "tracegroupgap": 0
                },
                "margin": {
                  "t": 60
                },
                "template": {
                  "data": {
                    "bar": [
                      {
                        "error_x": {
                          "color": "#2a3f5f"
                        },
                        "error_y": {
                          "color": "#2a3f5f"
                        },
                        "marker": {
                          "line": {
                            "color": "#E5ECF6",
                            "width": 0.5
                          },
                          "pattern": {
                            "fillmode": "overlay",
                            "size": 10,
                            "solidity": 0.2
                          }
                        },
                        "type": "bar"
                      }
                    ],
                    "barpolar": [
                      {
                        "marker": {
                          "line": {
                            "color": "#E5ECF6",
                            "width": 0.5
                          },
                          "pattern": {
                            "fillmode": "overlay",
                            "size": 10,
                            "solidity": 0.2
                          }
                        },
                        "type": "barpolar"
                      }
                    ],
                    "carpet": [
                      {
                        "aaxis": {
                          "endlinecolor": "#2a3f5f",
                          "gridcolor": "white",
                          "linecolor": "white",
                          "minorgridcolor": "white",
                          "startlinecolor": "#2a3f5f"
                        },
                        "baxis": {
                          "endlinecolor": "#2a3f5f",
                          "gridcolor": "white",
                          "linecolor": "white",
                          "minorgridcolor": "white",
                          "startlinecolor": "#2a3f5f"
                        },
                        "type": "carpet"
                      }
                    ],
                    "choropleth": [
                      {
                        "colorbar": {
                          "outlinewidth": 0,
                          "ticks": ""
                        },
                        "type": "choropleth"
                      }
                    ],
                    "contour": [
                      {
                        "colorbar": {
                          "outlinewidth": 0,
                          "ticks": ""
                        },
                        "colorscale": [
                          [
                            0,
                            "#0d0887"
                          ],
                          [
                            0.1111111111111111,
                            "#46039f"
                          ],
                          [
                            0.2222222222222222,
                            "#7201a8"
                          ],
                          [
                            0.3333333333333333,
                            "#9c179e"
                          ],
                          [
                            0.4444444444444444,
                            "#bd3786"
                          ],
                          [
                            0.5555555555555556,
                            "#d8576b"
                          ],
                          [
                            0.6666666666666666,
                            "#ed7953"
                          ],
                          [
                            0.7777777777777778,
                            "#fb9f3a"
                          ],
                          [
                            0.8888888888888888,
                            "#fdca26"
                          ],
                          [
                            1,
                            "#f0f921"
                          ]
                        ],
                        "type": "contour"
                      }
                    ],
                    "contourcarpet": [
                      {
                        "colorbar": {
                          "outlinewidth": 0,
                          "ticks": ""
                        },
                        "type": "contourcarpet"
                      }
                    ],
                    "heatmap": [
                      {
                        "colorbar": {
                          "outlinewidth": 0,
                          "ticks": ""
                        },
                        "colorscale": [
                          [
                            0,
                            "#0d0887"
                          ],
                          [
                            0.1111111111111111,
                            "#46039f"
                          ],
                          [
                            0.2222222222222222,
                            "#7201a8"
                          ],
                          [
                            0.3333333333333333,
                            "#9c179e"
                          ],
                          [
                            0.4444444444444444,
                            "#bd3786"
                          ],
                          [
                            0.5555555555555556,
                            "#d8576b"
                          ],
                          [
                            0.6666666666666666,
                            "#ed7953"
                          ],
                          [
                            0.7777777777777778,
                            "#fb9f3a"
                          ],
                          [
                            0.8888888888888888,
                            "#fdca26"
                          ],
                          [
                            1,
                            "#f0f921"
                          ]
                        ],
                        "type": "heatmap"
                      }
                    ],
                    "heatmapgl": [
                      {
                        "colorbar": {
                          "outlinewidth": 0,
                          "ticks": ""
                        },
                        "colorscale": [
                          [
                            0,
                            "#0d0887"
                          ],
                          [
                            0.1111111111111111,
                            "#46039f"
                          ],
                          [
                            0.2222222222222222,
                            "#7201a8"
                          ],
                          [
                            0.3333333333333333,
                            "#9c179e"
                          ],
                          [
                            0.4444444444444444,
                            "#bd3786"
                          ],
                          [
                            0.5555555555555556,
                            "#d8576b"
                          ],
                          [
                            0.6666666666666666,
                            "#ed7953"
                          ],
                          [
                            0.7777777777777778,
                            "#fb9f3a"
                          ],
                          [
                            0.8888888888888888,
                            "#fdca26"
                          ],
                          [
                            1,
                            "#f0f921"
                          ]
                        ],
                        "type": "heatmapgl"
                      }
                    ],
                    "histogram": [
                      {
                        "marker": {
                          "pattern": {
                            "fillmode": "overlay",
                            "size": 10,
                            "solidity": 0.2
                          }
                        },
                        "type": "histogram"
                      }
                    ],
                    "histogram2d": [
                      {
                        "colorbar": {
                          "outlinewidth": 0,
                          "ticks": ""
                        },
                        "colorscale": [
                          [
                            0,
                            "#0d0887"
                          ],
                          [
                            0.1111111111111111,
                            "#46039f"
                          ],
                          [
                            0.2222222222222222,
                            "#7201a8"
                          ],
                          [
                            0.3333333333333333,
                            "#9c179e"
                          ],
                          [
                            0.4444444444444444,
                            "#bd3786"
                          ],
                          [
                            0.5555555555555556,
                            "#d8576b"
                          ],
                          [
                            0.6666666666666666,
                            "#ed7953"
                          ],
                          [
                            0.7777777777777778,
                            "#fb9f3a"
                          ],
                          [
                            0.8888888888888888,
                            "#fdca26"
                          ],
                          [
                            1,
                            "#f0f921"
                          ]
                        ],
                        "type": "histogram2d"
                      }
                    ],
                    "histogram2dcontour": [
                      {
                        "colorbar": {
                          "outlinewidth": 0,
                          "ticks": ""
                        },
                        "colorscale": [
                          [
                            0,
                            "#0d0887"
                          ],
                          [
                            0.1111111111111111,
                            "#46039f"
                          ],
                          [
                            0.2222222222222222,
                            "#7201a8"
                          ],
                          [
                            0.3333333333333333,
                            "#9c179e"
                          ],
                          [
                            0.4444444444444444,
                            "#bd3786"
                          ],
                          [
                            0.5555555555555556,
                            "#d8576b"
                          ],
                          [
                            0.6666666666666666,
                            "#ed7953"
                          ],
                          [
                            0.7777777777777778,
                            "#fb9f3a"
                          ],
                          [
                            0.8888888888888888,
                            "#fdca26"
                          ],
                          [
                            1,
                            "#f0f921"
                          ]
                        ],
                        "type": "histogram2dcontour"
                      }
                    ],
                    "mesh3d": [
                      {
                        "colorbar": {
                          "outlinewidth": 0,
                          "ticks": ""
                        },
                        "type": "mesh3d"
                      }
                    ],
                    "parcoords": [
                      {
                        "line": {
                          "colorbar": {
                            "outlinewidth": 0,
                            "ticks": ""
                          }
                        },
                        "type": "parcoords"
                      }
                    ],
                    "pie": [
                      {
                        "automargin": true,
                        "type": "pie"
                      }
                    ],
                    "scatter": [
                      {
                        "fillpattern": {
                          "fillmode": "overlay",
                          "size": 10,
                          "solidity": 0.2
                        },
                        "type": "scatter"
                      }
                    ],
                    "scatter3d": [
                      {
                        "line": {
                          "colorbar": {
                            "outlinewidth": 0,
                            "ticks": ""
                          }
                        },
                        "marker": {
                          "colorbar": {
                            "outlinewidth": 0,
                            "ticks": ""
                          }
                        },
                        "type": "scatter3d"
                      }
                    ],
                    "scattercarpet": [
                      {
                        "marker": {
                          "colorbar": {
                            "outlinewidth": 0,
                            "ticks": ""
                          }
                        },
                        "type": "scattercarpet"
                      }
                    ],
                    "scattergeo": [
                      {
                        "marker": {
                          "colorbar": {
                            "outlinewidth": 0,
                            "ticks": ""
                          }
                        },
                        "type": "scattergeo"
                      }
                    ],
                    "scattergl": [
                      {
                        "marker": {
                          "colorbar": {
                            "outlinewidth": 0,
                            "ticks": ""
                          }
                        },
                        "type": "scattergl"
                      }
                    ],
                    "scattermapbox": [
                      {
                        "marker": {
                          "colorbar": {
                            "outlinewidth": 0,
                            "ticks": ""
                          }
                        },
                        "type": "scattermapbox"
                      }
                    ],
                    "scatterpolar": [
                      {
                        "marker": {
                          "colorbar": {
                            "outlinewidth": 0,
                            "ticks": ""
                          }
                        },
                        "type": "scatterpolar"
                      }
                    ],
                    "scatterpolargl": [
                      {
                        "marker": {
                          "colorbar": {
                            "outlinewidth": 0,
                            "ticks": ""
                          }
                        },
                        "type": "scatterpolargl"
                      }
                    ],
                    "scatterternary": [
                      {
                        "marker": {
                          "colorbar": {
                            "outlinewidth": 0,
                            "ticks": ""
                          }
                        },
                        "type": "scatterternary"
                      }
                    ],
                    "surface": [
                      {
                        "colorbar": {
                          "outlinewidth": 0,
                          "ticks": ""
                        },
                        "colorscale": [
                          [
                            0,
                            "#0d0887"
                          ],
                          [
                            0.1111111111111111,
                            "#46039f"
                          ],
                          [
                            0.2222222222222222,
                            "#7201a8"
                          ],
                          [
                            0.3333333333333333,
                            "#9c179e"
                          ],
                          [
                            0.4444444444444444,
                            "#bd3786"
                          ],
                          [
                            0.5555555555555556,
                            "#d8576b"
                          ],
                          [
                            0.6666666666666666,
                            "#ed7953"
                          ],
                          [
                            0.7777777777777778,
                            "#fb9f3a"
                          ],
                          [
                            0.8888888888888888,
                            "#fdca26"
                          ],
                          [
                            1,
                            "#f0f921"
                          ]
                        ],
                        "type": "surface"
                      }
                    ],
                    "table": [
                      {
                        "cells": {
                          "fill": {
                            "color": "#EBF0F8"
                          },
                          "line": {
                            "color": "white"
                          }
                        },
                        "header": {
                          "fill": {
                            "color": "#C8D4E3"
                          },
                          "line": {
                            "color": "white"
                          }
                        },
                        "type": "table"
                      }
                    ]
                  },
                  "layout": {
                    "annotationdefaults": {
                      "arrowcolor": "#2a3f5f",
                      "arrowhead": 0,
                      "arrowwidth": 1
                    },
                    "autotypenumbers": "strict",
                    "coloraxis": {
                      "colorbar": {
                        "outlinewidth": 0,
                        "ticks": ""
                      }
                    },
                    "colorscale": {
                      "diverging": [
                        [
                          0,
                          "#8e0152"
                        ],
                        [
                          0.1,
                          "#c51b7d"
                        ],
                        [
                          0.2,
                          "#de77ae"
                        ],
                        [
                          0.3,
                          "#f1b6da"
                        ],
                        [
                          0.4,
                          "#fde0ef"
                        ],
                        [
                          0.5,
                          "#f7f7f7"
                        ],
                        [
                          0.6,
                          "#e6f5d0"
                        ],
                        [
                          0.7,
                          "#b8e186"
                        ],
                        [
                          0.8,
                          "#7fbc41"
                        ],
                        [
                          0.9,
                          "#4d9221"
                        ],
                        [
                          1,
                          "#276419"
                        ]
                      ],
                      "sequential": [
                        [
                          0,
                          "#0d0887"
                        ],
                        [
                          0.1111111111111111,
                          "#46039f"
                        ],
                        [
                          0.2222222222222222,
                          "#7201a8"
                        ],
                        [
                          0.3333333333333333,
                          "#9c179e"
                        ],
                        [
                          0.4444444444444444,
                          "#bd3786"
                        ],
                        [
                          0.5555555555555556,
                          "#d8576b"
                        ],
                        [
                          0.6666666666666666,
                          "#ed7953"
                        ],
                        [
                          0.7777777777777778,
                          "#fb9f3a"
                        ],
                        [
                          0.8888888888888888,
                          "#fdca26"
                        ],
                        [
                          1,
                          "#f0f921"
                        ]
                      ],
                      "sequentialminus": [
                        [
                          0,
                          "#0d0887"
                        ],
                        [
                          0.1111111111111111,
                          "#46039f"
                        ],
                        [
                          0.2222222222222222,
                          "#7201a8"
                        ],
                        [
                          0.3333333333333333,
                          "#9c179e"
                        ],
                        [
                          0.4444444444444444,
                          "#bd3786"
                        ],
                        [
                          0.5555555555555556,
                          "#d8576b"
                        ],
                        [
                          0.6666666666666666,
                          "#ed7953"
                        ],
                        [
                          0.7777777777777778,
                          "#fb9f3a"
                        ],
                        [
                          0.8888888888888888,
                          "#fdca26"
                        ],
                        [
                          1,
                          "#f0f921"
                        ]
                      ]
                    },
                    "colorway": [
                      "#636efa",
                      "#EF553B",
                      "#00cc96",
                      "#ab63fa",
                      "#FFA15A",
                      "#19d3f3",
                      "#FF6692",
                      "#B6E880",
                      "#FF97FF",
                      "#FECB52"
                    ],
                    "font": {
                      "color": "#2a3f5f"
                    },
                    "geo": {
                      "bgcolor": "white",
                      "lakecolor": "white",
                      "landcolor": "#E5ECF6",
                      "showlakes": true,
                      "showland": true,
                      "subunitcolor": "white"
                    },
                    "hoverlabel": {
                      "align": "left"
                    },
                    "hovermode": "closest",
                    "mapbox": {
                      "style": "light"
                    },
                    "paper_bgcolor": "white",
                    "plot_bgcolor": "#E5ECF6",
                    "polar": {
                      "angularaxis": {
                        "gridcolor": "white",
                        "linecolor": "white",
                        "ticks": ""
                      },
                      "bgcolor": "#E5ECF6",
                      "radialaxis": {
                        "gridcolor": "white",
                        "linecolor": "white",
                        "ticks": ""
                      }
                    },
                    "scene": {
                      "xaxis": {
                        "backgroundcolor": "#E5ECF6",
                        "gridcolor": "white",
                        "gridwidth": 2,
                        "linecolor": "white",
                        "showbackground": true,
                        "ticks": "",
                        "zerolinecolor": "white"
                      },
                      "yaxis": {
                        "backgroundcolor": "#E5ECF6",
                        "gridcolor": "white",
                        "gridwidth": 2,
                        "linecolor": "white",
                        "showbackground": true,
                        "ticks": "",
                        "zerolinecolor": "white"
                      },
                      "zaxis": {
                        "backgroundcolor": "#E5ECF6",
                        "gridcolor": "white",
                        "gridwidth": 2,
                        "linecolor": "white",
                        "showbackground": true,
                        "ticks": "",
                        "zerolinecolor": "white"
                      }
                    },
                    "shapedefaults": {
                      "line": {
                        "color": "#2a3f5f"
                      }
                    },
                    "ternary": {
                      "aaxis": {
                        "gridcolor": "white",
                        "linecolor": "white",
                        "ticks": ""
                      },
                      "baxis": {
                        "gridcolor": "white",
                        "linecolor": "white",
                        "ticks": ""
                      },
                      "bgcolor": "#E5ECF6",
                      "caxis": {
                        "gridcolor": "white",
                        "linecolor": "white",
                        "ticks": ""
                      }
                    },
                    "title": {
                      "x": 0.05
                    },
                    "xaxis": {
                      "automargin": true,
                      "gridcolor": "white",
                      "linecolor": "white",
                      "ticks": "",
                      "title": {
                        "standoff": 15
                      },
                      "zerolinecolor": "white",
                      "zerolinewidth": 2
                    },
                    "yaxis": {
                      "automargin": true,
                      "gridcolor": "white",
                      "linecolor": "white",
                      "ticks": "",
                      "title": {
                        "standoff": 15
                      },
                      "zerolinecolor": "white",
                      "zerolinewidth": 2
                    }
                  }
                },
                "title": {
                  "text": "População X Matrículas Infantil"
                },
                "width": 800,
                "xaxis": {
                  "anchor": "y",
                  "domain": [
                    0,
                    1
                  ],
                  "title": {
                    "text": "População 2022"
                  },
                  "type": "log"
                },
                "yaxis": {
                  "anchor": "x",
                  "domain": [
                    0,
                    1
                  ],
                  "title": {
                    "text": "Matrículas Infantil"
                  }
                }
              }
            },
            "text/html": [
              "<div>                            <div id=\"9f5cdeb3-9af7-4a0d-9add-96ab79afc522\" class=\"plotly-graph-div\" style=\"height:525px; width:800px;\"></div>            <script type=\"text/javascript\">                require([\"plotly\"], function(Plotly) {                    window.PLOTLYENV=window.PLOTLYENV || {};                                    if (document.getElementById(\"9f5cdeb3-9af7-4a0d-9add-96ab79afc522\")) {                    Plotly.newPlot(                        \"9f5cdeb3-9af7-4a0d-9add-96ab79afc522\",                        [{\"hovertemplate\":\"\\u003cb\\u003e%{hovertext}\\u003c\\u002fb\\u003e\\u003cbr\\u003e\\u003cbr\\u003ePOP_Censo_2022=%{x}\\u003cbr\\u003eQT_MAT_INF_22=%{y}\\u003cextra\\u003e\\u003c\\u002fextra\\u003e\",\"hovertext\":[\"Aba\\u00edra\",\"Abar\\u00e9\",\"Acajutiba\",\"Adustina\",\"\\u00c1gua Fria\",\"Aiquara\",\"Alagoinhas\",\"Alcoba\\u00e7a\",\"Almadina\",\"Amargosa\",\"Am\\u00e9lia Rodrigues\",\"Am\\u00e9rica Dourada\",\"Anag\\u00e9\",\"Andara\\u00ed\",\"Andorinha\",\"Angical\",\"Anguera\",\"Antas\",\"Ant\\u00f4nio Cardoso\",\"Ant\\u00f4nio Gon\\u00e7alves\",\"Apor\\u00e1\",\"Apuarema\",\"Ara\\u00e7\\u00e1s\",\"Aracatu\",\"Araci\",\"Aramari\",\"Arataca\",\"Aratu\\u00edpe\",\"Aurelino Leal\",\"Baian\\u00f3polis\",\"Baixa Grande\",\"Banza\\u00ea\",\"Barra\",\"Barra da Estiva\",\"Barra do Cho\\u00e7a\",\"Barra do Mendes\",\"Barra do Rocha\",\"Barreiras\",\"Barro Alto\",\"Barro Preto\",\"Barrocas\",\"Belmonte\",\"Belo Campo\",\"Biritinga\",\"Boa Nova\",\"Boa Vista do Tupim\",\"Bom Jesus da Lapa\",\"Bom Jesus da Serra\",\"Boninal\",\"Bonito\",\"Boquira\",\"Botupor\\u00e3\",\"Brej\\u00f5es\",\"Brejol\\u00e2ndia\",\"Brotas de Maca\\u00fabas\",\"Brumado\",\"Buerarema\",\"Buritirama\",\"Caatiba\",\"Cabaceiras do Paragua\\u00e7u\",\"Cachoeira\",\"Cacul\\u00e9\",\"Ca\\u00e9m\",\"Caetanos\",\"Caetit\\u00e9\",\"Cafarnaum\",\"Cairu\",\"Caldeir\\u00e3o Grande\",\"Camacan\",\"Cama\\u00e7ari\",\"Camamu\",\"Campo Alegre de Lourdes\",\"Campo Formoso\",\"Can\\u00e1polis\",\"Canarana\",\"Canavieiras\",\"Candeal\",\"Candeias\",\"Candiba\",\"C\\u00e2ndido Sales\",\"Cansan\\u00e7\\u00e3o\",\"Canudos\",\"Capela do Alto Alegre\",\"Capim Grosso\",\"Cara\\u00edbas\",\"Caravelas\",\"Cardeal da Silva\",\"Carinhanha\",\"Casa Nova\",\"Castro Alves\",\"Catol\\u00e2ndia\",\"Catu\",\"Caturama\",\"Central\",\"Chorroch\\u00f3\",\"C\\u00edcero Dantas\",\"Cip\\u00f3\",\"Coaraci\",\"Cocos\",\"Concei\\u00e7\\u00e3o da Feira\",\"Concei\\u00e7\\u00e3o do Almeida\",\"Concei\\u00e7\\u00e3o do Coit\\u00e9\",\"Concei\\u00e7\\u00e3o do Jacu\\u00edpe\",\"Conde\",\"Conde\\u00faba\",\"Contendas do Sincor\\u00e1\",\"Cora\\u00e7\\u00e3o de Maria\",\"Cordeiros\",\"Coribe\",\"Coronel Jo\\u00e3o S\\u00e1\",\"Correntina\",\"Cotegipe\",\"Cravol\\u00e2ndia\",\"Cris\\u00f3polis\",\"Crist\\u00f3polis\",\"Cruz das Almas\",\"Cura\\u00e7\\u00e1\",\"D\\u00e1rio Meira\",\"Dias d'\\u00c1vila\",\"Dom Bas\\u00edlio\",\"Dom Macedo Costa\",\"El\\u00edsio Medrado\",\"Encruzilhada\",\"Entre Rios\",\"\\u00c9rico Cardoso\",\"Esplanada\",\"Euclides da Cunha\",\"Eun\\u00e1polis\",\"F\\u00e1tima\",\"Feira da Mata\",\"Feira de Santana\",\"Filad\\u00e9lfia\",\"Firmino Alves\",\"Floresta Azul\",\"Formosa do Rio Preto\",\"Gandu\",\"Gavi\\u00e3o\",\"Gentio do Ouro\",\"Gl\\u00f3ria\",\"Gongogi\",\"Governador Mangabeira\",\"Guajeru\",\"Guanambi\",\"Guaratinga\",\"Heli\\u00f3polis\",\"Ia\\u00e7u\",\"Ibiassuc\\u00ea\",\"Ibicara\\u00ed\",\"Ibicoara\",\"Ibicu\\u00ed\",\"Ibipeba\",\"Ibipitanga\",\"Ibiquera\",\"Ibirapitanga\",\"Ibirapu\\u00e3\",\"Ibirataia\",\"Ibitiara\",\"Ibitit\\u00e1\",\"Ibotirama\",\"Ichu\",\"Igapor\\u00e3\",\"Igrapi\\u00fana\",\"Igua\\u00ed\",\"Ilh\\u00e9us\",\"Inhambupe\",\"Ipecaet\\u00e1\",\"Ipia\\u00fa\",\"Ipir\\u00e1\",\"Ipupiara\",\"Irajuba\",\"Iramaia\",\"Iraquara\",\"Irar\\u00e1\",\"Irec\\u00ea\",\"Itabela\",\"Itaberaba\",\"Itabuna\",\"Itacar\\u00e9\",\"Itaet\\u00e9\",\"Itagi\",\"Itagib\\u00e1\",\"Itagimirim\",\"Itagua\\u00e7u da Bahia\",\"Itaju do Col\\u00f4nia\",\"Itaju\\u00edpe\",\"Itamaraju\",\"Itamari\",\"Itamb\\u00e9\",\"Itanagra\",\"Itanh\\u00e9m\",\"Itaparica\",\"Itap\\u00e9\",\"Itapebi\",\"Itapetinga\",\"Itapicuru\",\"Itapitanga\",\"Itaquara\",\"Itarantim\",\"Itatim\",\"Itiru\\u00e7u\",\"Iti\\u00faba\",\"Itoror\\u00f3\",\"Itua\\u00e7u\",\"Ituber\\u00e1\",\"Iuiu\",\"Jaborandi\",\"Jacaraci\",\"Jacobina\",\"Jaguaquara\",\"Jaguarari\",\"Jaguaripe\",\"Janda\\u00edra\",\"Jequi\\u00e9\",\"Jeremoabo\",\"Jiquiri\\u00e7\\u00e1\",\"Jita\\u00fana\",\"Jo\\u00e3o Dourado\",\"Juazeiro\",\"Jucuru\\u00e7u\",\"Jussara\",\"Jussari\",\"Jussiape\",\"Lafaiete Coutinho\",\"Lagoa Real\",\"Laje\",\"Lajed\\u00e3o\",\"Lajedinho\",\"Lajedo do Tabocal\",\"Lamar\\u00e3o\",\"Lap\\u00e3o\",\"Lauro de Freitas\",\"Len\\u00e7\\u00f3is\",\"Lic\\u00ednio de Almeida\",\"Livramento de Nossa Senhora\",\"Lu\\u00eds Eduardo Magalh\\u00e3es\",\"Macajuba\",\"Macarani\",\"Maca\\u00fabas\",\"Macurur\\u00e9\",\"Madre de Deus\",\"Maetinga\",\"Maiquinique\",\"Mairi\",\"Malhada\",\"Malhada de Pedras\",\"Manoel Vitorino\",\"Mansid\\u00e3o\",\"Marac\\u00e1s\",\"Maragogipe\",\"Mara\\u00fa\",\"Marcion\\u00edlio Souza\",\"Mascote\",\"Mata de S\\u00e3o Jo\\u00e3o\",\"Matina\",\"Medeiros Neto\",\"Miguel Calmon\",\"Milagres\",\"Mirangaba\",\"Mirante\",\"Monte Santo\",\"Morpar\\u00e1\",\"Morro do Chap\\u00e9u\",\"Mortugaba\",\"Mucug\\u00ea\",\"Mucuri\",\"Mulungu do Morro\",\"Mundo Novo\",\"Muniz Ferreira\",\"Muqu\\u00e9m do S\\u00e3o Francisco\",\"Muritiba\",\"Mutu\\u00edpe\",\"Nazar\\u00e9\",\"Nilo Pe\\u00e7anha\",\"Nordestina\",\"Nova Cana\\u00e3\",\"Nova F\\u00e1tima\",\"Nova Ibi\\u00e1\",\"Nova Itarana\",\"Nova Reden\\u00e7\\u00e3o\",\"Nova Soure\",\"Nova Vi\\u00e7osa\",\"Novo Horizonte\",\"Novo Triunfo\",\"Olindina\",\"Oliveira dos Brejinhos\",\"Ouri\\u00e7angas\",\"Ourol\\u00e2ndia\",\"Palmas de Monte Alto\",\"Palmeiras\",\"Paramirim\",\"Paratinga\",\"Paripiranga\",\"Pau Brasil\",\"Paulo Afonso\",\"P\\u00e9 de Serra\",\"Pedr\\u00e3o\",\"Pedro Alexandre\",\"Piat\\u00e3\",\"Pil\\u00e3o Arcado\",\"Pinda\\u00ed\",\"Pindoba\\u00e7u\",\"Pintadas\",\"Pira\\u00ed do Norte\",\"Pirip\\u00e1\",\"Piritiba\",\"Planaltino\",\"Planalto\",\"Po\\u00e7\\u00f5es\",\"Pojuca\",\"Ponto Novo\",\"Porto Seguro\",\"Potiragu\\u00e1\",\"Prado\",\"Presidente Dutra\",\"Presidente J\\u00e2nio Quadros\",\"Presidente Tancredo Neves\",\"Queimadas\",\"Quijingue\",\"Quixabeira\",\"Rafael Jambeiro\",\"Remanso\",\"Retirol\\u00e2ndia\",\"Riach\\u00e3o das Neves\",\"Riach\\u00e3o do Jacu\\u00edpe\",\"Riacho de Santana\",\"Ribeira do Amparo\",\"Ribeira do Pombal\",\"Ribeir\\u00e3o do Largo\",\"Rio de Contas\",\"Rio do Ant\\u00f4nio\",\"Rio do Pires\",\"Rio Real\",\"Rodelas\",\"Ruy Barbosa\",\"Salinas da Margarida\",\"Salvador\",\"Santa B\\u00e1rbara\",\"Santa Br\\u00edgida\",\"Santa Cruz Cabr\\u00e1lia\",\"Santa Cruz da Vit\\u00f3ria\",\"Santa In\\u00eas\",\"Santa Luzia\",\"Santa Maria da Vit\\u00f3ria\",\"Santa Rita de C\\u00e1ssia\",\"Santa Terezinha\",\"Santaluz\",\"Santana\",\"Santan\\u00f3polis\",\"Santo Amaro\",\"Santo Ant\\u00f4nio de Jesus\",\"Santo Est\\u00eav\\u00e3o\",\"S\\u00e3o Desid\\u00e9rio\",\"S\\u00e3o Domingos\",\"S\\u00e3o Felipe\",\"S\\u00e3o F\\u00e9lix\",\"S\\u00e3o F\\u00e9lix do Coribe\",\"S\\u00e3o Francisco do Conde\",\"S\\u00e3o Gabriel\",\"S\\u00e3o Gon\\u00e7alo dos Campos\",\"S\\u00e3o Jos\\u00e9 da Vit\\u00f3ria\",\"S\\u00e3o Jos\\u00e9 do Jacu\\u00edpe\",\"S\\u00e3o Miguel das Matas\",\"S\\u00e3o Sebasti\\u00e3o do Pass\\u00e9\",\"Sapea\\u00e7u\",\"S\\u00e1tiro Dias\",\"Saubara\",\"Sa\\u00fade\",\"Seabra\",\"Sebasti\\u00e3o Laranjeiras\",\"Senhor do Bonfim\",\"Sento S\\u00e9\",\"Serra do Ramalho\",\"Serra Dourada\",\"Serra Preta\",\"Serrinha\",\"Serrol\\u00e2ndia\",\"Sim\\u00f5es Filho\",\"S\\u00edtio do Mato\",\"S\\u00edtio do Quinto\",\"Sobradinho\",\"Souto Soares\",\"Tabocas do Brejo Velho\",\"Tanha\\u00e7u\",\"Tanque Novo\",\"Tanquinho\",\"Tapero\\u00e1\",\"Tapiramut\\u00e1\",\"Teixeira de Freitas\",\"Teodoro Sampaio\",\"Teofil\\u00e2ndia\",\"Teol\\u00e2ndia\",\"Terra Nova\",\"Tremedal\",\"Tucano\",\"Uau\\u00e1\",\"Uba\\u00edra\",\"Ubaitaba\",\"Ubat\\u00e3\",\"Uiba\\u00ed\",\"Umburanas\",\"Una\",\"Urandi\",\"Uru\\u00e7uca\",\"Utinga\",\"Valen\\u00e7a\",\"Valente\",\"V\\u00e1rzea da Ro\\u00e7a\",\"V\\u00e1rzea do Po\\u00e7o\",\"V\\u00e1rzea Nova\",\"Varzedo\",\"Vera Cruz\",\"Vereda\",\"Vit\\u00f3ria da Conquista\",\"Wagner\",\"Wanderley\",\"Wenceslau Guimar\\u00e3es\",\"Xique-Xique\"],\"legendgroup\":\"\",\"marker\":{\"color\":\"#636efa\",\"symbol\":\"circle\",\"line\":{\"width\":2},\"size\":12},\"mode\":\"markers\",\"name\":\"\",\"orientation\":\"v\",\"showlegend\":false,\"x\":[\" 7.290 \",\" 18.766 \",\" 13.715 \",\" 14.166 \",\" 17.398 \",\" 4.566 \",\" 157.864 \",\" 23.633 \",\" 5.195 \",\" 36.260 \",\" 23.639 \",\" 15.104 \",\" 25.452 \",\" 13.406 \",\" 15.011 \",\" 14.973 \",\" 11.019 \",\" 14.453 \",\" 11.268 \",\" 11.921 \",\" 16.909 \",\" 6.900 \",\" 12.605 \",\" 13.819 \",\" 51.377 \",\" 9.781 \",\" 8.219 \",\" 10.006 \",\" 11.782 \",\" 13.618 \",\" 17.880 \",\" 11.869 \",\" 50.543 \",\" 26.031 \",\" 40.025 \",\" 13.852 \",\" 6.682 \",\" 165.413 \",\" 13.761 \",\" 5.820 \",\" 15.396 \",\" 20.565 \",\" 18.399 \",\" 15.151 \",\" 14.160 \",\" 19.320 \",\" 74.040 \",\" 9.572 \",\" 13.653 \",\" 15.837 \",\" 20.588 \",\" 11.040 \",\" 12.914 \",\" 9.114 \",\" 12.467 \",\" 70.268 \",\" 16.880 \",\" 19.514 \",\" 6.915 \",\" 19.432 \",\" 31.982 \",\" 22.412 \",\" 10.360 \",\" 13.242 \",\" 52.099 \",\" 17.975 \",\" 17.591 \",\" 13.063 \",\" 22.460 \",\" 334.195 \",\" 30.480 \",\" 30.659 \",\" 68.571 \",\" 10.225 \",\" 23.491 \",\" 33.080 \",\" 7.785 \",\" 77.026 \",\" 13.007 \",\" 25.278 \",\" 39.475 \",\" 15.906 \",\" 10.754 \",\" 33.344 \",\" 9.938 \",\" 21.612 \",\" 8.376 \",\" 28.869 \",\" 71.572 \",\" 24.700 \",\" 3.480 \",\" 48.137 \",\" 8.847 \",\" 16.223 \",\" 10.587 \",\" 30.836 \",\" 17.246 \",\" 17.949 \",\" 19.156 \",\" 22.936 \",\" 15.401 \",\" 70.202 \",\" 34.994 \",\" 24.433 \",\" 17.059 \",\" 4.750 \",\" 28.340 \",\" 7.555 \",\" 14.158 \",\"17.000(26)\",\" 32.709 \",\" 13.059 \",\" 4.445 \",\" 19.720 \",\" 14.002 \",\" 60.633 \",\" 33.603 \",\" 10.025 \",\" 69.211 \",\" 11.905 \",\" 4.418 \",\" 7.782 \",\" 19.111 \",\" 38.880 \",\" 10.581 \",\" 34.033 \",\" 65.187 \",\" 112.477 \",\" 17.899 \",\" 5.618 \",\" 652.592 \",\" 17.892 \",\" 5.925 \",\" 11.068 \",\" 25.185 \",\" 29.776 \",\" 4.357 \",\" 11.896 \",\" 16.698 \",\" 5.549 \",\" 20.604 \",\" 8.054 \",\" 87.580 \",\" 20.338 \",\" 12.301 \",\" 25.178 \",\"10.426(27)\",\" 21.688 \",\" 20.874 \",\" 13.791 \",\" 18.540 \",\" 13.905 \",\" 3.722 \",\" 27.341 \",\" 8.331 \",\" 19.613 \",\" 14.622 \",\" 17.954 \",\" 26.611 \",\" 6.192 \",\" 17.022 \",\" 13.077 \",\" 25.114 \",\" 197.163 \",\" 33.771 \",\" 16.230 \",\" 43.078 \",\" 58.094 \",\" 9.925 \",\" 6.100 \",\" 10.755 \",\" 25.590 \",\" 27.984 \",\" 76.491 \",\" 27.691 \",\" 67.605 \",\" 185.500 \",\" 28.214 \",\" 14.031 \",\" 13.925 \",\" 15.556 \",\" 7.037 \",\" 13.116 \",\" 6.033 \",\" 19.913 \",\" 60.831 \",\" 7.050 \",\" 26.420 \",\" 5.814 \",\" 19.025 \",\" 19.738 \",\" 10.327 \",\" 9.779 \",\" 68.704 \",\" 32.793 \",\" 10.320 \",\" 8.175 \",\" 17.035 \",\" 15.749 \",\" 11.016 \",\" 33.671 \",\" 17.729 \",\" 18.992 \",\" 21.974 \",\" 11.101 \",\" 9.269 \",\" 14.625 \",\" 88.296 \",\" 46.026 \",\" 32.495 \",\" 20.237 \",\" 9.112 \",\" 156.408 \",\" 37.519 \",\" 13.623 \",\" 14.614 \",\" 26.186 \",\" 244.406 \",\" 9.971 \",\" 16.922 \",\" 5.902 \",\" 7.381 \",\" 4.044 \",\" 13.990 \",\" 23.198 \",\" 4.550 \",\" 4.102 \",\" 7.486 \",\" 9.062 \",\" 25.713 \",\" 220.437 \",\" 11.022 \",\" 11.848 \",\" 43.898 \",\" 108.271 \",\" 10.463 \",\" 21.556 \",\" 41.631 \",\" 7.600 \",\" 18.767 \",\" 6.968 \",\" 9.452 \",\" 16.122 \",\" 15.426 \",\" 8.673 \",\" 13.327 \",\" 13.902 \",\" 27.747 \",\" 38.394 \",\" 24.713 \",\" 9.256 \",\" 11.991 \",\" 48.698 \",\" 10.338 \",\" 23.096 \",\" 27.817 \",\" 11.076 \",\" 15.050 \",\" 10.072 \",\" 47.758 \",\" 8.303 \",\" 33.389 \",\" 11.131 \",\" 12.988 \",\" 38.082 \",\" 13.166 \",\" 20.564 \",\" 7.165 \",\" 11.029 \",\" 28.558 \",\" 20.028 \",\" 28.181 \",\" 12.032 \",\" 18.536 \",\" 15.959 \",\" 7.958 \",\" 8.325 \",\" 7.820 \",\" 7.525 \",\" 24.206 \",\" 41.089 \",\" 11.163 \",\" 10.666 \",\" 22.615 \",\" 22.850 \",\" 7.728 \",\" 19.322 \",\" 20.091 \",\" 10.383 \",\" 20.378 \",\" 28.947 \",\" 26.609 \",\" 10.669 \",\" 118.412 \",\" 13.242 \",\" 6.229 \",\" 14.056 \",\" 20.098 \",\" 35.326 \",\" 14.740 \",\" 19.133 \",\" 9.805 \",\" 10.200 \",\" 9.158 \",\" 17.549 \",\" 8.012 \",\" 23.290 \",\" 48.197 \",\" 33.079 \",\" 17.941 \",\" 158.736 \",\" 11.524 \",\" 31.715 \",\" 15.133 \",\" 12.627 \",\" 27.662 \",\" 26.027 \",\" 27.317 \",\" 9.429 \",\" 20.242 \",\" 40.531 \",\" 13.654 \",\" 22.289 \",\" 33.422 \",\" 39.127 \",\" 13.831 \",\" 53.997 \",\" 10.382 \",\" 13.634 \",\" 13.098 \",\" 9.585 \",\" 35.378 \",\"10.303(28)\",\" 30.172 \",\" 14.989 \",\" 2.610.987 \",\" 22.446 \",\" 14.979 \",\" 30.385 \",\" 4.672 \",\" 10.293 \",\" 11.776 \",\" 38.686 \",\" 28.084 \",\" 9.790 \",\" 37.079 \",\" 24.778 \",\" 9.831 \",\" 55.935 \",\" 103.055 \",\" 55.696 \",\" 36.793 \",\" 8.417 \",\" 20.286 \",\" 10.946 \",\" 15.704 \",\" 37.892 \",\" 18.417 \",\" 39.570 \",\" 5.321 \",\" 10.195 \",\" 10.334 \",\" 40.376 \",\" 17.993 \",\" 16.021 \",\" 11.433 \",\" 10.482 \",\" 49.587 \",\" 9.373 \",\" 77.514 \",\" 37.389 \",\" 34.270 \",\" 16.691 \",\" 18.090 \",\" 85.696 \",\" 13.320 \",\" 127.093 \",\" 13.408 \",\" 14.778 \",\" 24.799 \",\" 16.904 \",\" 11.990 \",\" 21.407 \",\" 18.459 \",\" 7.729 \",\" 18.016 \",\" 15.884 \",\" 147.454 \",\" 7.220 \",\" 21.811 \",\" 15.892 \",\" 10.802 \",\" 17.497 \",\" 48.062 \",\" 24.654 \",\" 18.605 \",\" 17.626 \",\" 18.161 \",\" 14.844 \",\" 13.511 \",\" 17.998 \",\" 15.365 \",\" 21.365 \",\" 16.285 \",\" 96.226 \",\" 23.683 \",\" 13.043 \",\" 8.115 \",\" 13.369 \",\" 9.913 \",\" 40.915 \",\" 7.072 \",\" 387.524 \",\" 8.861 \",\" 13.071 \",\" 26.279 \",\" 46.328 \"],\"xaxis\":\"x\",\"y\":[226,838,481,501,605,257,3047,891,250,1555,827,945,624,529,656,640,405,765,407,410,680,302,596,620,2494,302,311,412,582,551,622,747,2192,763,1738,510,250,5149,537,480,677,940,649,680,606,576,3142,344,536,765,605,453,680,269,457,2052,404,904,289,847,1054,878,556,397,1416,694,1415,1013,694,4425,1356,916,2913,425,1250,988,276,2412,471,991,1812,821,274,989,388,1072,383,898,2078,1493,150,1369,429,426,679,874,792,698,711,956,464,2004,986,1250,690,219,911,391,608,819,979,525,226,936,452,1675,1683,731,2647,491,202,375,798,1185,317,1149,2398,3006,711,277,10935,675,181,299,636,815,266,474,601,305,851,241,2344,600,494,1226,282,626,969,543,405,467,146,1056,441,638,474,585,1260,309,474,585,769,2994,1454,766,1444,1419,462,248,324,1056,1219,2057,661,2455,3711,1255,632,478,507,343,440,312,615,2187,261,852,342,481,999,398,386,2164,1312,173,314,592,905,364,1777,545,813,827,536,303,512,2095,1701,1116,779,531,3751,1758,577,512,1221,10236,421,483,370,268,249,388,1012,218,160,407,274,1612,4974,393,486,1132,4506,568,692,1722,425,525,248,371,501,482,353,405,407,1213,1477,955,455,529,2536,436,798,941,441,713,314,2362,319,1238,444,384,1571,626,651,312,669,1327,848,1314,621,604,691,250,319,436,335,726,1747,439,446,701,639,353,724,662,340,504,1294,886,425,2582,482,270,794,845,1268,573,1108,300,333,379,651,331,673,1475,889,849,5684,443,1559,587,581,835,887,1290,523,829,1733,638,739,777,931,722,2035,464,471,427,258,1494,536,1087,989,26300,637,513,1511,301,449,569,1319,1095,455,1455,747,365,2354,2621,1849,1208,319,900,360,749,1936,678,826,215,536,327,1187,883,944,523,314,1583,342,1882,1539,1773,494,484,3962,654,4411,529,410,888,699,378,718,714,201,694,535,3607,261,1128,908,467,455,2478,1165,913,760,709,404,483,746,568,796,509,3570,979,501,377,489,290,1845,236,8537,332,654,1125,2842],\"yaxis\":\"y\",\"type\":\"scatter\"}],                        {\"template\":{\"data\":{\"histogram2dcontour\":[{\"type\":\"histogram2dcontour\",\"colorbar\":{\"outlinewidth\":0,\"ticks\":\"\"},\"colorscale\":[[0.0,\"#0d0887\"],[0.1111111111111111,\"#46039f\"],[0.2222222222222222,\"#7201a8\"],[0.3333333333333333,\"#9c179e\"],[0.4444444444444444,\"#bd3786\"],[0.5555555555555556,\"#d8576b\"],[0.6666666666666666,\"#ed7953\"],[0.7777777777777778,\"#fb9f3a\"],[0.8888888888888888,\"#fdca26\"],[1.0,\"#f0f921\"]]}],\"choropleth\":[{\"type\":\"choropleth\",\"colorbar\":{\"outlinewidth\":0,\"ticks\":\"\"}}],\"histogram2d\":[{\"type\":\"histogram2d\",\"colorbar\":{\"outlinewidth\":0,\"ticks\":\"\"},\"colorscale\":[[0.0,\"#0d0887\"],[0.1111111111111111,\"#46039f\"],[0.2222222222222222,\"#7201a8\"],[0.3333333333333333,\"#9c179e\"],[0.4444444444444444,\"#bd3786\"],[0.5555555555555556,\"#d8576b\"],[0.6666666666666666,\"#ed7953\"],[0.7777777777777778,\"#fb9f3a\"],[0.8888888888888888,\"#fdca26\"],[1.0,\"#f0f921\"]]}],\"heatmap\":[{\"type\":\"heatmap\",\"colorbar\":{\"outlinewidth\":0,\"ticks\":\"\"},\"colorscale\":[[0.0,\"#0d0887\"],[0.1111111111111111,\"#46039f\"],[0.2222222222222222,\"#7201a8\"],[0.3333333333333333,\"#9c179e\"],[0.4444444444444444,\"#bd3786\"],[0.5555555555555556,\"#d8576b\"],[0.6666666666666666,\"#ed7953\"],[0.7777777777777778,\"#fb9f3a\"],[0.8888888888888888,\"#fdca26\"],[1.0,\"#f0f921\"]]}],\"heatmapgl\":[{\"type\":\"heatmapgl\",\"colorbar\":{\"outlinewidth\":0,\"ticks\":\"\"},\"colorscale\":[[0.0,\"#0d0887\"],[0.1111111111111111,\"#46039f\"],[0.2222222222222222,\"#7201a8\"],[0.3333333333333333,\"#9c179e\"],[0.4444444444444444,\"#bd3786\"],[0.5555555555555556,\"#d8576b\"],[0.6666666666666666,\"#ed7953\"],[0.7777777777777778,\"#fb9f3a\"],[0.8888888888888888,\"#fdca26\"],[1.0,\"#f0f921\"]]}],\"contourcarpet\":[{\"type\":\"contourcarpet\",\"colorbar\":{\"outlinewidth\":0,\"ticks\":\"\"}}],\"contour\":[{\"type\":\"contour\",\"colorbar\":{\"outlinewidth\":0,\"ticks\":\"\"},\"colorscale\":[[0.0,\"#0d0887\"],[0.1111111111111111,\"#46039f\"],[0.2222222222222222,\"#7201a8\"],[0.3333333333333333,\"#9c179e\"],[0.4444444444444444,\"#bd3786\"],[0.5555555555555556,\"#d8576b\"],[0.6666666666666666,\"#ed7953\"],[0.7777777777777778,\"#fb9f3a\"],[0.8888888888888888,\"#fdca26\"],[1.0,\"#f0f921\"]]}],\"surface\":[{\"type\":\"surface\",\"colorbar\":{\"outlinewidth\":0,\"ticks\":\"\"},\"colorscale\":[[0.0,\"#0d0887\"],[0.1111111111111111,\"#46039f\"],[0.2222222222222222,\"#7201a8\"],[0.3333333333333333,\"#9c179e\"],[0.4444444444444444,\"#bd3786\"],[0.5555555555555556,\"#d8576b\"],[0.6666666666666666,\"#ed7953\"],[0.7777777777777778,\"#fb9f3a\"],[0.8888888888888888,\"#fdca26\"],[1.0,\"#f0f921\"]]}],\"mesh3d\":[{\"type\":\"mesh3d\",\"colorbar\":{\"outlinewidth\":0,\"ticks\":\"\"}}],\"scatter\":[{\"fillpattern\":{\"fillmode\":\"overlay\",\"size\":10,\"solidity\":0.2},\"type\":\"scatter\"}],\"parcoords\":[{\"type\":\"parcoords\",\"line\":{\"colorbar\":{\"outlinewidth\":0,\"ticks\":\"\"}}}],\"scatterpolargl\":[{\"type\":\"scatterpolargl\",\"marker\":{\"colorbar\":{\"outlinewidth\":0,\"ticks\":\"\"}}}],\"bar\":[{\"error_x\":{\"color\":\"#2a3f5f\"},\"error_y\":{\"color\":\"#2a3f5f\"},\"marker\":{\"line\":{\"color\":\"#E5ECF6\",\"width\":0.5},\"pattern\":{\"fillmode\":\"overlay\",\"size\":10,\"solidity\":0.2}},\"type\":\"bar\"}],\"scattergeo\":[{\"type\":\"scattergeo\",\"marker\":{\"colorbar\":{\"outlinewidth\":0,\"ticks\":\"\"}}}],\"scatterpolar\":[{\"type\":\"scatterpolar\",\"marker\":{\"colorbar\":{\"outlinewidth\":0,\"ticks\":\"\"}}}],\"histogram\":[{\"marker\":{\"pattern\":{\"fillmode\":\"overlay\",\"size\":10,\"solidity\":0.2}},\"type\":\"histogram\"}],\"scattergl\":[{\"type\":\"scattergl\",\"marker\":{\"colorbar\":{\"outlinewidth\":0,\"ticks\":\"\"}}}],\"scatter3d\":[{\"type\":\"scatter3d\",\"line\":{\"colorbar\":{\"outlinewidth\":0,\"ticks\":\"\"}},\"marker\":{\"colorbar\":{\"outlinewidth\":0,\"ticks\":\"\"}}}],\"scattermapbox\":[{\"type\":\"scattermapbox\",\"marker\":{\"colorbar\":{\"outlinewidth\":0,\"ticks\":\"\"}}}],\"scatterternary\":[{\"type\":\"scatterternary\",\"marker\":{\"colorbar\":{\"outlinewidth\":0,\"ticks\":\"\"}}}],\"scattercarpet\":[{\"type\":\"scattercarpet\",\"marker\":{\"colorbar\":{\"outlinewidth\":0,\"ticks\":\"\"}}}],\"carpet\":[{\"aaxis\":{\"endlinecolor\":\"#2a3f5f\",\"gridcolor\":\"white\",\"linecolor\":\"white\",\"minorgridcolor\":\"white\",\"startlinecolor\":\"#2a3f5f\"},\"baxis\":{\"endlinecolor\":\"#2a3f5f\",\"gridcolor\":\"white\",\"linecolor\":\"white\",\"minorgridcolor\":\"white\",\"startlinecolor\":\"#2a3f5f\"},\"type\":\"carpet\"}],\"table\":[{\"cells\":{\"fill\":{\"color\":\"#EBF0F8\"},\"line\":{\"color\":\"white\"}},\"header\":{\"fill\":{\"color\":\"#C8D4E3\"},\"line\":{\"color\":\"white\"}},\"type\":\"table\"}],\"barpolar\":[{\"marker\":{\"line\":{\"color\":\"#E5ECF6\",\"width\":0.5},\"pattern\":{\"fillmode\":\"overlay\",\"size\":10,\"solidity\":0.2}},\"type\":\"barpolar\"}],\"pie\":[{\"automargin\":true,\"type\":\"pie\"}]},\"layout\":{\"autotypenumbers\":\"strict\",\"colorway\":[\"#636efa\",\"#EF553B\",\"#00cc96\",\"#ab63fa\",\"#FFA15A\",\"#19d3f3\",\"#FF6692\",\"#B6E880\",\"#FF97FF\",\"#FECB52\"],\"font\":{\"color\":\"#2a3f5f\"},\"hovermode\":\"closest\",\"hoverlabel\":{\"align\":\"left\"},\"paper_bgcolor\":\"white\",\"plot_bgcolor\":\"#E5ECF6\",\"polar\":{\"bgcolor\":\"#E5ECF6\",\"angularaxis\":{\"gridcolor\":\"white\",\"linecolor\":\"white\",\"ticks\":\"\"},\"radialaxis\":{\"gridcolor\":\"white\",\"linecolor\":\"white\",\"ticks\":\"\"}},\"ternary\":{\"bgcolor\":\"#E5ECF6\",\"aaxis\":{\"gridcolor\":\"white\",\"linecolor\":\"white\",\"ticks\":\"\"},\"baxis\":{\"gridcolor\":\"white\",\"linecolor\":\"white\",\"ticks\":\"\"},\"caxis\":{\"gridcolor\":\"white\",\"linecolor\":\"white\",\"ticks\":\"\"}},\"coloraxis\":{\"colorbar\":{\"outlinewidth\":0,\"ticks\":\"\"}},\"colorscale\":{\"sequential\":[[0.0,\"#0d0887\"],[0.1111111111111111,\"#46039f\"],[0.2222222222222222,\"#7201a8\"],[0.3333333333333333,\"#9c179e\"],[0.4444444444444444,\"#bd3786\"],[0.5555555555555556,\"#d8576b\"],[0.6666666666666666,\"#ed7953\"],[0.7777777777777778,\"#fb9f3a\"],[0.8888888888888888,\"#fdca26\"],[1.0,\"#f0f921\"]],\"sequentialminus\":[[0.0,\"#0d0887\"],[0.1111111111111111,\"#46039f\"],[0.2222222222222222,\"#7201a8\"],[0.3333333333333333,\"#9c179e\"],[0.4444444444444444,\"#bd3786\"],[0.5555555555555556,\"#d8576b\"],[0.6666666666666666,\"#ed7953\"],[0.7777777777777778,\"#fb9f3a\"],[0.8888888888888888,\"#fdca26\"],[1.0,\"#f0f921\"]],\"diverging\":[[0,\"#8e0152\"],[0.1,\"#c51b7d\"],[0.2,\"#de77ae\"],[0.3,\"#f1b6da\"],[0.4,\"#fde0ef\"],[0.5,\"#f7f7f7\"],[0.6,\"#e6f5d0\"],[0.7,\"#b8e186\"],[0.8,\"#7fbc41\"],[0.9,\"#4d9221\"],[1,\"#276419\"]]},\"xaxis\":{\"gridcolor\":\"white\",\"linecolor\":\"white\",\"ticks\":\"\",\"title\":{\"standoff\":15},\"zerolinecolor\":\"white\",\"automargin\":true,\"zerolinewidth\":2},\"yaxis\":{\"gridcolor\":\"white\",\"linecolor\":\"white\",\"ticks\":\"\",\"title\":{\"standoff\":15},\"zerolinecolor\":\"white\",\"automargin\":true,\"zerolinewidth\":2},\"scene\":{\"xaxis\":{\"backgroundcolor\":\"#E5ECF6\",\"gridcolor\":\"white\",\"linecolor\":\"white\",\"showbackground\":true,\"ticks\":\"\",\"zerolinecolor\":\"white\",\"gridwidth\":2},\"yaxis\":{\"backgroundcolor\":\"#E5ECF6\",\"gridcolor\":\"white\",\"linecolor\":\"white\",\"showbackground\":true,\"ticks\":\"\",\"zerolinecolor\":\"white\",\"gridwidth\":2},\"zaxis\":{\"backgroundcolor\":\"#E5ECF6\",\"gridcolor\":\"white\",\"linecolor\":\"white\",\"showbackground\":true,\"ticks\":\"\",\"zerolinecolor\":\"white\",\"gridwidth\":2}},\"shapedefaults\":{\"line\":{\"color\":\"#2a3f5f\"}},\"annotationdefaults\":{\"arrowcolor\":\"#2a3f5f\",\"arrowhead\":0,\"arrowwidth\":1},\"geo\":{\"bgcolor\":\"white\",\"landcolor\":\"#E5ECF6\",\"subunitcolor\":\"white\",\"showland\":true,\"showlakes\":true,\"lakecolor\":\"white\"},\"title\":{\"x\":0.05},\"mapbox\":{\"style\":\"light\"}}},\"xaxis\":{\"anchor\":\"y\",\"domain\":[0.0,1.0],\"title\":{\"text\":\"Popula\\u00e7\\u00e3o 2022\"},\"type\":\"log\"},\"yaxis\":{\"anchor\":\"x\",\"domain\":[0.0,1.0],\"title\":{\"text\":\"Matr\\u00edculas Infantil\"}},\"legend\":{\"tracegroupgap\":0},\"margin\":{\"t\":60},\"width\":800,\"title\":{\"text\":\"Popula\\u00e7\\u00e3o X Matr\\u00edculas Infantil\"}},                        {\"responsive\": true}                    ).then(function(){\n",
              "                            \n",
              "var gd = document.getElementById('9f5cdeb3-9af7-4a0d-9add-96ab79afc522');\n",
              "var x = new MutationObserver(function (mutations, observer) {{\n",
              "        var display = window.getComputedStyle(gd).display;\n",
              "        if (!display || display === 'none') {{\n",
              "            console.log([gd, 'removed!']);\n",
              "            Plotly.purge(gd);\n",
              "            observer.disconnect();\n",
              "        }}\n",
              "}});\n",
              "\n",
              "// Listen for the removal of the full notebook cells\n",
              "var notebookContainer = gd.closest('#notebook-container');\n",
              "if (notebookContainer) {{\n",
              "    x.observe(notebookContainer, {childList: true});\n",
              "}}\n",
              "\n",
              "// Listen for the clearing of the current output cell\n",
              "var outputEl = gd.closest('.output');\n",
              "if (outputEl) {{\n",
              "    x.observe(outputEl, {childList: true});\n",
              "}}\n",
              "\n",
              "                        })                };                });            </script>        </div>"
            ]
          },
          "metadata": {},
          "output_type": "display_data"
        },
        {
          "data": {
            "application/vnd.plotly.v1+json": {
              "config": {
                "plotlyServerURL": "https://plot.ly"
              },
              "data": [
                {
                  "hovertemplate": "<b>%{hovertext}</b><br><br>POP_Censo_2022=%{x}<br>QT_MAT_FUND_22=%{y}<extra></extra>",
                  "hovertext": [
                    "Abaíra",
                    "Abaré",
                    "Acajutiba",
                    "Adustina",
                    "Água Fria",
                    "Aiquara",
                    "Alagoinhas",
                    "Alcobaça",
                    "Almadina",
                    "Amargosa",
                    "Amélia Rodrigues",
                    "América Dourada",
                    "Anagé",
                    "Andaraí",
                    "Andorinha",
                    "Angical",
                    "Anguera",
                    "Antas",
                    "Antônio Cardoso",
                    "Antônio Gonçalves",
                    "Aporá",
                    "Apuarema",
                    "Araçás",
                    "Aracatu",
                    "Araci",
                    "Aramari",
                    "Arataca",
                    "Aratuípe",
                    "Aurelino Leal",
                    "Baianópolis",
                    "Baixa Grande",
                    "Banzaê",
                    "Barra",
                    "Barra da Estiva",
                    "Barra do Choça",
                    "Barra do Mendes",
                    "Barra do Rocha",
                    "Barreiras",
                    "Barro Alto",
                    "Barro Preto",
                    "Barrocas",
                    "Belmonte",
                    "Belo Campo",
                    "Biritinga",
                    "Boa Nova",
                    "Boa Vista do Tupim",
                    "Bom Jesus da Lapa",
                    "Bom Jesus da Serra",
                    "Boninal",
                    "Bonito",
                    "Boquira",
                    "Botuporã",
                    "Brejões",
                    "Brejolândia",
                    "Brotas de Macaúbas",
                    "Brumado",
                    "Buerarema",
                    "Buritirama",
                    "Caatiba",
                    "Cabaceiras do Paraguaçu",
                    "Cachoeira",
                    "Caculé",
                    "Caém",
                    "Caetanos",
                    "Caetité",
                    "Cafarnaum",
                    "Cairu",
                    "Caldeirão Grande",
                    "Camacan",
                    "Camaçari",
                    "Camamu",
                    "Campo Alegre de Lourdes",
                    "Campo Formoso",
                    "Canápolis",
                    "Canarana",
                    "Canavieiras",
                    "Candeal",
                    "Candeias",
                    "Candiba",
                    "Cândido Sales",
                    "Cansanção",
                    "Canudos",
                    "Capela do Alto Alegre",
                    "Capim Grosso",
                    "Caraíbas",
                    "Caravelas",
                    "Cardeal da Silva",
                    "Carinhanha",
                    "Casa Nova",
                    "Castro Alves",
                    "Catolândia",
                    "Catu",
                    "Caturama",
                    "Central",
                    "Chorrochó",
                    "Cícero Dantas",
                    "Cipó",
                    "Coaraci",
                    "Cocos",
                    "Conceição da Feira",
                    "Conceição do Almeida",
                    "Conceição do Coité",
                    "Conceição do Jacuípe",
                    "Conde",
                    "Condeúba",
                    "Contendas do Sincorá",
                    "Coração de Maria",
                    "Cordeiros",
                    "Coribe",
                    "Coronel João Sá",
                    "Correntina",
                    "Cotegipe",
                    "Cravolândia",
                    "Crisópolis",
                    "Cristópolis",
                    "Cruz das Almas",
                    "Curaçá",
                    "Dário Meira",
                    "Dias d'Ávila",
                    "Dom Basílio",
                    "Dom Macedo Costa",
                    "Elísio Medrado",
                    "Encruzilhada",
                    "Entre Rios",
                    "Érico Cardoso",
                    "Esplanada",
                    "Euclides da Cunha",
                    "Eunápolis",
                    "Fátima",
                    "Feira da Mata",
                    "Feira de Santana",
                    "Filadélfia",
                    "Firmino Alves",
                    "Floresta Azul",
                    "Formosa do Rio Preto",
                    "Gandu",
                    "Gavião",
                    "Gentio do Ouro",
                    "Glória",
                    "Gongogi",
                    "Governador Mangabeira",
                    "Guajeru",
                    "Guanambi",
                    "Guaratinga",
                    "Heliópolis",
                    "Iaçu",
                    "Ibiassucê",
                    "Ibicaraí",
                    "Ibicoara",
                    "Ibicuí",
                    "Ibipeba",
                    "Ibipitanga",
                    "Ibiquera",
                    "Ibirapitanga",
                    "Ibirapuã",
                    "Ibirataia",
                    "Ibitiara",
                    "Ibititá",
                    "Ibotirama",
                    "Ichu",
                    "Igaporã",
                    "Igrapiúna",
                    "Iguaí",
                    "Ilhéus",
                    "Inhambupe",
                    "Ipecaetá",
                    "Ipiaú",
                    "Ipirá",
                    "Ipupiara",
                    "Irajuba",
                    "Iramaia",
                    "Iraquara",
                    "Irará",
                    "Irecê",
                    "Itabela",
                    "Itaberaba",
                    "Itabuna",
                    "Itacaré",
                    "Itaeté",
                    "Itagi",
                    "Itagibá",
                    "Itagimirim",
                    "Itaguaçu da Bahia",
                    "Itaju do Colônia",
                    "Itajuípe",
                    "Itamaraju",
                    "Itamari",
                    "Itambé",
                    "Itanagra",
                    "Itanhém",
                    "Itaparica",
                    "Itapé",
                    "Itapebi",
                    "Itapetinga",
                    "Itapicuru",
                    "Itapitanga",
                    "Itaquara",
                    "Itarantim",
                    "Itatim",
                    "Itiruçu",
                    "Itiúba",
                    "Itororó",
                    "Ituaçu",
                    "Ituberá",
                    "Iuiu",
                    "Jaborandi",
                    "Jacaraci",
                    "Jacobina",
                    "Jaguaquara",
                    "Jaguarari",
                    "Jaguaripe",
                    "Jandaíra",
                    "Jequié",
                    "Jeremoabo",
                    "Jiquiriçá",
                    "Jitaúna",
                    "João Dourado",
                    "Juazeiro",
                    "Jucuruçu",
                    "Jussara",
                    "Jussari",
                    "Jussiape",
                    "Lafaiete Coutinho",
                    "Lagoa Real",
                    "Laje",
                    "Lajedão",
                    "Lajedinho",
                    "Lajedo do Tabocal",
                    "Lamarão",
                    "Lapão",
                    "Lauro de Freitas",
                    "Lençóis",
                    "Licínio de Almeida",
                    "Livramento de Nossa Senhora",
                    "Luís Eduardo Magalhães",
                    "Macajuba",
                    "Macarani",
                    "Macaúbas",
                    "Macururé",
                    "Madre de Deus",
                    "Maetinga",
                    "Maiquinique",
                    "Mairi",
                    "Malhada",
                    "Malhada de Pedras",
                    "Manoel Vitorino",
                    "Mansidão",
                    "Maracás",
                    "Maragogipe",
                    "Maraú",
                    "Marcionílio Souza",
                    "Mascote",
                    "Mata de São João",
                    "Matina",
                    "Medeiros Neto",
                    "Miguel Calmon",
                    "Milagres",
                    "Mirangaba",
                    "Mirante",
                    "Monte Santo",
                    "Morpará",
                    "Morro do Chapéu",
                    "Mortugaba",
                    "Mucugê",
                    "Mucuri",
                    "Mulungu do Morro",
                    "Mundo Novo",
                    "Muniz Ferreira",
                    "Muquém do São Francisco",
                    "Muritiba",
                    "Mutuípe",
                    "Nazaré",
                    "Nilo Peçanha",
                    "Nordestina",
                    "Nova Canaã",
                    "Nova Fátima",
                    "Nova Ibiá",
                    "Nova Itarana",
                    "Nova Redenção",
                    "Nova Soure",
                    "Nova Viçosa",
                    "Novo Horizonte",
                    "Novo Triunfo",
                    "Olindina",
                    "Oliveira dos Brejinhos",
                    "Ouriçangas",
                    "Ourolândia",
                    "Palmas de Monte Alto",
                    "Palmeiras",
                    "Paramirim",
                    "Paratinga",
                    "Paripiranga",
                    "Pau Brasil",
                    "Paulo Afonso",
                    "Pé de Serra",
                    "Pedrão",
                    "Pedro Alexandre",
                    "Piatã",
                    "Pilão Arcado",
                    "Pindaí",
                    "Pindobaçu",
                    "Pintadas",
                    "Piraí do Norte",
                    "Piripá",
                    "Piritiba",
                    "Planaltino",
                    "Planalto",
                    "Poções",
                    "Pojuca",
                    "Ponto Novo",
                    "Porto Seguro",
                    "Potiraguá",
                    "Prado",
                    "Presidente Dutra",
                    "Presidente Jânio Quadros",
                    "Presidente Tancredo Neves",
                    "Queimadas",
                    "Quijingue",
                    "Quixabeira",
                    "Rafael Jambeiro",
                    "Remanso",
                    "Retirolândia",
                    "Riachão das Neves",
                    "Riachão do Jacuípe",
                    "Riacho de Santana",
                    "Ribeira do Amparo",
                    "Ribeira do Pombal",
                    "Ribeirão do Largo",
                    "Rio de Contas",
                    "Rio do Antônio",
                    "Rio do Pires",
                    "Rio Real",
                    "Rodelas",
                    "Ruy Barbosa",
                    "Salinas da Margarida",
                    "Salvador",
                    "Santa Bárbara",
                    "Santa Brígida",
                    "Santa Cruz Cabrália",
                    "Santa Cruz da Vitória",
                    "Santa Inês",
                    "Santa Luzia",
                    "Santa Maria da Vitória",
                    "Santa Rita de Cássia",
                    "Santa Terezinha",
                    "Santaluz",
                    "Santana",
                    "Santanópolis",
                    "Santo Amaro",
                    "Santo Antônio de Jesus",
                    "Santo Estêvão",
                    "São Desidério",
                    "São Domingos",
                    "São Felipe",
                    "São Félix",
                    "São Félix do Coribe",
                    "São Francisco do Conde",
                    "São Gabriel",
                    "São Gonçalo dos Campos",
                    "São José da Vitória",
                    "São José do Jacuípe",
                    "São Miguel das Matas",
                    "São Sebastião do Passé",
                    "Sapeaçu",
                    "Sátiro Dias",
                    "Saubara",
                    "Saúde",
                    "Seabra",
                    "Sebastião Laranjeiras",
                    "Senhor do Bonfim",
                    "Sento Sé",
                    "Serra do Ramalho",
                    "Serra Dourada",
                    "Serra Preta",
                    "Serrinha",
                    "Serrolândia",
                    "Simões Filho",
                    "Sítio do Mato",
                    "Sítio do Quinto",
                    "Sobradinho",
                    "Souto Soares",
                    "Tabocas do Brejo Velho",
                    "Tanhaçu",
                    "Tanque Novo",
                    "Tanquinho",
                    "Taperoá",
                    "Tapiramutá",
                    "Teixeira de Freitas",
                    "Teodoro Sampaio",
                    "Teofilândia",
                    "Teolândia",
                    "Terra Nova",
                    "Tremedal",
                    "Tucano",
                    "Uauá",
                    "Ubaíra",
                    "Ubaitaba",
                    "Ubatã",
                    "Uibaí",
                    "Umburanas",
                    "Una",
                    "Urandi",
                    "Uruçuca",
                    "Utinga",
                    "Valença",
                    "Valente",
                    "Várzea da Roça",
                    "Várzea do Poço",
                    "Várzea Nova",
                    "Varzedo",
                    "Vera Cruz",
                    "Vereda",
                    "Vitória da Conquista",
                    "Wagner",
                    "Wanderley",
                    "Wenceslau Guimarães",
                    "Xique-Xique"
                  ],
                  "legendgroup": "",
                  "marker": {
                    "color": "#636efa",
                    "line": {
                      "width": 2
                    },
                    "size": 12,
                    "symbol": "circle"
                  },
                  "mode": "markers",
                  "name": "",
                  "orientation": "v",
                  "showlegend": false,
                  "type": "scatter",
                  "x": [
                    " 7.290 ",
                    " 18.766 ",
                    " 13.715 ",
                    " 14.166 ",
                    " 17.398 ",
                    " 4.566 ",
                    " 157.864 ",
                    " 23.633 ",
                    " 5.195 ",
                    " 36.260 ",
                    " 23.639 ",
                    " 15.104 ",
                    " 25.452 ",
                    " 13.406 ",
                    " 15.011 ",
                    " 14.973 ",
                    " 11.019 ",
                    " 14.453 ",
                    " 11.268 ",
                    " 11.921 ",
                    " 16.909 ",
                    " 6.900 ",
                    " 12.605 ",
                    " 13.819 ",
                    " 51.377 ",
                    " 9.781 ",
                    " 8.219 ",
                    " 10.006 ",
                    " 11.782 ",
                    " 13.618 ",
                    " 17.880 ",
                    " 11.869 ",
                    " 50.543 ",
                    " 26.031 ",
                    " 40.025 ",
                    " 13.852 ",
                    " 6.682 ",
                    " 165.413 ",
                    " 13.761 ",
                    " 5.820 ",
                    " 15.396 ",
                    " 20.565 ",
                    " 18.399 ",
                    " 15.151 ",
                    " 14.160 ",
                    " 19.320 ",
                    " 74.040 ",
                    " 9.572 ",
                    " 13.653 ",
                    " 15.837 ",
                    " 20.588 ",
                    " 11.040 ",
                    " 12.914 ",
                    " 9.114 ",
                    " 12.467 ",
                    " 70.268 ",
                    " 16.880 ",
                    " 19.514 ",
                    " 6.915 ",
                    " 19.432 ",
                    " 31.982 ",
                    " 22.412 ",
                    " 10.360 ",
                    " 13.242 ",
                    " 52.099 ",
                    " 17.975 ",
                    " 17.591 ",
                    " 13.063 ",
                    " 22.460 ",
                    " 334.195 ",
                    " 30.480 ",
                    " 30.659 ",
                    " 68.571 ",
                    " 10.225 ",
                    " 23.491 ",
                    " 33.080 ",
                    " 7.785 ",
                    " 77.026 ",
                    " 13.007 ",
                    " 25.278 ",
                    " 39.475 ",
                    " 15.906 ",
                    " 10.754 ",
                    " 33.344 ",
                    " 9.938 ",
                    " 21.612 ",
                    " 8.376 ",
                    " 28.869 ",
                    " 71.572 ",
                    " 24.700 ",
                    " 3.480 ",
                    " 48.137 ",
                    " 8.847 ",
                    " 16.223 ",
                    " 10.587 ",
                    " 30.836 ",
                    " 17.246 ",
                    " 17.949 ",
                    " 19.156 ",
                    " 22.936 ",
                    " 15.401 ",
                    " 70.202 ",
                    " 34.994 ",
                    " 24.433 ",
                    " 17.059 ",
                    " 4.750 ",
                    " 28.340 ",
                    " 7.555 ",
                    " 14.158 ",
                    "17.000(26)",
                    " 32.709 ",
                    " 13.059 ",
                    " 4.445 ",
                    " 19.720 ",
                    " 14.002 ",
                    " 60.633 ",
                    " 33.603 ",
                    " 10.025 ",
                    " 69.211 ",
                    " 11.905 ",
                    " 4.418 ",
                    " 7.782 ",
                    " 19.111 ",
                    " 38.880 ",
                    " 10.581 ",
                    " 34.033 ",
                    " 65.187 ",
                    " 112.477 ",
                    " 17.899 ",
                    " 5.618 ",
                    " 652.592 ",
                    " 17.892 ",
                    " 5.925 ",
                    " 11.068 ",
                    " 25.185 ",
                    " 29.776 ",
                    " 4.357 ",
                    " 11.896 ",
                    " 16.698 ",
                    " 5.549 ",
                    " 20.604 ",
                    " 8.054 ",
                    " 87.580 ",
                    " 20.338 ",
                    " 12.301 ",
                    " 25.178 ",
                    "10.426(27)",
                    " 21.688 ",
                    " 20.874 ",
                    " 13.791 ",
                    " 18.540 ",
                    " 13.905 ",
                    " 3.722 ",
                    " 27.341 ",
                    " 8.331 ",
                    " 19.613 ",
                    " 14.622 ",
                    " 17.954 ",
                    " 26.611 ",
                    " 6.192 ",
                    " 17.022 ",
                    " 13.077 ",
                    " 25.114 ",
                    " 197.163 ",
                    " 33.771 ",
                    " 16.230 ",
                    " 43.078 ",
                    " 58.094 ",
                    " 9.925 ",
                    " 6.100 ",
                    " 10.755 ",
                    " 25.590 ",
                    " 27.984 ",
                    " 76.491 ",
                    " 27.691 ",
                    " 67.605 ",
                    " 185.500 ",
                    " 28.214 ",
                    " 14.031 ",
                    " 13.925 ",
                    " 15.556 ",
                    " 7.037 ",
                    " 13.116 ",
                    " 6.033 ",
                    " 19.913 ",
                    " 60.831 ",
                    " 7.050 ",
                    " 26.420 ",
                    " 5.814 ",
                    " 19.025 ",
                    " 19.738 ",
                    " 10.327 ",
                    " 9.779 ",
                    " 68.704 ",
                    " 32.793 ",
                    " 10.320 ",
                    " 8.175 ",
                    " 17.035 ",
                    " 15.749 ",
                    " 11.016 ",
                    " 33.671 ",
                    " 17.729 ",
                    " 18.992 ",
                    " 21.974 ",
                    " 11.101 ",
                    " 9.269 ",
                    " 14.625 ",
                    " 88.296 ",
                    " 46.026 ",
                    " 32.495 ",
                    " 20.237 ",
                    " 9.112 ",
                    " 156.408 ",
                    " 37.519 ",
                    " 13.623 ",
                    " 14.614 ",
                    " 26.186 ",
                    " 244.406 ",
                    " 9.971 ",
                    " 16.922 ",
                    " 5.902 ",
                    " 7.381 ",
                    " 4.044 ",
                    " 13.990 ",
                    " 23.198 ",
                    " 4.550 ",
                    " 4.102 ",
                    " 7.486 ",
                    " 9.062 ",
                    " 25.713 ",
                    " 220.437 ",
                    " 11.022 ",
                    " 11.848 ",
                    " 43.898 ",
                    " 108.271 ",
                    " 10.463 ",
                    " 21.556 ",
                    " 41.631 ",
                    " 7.600 ",
                    " 18.767 ",
                    " 6.968 ",
                    " 9.452 ",
                    " 16.122 ",
                    " 15.426 ",
                    " 8.673 ",
                    " 13.327 ",
                    " 13.902 ",
                    " 27.747 ",
                    " 38.394 ",
                    " 24.713 ",
                    " 9.256 ",
                    " 11.991 ",
                    " 48.698 ",
                    " 10.338 ",
                    " 23.096 ",
                    " 27.817 ",
                    " 11.076 ",
                    " 15.050 ",
                    " 10.072 ",
                    " 47.758 ",
                    " 8.303 ",
                    " 33.389 ",
                    " 11.131 ",
                    " 12.988 ",
                    " 38.082 ",
                    " 13.166 ",
                    " 20.564 ",
                    " 7.165 ",
                    " 11.029 ",
                    " 28.558 ",
                    " 20.028 ",
                    " 28.181 ",
                    " 12.032 ",
                    " 18.536 ",
                    " 15.959 ",
                    " 7.958 ",
                    " 8.325 ",
                    " 7.820 ",
                    " 7.525 ",
                    " 24.206 ",
                    " 41.089 ",
                    " 11.163 ",
                    " 10.666 ",
                    " 22.615 ",
                    " 22.850 ",
                    " 7.728 ",
                    " 19.322 ",
                    " 20.091 ",
                    " 10.383 ",
                    " 20.378 ",
                    " 28.947 ",
                    " 26.609 ",
                    " 10.669 ",
                    " 118.412 ",
                    " 13.242 ",
                    " 6.229 ",
                    " 14.056 ",
                    " 20.098 ",
                    " 35.326 ",
                    " 14.740 ",
                    " 19.133 ",
                    " 9.805 ",
                    " 10.200 ",
                    " 9.158 ",
                    " 17.549 ",
                    " 8.012 ",
                    " 23.290 ",
                    " 48.197 ",
                    " 33.079 ",
                    " 17.941 ",
                    " 158.736 ",
                    " 11.524 ",
                    " 31.715 ",
                    " 15.133 ",
                    " 12.627 ",
                    " 27.662 ",
                    " 26.027 ",
                    " 27.317 ",
                    " 9.429 ",
                    " 20.242 ",
                    " 40.531 ",
                    " 13.654 ",
                    " 22.289 ",
                    " 33.422 ",
                    " 39.127 ",
                    " 13.831 ",
                    " 53.997 ",
                    " 10.382 ",
                    " 13.634 ",
                    " 13.098 ",
                    " 9.585 ",
                    " 35.378 ",
                    "10.303(28)",
                    " 30.172 ",
                    " 14.989 ",
                    " 2.610.987 ",
                    " 22.446 ",
                    " 14.979 ",
                    " 30.385 ",
                    " 4.672 ",
                    " 10.293 ",
                    " 11.776 ",
                    " 38.686 ",
                    " 28.084 ",
                    " 9.790 ",
                    " 37.079 ",
                    " 24.778 ",
                    " 9.831 ",
                    " 55.935 ",
                    " 103.055 ",
                    " 55.696 ",
                    " 36.793 ",
                    " 8.417 ",
                    " 20.286 ",
                    " 10.946 ",
                    " 15.704 ",
                    " 37.892 ",
                    " 18.417 ",
                    " 39.570 ",
                    " 5.321 ",
                    " 10.195 ",
                    " 10.334 ",
                    " 40.376 ",
                    " 17.993 ",
                    " 16.021 ",
                    " 11.433 ",
                    " 10.482 ",
                    " 49.587 ",
                    " 9.373 ",
                    " 77.514 ",
                    " 37.389 ",
                    " 34.270 ",
                    " 16.691 ",
                    " 18.090 ",
                    " 85.696 ",
                    " 13.320 ",
                    " 127.093 ",
                    " 13.408 ",
                    " 14.778 ",
                    " 24.799 ",
                    " 16.904 ",
                    " 11.990 ",
                    " 21.407 ",
                    " 18.459 ",
                    " 7.729 ",
                    " 18.016 ",
                    " 15.884 ",
                    " 147.454 ",
                    " 7.220 ",
                    " 21.811 ",
                    " 15.892 ",
                    " 10.802 ",
                    " 17.497 ",
                    " 48.062 ",
                    " 24.654 ",
                    " 18.605 ",
                    " 17.626 ",
                    " 18.161 ",
                    " 14.844 ",
                    " 13.511 ",
                    " 17.998 ",
                    " 15.365 ",
                    " 21.365 ",
                    " 16.285 ",
                    " 96.226 ",
                    " 23.683 ",
                    " 13.043 ",
                    " 8.115 ",
                    " 13.369 ",
                    " 9.913 ",
                    " 40.915 ",
                    " 7.072 ",
                    " 387.524 ",
                    " 8.861 ",
                    " 13.071 ",
                    " 26.279 ",
                    " 46.328 "
                  ],
                  "xaxis": "x",
                  "y": [
                    757,
                    2861,
                    1929,
                    1758,
                    2098,
                    589,
                    9306,
                    3844,
                    625,
                    3710,
                    2385,
                    2386,
                    2559,
                    1888,
                    1772,
                    1981,
                    1099,
                    1240,
                    1742,
                    1281,
                    2191,
                    946,
                    1713,
                    1706,
                    7369,
                    1124,
                    1230,
                    1093,
                    1935,
                    1915,
                    2585,
                    1378,
                    8579,
                    3200,
                    5361,
                    1799,
                    773,
                    18642,
                    1726,
                    758,
                    2154,
                    2918,
                    2293,
                    2407,
                    1957,
                    2722,
                    8842,
                    1412,
                    1698,
                    2281,
                    2320,
                    1334,
                    1891,
                    1108,
                    1593,
                    6774,
                    1831,
                    3120,
                    849,
                    2461,
                    3255,
                    2556,
                    1352,
                    1614,
                    5420,
                    2543,
                    3070,
                    1875,
                    3176,
                    29633,
                    5278,
                    4421,
                    9305,
                    1461,
                    3273,
                    4388,
                    877,
                    7966,
                    1522,
                    3414,
                    5111,
                    1916,
                    1144,
                    3498,
                    1287,
                    2988,
                    1366,
                    4272,
                    9982,
                    2825,
                    533,
                    4711,
                    1007,
                    1902,
                    1586,
                    2789,
                    2456,
                    1898,
                    2642,
                    2576,
                    1282,
                    6857,
                    3958,
                    3627,
                    2086,
                    639,
                    3100,
                    832,
                    1877,
                    2404,
                    4454,
                    1955,
                    637,
                    2895,
                    1886,
                    5578,
                    5487,
                    1542,
                    8625,
                    1434,
                    539,
                    828,
                    2859,
                    4662,
                    1132,
                    4117,
                    7616,
                    13722,
                    2089,
                    667,
                    39202,
                    2393,
                    684,
                    1186,
                    3579,
                    3608,
                    474,
                    1432,
                    2162,
                    807,
                    2837,
                    882,
                    9474,
                    2558,
                    1471,
                    3467,
                    1155,
                    2079,
                    3197,
                    1697,
                    2012,
                    1658,
                    557,
                    3619,
                    1302,
                    2714,
                    1670,
                    2140,
                    3693,
                    796,
                    1761,
                    1918,
                    2867,
                    15907,
                    4643,
                    1666,
                    4370,
                    6873,
                    1321,
                    893,
                    1579,
                    3228,
                    3582,
                    6890,
                    4396,
                    7758,
                    14010,
                    4031,
                    2058,
                    1655,
                    2470,
                    964,
                    2057,
                    967,
                    2433,
                    7952,
                    886,
                    3018,
                    1068,
                    2056,
                    2346,
                    1254,
                    1249,
                    7715,
                    4497,
                    976,
                    866,
                    2386,
                    2234,
                    934,
                    4947,
                    1978,
                    2384,
                    2936,
                    1285,
                    1263,
                    1380,
                    8649,
                    6159,
                    3578,
                    2692,
                    1636,
                    14146,
                    5159,
                    1811,
                    1806,
                    3313,
                    25126,
                    1435,
                    2227,
                    722,
                    744,
                    501,
                    1483,
                    3079,
                    496,
                    485,
                    892,
                    1364,
                    3392,
                    19164,
                    1475,
                    1426,
                    4749,
                    14807,
                    1800,
                    2114,
                    4921,
                    1110,
                    1837,
                    885,
                    1252,
                    1993,
                    2455,
                    1015,
                    1935,
                    1622,
                    3212,
                    4341,
                    3726,
                    1376,
                    1836,
                    7196,
                    1591,
                    3097,
                    3074,
                    1407,
                    2229,
                    1226,
                    7401,
                    1227,
                    4328,
                    1386,
                    1633,
                    5194,
                    1921,
                    2302,
                    886,
                    1911,
                    3038,
                    2561,
                    3332,
                    2057,
                    1959,
                    1832,
                    881,
                    857,
                    1180,
                    1000,
                    3468,
                    5922,
                    1413,
                    1161,
                    2957,
                    2715,
                    993,
                    2779,
                    2452,
                    1385,
                    1911,
                    4851,
                    3246,
                    1133,
                    13051,
                    1535,
                    915,
                    2162,
                    2868,
                    6061,
                    1764,
                    2751,
                    1151,
                    1180,
                    1288,
                    2212,
                    1037,
                    3124,
                    6370,
                    3370,
                    2471,
                    22407,
                    1519,
                    4672,
                    1729,
                    1608,
                    4017,
                    3326,
                    3558,
                    1125,
                    2898,
                    5356,
                    1417,
                    3462,
                    2938,
                    3554,
                    1993,
                    6528,
                    1394,
                    1407,
                    1552,
                    1086,
                    4655,
                    1515,
                    3480,
                    2321,
                    107125,
                    2762,
                    2288,
                    5221,
                    655,
                    1152,
                    1622,
                    4940,
                    3674,
                    1254,
                    4366,
                    3243,
                    1287,
                    5675,
                    8111,
                    6869,
                    5207,
                    882,
                    2140,
                    1134,
                    2133,
                    5188,
                    2452,
                    3327,
                    798,
                    1342,
                    1094,
                    4286,
                    2200,
                    2654,
                    1285,
                    1374,
                    5468,
                    1177,
                    6690,
                    5697,
                    5416,
                    2103,
                    1998,
                    9135,
                    1504,
                    12665,
                    2179,
                    1541,
                    3212,
                    2207,
                    1623,
                    2527,
                    2323,
                    857,
                    2616,
                    1917,
                    16362,
                    815,
                    3092,
                    2264,
                    1244,
                    2050,
                    6416,
                    3174,
                    2286,
                    2265,
                    1891,
                    1456,
                    2023,
                    2712,
                    1798,
                    3012,
                    1863,
                    9061,
                    2145,
                    1395,
                    866,
                    1817,
                    1097,
                    4938,
                    870,
                    33522,
                    1090,
                    1788,
                    3215,
                    7063
                  ],
                  "yaxis": "y"
                }
              ],
              "layout": {
                "legend": {
                  "tracegroupgap": 0
                },
                "margin": {
                  "t": 60
                },
                "template": {
                  "data": {
                    "bar": [
                      {
                        "error_x": {
                          "color": "#2a3f5f"
                        },
                        "error_y": {
                          "color": "#2a3f5f"
                        },
                        "marker": {
                          "line": {
                            "color": "#E5ECF6",
                            "width": 0.5
                          },
                          "pattern": {
                            "fillmode": "overlay",
                            "size": 10,
                            "solidity": 0.2
                          }
                        },
                        "type": "bar"
                      }
                    ],
                    "barpolar": [
                      {
                        "marker": {
                          "line": {
                            "color": "#E5ECF6",
                            "width": 0.5
                          },
                          "pattern": {
                            "fillmode": "overlay",
                            "size": 10,
                            "solidity": 0.2
                          }
                        },
                        "type": "barpolar"
                      }
                    ],
                    "carpet": [
                      {
                        "aaxis": {
                          "endlinecolor": "#2a3f5f",
                          "gridcolor": "white",
                          "linecolor": "white",
                          "minorgridcolor": "white",
                          "startlinecolor": "#2a3f5f"
                        },
                        "baxis": {
                          "endlinecolor": "#2a3f5f",
                          "gridcolor": "white",
                          "linecolor": "white",
                          "minorgridcolor": "white",
                          "startlinecolor": "#2a3f5f"
                        },
                        "type": "carpet"
                      }
                    ],
                    "choropleth": [
                      {
                        "colorbar": {
                          "outlinewidth": 0,
                          "ticks": ""
                        },
                        "type": "choropleth"
                      }
                    ],
                    "contour": [
                      {
                        "colorbar": {
                          "outlinewidth": 0,
                          "ticks": ""
                        },
                        "colorscale": [
                          [
                            0,
                            "#0d0887"
                          ],
                          [
                            0.1111111111111111,
                            "#46039f"
                          ],
                          [
                            0.2222222222222222,
                            "#7201a8"
                          ],
                          [
                            0.3333333333333333,
                            "#9c179e"
                          ],
                          [
                            0.4444444444444444,
                            "#bd3786"
                          ],
                          [
                            0.5555555555555556,
                            "#d8576b"
                          ],
                          [
                            0.6666666666666666,
                            "#ed7953"
                          ],
                          [
                            0.7777777777777778,
                            "#fb9f3a"
                          ],
                          [
                            0.8888888888888888,
                            "#fdca26"
                          ],
                          [
                            1,
                            "#f0f921"
                          ]
                        ],
                        "type": "contour"
                      }
                    ],
                    "contourcarpet": [
                      {
                        "colorbar": {
                          "outlinewidth": 0,
                          "ticks": ""
                        },
                        "type": "contourcarpet"
                      }
                    ],
                    "heatmap": [
                      {
                        "colorbar": {
                          "outlinewidth": 0,
                          "ticks": ""
                        },
                        "colorscale": [
                          [
                            0,
                            "#0d0887"
                          ],
                          [
                            0.1111111111111111,
                            "#46039f"
                          ],
                          [
                            0.2222222222222222,
                            "#7201a8"
                          ],
                          [
                            0.3333333333333333,
                            "#9c179e"
                          ],
                          [
                            0.4444444444444444,
                            "#bd3786"
                          ],
                          [
                            0.5555555555555556,
                            "#d8576b"
                          ],
                          [
                            0.6666666666666666,
                            "#ed7953"
                          ],
                          [
                            0.7777777777777778,
                            "#fb9f3a"
                          ],
                          [
                            0.8888888888888888,
                            "#fdca26"
                          ],
                          [
                            1,
                            "#f0f921"
                          ]
                        ],
                        "type": "heatmap"
                      }
                    ],
                    "heatmapgl": [
                      {
                        "colorbar": {
                          "outlinewidth": 0,
                          "ticks": ""
                        },
                        "colorscale": [
                          [
                            0,
                            "#0d0887"
                          ],
                          [
                            0.1111111111111111,
                            "#46039f"
                          ],
                          [
                            0.2222222222222222,
                            "#7201a8"
                          ],
                          [
                            0.3333333333333333,
                            "#9c179e"
                          ],
                          [
                            0.4444444444444444,
                            "#bd3786"
                          ],
                          [
                            0.5555555555555556,
                            "#d8576b"
                          ],
                          [
                            0.6666666666666666,
                            "#ed7953"
                          ],
                          [
                            0.7777777777777778,
                            "#fb9f3a"
                          ],
                          [
                            0.8888888888888888,
                            "#fdca26"
                          ],
                          [
                            1,
                            "#f0f921"
                          ]
                        ],
                        "type": "heatmapgl"
                      }
                    ],
                    "histogram": [
                      {
                        "marker": {
                          "pattern": {
                            "fillmode": "overlay",
                            "size": 10,
                            "solidity": 0.2
                          }
                        },
                        "type": "histogram"
                      }
                    ],
                    "histogram2d": [
                      {
                        "colorbar": {
                          "outlinewidth": 0,
                          "ticks": ""
                        },
                        "colorscale": [
                          [
                            0,
                            "#0d0887"
                          ],
                          [
                            0.1111111111111111,
                            "#46039f"
                          ],
                          [
                            0.2222222222222222,
                            "#7201a8"
                          ],
                          [
                            0.3333333333333333,
                            "#9c179e"
                          ],
                          [
                            0.4444444444444444,
                            "#bd3786"
                          ],
                          [
                            0.5555555555555556,
                            "#d8576b"
                          ],
                          [
                            0.6666666666666666,
                            "#ed7953"
                          ],
                          [
                            0.7777777777777778,
                            "#fb9f3a"
                          ],
                          [
                            0.8888888888888888,
                            "#fdca26"
                          ],
                          [
                            1,
                            "#f0f921"
                          ]
                        ],
                        "type": "histogram2d"
                      }
                    ],
                    "histogram2dcontour": [
                      {
                        "colorbar": {
                          "outlinewidth": 0,
                          "ticks": ""
                        },
                        "colorscale": [
                          [
                            0,
                            "#0d0887"
                          ],
                          [
                            0.1111111111111111,
                            "#46039f"
                          ],
                          [
                            0.2222222222222222,
                            "#7201a8"
                          ],
                          [
                            0.3333333333333333,
                            "#9c179e"
                          ],
                          [
                            0.4444444444444444,
                            "#bd3786"
                          ],
                          [
                            0.5555555555555556,
                            "#d8576b"
                          ],
                          [
                            0.6666666666666666,
                            "#ed7953"
                          ],
                          [
                            0.7777777777777778,
                            "#fb9f3a"
                          ],
                          [
                            0.8888888888888888,
                            "#fdca26"
                          ],
                          [
                            1,
                            "#f0f921"
                          ]
                        ],
                        "type": "histogram2dcontour"
                      }
                    ],
                    "mesh3d": [
                      {
                        "colorbar": {
                          "outlinewidth": 0,
                          "ticks": ""
                        },
                        "type": "mesh3d"
                      }
                    ],
                    "parcoords": [
                      {
                        "line": {
                          "colorbar": {
                            "outlinewidth": 0,
                            "ticks": ""
                          }
                        },
                        "type": "parcoords"
                      }
                    ],
                    "pie": [
                      {
                        "automargin": true,
                        "type": "pie"
                      }
                    ],
                    "scatter": [
                      {
                        "fillpattern": {
                          "fillmode": "overlay",
                          "size": 10,
                          "solidity": 0.2
                        },
                        "type": "scatter"
                      }
                    ],
                    "scatter3d": [
                      {
                        "line": {
                          "colorbar": {
                            "outlinewidth": 0,
                            "ticks": ""
                          }
                        },
                        "marker": {
                          "colorbar": {
                            "outlinewidth": 0,
                            "ticks": ""
                          }
                        },
                        "type": "scatter3d"
                      }
                    ],
                    "scattercarpet": [
                      {
                        "marker": {
                          "colorbar": {
                            "outlinewidth": 0,
                            "ticks": ""
                          }
                        },
                        "type": "scattercarpet"
                      }
                    ],
                    "scattergeo": [
                      {
                        "marker": {
                          "colorbar": {
                            "outlinewidth": 0,
                            "ticks": ""
                          }
                        },
                        "type": "scattergeo"
                      }
                    ],
                    "scattergl": [
                      {
                        "marker": {
                          "colorbar": {
                            "outlinewidth": 0,
                            "ticks": ""
                          }
                        },
                        "type": "scattergl"
                      }
                    ],
                    "scattermapbox": [
                      {
                        "marker": {
                          "colorbar": {
                            "outlinewidth": 0,
                            "ticks": ""
                          }
                        },
                        "type": "scattermapbox"
                      }
                    ],
                    "scatterpolar": [
                      {
                        "marker": {
                          "colorbar": {
                            "outlinewidth": 0,
                            "ticks": ""
                          }
                        },
                        "type": "scatterpolar"
                      }
                    ],
                    "scatterpolargl": [
                      {
                        "marker": {
                          "colorbar": {
                            "outlinewidth": 0,
                            "ticks": ""
                          }
                        },
                        "type": "scatterpolargl"
                      }
                    ],
                    "scatterternary": [
                      {
                        "marker": {
                          "colorbar": {
                            "outlinewidth": 0,
                            "ticks": ""
                          }
                        },
                        "type": "scatterternary"
                      }
                    ],
                    "surface": [
                      {
                        "colorbar": {
                          "outlinewidth": 0,
                          "ticks": ""
                        },
                        "colorscale": [
                          [
                            0,
                            "#0d0887"
                          ],
                          [
                            0.1111111111111111,
                            "#46039f"
                          ],
                          [
                            0.2222222222222222,
                            "#7201a8"
                          ],
                          [
                            0.3333333333333333,
                            "#9c179e"
                          ],
                          [
                            0.4444444444444444,
                            "#bd3786"
                          ],
                          [
                            0.5555555555555556,
                            "#d8576b"
                          ],
                          [
                            0.6666666666666666,
                            "#ed7953"
                          ],
                          [
                            0.7777777777777778,
                            "#fb9f3a"
                          ],
                          [
                            0.8888888888888888,
                            "#fdca26"
                          ],
                          [
                            1,
                            "#f0f921"
                          ]
                        ],
                        "type": "surface"
                      }
                    ],
                    "table": [
                      {
                        "cells": {
                          "fill": {
                            "color": "#EBF0F8"
                          },
                          "line": {
                            "color": "white"
                          }
                        },
                        "header": {
                          "fill": {
                            "color": "#C8D4E3"
                          },
                          "line": {
                            "color": "white"
                          }
                        },
                        "type": "table"
                      }
                    ]
                  },
                  "layout": {
                    "annotationdefaults": {
                      "arrowcolor": "#2a3f5f",
                      "arrowhead": 0,
                      "arrowwidth": 1
                    },
                    "autotypenumbers": "strict",
                    "coloraxis": {
                      "colorbar": {
                        "outlinewidth": 0,
                        "ticks": ""
                      }
                    },
                    "colorscale": {
                      "diverging": [
                        [
                          0,
                          "#8e0152"
                        ],
                        [
                          0.1,
                          "#c51b7d"
                        ],
                        [
                          0.2,
                          "#de77ae"
                        ],
                        [
                          0.3,
                          "#f1b6da"
                        ],
                        [
                          0.4,
                          "#fde0ef"
                        ],
                        [
                          0.5,
                          "#f7f7f7"
                        ],
                        [
                          0.6,
                          "#e6f5d0"
                        ],
                        [
                          0.7,
                          "#b8e186"
                        ],
                        [
                          0.8,
                          "#7fbc41"
                        ],
                        [
                          0.9,
                          "#4d9221"
                        ],
                        [
                          1,
                          "#276419"
                        ]
                      ],
                      "sequential": [
                        [
                          0,
                          "#0d0887"
                        ],
                        [
                          0.1111111111111111,
                          "#46039f"
                        ],
                        [
                          0.2222222222222222,
                          "#7201a8"
                        ],
                        [
                          0.3333333333333333,
                          "#9c179e"
                        ],
                        [
                          0.4444444444444444,
                          "#bd3786"
                        ],
                        [
                          0.5555555555555556,
                          "#d8576b"
                        ],
                        [
                          0.6666666666666666,
                          "#ed7953"
                        ],
                        [
                          0.7777777777777778,
                          "#fb9f3a"
                        ],
                        [
                          0.8888888888888888,
                          "#fdca26"
                        ],
                        [
                          1,
                          "#f0f921"
                        ]
                      ],
                      "sequentialminus": [
                        [
                          0,
                          "#0d0887"
                        ],
                        [
                          0.1111111111111111,
                          "#46039f"
                        ],
                        [
                          0.2222222222222222,
                          "#7201a8"
                        ],
                        [
                          0.3333333333333333,
                          "#9c179e"
                        ],
                        [
                          0.4444444444444444,
                          "#bd3786"
                        ],
                        [
                          0.5555555555555556,
                          "#d8576b"
                        ],
                        [
                          0.6666666666666666,
                          "#ed7953"
                        ],
                        [
                          0.7777777777777778,
                          "#fb9f3a"
                        ],
                        [
                          0.8888888888888888,
                          "#fdca26"
                        ],
                        [
                          1,
                          "#f0f921"
                        ]
                      ]
                    },
                    "colorway": [
                      "#636efa",
                      "#EF553B",
                      "#00cc96",
                      "#ab63fa",
                      "#FFA15A",
                      "#19d3f3",
                      "#FF6692",
                      "#B6E880",
                      "#FF97FF",
                      "#FECB52"
                    ],
                    "font": {
                      "color": "#2a3f5f"
                    },
                    "geo": {
                      "bgcolor": "white",
                      "lakecolor": "white",
                      "landcolor": "#E5ECF6",
                      "showlakes": true,
                      "showland": true,
                      "subunitcolor": "white"
                    },
                    "hoverlabel": {
                      "align": "left"
                    },
                    "hovermode": "closest",
                    "mapbox": {
                      "style": "light"
                    },
                    "paper_bgcolor": "white",
                    "plot_bgcolor": "#E5ECF6",
                    "polar": {
                      "angularaxis": {
                        "gridcolor": "white",
                        "linecolor": "white",
                        "ticks": ""
                      },
                      "bgcolor": "#E5ECF6",
                      "radialaxis": {
                        "gridcolor": "white",
                        "linecolor": "white",
                        "ticks": ""
                      }
                    },
                    "scene": {
                      "xaxis": {
                        "backgroundcolor": "#E5ECF6",
                        "gridcolor": "white",
                        "gridwidth": 2,
                        "linecolor": "white",
                        "showbackground": true,
                        "ticks": "",
                        "zerolinecolor": "white"
                      },
                      "yaxis": {
                        "backgroundcolor": "#E5ECF6",
                        "gridcolor": "white",
                        "gridwidth": 2,
                        "linecolor": "white",
                        "showbackground": true,
                        "ticks": "",
                        "zerolinecolor": "white"
                      },
                      "zaxis": {
                        "backgroundcolor": "#E5ECF6",
                        "gridcolor": "white",
                        "gridwidth": 2,
                        "linecolor": "white",
                        "showbackground": true,
                        "ticks": "",
                        "zerolinecolor": "white"
                      }
                    },
                    "shapedefaults": {
                      "line": {
                        "color": "#2a3f5f"
                      }
                    },
                    "ternary": {
                      "aaxis": {
                        "gridcolor": "white",
                        "linecolor": "white",
                        "ticks": ""
                      },
                      "baxis": {
                        "gridcolor": "white",
                        "linecolor": "white",
                        "ticks": ""
                      },
                      "bgcolor": "#E5ECF6",
                      "caxis": {
                        "gridcolor": "white",
                        "linecolor": "white",
                        "ticks": ""
                      }
                    },
                    "title": {
                      "x": 0.05
                    },
                    "xaxis": {
                      "automargin": true,
                      "gridcolor": "white",
                      "linecolor": "white",
                      "ticks": "",
                      "title": {
                        "standoff": 15
                      },
                      "zerolinecolor": "white",
                      "zerolinewidth": 2
                    },
                    "yaxis": {
                      "automargin": true,
                      "gridcolor": "white",
                      "linecolor": "white",
                      "ticks": "",
                      "title": {
                        "standoff": 15
                      },
                      "zerolinecolor": "white",
                      "zerolinewidth": 2
                    }
                  }
                },
                "title": {
                  "text": "População X Matrículas Fundamental"
                },
                "width": 800,
                "xaxis": {
                  "anchor": "y",
                  "domain": [
                    0,
                    1
                  ],
                  "title": {
                    "text": "População 2022"
                  },
                  "type": "log"
                },
                "yaxis": {
                  "anchor": "x",
                  "domain": [
                    0,
                    1
                  ],
                  "title": {
                    "text": "Matrículas Fundamental"
                  }
                }
              }
            },
            "text/html": [
              "<div>                            <div id=\"9b5a7efb-85b7-4313-9222-10e4d7f56b8f\" class=\"plotly-graph-div\" style=\"height:525px; width:800px;\"></div>            <script type=\"text/javascript\">                require([\"plotly\"], function(Plotly) {                    window.PLOTLYENV=window.PLOTLYENV || {};                                    if (document.getElementById(\"9b5a7efb-85b7-4313-9222-10e4d7f56b8f\")) {                    Plotly.newPlot(                        \"9b5a7efb-85b7-4313-9222-10e4d7f56b8f\",                        [{\"hovertemplate\":\"\\u003cb\\u003e%{hovertext}\\u003c\\u002fb\\u003e\\u003cbr\\u003e\\u003cbr\\u003ePOP_Censo_2022=%{x}\\u003cbr\\u003eQT_MAT_FUND_22=%{y}\\u003cextra\\u003e\\u003c\\u002fextra\\u003e\",\"hovertext\":[\"Aba\\u00edra\",\"Abar\\u00e9\",\"Acajutiba\",\"Adustina\",\"\\u00c1gua Fria\",\"Aiquara\",\"Alagoinhas\",\"Alcoba\\u00e7a\",\"Almadina\",\"Amargosa\",\"Am\\u00e9lia Rodrigues\",\"Am\\u00e9rica Dourada\",\"Anag\\u00e9\",\"Andara\\u00ed\",\"Andorinha\",\"Angical\",\"Anguera\",\"Antas\",\"Ant\\u00f4nio Cardoso\",\"Ant\\u00f4nio Gon\\u00e7alves\",\"Apor\\u00e1\",\"Apuarema\",\"Ara\\u00e7\\u00e1s\",\"Aracatu\",\"Araci\",\"Aramari\",\"Arataca\",\"Aratu\\u00edpe\",\"Aurelino Leal\",\"Baian\\u00f3polis\",\"Baixa Grande\",\"Banza\\u00ea\",\"Barra\",\"Barra da Estiva\",\"Barra do Cho\\u00e7a\",\"Barra do Mendes\",\"Barra do Rocha\",\"Barreiras\",\"Barro Alto\",\"Barro Preto\",\"Barrocas\",\"Belmonte\",\"Belo Campo\",\"Biritinga\",\"Boa Nova\",\"Boa Vista do Tupim\",\"Bom Jesus da Lapa\",\"Bom Jesus da Serra\",\"Boninal\",\"Bonito\",\"Boquira\",\"Botupor\\u00e3\",\"Brej\\u00f5es\",\"Brejol\\u00e2ndia\",\"Brotas de Maca\\u00fabas\",\"Brumado\",\"Buerarema\",\"Buritirama\",\"Caatiba\",\"Cabaceiras do Paragua\\u00e7u\",\"Cachoeira\",\"Cacul\\u00e9\",\"Ca\\u00e9m\",\"Caetanos\",\"Caetit\\u00e9\",\"Cafarnaum\",\"Cairu\",\"Caldeir\\u00e3o Grande\",\"Camacan\",\"Cama\\u00e7ari\",\"Camamu\",\"Campo Alegre de Lourdes\",\"Campo Formoso\",\"Can\\u00e1polis\",\"Canarana\",\"Canavieiras\",\"Candeal\",\"Candeias\",\"Candiba\",\"C\\u00e2ndido Sales\",\"Cansan\\u00e7\\u00e3o\",\"Canudos\",\"Capela do Alto Alegre\",\"Capim Grosso\",\"Cara\\u00edbas\",\"Caravelas\",\"Cardeal da Silva\",\"Carinhanha\",\"Casa Nova\",\"Castro Alves\",\"Catol\\u00e2ndia\",\"Catu\",\"Caturama\",\"Central\",\"Chorroch\\u00f3\",\"C\\u00edcero Dantas\",\"Cip\\u00f3\",\"Coaraci\",\"Cocos\",\"Concei\\u00e7\\u00e3o da Feira\",\"Concei\\u00e7\\u00e3o do Almeida\",\"Concei\\u00e7\\u00e3o do Coit\\u00e9\",\"Concei\\u00e7\\u00e3o do Jacu\\u00edpe\",\"Conde\",\"Conde\\u00faba\",\"Contendas do Sincor\\u00e1\",\"Cora\\u00e7\\u00e3o de Maria\",\"Cordeiros\",\"Coribe\",\"Coronel Jo\\u00e3o S\\u00e1\",\"Correntina\",\"Cotegipe\",\"Cravol\\u00e2ndia\",\"Cris\\u00f3polis\",\"Crist\\u00f3polis\",\"Cruz das Almas\",\"Cura\\u00e7\\u00e1\",\"D\\u00e1rio Meira\",\"Dias d'\\u00c1vila\",\"Dom Bas\\u00edlio\",\"Dom Macedo Costa\",\"El\\u00edsio Medrado\",\"Encruzilhada\",\"Entre Rios\",\"\\u00c9rico Cardoso\",\"Esplanada\",\"Euclides da Cunha\",\"Eun\\u00e1polis\",\"F\\u00e1tima\",\"Feira da Mata\",\"Feira de Santana\",\"Filad\\u00e9lfia\",\"Firmino Alves\",\"Floresta Azul\",\"Formosa do Rio Preto\",\"Gandu\",\"Gavi\\u00e3o\",\"Gentio do Ouro\",\"Gl\\u00f3ria\",\"Gongogi\",\"Governador Mangabeira\",\"Guajeru\",\"Guanambi\",\"Guaratinga\",\"Heli\\u00f3polis\",\"Ia\\u00e7u\",\"Ibiassuc\\u00ea\",\"Ibicara\\u00ed\",\"Ibicoara\",\"Ibicu\\u00ed\",\"Ibipeba\",\"Ibipitanga\",\"Ibiquera\",\"Ibirapitanga\",\"Ibirapu\\u00e3\",\"Ibirataia\",\"Ibitiara\",\"Ibitit\\u00e1\",\"Ibotirama\",\"Ichu\",\"Igapor\\u00e3\",\"Igrapi\\u00fana\",\"Igua\\u00ed\",\"Ilh\\u00e9us\",\"Inhambupe\",\"Ipecaet\\u00e1\",\"Ipia\\u00fa\",\"Ipir\\u00e1\",\"Ipupiara\",\"Irajuba\",\"Iramaia\",\"Iraquara\",\"Irar\\u00e1\",\"Irec\\u00ea\",\"Itabela\",\"Itaberaba\",\"Itabuna\",\"Itacar\\u00e9\",\"Itaet\\u00e9\",\"Itagi\",\"Itagib\\u00e1\",\"Itagimirim\",\"Itagua\\u00e7u da Bahia\",\"Itaju do Col\\u00f4nia\",\"Itaju\\u00edpe\",\"Itamaraju\",\"Itamari\",\"Itamb\\u00e9\",\"Itanagra\",\"Itanh\\u00e9m\",\"Itaparica\",\"Itap\\u00e9\",\"Itapebi\",\"Itapetinga\",\"Itapicuru\",\"Itapitanga\",\"Itaquara\",\"Itarantim\",\"Itatim\",\"Itiru\\u00e7u\",\"Iti\\u00faba\",\"Itoror\\u00f3\",\"Itua\\u00e7u\",\"Ituber\\u00e1\",\"Iuiu\",\"Jaborandi\",\"Jacaraci\",\"Jacobina\",\"Jaguaquara\",\"Jaguarari\",\"Jaguaripe\",\"Janda\\u00edra\",\"Jequi\\u00e9\",\"Jeremoabo\",\"Jiquiri\\u00e7\\u00e1\",\"Jita\\u00fana\",\"Jo\\u00e3o Dourado\",\"Juazeiro\",\"Jucuru\\u00e7u\",\"Jussara\",\"Jussari\",\"Jussiape\",\"Lafaiete Coutinho\",\"Lagoa Real\",\"Laje\",\"Lajed\\u00e3o\",\"Lajedinho\",\"Lajedo do Tabocal\",\"Lamar\\u00e3o\",\"Lap\\u00e3o\",\"Lauro de Freitas\",\"Len\\u00e7\\u00f3is\",\"Lic\\u00ednio de Almeida\",\"Livramento de Nossa Senhora\",\"Lu\\u00eds Eduardo Magalh\\u00e3es\",\"Macajuba\",\"Macarani\",\"Maca\\u00fabas\",\"Macurur\\u00e9\",\"Madre de Deus\",\"Maetinga\",\"Maiquinique\",\"Mairi\",\"Malhada\",\"Malhada de Pedras\",\"Manoel Vitorino\",\"Mansid\\u00e3o\",\"Marac\\u00e1s\",\"Maragogipe\",\"Mara\\u00fa\",\"Marcion\\u00edlio Souza\",\"Mascote\",\"Mata de S\\u00e3o Jo\\u00e3o\",\"Matina\",\"Medeiros Neto\",\"Miguel Calmon\",\"Milagres\",\"Mirangaba\",\"Mirante\",\"Monte Santo\",\"Morpar\\u00e1\",\"Morro do Chap\\u00e9u\",\"Mortugaba\",\"Mucug\\u00ea\",\"Mucuri\",\"Mulungu do Morro\",\"Mundo Novo\",\"Muniz Ferreira\",\"Muqu\\u00e9m do S\\u00e3o Francisco\",\"Muritiba\",\"Mutu\\u00edpe\",\"Nazar\\u00e9\",\"Nilo Pe\\u00e7anha\",\"Nordestina\",\"Nova Cana\\u00e3\",\"Nova F\\u00e1tima\",\"Nova Ibi\\u00e1\",\"Nova Itarana\",\"Nova Reden\\u00e7\\u00e3o\",\"Nova Soure\",\"Nova Vi\\u00e7osa\",\"Novo Horizonte\",\"Novo Triunfo\",\"Olindina\",\"Oliveira dos Brejinhos\",\"Ouri\\u00e7angas\",\"Ourol\\u00e2ndia\",\"Palmas de Monte Alto\",\"Palmeiras\",\"Paramirim\",\"Paratinga\",\"Paripiranga\",\"Pau Brasil\",\"Paulo Afonso\",\"P\\u00e9 de Serra\",\"Pedr\\u00e3o\",\"Pedro Alexandre\",\"Piat\\u00e3\",\"Pil\\u00e3o Arcado\",\"Pinda\\u00ed\",\"Pindoba\\u00e7u\",\"Pintadas\",\"Pira\\u00ed do Norte\",\"Pirip\\u00e1\",\"Piritiba\",\"Planaltino\",\"Planalto\",\"Po\\u00e7\\u00f5es\",\"Pojuca\",\"Ponto Novo\",\"Porto Seguro\",\"Potiragu\\u00e1\",\"Prado\",\"Presidente Dutra\",\"Presidente J\\u00e2nio Quadros\",\"Presidente Tancredo Neves\",\"Queimadas\",\"Quijingue\",\"Quixabeira\",\"Rafael Jambeiro\",\"Remanso\",\"Retirol\\u00e2ndia\",\"Riach\\u00e3o das Neves\",\"Riach\\u00e3o do Jacu\\u00edpe\",\"Riacho de Santana\",\"Ribeira do Amparo\",\"Ribeira do Pombal\",\"Ribeir\\u00e3o do Largo\",\"Rio de Contas\",\"Rio do Ant\\u00f4nio\",\"Rio do Pires\",\"Rio Real\",\"Rodelas\",\"Ruy Barbosa\",\"Salinas da Margarida\",\"Salvador\",\"Santa B\\u00e1rbara\",\"Santa Br\\u00edgida\",\"Santa Cruz Cabr\\u00e1lia\",\"Santa Cruz da Vit\\u00f3ria\",\"Santa In\\u00eas\",\"Santa Luzia\",\"Santa Maria da Vit\\u00f3ria\",\"Santa Rita de C\\u00e1ssia\",\"Santa Terezinha\",\"Santaluz\",\"Santana\",\"Santan\\u00f3polis\",\"Santo Amaro\",\"Santo Ant\\u00f4nio de Jesus\",\"Santo Est\\u00eav\\u00e3o\",\"S\\u00e3o Desid\\u00e9rio\",\"S\\u00e3o Domingos\",\"S\\u00e3o Felipe\",\"S\\u00e3o F\\u00e9lix\",\"S\\u00e3o F\\u00e9lix do Coribe\",\"S\\u00e3o Francisco do Conde\",\"S\\u00e3o Gabriel\",\"S\\u00e3o Gon\\u00e7alo dos Campos\",\"S\\u00e3o Jos\\u00e9 da Vit\\u00f3ria\",\"S\\u00e3o Jos\\u00e9 do Jacu\\u00edpe\",\"S\\u00e3o Miguel das Matas\",\"S\\u00e3o Sebasti\\u00e3o do Pass\\u00e9\",\"Sapea\\u00e7u\",\"S\\u00e1tiro Dias\",\"Saubara\",\"Sa\\u00fade\",\"Seabra\",\"Sebasti\\u00e3o Laranjeiras\",\"Senhor do Bonfim\",\"Sento S\\u00e9\",\"Serra do Ramalho\",\"Serra Dourada\",\"Serra Preta\",\"Serrinha\",\"Serrol\\u00e2ndia\",\"Sim\\u00f5es Filho\",\"S\\u00edtio do Mato\",\"S\\u00edtio do Quinto\",\"Sobradinho\",\"Souto Soares\",\"Tabocas do Brejo Velho\",\"Tanha\\u00e7u\",\"Tanque Novo\",\"Tanquinho\",\"Tapero\\u00e1\",\"Tapiramut\\u00e1\",\"Teixeira de Freitas\",\"Teodoro Sampaio\",\"Teofil\\u00e2ndia\",\"Teol\\u00e2ndia\",\"Terra Nova\",\"Tremedal\",\"Tucano\",\"Uau\\u00e1\",\"Uba\\u00edra\",\"Ubaitaba\",\"Ubat\\u00e3\",\"Uiba\\u00ed\",\"Umburanas\",\"Una\",\"Urandi\",\"Uru\\u00e7uca\",\"Utinga\",\"Valen\\u00e7a\",\"Valente\",\"V\\u00e1rzea da Ro\\u00e7a\",\"V\\u00e1rzea do Po\\u00e7o\",\"V\\u00e1rzea Nova\",\"Varzedo\",\"Vera Cruz\",\"Vereda\",\"Vit\\u00f3ria da Conquista\",\"Wagner\",\"Wanderley\",\"Wenceslau Guimar\\u00e3es\",\"Xique-Xique\"],\"legendgroup\":\"\",\"marker\":{\"color\":\"#636efa\",\"symbol\":\"circle\",\"line\":{\"width\":2},\"size\":12},\"mode\":\"markers\",\"name\":\"\",\"orientation\":\"v\",\"showlegend\":false,\"x\":[\" 7.290 \",\" 18.766 \",\" 13.715 \",\" 14.166 \",\" 17.398 \",\" 4.566 \",\" 157.864 \",\" 23.633 \",\" 5.195 \",\" 36.260 \",\" 23.639 \",\" 15.104 \",\" 25.452 \",\" 13.406 \",\" 15.011 \",\" 14.973 \",\" 11.019 \",\" 14.453 \",\" 11.268 \",\" 11.921 \",\" 16.909 \",\" 6.900 \",\" 12.605 \",\" 13.819 \",\" 51.377 \",\" 9.781 \",\" 8.219 \",\" 10.006 \",\" 11.782 \",\" 13.618 \",\" 17.880 \",\" 11.869 \",\" 50.543 \",\" 26.031 \",\" 40.025 \",\" 13.852 \",\" 6.682 \",\" 165.413 \",\" 13.761 \",\" 5.820 \",\" 15.396 \",\" 20.565 \",\" 18.399 \",\" 15.151 \",\" 14.160 \",\" 19.320 \",\" 74.040 \",\" 9.572 \",\" 13.653 \",\" 15.837 \",\" 20.588 \",\" 11.040 \",\" 12.914 \",\" 9.114 \",\" 12.467 \",\" 70.268 \",\" 16.880 \",\" 19.514 \",\" 6.915 \",\" 19.432 \",\" 31.982 \",\" 22.412 \",\" 10.360 \",\" 13.242 \",\" 52.099 \",\" 17.975 \",\" 17.591 \",\" 13.063 \",\" 22.460 \",\" 334.195 \",\" 30.480 \",\" 30.659 \",\" 68.571 \",\" 10.225 \",\" 23.491 \",\" 33.080 \",\" 7.785 \",\" 77.026 \",\" 13.007 \",\" 25.278 \",\" 39.475 \",\" 15.906 \",\" 10.754 \",\" 33.344 \",\" 9.938 \",\" 21.612 \",\" 8.376 \",\" 28.869 \",\" 71.572 \",\" 24.700 \",\" 3.480 \",\" 48.137 \",\" 8.847 \",\" 16.223 \",\" 10.587 \",\" 30.836 \",\" 17.246 \",\" 17.949 \",\" 19.156 \",\" 22.936 \",\" 15.401 \",\" 70.202 \",\" 34.994 \",\" 24.433 \",\" 17.059 \",\" 4.750 \",\" 28.340 \",\" 7.555 \",\" 14.158 \",\"17.000(26)\",\" 32.709 \",\" 13.059 \",\" 4.445 \",\" 19.720 \",\" 14.002 \",\" 60.633 \",\" 33.603 \",\" 10.025 \",\" 69.211 \",\" 11.905 \",\" 4.418 \",\" 7.782 \",\" 19.111 \",\" 38.880 \",\" 10.581 \",\" 34.033 \",\" 65.187 \",\" 112.477 \",\" 17.899 \",\" 5.618 \",\" 652.592 \",\" 17.892 \",\" 5.925 \",\" 11.068 \",\" 25.185 \",\" 29.776 \",\" 4.357 \",\" 11.896 \",\" 16.698 \",\" 5.549 \",\" 20.604 \",\" 8.054 \",\" 87.580 \",\" 20.338 \",\" 12.301 \",\" 25.178 \",\"10.426(27)\",\" 21.688 \",\" 20.874 \",\" 13.791 \",\" 18.540 \",\" 13.905 \",\" 3.722 \",\" 27.341 \",\" 8.331 \",\" 19.613 \",\" 14.622 \",\" 17.954 \",\" 26.611 \",\" 6.192 \",\" 17.022 \",\" 13.077 \",\" 25.114 \",\" 197.163 \",\" 33.771 \",\" 16.230 \",\" 43.078 \",\" 58.094 \",\" 9.925 \",\" 6.100 \",\" 10.755 \",\" 25.590 \",\" 27.984 \",\" 76.491 \",\" 27.691 \",\" 67.605 \",\" 185.500 \",\" 28.214 \",\" 14.031 \",\" 13.925 \",\" 15.556 \",\" 7.037 \",\" 13.116 \",\" 6.033 \",\" 19.913 \",\" 60.831 \",\" 7.050 \",\" 26.420 \",\" 5.814 \",\" 19.025 \",\" 19.738 \",\" 10.327 \",\" 9.779 \",\" 68.704 \",\" 32.793 \",\" 10.320 \",\" 8.175 \",\" 17.035 \",\" 15.749 \",\" 11.016 \",\" 33.671 \",\" 17.729 \",\" 18.992 \",\" 21.974 \",\" 11.101 \",\" 9.269 \",\" 14.625 \",\" 88.296 \",\" 46.026 \",\" 32.495 \",\" 20.237 \",\" 9.112 \",\" 156.408 \",\" 37.519 \",\" 13.623 \",\" 14.614 \",\" 26.186 \",\" 244.406 \",\" 9.971 \",\" 16.922 \",\" 5.902 \",\" 7.381 \",\" 4.044 \",\" 13.990 \",\" 23.198 \",\" 4.550 \",\" 4.102 \",\" 7.486 \",\" 9.062 \",\" 25.713 \",\" 220.437 \",\" 11.022 \",\" 11.848 \",\" 43.898 \",\" 108.271 \",\" 10.463 \",\" 21.556 \",\" 41.631 \",\" 7.600 \",\" 18.767 \",\" 6.968 \",\" 9.452 \",\" 16.122 \",\" 15.426 \",\" 8.673 \",\" 13.327 \",\" 13.902 \",\" 27.747 \",\" 38.394 \",\" 24.713 \",\" 9.256 \",\" 11.991 \",\" 48.698 \",\" 10.338 \",\" 23.096 \",\" 27.817 \",\" 11.076 \",\" 15.050 \",\" 10.072 \",\" 47.758 \",\" 8.303 \",\" 33.389 \",\" 11.131 \",\" 12.988 \",\" 38.082 \",\" 13.166 \",\" 20.564 \",\" 7.165 \",\" 11.029 \",\" 28.558 \",\" 20.028 \",\" 28.181 \",\" 12.032 \",\" 18.536 \",\" 15.959 \",\" 7.958 \",\" 8.325 \",\" 7.820 \",\" 7.525 \",\" 24.206 \",\" 41.089 \",\" 11.163 \",\" 10.666 \",\" 22.615 \",\" 22.850 \",\" 7.728 \",\" 19.322 \",\" 20.091 \",\" 10.383 \",\" 20.378 \",\" 28.947 \",\" 26.609 \",\" 10.669 \",\" 118.412 \",\" 13.242 \",\" 6.229 \",\" 14.056 \",\" 20.098 \",\" 35.326 \",\" 14.740 \",\" 19.133 \",\" 9.805 \",\" 10.200 \",\" 9.158 \",\" 17.549 \",\" 8.012 \",\" 23.290 \",\" 48.197 \",\" 33.079 \",\" 17.941 \",\" 158.736 \",\" 11.524 \",\" 31.715 \",\" 15.133 \",\" 12.627 \",\" 27.662 \",\" 26.027 \",\" 27.317 \",\" 9.429 \",\" 20.242 \",\" 40.531 \",\" 13.654 \",\" 22.289 \",\" 33.422 \",\" 39.127 \",\" 13.831 \",\" 53.997 \",\" 10.382 \",\" 13.634 \",\" 13.098 \",\" 9.585 \",\" 35.378 \",\"10.303(28)\",\" 30.172 \",\" 14.989 \",\" 2.610.987 \",\" 22.446 \",\" 14.979 \",\" 30.385 \",\" 4.672 \",\" 10.293 \",\" 11.776 \",\" 38.686 \",\" 28.084 \",\" 9.790 \",\" 37.079 \",\" 24.778 \",\" 9.831 \",\" 55.935 \",\" 103.055 \",\" 55.696 \",\" 36.793 \",\" 8.417 \",\" 20.286 \",\" 10.946 \",\" 15.704 \",\" 37.892 \",\" 18.417 \",\" 39.570 \",\" 5.321 \",\" 10.195 \",\" 10.334 \",\" 40.376 \",\" 17.993 \",\" 16.021 \",\" 11.433 \",\" 10.482 \",\" 49.587 \",\" 9.373 \",\" 77.514 \",\" 37.389 \",\" 34.270 \",\" 16.691 \",\" 18.090 \",\" 85.696 \",\" 13.320 \",\" 127.093 \",\" 13.408 \",\" 14.778 \",\" 24.799 \",\" 16.904 \",\" 11.990 \",\" 21.407 \",\" 18.459 \",\" 7.729 \",\" 18.016 \",\" 15.884 \",\" 147.454 \",\" 7.220 \",\" 21.811 \",\" 15.892 \",\" 10.802 \",\" 17.497 \",\" 48.062 \",\" 24.654 \",\" 18.605 \",\" 17.626 \",\" 18.161 \",\" 14.844 \",\" 13.511 \",\" 17.998 \",\" 15.365 \",\" 21.365 \",\" 16.285 \",\" 96.226 \",\" 23.683 \",\" 13.043 \",\" 8.115 \",\" 13.369 \",\" 9.913 \",\" 40.915 \",\" 7.072 \",\" 387.524 \",\" 8.861 \",\" 13.071 \",\" 26.279 \",\" 46.328 \"],\"xaxis\":\"x\",\"y\":[757,2861,1929,1758,2098,589,9306,3844,625,3710,2385,2386,2559,1888,1772,1981,1099,1240,1742,1281,2191,946,1713,1706,7369,1124,1230,1093,1935,1915,2585,1378,8579,3200,5361,1799,773,18642,1726,758,2154,2918,2293,2407,1957,2722,8842,1412,1698,2281,2320,1334,1891,1108,1593,6774,1831,3120,849,2461,3255,2556,1352,1614,5420,2543,3070,1875,3176,29633,5278,4421,9305,1461,3273,4388,877,7966,1522,3414,5111,1916,1144,3498,1287,2988,1366,4272,9982,2825,533,4711,1007,1902,1586,2789,2456,1898,2642,2576,1282,6857,3958,3627,2086,639,3100,832,1877,2404,4454,1955,637,2895,1886,5578,5487,1542,8625,1434,539,828,2859,4662,1132,4117,7616,13722,2089,667,39202,2393,684,1186,3579,3608,474,1432,2162,807,2837,882,9474,2558,1471,3467,1155,2079,3197,1697,2012,1658,557,3619,1302,2714,1670,2140,3693,796,1761,1918,2867,15907,4643,1666,4370,6873,1321,893,1579,3228,3582,6890,4396,7758,14010,4031,2058,1655,2470,964,2057,967,2433,7952,886,3018,1068,2056,2346,1254,1249,7715,4497,976,866,2386,2234,934,4947,1978,2384,2936,1285,1263,1380,8649,6159,3578,2692,1636,14146,5159,1811,1806,3313,25126,1435,2227,722,744,501,1483,3079,496,485,892,1364,3392,19164,1475,1426,4749,14807,1800,2114,4921,1110,1837,885,1252,1993,2455,1015,1935,1622,3212,4341,3726,1376,1836,7196,1591,3097,3074,1407,2229,1226,7401,1227,4328,1386,1633,5194,1921,2302,886,1911,3038,2561,3332,2057,1959,1832,881,857,1180,1000,3468,5922,1413,1161,2957,2715,993,2779,2452,1385,1911,4851,3246,1133,13051,1535,915,2162,2868,6061,1764,2751,1151,1180,1288,2212,1037,3124,6370,3370,2471,22407,1519,4672,1729,1608,4017,3326,3558,1125,2898,5356,1417,3462,2938,3554,1993,6528,1394,1407,1552,1086,4655,1515,3480,2321,107125,2762,2288,5221,655,1152,1622,4940,3674,1254,4366,3243,1287,5675,8111,6869,5207,882,2140,1134,2133,5188,2452,3327,798,1342,1094,4286,2200,2654,1285,1374,5468,1177,6690,5697,5416,2103,1998,9135,1504,12665,2179,1541,3212,2207,1623,2527,2323,857,2616,1917,16362,815,3092,2264,1244,2050,6416,3174,2286,2265,1891,1456,2023,2712,1798,3012,1863,9061,2145,1395,866,1817,1097,4938,870,33522,1090,1788,3215,7063],\"yaxis\":\"y\",\"type\":\"scatter\"}],                        {\"template\":{\"data\":{\"histogram2dcontour\":[{\"type\":\"histogram2dcontour\",\"colorbar\":{\"outlinewidth\":0,\"ticks\":\"\"},\"colorscale\":[[0.0,\"#0d0887\"],[0.1111111111111111,\"#46039f\"],[0.2222222222222222,\"#7201a8\"],[0.3333333333333333,\"#9c179e\"],[0.4444444444444444,\"#bd3786\"],[0.5555555555555556,\"#d8576b\"],[0.6666666666666666,\"#ed7953\"],[0.7777777777777778,\"#fb9f3a\"],[0.8888888888888888,\"#fdca26\"],[1.0,\"#f0f921\"]]}],\"choropleth\":[{\"type\":\"choropleth\",\"colorbar\":{\"outlinewidth\":0,\"ticks\":\"\"}}],\"histogram2d\":[{\"type\":\"histogram2d\",\"colorbar\":{\"outlinewidth\":0,\"ticks\":\"\"},\"colorscale\":[[0.0,\"#0d0887\"],[0.1111111111111111,\"#46039f\"],[0.2222222222222222,\"#7201a8\"],[0.3333333333333333,\"#9c179e\"],[0.4444444444444444,\"#bd3786\"],[0.5555555555555556,\"#d8576b\"],[0.6666666666666666,\"#ed7953\"],[0.7777777777777778,\"#fb9f3a\"],[0.8888888888888888,\"#fdca26\"],[1.0,\"#f0f921\"]]}],\"heatmap\":[{\"type\":\"heatmap\",\"colorbar\":{\"outlinewidth\":0,\"ticks\":\"\"},\"colorscale\":[[0.0,\"#0d0887\"],[0.1111111111111111,\"#46039f\"],[0.2222222222222222,\"#7201a8\"],[0.3333333333333333,\"#9c179e\"],[0.4444444444444444,\"#bd3786\"],[0.5555555555555556,\"#d8576b\"],[0.6666666666666666,\"#ed7953\"],[0.7777777777777778,\"#fb9f3a\"],[0.8888888888888888,\"#fdca26\"],[1.0,\"#f0f921\"]]}],\"heatmapgl\":[{\"type\":\"heatmapgl\",\"colorbar\":{\"outlinewidth\":0,\"ticks\":\"\"},\"colorscale\":[[0.0,\"#0d0887\"],[0.1111111111111111,\"#46039f\"],[0.2222222222222222,\"#7201a8\"],[0.3333333333333333,\"#9c179e\"],[0.4444444444444444,\"#bd3786\"],[0.5555555555555556,\"#d8576b\"],[0.6666666666666666,\"#ed7953\"],[0.7777777777777778,\"#fb9f3a\"],[0.8888888888888888,\"#fdca26\"],[1.0,\"#f0f921\"]]}],\"contourcarpet\":[{\"type\":\"contourcarpet\",\"colorbar\":{\"outlinewidth\":0,\"ticks\":\"\"}}],\"contour\":[{\"type\":\"contour\",\"colorbar\":{\"outlinewidth\":0,\"ticks\":\"\"},\"colorscale\":[[0.0,\"#0d0887\"],[0.1111111111111111,\"#46039f\"],[0.2222222222222222,\"#7201a8\"],[0.3333333333333333,\"#9c179e\"],[0.4444444444444444,\"#bd3786\"],[0.5555555555555556,\"#d8576b\"],[0.6666666666666666,\"#ed7953\"],[0.7777777777777778,\"#fb9f3a\"],[0.8888888888888888,\"#fdca26\"],[1.0,\"#f0f921\"]]}],\"surface\":[{\"type\":\"surface\",\"colorbar\":{\"outlinewidth\":0,\"ticks\":\"\"},\"colorscale\":[[0.0,\"#0d0887\"],[0.1111111111111111,\"#46039f\"],[0.2222222222222222,\"#7201a8\"],[0.3333333333333333,\"#9c179e\"],[0.4444444444444444,\"#bd3786\"],[0.5555555555555556,\"#d8576b\"],[0.6666666666666666,\"#ed7953\"],[0.7777777777777778,\"#fb9f3a\"],[0.8888888888888888,\"#fdca26\"],[1.0,\"#f0f921\"]]}],\"mesh3d\":[{\"type\":\"mesh3d\",\"colorbar\":{\"outlinewidth\":0,\"ticks\":\"\"}}],\"scatter\":[{\"fillpattern\":{\"fillmode\":\"overlay\",\"size\":10,\"solidity\":0.2},\"type\":\"scatter\"}],\"parcoords\":[{\"type\":\"parcoords\",\"line\":{\"colorbar\":{\"outlinewidth\":0,\"ticks\":\"\"}}}],\"scatterpolargl\":[{\"type\":\"scatterpolargl\",\"marker\":{\"colorbar\":{\"outlinewidth\":0,\"ticks\":\"\"}}}],\"bar\":[{\"error_x\":{\"color\":\"#2a3f5f\"},\"error_y\":{\"color\":\"#2a3f5f\"},\"marker\":{\"line\":{\"color\":\"#E5ECF6\",\"width\":0.5},\"pattern\":{\"fillmode\":\"overlay\",\"size\":10,\"solidity\":0.2}},\"type\":\"bar\"}],\"scattergeo\":[{\"type\":\"scattergeo\",\"marker\":{\"colorbar\":{\"outlinewidth\":0,\"ticks\":\"\"}}}],\"scatterpolar\":[{\"type\":\"scatterpolar\",\"marker\":{\"colorbar\":{\"outlinewidth\":0,\"ticks\":\"\"}}}],\"histogram\":[{\"marker\":{\"pattern\":{\"fillmode\":\"overlay\",\"size\":10,\"solidity\":0.2}},\"type\":\"histogram\"}],\"scattergl\":[{\"type\":\"scattergl\",\"marker\":{\"colorbar\":{\"outlinewidth\":0,\"ticks\":\"\"}}}],\"scatter3d\":[{\"type\":\"scatter3d\",\"line\":{\"colorbar\":{\"outlinewidth\":0,\"ticks\":\"\"}},\"marker\":{\"colorbar\":{\"outlinewidth\":0,\"ticks\":\"\"}}}],\"scattermapbox\":[{\"type\":\"scattermapbox\",\"marker\":{\"colorbar\":{\"outlinewidth\":0,\"ticks\":\"\"}}}],\"scatterternary\":[{\"type\":\"scatterternary\",\"marker\":{\"colorbar\":{\"outlinewidth\":0,\"ticks\":\"\"}}}],\"scattercarpet\":[{\"type\":\"scattercarpet\",\"marker\":{\"colorbar\":{\"outlinewidth\":0,\"ticks\":\"\"}}}],\"carpet\":[{\"aaxis\":{\"endlinecolor\":\"#2a3f5f\",\"gridcolor\":\"white\",\"linecolor\":\"white\",\"minorgridcolor\":\"white\",\"startlinecolor\":\"#2a3f5f\"},\"baxis\":{\"endlinecolor\":\"#2a3f5f\",\"gridcolor\":\"white\",\"linecolor\":\"white\",\"minorgridcolor\":\"white\",\"startlinecolor\":\"#2a3f5f\"},\"type\":\"carpet\"}],\"table\":[{\"cells\":{\"fill\":{\"color\":\"#EBF0F8\"},\"line\":{\"color\":\"white\"}},\"header\":{\"fill\":{\"color\":\"#C8D4E3\"},\"line\":{\"color\":\"white\"}},\"type\":\"table\"}],\"barpolar\":[{\"marker\":{\"line\":{\"color\":\"#E5ECF6\",\"width\":0.5},\"pattern\":{\"fillmode\":\"overlay\",\"size\":10,\"solidity\":0.2}},\"type\":\"barpolar\"}],\"pie\":[{\"automargin\":true,\"type\":\"pie\"}]},\"layout\":{\"autotypenumbers\":\"strict\",\"colorway\":[\"#636efa\",\"#EF553B\",\"#00cc96\",\"#ab63fa\",\"#FFA15A\",\"#19d3f3\",\"#FF6692\",\"#B6E880\",\"#FF97FF\",\"#FECB52\"],\"font\":{\"color\":\"#2a3f5f\"},\"hovermode\":\"closest\",\"hoverlabel\":{\"align\":\"left\"},\"paper_bgcolor\":\"white\",\"plot_bgcolor\":\"#E5ECF6\",\"polar\":{\"bgcolor\":\"#E5ECF6\",\"angularaxis\":{\"gridcolor\":\"white\",\"linecolor\":\"white\",\"ticks\":\"\"},\"radialaxis\":{\"gridcolor\":\"white\",\"linecolor\":\"white\",\"ticks\":\"\"}},\"ternary\":{\"bgcolor\":\"#E5ECF6\",\"aaxis\":{\"gridcolor\":\"white\",\"linecolor\":\"white\",\"ticks\":\"\"},\"baxis\":{\"gridcolor\":\"white\",\"linecolor\":\"white\",\"ticks\":\"\"},\"caxis\":{\"gridcolor\":\"white\",\"linecolor\":\"white\",\"ticks\":\"\"}},\"coloraxis\":{\"colorbar\":{\"outlinewidth\":0,\"ticks\":\"\"}},\"colorscale\":{\"sequential\":[[0.0,\"#0d0887\"],[0.1111111111111111,\"#46039f\"],[0.2222222222222222,\"#7201a8\"],[0.3333333333333333,\"#9c179e\"],[0.4444444444444444,\"#bd3786\"],[0.5555555555555556,\"#d8576b\"],[0.6666666666666666,\"#ed7953\"],[0.7777777777777778,\"#fb9f3a\"],[0.8888888888888888,\"#fdca26\"],[1.0,\"#f0f921\"]],\"sequentialminus\":[[0.0,\"#0d0887\"],[0.1111111111111111,\"#46039f\"],[0.2222222222222222,\"#7201a8\"],[0.3333333333333333,\"#9c179e\"],[0.4444444444444444,\"#bd3786\"],[0.5555555555555556,\"#d8576b\"],[0.6666666666666666,\"#ed7953\"],[0.7777777777777778,\"#fb9f3a\"],[0.8888888888888888,\"#fdca26\"],[1.0,\"#f0f921\"]],\"diverging\":[[0,\"#8e0152\"],[0.1,\"#c51b7d\"],[0.2,\"#de77ae\"],[0.3,\"#f1b6da\"],[0.4,\"#fde0ef\"],[0.5,\"#f7f7f7\"],[0.6,\"#e6f5d0\"],[0.7,\"#b8e186\"],[0.8,\"#7fbc41\"],[0.9,\"#4d9221\"],[1,\"#276419\"]]},\"xaxis\":{\"gridcolor\":\"white\",\"linecolor\":\"white\",\"ticks\":\"\",\"title\":{\"standoff\":15},\"zerolinecolor\":\"white\",\"automargin\":true,\"zerolinewidth\":2},\"yaxis\":{\"gridcolor\":\"white\",\"linecolor\":\"white\",\"ticks\":\"\",\"title\":{\"standoff\":15},\"zerolinecolor\":\"white\",\"automargin\":true,\"zerolinewidth\":2},\"scene\":{\"xaxis\":{\"backgroundcolor\":\"#E5ECF6\",\"gridcolor\":\"white\",\"linecolor\":\"white\",\"showbackground\":true,\"ticks\":\"\",\"zerolinecolor\":\"white\",\"gridwidth\":2},\"yaxis\":{\"backgroundcolor\":\"#E5ECF6\",\"gridcolor\":\"white\",\"linecolor\":\"white\",\"showbackground\":true,\"ticks\":\"\",\"zerolinecolor\":\"white\",\"gridwidth\":2},\"zaxis\":{\"backgroundcolor\":\"#E5ECF6\",\"gridcolor\":\"white\",\"linecolor\":\"white\",\"showbackground\":true,\"ticks\":\"\",\"zerolinecolor\":\"white\",\"gridwidth\":2}},\"shapedefaults\":{\"line\":{\"color\":\"#2a3f5f\"}},\"annotationdefaults\":{\"arrowcolor\":\"#2a3f5f\",\"arrowhead\":0,\"arrowwidth\":1},\"geo\":{\"bgcolor\":\"white\",\"landcolor\":\"#E5ECF6\",\"subunitcolor\":\"white\",\"showland\":true,\"showlakes\":true,\"lakecolor\":\"white\"},\"title\":{\"x\":0.05},\"mapbox\":{\"style\":\"light\"}}},\"xaxis\":{\"anchor\":\"y\",\"domain\":[0.0,1.0],\"title\":{\"text\":\"Popula\\u00e7\\u00e3o 2022\"},\"type\":\"log\"},\"yaxis\":{\"anchor\":\"x\",\"domain\":[0.0,1.0],\"title\":{\"text\":\"Matr\\u00edculas Fundamental\"}},\"legend\":{\"tracegroupgap\":0},\"margin\":{\"t\":60},\"width\":800,\"title\":{\"text\":\"Popula\\u00e7\\u00e3o X Matr\\u00edculas Fundamental\"}},                        {\"responsive\": true}                    ).then(function(){\n",
              "                            \n",
              "var gd = document.getElementById('9b5a7efb-85b7-4313-9222-10e4d7f56b8f');\n",
              "var x = new MutationObserver(function (mutations, observer) {{\n",
              "        var display = window.getComputedStyle(gd).display;\n",
              "        if (!display || display === 'none') {{\n",
              "            console.log([gd, 'removed!']);\n",
              "            Plotly.purge(gd);\n",
              "            observer.disconnect();\n",
              "        }}\n",
              "}});\n",
              "\n",
              "// Listen for the removal of the full notebook cells\n",
              "var notebookContainer = gd.closest('#notebook-container');\n",
              "if (notebookContainer) {{\n",
              "    x.observe(notebookContainer, {childList: true});\n",
              "}}\n",
              "\n",
              "// Listen for the clearing of the current output cell\n",
              "var outputEl = gd.closest('.output');\n",
              "if (outputEl) {{\n",
              "    x.observe(outputEl, {childList: true});\n",
              "}}\n",
              "\n",
              "                        })                };                });            </script>        </div>"
            ]
          },
          "metadata": {},
          "output_type": "display_data"
        },
        {
          "data": {
            "application/vnd.plotly.v1+json": {
              "config": {
                "plotlyServerURL": "https://plot.ly"
              },
              "data": [
                {
                  "hovertemplate": "<b>%{hovertext}</b><br><br>POP_Censo_2022=%{x}<br>QT_MAT_ESP_22=%{y}<extra></extra>",
                  "hovertext": [
                    "Abaíra",
                    "Abaré",
                    "Acajutiba",
                    "Adustina",
                    "Água Fria",
                    "Aiquara",
                    "Alagoinhas",
                    "Alcobaça",
                    "Almadina",
                    "Amargosa",
                    "Amélia Rodrigues",
                    "América Dourada",
                    "Anagé",
                    "Andaraí",
                    "Andorinha",
                    "Angical",
                    "Anguera",
                    "Antas",
                    "Antônio Cardoso",
                    "Antônio Gonçalves",
                    "Aporá",
                    "Apuarema",
                    "Araçás",
                    "Aracatu",
                    "Araci",
                    "Aramari",
                    "Arataca",
                    "Aratuípe",
                    "Aurelino Leal",
                    "Baianópolis",
                    "Baixa Grande",
                    "Banzaê",
                    "Barra",
                    "Barra da Estiva",
                    "Barra do Choça",
                    "Barra do Mendes",
                    "Barra do Rocha",
                    "Barreiras",
                    "Barro Alto",
                    "Barro Preto",
                    "Barrocas",
                    "Belmonte",
                    "Belo Campo",
                    "Biritinga",
                    "Boa Nova",
                    "Boa Vista do Tupim",
                    "Bom Jesus da Lapa",
                    "Bom Jesus da Serra",
                    "Boninal",
                    "Bonito",
                    "Boquira",
                    "Botuporã",
                    "Brejões",
                    "Brejolândia",
                    "Brotas de Macaúbas",
                    "Brumado",
                    "Buerarema",
                    "Buritirama",
                    "Caatiba",
                    "Cabaceiras do Paraguaçu",
                    "Cachoeira",
                    "Caculé",
                    "Caém",
                    "Caetanos",
                    "Caetité",
                    "Cafarnaum",
                    "Cairu",
                    "Caldeirão Grande",
                    "Camacan",
                    "Camaçari",
                    "Camamu",
                    "Campo Alegre de Lourdes",
                    "Campo Formoso",
                    "Canápolis",
                    "Canarana",
                    "Canavieiras",
                    "Candeal",
                    "Candeias",
                    "Candiba",
                    "Cândido Sales",
                    "Cansanção",
                    "Canudos",
                    "Capela do Alto Alegre",
                    "Capim Grosso",
                    "Caraíbas",
                    "Caravelas",
                    "Cardeal da Silva",
                    "Carinhanha",
                    "Casa Nova",
                    "Castro Alves",
                    "Catolândia",
                    "Catu",
                    "Caturama",
                    "Central",
                    "Chorrochó",
                    "Cícero Dantas",
                    "Cipó",
                    "Coaraci",
                    "Cocos",
                    "Conceição da Feira",
                    "Conceição do Almeida",
                    "Conceição do Coité",
                    "Conceição do Jacuípe",
                    "Conde",
                    "Condeúba",
                    "Contendas do Sincorá",
                    "Coração de Maria",
                    "Cordeiros",
                    "Coribe",
                    "Coronel João Sá",
                    "Correntina",
                    "Cotegipe",
                    "Cravolândia",
                    "Crisópolis",
                    "Cristópolis",
                    "Cruz das Almas",
                    "Curaçá",
                    "Dário Meira",
                    "Dias d'Ávila",
                    "Dom Basílio",
                    "Dom Macedo Costa",
                    "Elísio Medrado",
                    "Encruzilhada",
                    "Entre Rios",
                    "Érico Cardoso",
                    "Esplanada",
                    "Euclides da Cunha",
                    "Eunápolis",
                    "Fátima",
                    "Feira da Mata",
                    "Feira de Santana",
                    "Filadélfia",
                    "Firmino Alves",
                    "Floresta Azul",
                    "Formosa do Rio Preto",
                    "Gandu",
                    "Gavião",
                    "Gentio do Ouro",
                    "Glória",
                    "Gongogi",
                    "Governador Mangabeira",
                    "Guajeru",
                    "Guanambi",
                    "Guaratinga",
                    "Heliópolis",
                    "Iaçu",
                    "Ibiassucê",
                    "Ibicaraí",
                    "Ibicoara",
                    "Ibicuí",
                    "Ibipeba",
                    "Ibipitanga",
                    "Ibiquera",
                    "Ibirapitanga",
                    "Ibirapuã",
                    "Ibirataia",
                    "Ibitiara",
                    "Ibititá",
                    "Ibotirama",
                    "Ichu",
                    "Igaporã",
                    "Igrapiúna",
                    "Iguaí",
                    "Ilhéus",
                    "Inhambupe",
                    "Ipecaetá",
                    "Ipiaú",
                    "Ipirá",
                    "Ipupiara",
                    "Irajuba",
                    "Iramaia",
                    "Iraquara",
                    "Irará",
                    "Irecê",
                    "Itabela",
                    "Itaberaba",
                    "Itabuna",
                    "Itacaré",
                    "Itaeté",
                    "Itagi",
                    "Itagibá",
                    "Itagimirim",
                    "Itaguaçu da Bahia",
                    "Itaju do Colônia",
                    "Itajuípe",
                    "Itamaraju",
                    "Itamari",
                    "Itambé",
                    "Itanagra",
                    "Itanhém",
                    "Itaparica",
                    "Itapé",
                    "Itapebi",
                    "Itapetinga",
                    "Itapicuru",
                    "Itapitanga",
                    "Itaquara",
                    "Itarantim",
                    "Itatim",
                    "Itiruçu",
                    "Itiúba",
                    "Itororó",
                    "Ituaçu",
                    "Ituberá",
                    "Iuiu",
                    "Jaborandi",
                    "Jacaraci",
                    "Jacobina",
                    "Jaguaquara",
                    "Jaguarari",
                    "Jaguaripe",
                    "Jandaíra",
                    "Jequié",
                    "Jeremoabo",
                    "Jiquiriçá",
                    "Jitaúna",
                    "João Dourado",
                    "Juazeiro",
                    "Jucuruçu",
                    "Jussara",
                    "Jussari",
                    "Jussiape",
                    "Lafaiete Coutinho",
                    "Lagoa Real",
                    "Laje",
                    "Lajedão",
                    "Lajedinho",
                    "Lajedo do Tabocal",
                    "Lamarão",
                    "Lapão",
                    "Lauro de Freitas",
                    "Lençóis",
                    "Licínio de Almeida",
                    "Livramento de Nossa Senhora",
                    "Luís Eduardo Magalhães",
                    "Macajuba",
                    "Macarani",
                    "Macaúbas",
                    "Macururé",
                    "Madre de Deus",
                    "Maetinga",
                    "Maiquinique",
                    "Mairi",
                    "Malhada",
                    "Malhada de Pedras",
                    "Manoel Vitorino",
                    "Mansidão",
                    "Maracás",
                    "Maragogipe",
                    "Maraú",
                    "Marcionílio Souza",
                    "Mascote",
                    "Mata de São João",
                    "Matina",
                    "Medeiros Neto",
                    "Miguel Calmon",
                    "Milagres",
                    "Mirangaba",
                    "Mirante",
                    "Monte Santo",
                    "Morpará",
                    "Morro do Chapéu",
                    "Mortugaba",
                    "Mucugê",
                    "Mucuri",
                    "Mulungu do Morro",
                    "Mundo Novo",
                    "Muniz Ferreira",
                    "Muquém do São Francisco",
                    "Muritiba",
                    "Mutuípe",
                    "Nazaré",
                    "Nilo Peçanha",
                    "Nordestina",
                    "Nova Canaã",
                    "Nova Fátima",
                    "Nova Ibiá",
                    "Nova Itarana",
                    "Nova Redenção",
                    "Nova Soure",
                    "Nova Viçosa",
                    "Novo Horizonte",
                    "Novo Triunfo",
                    "Olindina",
                    "Oliveira dos Brejinhos",
                    "Ouriçangas",
                    "Ourolândia",
                    "Palmas de Monte Alto",
                    "Palmeiras",
                    "Paramirim",
                    "Paratinga",
                    "Paripiranga",
                    "Pau Brasil",
                    "Paulo Afonso",
                    "Pé de Serra",
                    "Pedrão",
                    "Pedro Alexandre",
                    "Piatã",
                    "Pilão Arcado",
                    "Pindaí",
                    "Pindobaçu",
                    "Pintadas",
                    "Piraí do Norte",
                    "Piripá",
                    "Piritiba",
                    "Planaltino",
                    "Planalto",
                    "Poções",
                    "Pojuca",
                    "Ponto Novo",
                    "Porto Seguro",
                    "Potiraguá",
                    "Prado",
                    "Presidente Dutra",
                    "Presidente Jânio Quadros",
                    "Presidente Tancredo Neves",
                    "Queimadas",
                    "Quijingue",
                    "Quixabeira",
                    "Rafael Jambeiro",
                    "Remanso",
                    "Retirolândia",
                    "Riachão das Neves",
                    "Riachão do Jacuípe",
                    "Riacho de Santana",
                    "Ribeira do Amparo",
                    "Ribeira do Pombal",
                    "Ribeirão do Largo",
                    "Rio de Contas",
                    "Rio do Antônio",
                    "Rio do Pires",
                    "Rio Real",
                    "Rodelas",
                    "Ruy Barbosa",
                    "Salinas da Margarida",
                    "Salvador",
                    "Santa Bárbara",
                    "Santa Brígida",
                    "Santa Cruz Cabrália",
                    "Santa Cruz da Vitória",
                    "Santa Inês",
                    "Santa Luzia",
                    "Santa Maria da Vitória",
                    "Santa Rita de Cássia",
                    "Santa Terezinha",
                    "Santaluz",
                    "Santana",
                    "Santanópolis",
                    "Santo Amaro",
                    "Santo Antônio de Jesus",
                    "Santo Estêvão",
                    "São Desidério",
                    "São Domingos",
                    "São Felipe",
                    "São Félix",
                    "São Félix do Coribe",
                    "São Francisco do Conde",
                    "São Gabriel",
                    "São Gonçalo dos Campos",
                    "São José da Vitória",
                    "São José do Jacuípe",
                    "São Miguel das Matas",
                    "São Sebastião do Passé",
                    "Sapeaçu",
                    "Sátiro Dias",
                    "Saubara",
                    "Saúde",
                    "Seabra",
                    "Sebastião Laranjeiras",
                    "Senhor do Bonfim",
                    "Sento Sé",
                    "Serra do Ramalho",
                    "Serra Dourada",
                    "Serra Preta",
                    "Serrinha",
                    "Serrolândia",
                    "Simões Filho",
                    "Sítio do Mato",
                    "Sítio do Quinto",
                    "Sobradinho",
                    "Souto Soares",
                    "Tabocas do Brejo Velho",
                    "Tanhaçu",
                    "Tanque Novo",
                    "Tanquinho",
                    "Taperoá",
                    "Tapiramutá",
                    "Teixeira de Freitas",
                    "Teodoro Sampaio",
                    "Teofilândia",
                    "Teolândia",
                    "Terra Nova",
                    "Tremedal",
                    "Tucano",
                    "Uauá",
                    "Ubaíra",
                    "Ubaitaba",
                    "Ubatã",
                    "Uibaí",
                    "Umburanas",
                    "Una",
                    "Urandi",
                    "Uruçuca",
                    "Utinga",
                    "Valença",
                    "Valente",
                    "Várzea da Roça",
                    "Várzea do Poço",
                    "Várzea Nova",
                    "Varzedo",
                    "Vera Cruz",
                    "Vereda",
                    "Vitória da Conquista",
                    "Wagner",
                    "Wanderley",
                    "Wenceslau Guimarães",
                    "Xique-Xique"
                  ],
                  "legendgroup": "",
                  "marker": {
                    "color": "#636efa",
                    "line": {
                      "width": 2
                    },
                    "size": 12,
                    "symbol": "circle"
                  },
                  "mode": "markers",
                  "name": "",
                  "orientation": "v",
                  "showlegend": false,
                  "type": "scatter",
                  "x": [
                    " 7.290 ",
                    " 18.766 ",
                    " 13.715 ",
                    " 14.166 ",
                    " 17.398 ",
                    " 4.566 ",
                    " 157.864 ",
                    " 23.633 ",
                    " 5.195 ",
                    " 36.260 ",
                    " 23.639 ",
                    " 15.104 ",
                    " 25.452 ",
                    " 13.406 ",
                    " 15.011 ",
                    " 14.973 ",
                    " 11.019 ",
                    " 14.453 ",
                    " 11.268 ",
                    " 11.921 ",
                    " 16.909 ",
                    " 6.900 ",
                    " 12.605 ",
                    " 13.819 ",
                    " 51.377 ",
                    " 9.781 ",
                    " 8.219 ",
                    " 10.006 ",
                    " 11.782 ",
                    " 13.618 ",
                    " 17.880 ",
                    " 11.869 ",
                    " 50.543 ",
                    " 26.031 ",
                    " 40.025 ",
                    " 13.852 ",
                    " 6.682 ",
                    " 165.413 ",
                    " 13.761 ",
                    " 5.820 ",
                    " 15.396 ",
                    " 20.565 ",
                    " 18.399 ",
                    " 15.151 ",
                    " 14.160 ",
                    " 19.320 ",
                    " 74.040 ",
                    " 9.572 ",
                    " 13.653 ",
                    " 15.837 ",
                    " 20.588 ",
                    " 11.040 ",
                    " 12.914 ",
                    " 9.114 ",
                    " 12.467 ",
                    " 70.268 ",
                    " 16.880 ",
                    " 19.514 ",
                    " 6.915 ",
                    " 19.432 ",
                    " 31.982 ",
                    " 22.412 ",
                    " 10.360 ",
                    " 13.242 ",
                    " 52.099 ",
                    " 17.975 ",
                    " 17.591 ",
                    " 13.063 ",
                    " 22.460 ",
                    " 334.195 ",
                    " 30.480 ",
                    " 30.659 ",
                    " 68.571 ",
                    " 10.225 ",
                    " 23.491 ",
                    " 33.080 ",
                    " 7.785 ",
                    " 77.026 ",
                    " 13.007 ",
                    " 25.278 ",
                    " 39.475 ",
                    " 15.906 ",
                    " 10.754 ",
                    " 33.344 ",
                    " 9.938 ",
                    " 21.612 ",
                    " 8.376 ",
                    " 28.869 ",
                    " 71.572 ",
                    " 24.700 ",
                    " 3.480 ",
                    " 48.137 ",
                    " 8.847 ",
                    " 16.223 ",
                    " 10.587 ",
                    " 30.836 ",
                    " 17.246 ",
                    " 17.949 ",
                    " 19.156 ",
                    " 22.936 ",
                    " 15.401 ",
                    " 70.202 ",
                    " 34.994 ",
                    " 24.433 ",
                    " 17.059 ",
                    " 4.750 ",
                    " 28.340 ",
                    " 7.555 ",
                    " 14.158 ",
                    "17.000(26)",
                    " 32.709 ",
                    " 13.059 ",
                    " 4.445 ",
                    " 19.720 ",
                    " 14.002 ",
                    " 60.633 ",
                    " 33.603 ",
                    " 10.025 ",
                    " 69.211 ",
                    " 11.905 ",
                    " 4.418 ",
                    " 7.782 ",
                    " 19.111 ",
                    " 38.880 ",
                    " 10.581 ",
                    " 34.033 ",
                    " 65.187 ",
                    " 112.477 ",
                    " 17.899 ",
                    " 5.618 ",
                    " 652.592 ",
                    " 17.892 ",
                    " 5.925 ",
                    " 11.068 ",
                    " 25.185 ",
                    " 29.776 ",
                    " 4.357 ",
                    " 11.896 ",
                    " 16.698 ",
                    " 5.549 ",
                    " 20.604 ",
                    " 8.054 ",
                    " 87.580 ",
                    " 20.338 ",
                    " 12.301 ",
                    " 25.178 ",
                    "10.426(27)",
                    " 21.688 ",
                    " 20.874 ",
                    " 13.791 ",
                    " 18.540 ",
                    " 13.905 ",
                    " 3.722 ",
                    " 27.341 ",
                    " 8.331 ",
                    " 19.613 ",
                    " 14.622 ",
                    " 17.954 ",
                    " 26.611 ",
                    " 6.192 ",
                    " 17.022 ",
                    " 13.077 ",
                    " 25.114 ",
                    " 197.163 ",
                    " 33.771 ",
                    " 16.230 ",
                    " 43.078 ",
                    " 58.094 ",
                    " 9.925 ",
                    " 6.100 ",
                    " 10.755 ",
                    " 25.590 ",
                    " 27.984 ",
                    " 76.491 ",
                    " 27.691 ",
                    " 67.605 ",
                    " 185.500 ",
                    " 28.214 ",
                    " 14.031 ",
                    " 13.925 ",
                    " 15.556 ",
                    " 7.037 ",
                    " 13.116 ",
                    " 6.033 ",
                    " 19.913 ",
                    " 60.831 ",
                    " 7.050 ",
                    " 26.420 ",
                    " 5.814 ",
                    " 19.025 ",
                    " 19.738 ",
                    " 10.327 ",
                    " 9.779 ",
                    " 68.704 ",
                    " 32.793 ",
                    " 10.320 ",
                    " 8.175 ",
                    " 17.035 ",
                    " 15.749 ",
                    " 11.016 ",
                    " 33.671 ",
                    " 17.729 ",
                    " 18.992 ",
                    " 21.974 ",
                    " 11.101 ",
                    " 9.269 ",
                    " 14.625 ",
                    " 88.296 ",
                    " 46.026 ",
                    " 32.495 ",
                    " 20.237 ",
                    " 9.112 ",
                    " 156.408 ",
                    " 37.519 ",
                    " 13.623 ",
                    " 14.614 ",
                    " 26.186 ",
                    " 244.406 ",
                    " 9.971 ",
                    " 16.922 ",
                    " 5.902 ",
                    " 7.381 ",
                    " 4.044 ",
                    " 13.990 ",
                    " 23.198 ",
                    " 4.550 ",
                    " 4.102 ",
                    " 7.486 ",
                    " 9.062 ",
                    " 25.713 ",
                    " 220.437 ",
                    " 11.022 ",
                    " 11.848 ",
                    " 43.898 ",
                    " 108.271 ",
                    " 10.463 ",
                    " 21.556 ",
                    " 41.631 ",
                    " 7.600 ",
                    " 18.767 ",
                    " 6.968 ",
                    " 9.452 ",
                    " 16.122 ",
                    " 15.426 ",
                    " 8.673 ",
                    " 13.327 ",
                    " 13.902 ",
                    " 27.747 ",
                    " 38.394 ",
                    " 24.713 ",
                    " 9.256 ",
                    " 11.991 ",
                    " 48.698 ",
                    " 10.338 ",
                    " 23.096 ",
                    " 27.817 ",
                    " 11.076 ",
                    " 15.050 ",
                    " 10.072 ",
                    " 47.758 ",
                    " 8.303 ",
                    " 33.389 ",
                    " 11.131 ",
                    " 12.988 ",
                    " 38.082 ",
                    " 13.166 ",
                    " 20.564 ",
                    " 7.165 ",
                    " 11.029 ",
                    " 28.558 ",
                    " 20.028 ",
                    " 28.181 ",
                    " 12.032 ",
                    " 18.536 ",
                    " 15.959 ",
                    " 7.958 ",
                    " 8.325 ",
                    " 7.820 ",
                    " 7.525 ",
                    " 24.206 ",
                    " 41.089 ",
                    " 11.163 ",
                    " 10.666 ",
                    " 22.615 ",
                    " 22.850 ",
                    " 7.728 ",
                    " 19.322 ",
                    " 20.091 ",
                    " 10.383 ",
                    " 20.378 ",
                    " 28.947 ",
                    " 26.609 ",
                    " 10.669 ",
                    " 118.412 ",
                    " 13.242 ",
                    " 6.229 ",
                    " 14.056 ",
                    " 20.098 ",
                    " 35.326 ",
                    " 14.740 ",
                    " 19.133 ",
                    " 9.805 ",
                    " 10.200 ",
                    " 9.158 ",
                    " 17.549 ",
                    " 8.012 ",
                    " 23.290 ",
                    " 48.197 ",
                    " 33.079 ",
                    " 17.941 ",
                    " 158.736 ",
                    " 11.524 ",
                    " 31.715 ",
                    " 15.133 ",
                    " 12.627 ",
                    " 27.662 ",
                    " 26.027 ",
                    " 27.317 ",
                    " 9.429 ",
                    " 20.242 ",
                    " 40.531 ",
                    " 13.654 ",
                    " 22.289 ",
                    " 33.422 ",
                    " 39.127 ",
                    " 13.831 ",
                    " 53.997 ",
                    " 10.382 ",
                    " 13.634 ",
                    " 13.098 ",
                    " 9.585 ",
                    " 35.378 ",
                    "10.303(28)",
                    " 30.172 ",
                    " 14.989 ",
                    " 2.610.987 ",
                    " 22.446 ",
                    " 14.979 ",
                    " 30.385 ",
                    " 4.672 ",
                    " 10.293 ",
                    " 11.776 ",
                    " 38.686 ",
                    " 28.084 ",
                    " 9.790 ",
                    " 37.079 ",
                    " 24.778 ",
                    " 9.831 ",
                    " 55.935 ",
                    " 103.055 ",
                    " 55.696 ",
                    " 36.793 ",
                    " 8.417 ",
                    " 20.286 ",
                    " 10.946 ",
                    " 15.704 ",
                    " 37.892 ",
                    " 18.417 ",
                    " 39.570 ",
                    " 5.321 ",
                    " 10.195 ",
                    " 10.334 ",
                    " 40.376 ",
                    " 17.993 ",
                    " 16.021 ",
                    " 11.433 ",
                    " 10.482 ",
                    " 49.587 ",
                    " 9.373 ",
                    " 77.514 ",
                    " 37.389 ",
                    " 34.270 ",
                    " 16.691 ",
                    " 18.090 ",
                    " 85.696 ",
                    " 13.320 ",
                    " 127.093 ",
                    " 13.408 ",
                    " 14.778 ",
                    " 24.799 ",
                    " 16.904 ",
                    " 11.990 ",
                    " 21.407 ",
                    " 18.459 ",
                    " 7.729 ",
                    " 18.016 ",
                    " 15.884 ",
                    " 147.454 ",
                    " 7.220 ",
                    " 21.811 ",
                    " 15.892 ",
                    " 10.802 ",
                    " 17.497 ",
                    " 48.062 ",
                    " 24.654 ",
                    " 18.605 ",
                    " 17.626 ",
                    " 18.161 ",
                    " 14.844 ",
                    " 13.511 ",
                    " 17.998 ",
                    " 15.365 ",
                    " 21.365 ",
                    " 16.285 ",
                    " 96.226 ",
                    " 23.683 ",
                    " 13.043 ",
                    " 8.115 ",
                    " 13.369 ",
                    " 9.913 ",
                    " 40.915 ",
                    " 7.072 ",
                    " 387.524 ",
                    " 8.861 ",
                    " 13.071 ",
                    " 26.279 ",
                    " 46.328 "
                  ],
                  "xaxis": "x",
                  "y": [
                    62,
                    67,
                    91,
                    95,
                    131,
                    44,
                    385,
                    451,
                    25,
                    348,
                    172,
                    183,
                    147,
                    154,
                    207,
                    71,
                    42,
                    135,
                    125,
                    112,
                    75,
                    97,
                    67,
                    71,
                    342,
                    62,
                    107,
                    64,
                    185,
                    60,
                    118,
                    312,
                    268,
                    103,
                    334,
                    111,
                    65,
                    786,
                    115,
                    99,
                    37,
                    157,
                    200,
                    856,
                    129,
                    89,
                    309,
                    39,
                    103,
                    278,
                    106,
                    166,
                    88,
                    35,
                    80,
                    320,
                    79,
                    42,
                    44,
                    127,
                    175,
                    145,
                    95,
                    53,
                    386,
                    117,
                    129,
                    219,
                    174,
                    706,
                    188,
                    92,
                    545,
                    46,
                    394,
                    203,
                    23,
                    350,
                    82,
                    197,
                    906,
                    202,
                    116,
                    283,
                    77,
                    134,
                    55,
                    431,
                    347,
                    184,
                    25,
                    372,
                    45,
                    40,
                    51,
                    147,
                    107,
                    121,
                    91,
                    271,
                    77,
                    529,
                    169,
                    201,
                    65,
                    31,
                    118,
                    40,
                    47,
                    260,
                    221,
                    44,
                    29,
                    291,
                    53,
                    484,
                    276,
                    231,
                    487,
                    151,
                    39,
                    163,
                    137,
                    138,
                    66,
                    120,
                    1120,
                    841,
                    105,
                    114,
                    3040,
                    235,
                    61,
                    111,
                    134,
                    189,
                    41,
                    90,
                    149,
                    191,
                    89,
                    63,
                    954,
                    262,
                    92,
                    475,
                    46,
                    269,
                    226,
                    221,
                    56,
                    103,
                    7,
                    281,
                    98,
                    110,
                    60,
                    98,
                    148,
                    104,
                    72,
                    116,
                    126,
                    1430,
                    140,
                    141,
                    403,
                    250,
                    17,
                    27,
                    72,
                    382,
                    176,
                    802,
                    612,
                    673,
                    2306,
                    304,
                    56,
                    114,
                    215,
                    96,
                    54,
                    116,
                    240,
                    584,
                    34,
                    217,
                    35,
                    121,
                    392,
                    208,
                    81,
                    633,
                    207,
                    79,
                    54,
                    86,
                    409,
                    67,
                    851,
                    118,
                    173,
                    207,
                    72,
                    41,
                    170,
                    434,
                    388,
                    247,
                    157,
                    42,
                    1910,
                    179,
                    167,
                    87,
                    304,
                    1018,
                    81,
                    138,
                    174,
                    15,
                    90,
                    49,
                    222,
                    35,
                    12,
                    50,
                    95,
                    206,
                    1003,
                    73,
                    81,
                    116,
                    880,
                    89,
                    162,
                    164,
                    82,
                    125,
                    37,
                    149,
                    65,
                    255,
                    93,
                    104,
                    20,
                    234,
                    314,
                    205,
                    112,
                    347,
                    416,
                    133,
                    176,
                    114,
                    41,
                    172,
                    53,
                    497,
                    51,
                    169,
                    160,
                    49,
                    764,
                    228,
                    67,
                    15,
                    72,
                    484,
                    146,
                    269,
                    215,
                    151,
                    302,
                    75,
                    68,
                    102,
                    95,
                    74,
                    444,
                    97,
                    77,
                    275,
                    85,
                    20,
                    190,
                    55,
                    46,
                    84,
                    69,
                    90,
                    53,
                    816,
                    166,
                    82,
                    38,
                    354,
                    107,
                    222,
                    145,
                    44,
                    40,
                    68,
                    91,
                    48,
                    146,
                    562,
                    302,
                    220,
                    1840,
                    113,
                    152,
                    51,
                    71,
                    276,
                    404,
                    141,
                    329,
                    74,
                    306,
                    160,
                    132,
                    266,
                    238,
                    59,
                    541,
                    107,
                    37,
                    59,
                    84,
                    139,
                    30,
                    236,
                    87,
                    6578,
                    253,
                    65,
                    581,
                    54,
                    195,
                    186,
                    201,
                    149,
                    80,
                    438,
                    86,
                    84,
                    313,
                    591,
                    489,
                    162,
                    75,
                    166,
                    129,
                    74,
                    227,
                    83,
                    111,
                    41,
                    55,
                    86,
                    133,
                    202,
                    98,
                    46,
                    138,
                    550,
                    31,
                    445,
                    238,
                    438,
                    90,
                    241,
                    990,
                    149,
                    647,
                    20,
                    272,
                    144,
                    115,
                    30,
                    101,
                    195,
                    24,
                    266,
                    48,
                    1045,
                    60,
                    87,
                    128,
                    109,
                    131,
                    410,
                    215,
                    197,
                    558,
                    214,
                    55,
                    127,
                    409,
                    141,
                    289,
                    101,
                    433,
                    275,
                    142,
                    40,
                    136,
                    94,
                    604,
                    47,
                    1248,
                    63,
                    132,
                    113,
                    323
                  ],
                  "yaxis": "y"
                }
              ],
              "layout": {
                "legend": {
                  "tracegroupgap": 0
                },
                "margin": {
                  "t": 60
                },
                "template": {
                  "data": {
                    "bar": [
                      {
                        "error_x": {
                          "color": "#2a3f5f"
                        },
                        "error_y": {
                          "color": "#2a3f5f"
                        },
                        "marker": {
                          "line": {
                            "color": "#E5ECF6",
                            "width": 0.5
                          },
                          "pattern": {
                            "fillmode": "overlay",
                            "size": 10,
                            "solidity": 0.2
                          }
                        },
                        "type": "bar"
                      }
                    ],
                    "barpolar": [
                      {
                        "marker": {
                          "line": {
                            "color": "#E5ECF6",
                            "width": 0.5
                          },
                          "pattern": {
                            "fillmode": "overlay",
                            "size": 10,
                            "solidity": 0.2
                          }
                        },
                        "type": "barpolar"
                      }
                    ],
                    "carpet": [
                      {
                        "aaxis": {
                          "endlinecolor": "#2a3f5f",
                          "gridcolor": "white",
                          "linecolor": "white",
                          "minorgridcolor": "white",
                          "startlinecolor": "#2a3f5f"
                        },
                        "baxis": {
                          "endlinecolor": "#2a3f5f",
                          "gridcolor": "white",
                          "linecolor": "white",
                          "minorgridcolor": "white",
                          "startlinecolor": "#2a3f5f"
                        },
                        "type": "carpet"
                      }
                    ],
                    "choropleth": [
                      {
                        "colorbar": {
                          "outlinewidth": 0,
                          "ticks": ""
                        },
                        "type": "choropleth"
                      }
                    ],
                    "contour": [
                      {
                        "colorbar": {
                          "outlinewidth": 0,
                          "ticks": ""
                        },
                        "colorscale": [
                          [
                            0,
                            "#0d0887"
                          ],
                          [
                            0.1111111111111111,
                            "#46039f"
                          ],
                          [
                            0.2222222222222222,
                            "#7201a8"
                          ],
                          [
                            0.3333333333333333,
                            "#9c179e"
                          ],
                          [
                            0.4444444444444444,
                            "#bd3786"
                          ],
                          [
                            0.5555555555555556,
                            "#d8576b"
                          ],
                          [
                            0.6666666666666666,
                            "#ed7953"
                          ],
                          [
                            0.7777777777777778,
                            "#fb9f3a"
                          ],
                          [
                            0.8888888888888888,
                            "#fdca26"
                          ],
                          [
                            1,
                            "#f0f921"
                          ]
                        ],
                        "type": "contour"
                      }
                    ],
                    "contourcarpet": [
                      {
                        "colorbar": {
                          "outlinewidth": 0,
                          "ticks": ""
                        },
                        "type": "contourcarpet"
                      }
                    ],
                    "heatmap": [
                      {
                        "colorbar": {
                          "outlinewidth": 0,
                          "ticks": ""
                        },
                        "colorscale": [
                          [
                            0,
                            "#0d0887"
                          ],
                          [
                            0.1111111111111111,
                            "#46039f"
                          ],
                          [
                            0.2222222222222222,
                            "#7201a8"
                          ],
                          [
                            0.3333333333333333,
                            "#9c179e"
                          ],
                          [
                            0.4444444444444444,
                            "#bd3786"
                          ],
                          [
                            0.5555555555555556,
                            "#d8576b"
                          ],
                          [
                            0.6666666666666666,
                            "#ed7953"
                          ],
                          [
                            0.7777777777777778,
                            "#fb9f3a"
                          ],
                          [
                            0.8888888888888888,
                            "#fdca26"
                          ],
                          [
                            1,
                            "#f0f921"
                          ]
                        ],
                        "type": "heatmap"
                      }
                    ],
                    "heatmapgl": [
                      {
                        "colorbar": {
                          "outlinewidth": 0,
                          "ticks": ""
                        },
                        "colorscale": [
                          [
                            0,
                            "#0d0887"
                          ],
                          [
                            0.1111111111111111,
                            "#46039f"
                          ],
                          [
                            0.2222222222222222,
                            "#7201a8"
                          ],
                          [
                            0.3333333333333333,
                            "#9c179e"
                          ],
                          [
                            0.4444444444444444,
                            "#bd3786"
                          ],
                          [
                            0.5555555555555556,
                            "#d8576b"
                          ],
                          [
                            0.6666666666666666,
                            "#ed7953"
                          ],
                          [
                            0.7777777777777778,
                            "#fb9f3a"
                          ],
                          [
                            0.8888888888888888,
                            "#fdca26"
                          ],
                          [
                            1,
                            "#f0f921"
                          ]
                        ],
                        "type": "heatmapgl"
                      }
                    ],
                    "histogram": [
                      {
                        "marker": {
                          "pattern": {
                            "fillmode": "overlay",
                            "size": 10,
                            "solidity": 0.2
                          }
                        },
                        "type": "histogram"
                      }
                    ],
                    "histogram2d": [
                      {
                        "colorbar": {
                          "outlinewidth": 0,
                          "ticks": ""
                        },
                        "colorscale": [
                          [
                            0,
                            "#0d0887"
                          ],
                          [
                            0.1111111111111111,
                            "#46039f"
                          ],
                          [
                            0.2222222222222222,
                            "#7201a8"
                          ],
                          [
                            0.3333333333333333,
                            "#9c179e"
                          ],
                          [
                            0.4444444444444444,
                            "#bd3786"
                          ],
                          [
                            0.5555555555555556,
                            "#d8576b"
                          ],
                          [
                            0.6666666666666666,
                            "#ed7953"
                          ],
                          [
                            0.7777777777777778,
                            "#fb9f3a"
                          ],
                          [
                            0.8888888888888888,
                            "#fdca26"
                          ],
                          [
                            1,
                            "#f0f921"
                          ]
                        ],
                        "type": "histogram2d"
                      }
                    ],
                    "histogram2dcontour": [
                      {
                        "colorbar": {
                          "outlinewidth": 0,
                          "ticks": ""
                        },
                        "colorscale": [
                          [
                            0,
                            "#0d0887"
                          ],
                          [
                            0.1111111111111111,
                            "#46039f"
                          ],
                          [
                            0.2222222222222222,
                            "#7201a8"
                          ],
                          [
                            0.3333333333333333,
                            "#9c179e"
                          ],
                          [
                            0.4444444444444444,
                            "#bd3786"
                          ],
                          [
                            0.5555555555555556,
                            "#d8576b"
                          ],
                          [
                            0.6666666666666666,
                            "#ed7953"
                          ],
                          [
                            0.7777777777777778,
                            "#fb9f3a"
                          ],
                          [
                            0.8888888888888888,
                            "#fdca26"
                          ],
                          [
                            1,
                            "#f0f921"
                          ]
                        ],
                        "type": "histogram2dcontour"
                      }
                    ],
                    "mesh3d": [
                      {
                        "colorbar": {
                          "outlinewidth": 0,
                          "ticks": ""
                        },
                        "type": "mesh3d"
                      }
                    ],
                    "parcoords": [
                      {
                        "line": {
                          "colorbar": {
                            "outlinewidth": 0,
                            "ticks": ""
                          }
                        },
                        "type": "parcoords"
                      }
                    ],
                    "pie": [
                      {
                        "automargin": true,
                        "type": "pie"
                      }
                    ],
                    "scatter": [
                      {
                        "fillpattern": {
                          "fillmode": "overlay",
                          "size": 10,
                          "solidity": 0.2
                        },
                        "type": "scatter"
                      }
                    ],
                    "scatter3d": [
                      {
                        "line": {
                          "colorbar": {
                            "outlinewidth": 0,
                            "ticks": ""
                          }
                        },
                        "marker": {
                          "colorbar": {
                            "outlinewidth": 0,
                            "ticks": ""
                          }
                        },
                        "type": "scatter3d"
                      }
                    ],
                    "scattercarpet": [
                      {
                        "marker": {
                          "colorbar": {
                            "outlinewidth": 0,
                            "ticks": ""
                          }
                        },
                        "type": "scattercarpet"
                      }
                    ],
                    "scattergeo": [
                      {
                        "marker": {
                          "colorbar": {
                            "outlinewidth": 0,
                            "ticks": ""
                          }
                        },
                        "type": "scattergeo"
                      }
                    ],
                    "scattergl": [
                      {
                        "marker": {
                          "colorbar": {
                            "outlinewidth": 0,
                            "ticks": ""
                          }
                        },
                        "type": "scattergl"
                      }
                    ],
                    "scattermapbox": [
                      {
                        "marker": {
                          "colorbar": {
                            "outlinewidth": 0,
                            "ticks": ""
                          }
                        },
                        "type": "scattermapbox"
                      }
                    ],
                    "scatterpolar": [
                      {
                        "marker": {
                          "colorbar": {
                            "outlinewidth": 0,
                            "ticks": ""
                          }
                        },
                        "type": "scatterpolar"
                      }
                    ],
                    "scatterpolargl": [
                      {
                        "marker": {
                          "colorbar": {
                            "outlinewidth": 0,
                            "ticks": ""
                          }
                        },
                        "type": "scatterpolargl"
                      }
                    ],
                    "scatterternary": [
                      {
                        "marker": {
                          "colorbar": {
                            "outlinewidth": 0,
                            "ticks": ""
                          }
                        },
                        "type": "scatterternary"
                      }
                    ],
                    "surface": [
                      {
                        "colorbar": {
                          "outlinewidth": 0,
                          "ticks": ""
                        },
                        "colorscale": [
                          [
                            0,
                            "#0d0887"
                          ],
                          [
                            0.1111111111111111,
                            "#46039f"
                          ],
                          [
                            0.2222222222222222,
                            "#7201a8"
                          ],
                          [
                            0.3333333333333333,
                            "#9c179e"
                          ],
                          [
                            0.4444444444444444,
                            "#bd3786"
                          ],
                          [
                            0.5555555555555556,
                            "#d8576b"
                          ],
                          [
                            0.6666666666666666,
                            "#ed7953"
                          ],
                          [
                            0.7777777777777778,
                            "#fb9f3a"
                          ],
                          [
                            0.8888888888888888,
                            "#fdca26"
                          ],
                          [
                            1,
                            "#f0f921"
                          ]
                        ],
                        "type": "surface"
                      }
                    ],
                    "table": [
                      {
                        "cells": {
                          "fill": {
                            "color": "#EBF0F8"
                          },
                          "line": {
                            "color": "white"
                          }
                        },
                        "header": {
                          "fill": {
                            "color": "#C8D4E3"
                          },
                          "line": {
                            "color": "white"
                          }
                        },
                        "type": "table"
                      }
                    ]
                  },
                  "layout": {
                    "annotationdefaults": {
                      "arrowcolor": "#2a3f5f",
                      "arrowhead": 0,
                      "arrowwidth": 1
                    },
                    "autotypenumbers": "strict",
                    "coloraxis": {
                      "colorbar": {
                        "outlinewidth": 0,
                        "ticks": ""
                      }
                    },
                    "colorscale": {
                      "diverging": [
                        [
                          0,
                          "#8e0152"
                        ],
                        [
                          0.1,
                          "#c51b7d"
                        ],
                        [
                          0.2,
                          "#de77ae"
                        ],
                        [
                          0.3,
                          "#f1b6da"
                        ],
                        [
                          0.4,
                          "#fde0ef"
                        ],
                        [
                          0.5,
                          "#f7f7f7"
                        ],
                        [
                          0.6,
                          "#e6f5d0"
                        ],
                        [
                          0.7,
                          "#b8e186"
                        ],
                        [
                          0.8,
                          "#7fbc41"
                        ],
                        [
                          0.9,
                          "#4d9221"
                        ],
                        [
                          1,
                          "#276419"
                        ]
                      ],
                      "sequential": [
                        [
                          0,
                          "#0d0887"
                        ],
                        [
                          0.1111111111111111,
                          "#46039f"
                        ],
                        [
                          0.2222222222222222,
                          "#7201a8"
                        ],
                        [
                          0.3333333333333333,
                          "#9c179e"
                        ],
                        [
                          0.4444444444444444,
                          "#bd3786"
                        ],
                        [
                          0.5555555555555556,
                          "#d8576b"
                        ],
                        [
                          0.6666666666666666,
                          "#ed7953"
                        ],
                        [
                          0.7777777777777778,
                          "#fb9f3a"
                        ],
                        [
                          0.8888888888888888,
                          "#fdca26"
                        ],
                        [
                          1,
                          "#f0f921"
                        ]
                      ],
                      "sequentialminus": [
                        [
                          0,
                          "#0d0887"
                        ],
                        [
                          0.1111111111111111,
                          "#46039f"
                        ],
                        [
                          0.2222222222222222,
                          "#7201a8"
                        ],
                        [
                          0.3333333333333333,
                          "#9c179e"
                        ],
                        [
                          0.4444444444444444,
                          "#bd3786"
                        ],
                        [
                          0.5555555555555556,
                          "#d8576b"
                        ],
                        [
                          0.6666666666666666,
                          "#ed7953"
                        ],
                        [
                          0.7777777777777778,
                          "#fb9f3a"
                        ],
                        [
                          0.8888888888888888,
                          "#fdca26"
                        ],
                        [
                          1,
                          "#f0f921"
                        ]
                      ]
                    },
                    "colorway": [
                      "#636efa",
                      "#EF553B",
                      "#00cc96",
                      "#ab63fa",
                      "#FFA15A",
                      "#19d3f3",
                      "#FF6692",
                      "#B6E880",
                      "#FF97FF",
                      "#FECB52"
                    ],
                    "font": {
                      "color": "#2a3f5f"
                    },
                    "geo": {
                      "bgcolor": "white",
                      "lakecolor": "white",
                      "landcolor": "#E5ECF6",
                      "showlakes": true,
                      "showland": true,
                      "subunitcolor": "white"
                    },
                    "hoverlabel": {
                      "align": "left"
                    },
                    "hovermode": "closest",
                    "mapbox": {
                      "style": "light"
                    },
                    "paper_bgcolor": "white",
                    "plot_bgcolor": "#E5ECF6",
                    "polar": {
                      "angularaxis": {
                        "gridcolor": "white",
                        "linecolor": "white",
                        "ticks": ""
                      },
                      "bgcolor": "#E5ECF6",
                      "radialaxis": {
                        "gridcolor": "white",
                        "linecolor": "white",
                        "ticks": ""
                      }
                    },
                    "scene": {
                      "xaxis": {
                        "backgroundcolor": "#E5ECF6",
                        "gridcolor": "white",
                        "gridwidth": 2,
                        "linecolor": "white",
                        "showbackground": true,
                        "ticks": "",
                        "zerolinecolor": "white"
                      },
                      "yaxis": {
                        "backgroundcolor": "#E5ECF6",
                        "gridcolor": "white",
                        "gridwidth": 2,
                        "linecolor": "white",
                        "showbackground": true,
                        "ticks": "",
                        "zerolinecolor": "white"
                      },
                      "zaxis": {
                        "backgroundcolor": "#E5ECF6",
                        "gridcolor": "white",
                        "gridwidth": 2,
                        "linecolor": "white",
                        "showbackground": true,
                        "ticks": "",
                        "zerolinecolor": "white"
                      }
                    },
                    "shapedefaults": {
                      "line": {
                        "color": "#2a3f5f"
                      }
                    },
                    "ternary": {
                      "aaxis": {
                        "gridcolor": "white",
                        "linecolor": "white",
                        "ticks": ""
                      },
                      "baxis": {
                        "gridcolor": "white",
                        "linecolor": "white",
                        "ticks": ""
                      },
                      "bgcolor": "#E5ECF6",
                      "caxis": {
                        "gridcolor": "white",
                        "linecolor": "white",
                        "ticks": ""
                      }
                    },
                    "title": {
                      "x": 0.05
                    },
                    "xaxis": {
                      "automargin": true,
                      "gridcolor": "white",
                      "linecolor": "white",
                      "ticks": "",
                      "title": {
                        "standoff": 15
                      },
                      "zerolinecolor": "white",
                      "zerolinewidth": 2
                    },
                    "yaxis": {
                      "automargin": true,
                      "gridcolor": "white",
                      "linecolor": "white",
                      "ticks": "",
                      "title": {
                        "standoff": 15
                      },
                      "zerolinecolor": "white",
                      "zerolinewidth": 2
                    }
                  }
                },
                "title": {
                  "text": "População X Matrículas Especial"
                },
                "width": 800,
                "xaxis": {
                  "anchor": "y",
                  "domain": [
                    0,
                    1
                  ],
                  "title": {
                    "text": "População 2022"
                  },
                  "type": "log"
                },
                "yaxis": {
                  "anchor": "x",
                  "domain": [
                    0,
                    1
                  ],
                  "title": {
                    "text": "Matrículas Especial"
                  }
                }
              }
            },
            "text/html": [
              "<div>                            <div id=\"188216ec-b3b3-4492-ba31-ea1e98b6dcaa\" class=\"plotly-graph-div\" style=\"height:525px; width:800px;\"></div>            <script type=\"text/javascript\">                require([\"plotly\"], function(Plotly) {                    window.PLOTLYENV=window.PLOTLYENV || {};                                    if (document.getElementById(\"188216ec-b3b3-4492-ba31-ea1e98b6dcaa\")) {                    Plotly.newPlot(                        \"188216ec-b3b3-4492-ba31-ea1e98b6dcaa\",                        [{\"hovertemplate\":\"\\u003cb\\u003e%{hovertext}\\u003c\\u002fb\\u003e\\u003cbr\\u003e\\u003cbr\\u003ePOP_Censo_2022=%{x}\\u003cbr\\u003eQT_MAT_ESP_22=%{y}\\u003cextra\\u003e\\u003c\\u002fextra\\u003e\",\"hovertext\":[\"Aba\\u00edra\",\"Abar\\u00e9\",\"Acajutiba\",\"Adustina\",\"\\u00c1gua Fria\",\"Aiquara\",\"Alagoinhas\",\"Alcoba\\u00e7a\",\"Almadina\",\"Amargosa\",\"Am\\u00e9lia Rodrigues\",\"Am\\u00e9rica Dourada\",\"Anag\\u00e9\",\"Andara\\u00ed\",\"Andorinha\",\"Angical\",\"Anguera\",\"Antas\",\"Ant\\u00f4nio Cardoso\",\"Ant\\u00f4nio Gon\\u00e7alves\",\"Apor\\u00e1\",\"Apuarema\",\"Ara\\u00e7\\u00e1s\",\"Aracatu\",\"Araci\",\"Aramari\",\"Arataca\",\"Aratu\\u00edpe\",\"Aurelino Leal\",\"Baian\\u00f3polis\",\"Baixa Grande\",\"Banza\\u00ea\",\"Barra\",\"Barra da Estiva\",\"Barra do Cho\\u00e7a\",\"Barra do Mendes\",\"Barra do Rocha\",\"Barreiras\",\"Barro Alto\",\"Barro Preto\",\"Barrocas\",\"Belmonte\",\"Belo Campo\",\"Biritinga\",\"Boa Nova\",\"Boa Vista do Tupim\",\"Bom Jesus da Lapa\",\"Bom Jesus da Serra\",\"Boninal\",\"Bonito\",\"Boquira\",\"Botupor\\u00e3\",\"Brej\\u00f5es\",\"Brejol\\u00e2ndia\",\"Brotas de Maca\\u00fabas\",\"Brumado\",\"Buerarema\",\"Buritirama\",\"Caatiba\",\"Cabaceiras do Paragua\\u00e7u\",\"Cachoeira\",\"Cacul\\u00e9\",\"Ca\\u00e9m\",\"Caetanos\",\"Caetit\\u00e9\",\"Cafarnaum\",\"Cairu\",\"Caldeir\\u00e3o Grande\",\"Camacan\",\"Cama\\u00e7ari\",\"Camamu\",\"Campo Alegre de Lourdes\",\"Campo Formoso\",\"Can\\u00e1polis\",\"Canarana\",\"Canavieiras\",\"Candeal\",\"Candeias\",\"Candiba\",\"C\\u00e2ndido Sales\",\"Cansan\\u00e7\\u00e3o\",\"Canudos\",\"Capela do Alto Alegre\",\"Capim Grosso\",\"Cara\\u00edbas\",\"Caravelas\",\"Cardeal da Silva\",\"Carinhanha\",\"Casa Nova\",\"Castro Alves\",\"Catol\\u00e2ndia\",\"Catu\",\"Caturama\",\"Central\",\"Chorroch\\u00f3\",\"C\\u00edcero Dantas\",\"Cip\\u00f3\",\"Coaraci\",\"Cocos\",\"Concei\\u00e7\\u00e3o da Feira\",\"Concei\\u00e7\\u00e3o do Almeida\",\"Concei\\u00e7\\u00e3o do Coit\\u00e9\",\"Concei\\u00e7\\u00e3o do Jacu\\u00edpe\",\"Conde\",\"Conde\\u00faba\",\"Contendas do Sincor\\u00e1\",\"Cora\\u00e7\\u00e3o de Maria\",\"Cordeiros\",\"Coribe\",\"Coronel Jo\\u00e3o S\\u00e1\",\"Correntina\",\"Cotegipe\",\"Cravol\\u00e2ndia\",\"Cris\\u00f3polis\",\"Crist\\u00f3polis\",\"Cruz das Almas\",\"Cura\\u00e7\\u00e1\",\"D\\u00e1rio Meira\",\"Dias d'\\u00c1vila\",\"Dom Bas\\u00edlio\",\"Dom Macedo Costa\",\"El\\u00edsio Medrado\",\"Encruzilhada\",\"Entre Rios\",\"\\u00c9rico Cardoso\",\"Esplanada\",\"Euclides da Cunha\",\"Eun\\u00e1polis\",\"F\\u00e1tima\",\"Feira da Mata\",\"Feira de Santana\",\"Filad\\u00e9lfia\",\"Firmino Alves\",\"Floresta Azul\",\"Formosa do Rio Preto\",\"Gandu\",\"Gavi\\u00e3o\",\"Gentio do Ouro\",\"Gl\\u00f3ria\",\"Gongogi\",\"Governador Mangabeira\",\"Guajeru\",\"Guanambi\",\"Guaratinga\",\"Heli\\u00f3polis\",\"Ia\\u00e7u\",\"Ibiassuc\\u00ea\",\"Ibicara\\u00ed\",\"Ibicoara\",\"Ibicu\\u00ed\",\"Ibipeba\",\"Ibipitanga\",\"Ibiquera\",\"Ibirapitanga\",\"Ibirapu\\u00e3\",\"Ibirataia\",\"Ibitiara\",\"Ibitit\\u00e1\",\"Ibotirama\",\"Ichu\",\"Igapor\\u00e3\",\"Igrapi\\u00fana\",\"Igua\\u00ed\",\"Ilh\\u00e9us\",\"Inhambupe\",\"Ipecaet\\u00e1\",\"Ipia\\u00fa\",\"Ipir\\u00e1\",\"Ipupiara\",\"Irajuba\",\"Iramaia\",\"Iraquara\",\"Irar\\u00e1\",\"Irec\\u00ea\",\"Itabela\",\"Itaberaba\",\"Itabuna\",\"Itacar\\u00e9\",\"Itaet\\u00e9\",\"Itagi\",\"Itagib\\u00e1\",\"Itagimirim\",\"Itagua\\u00e7u da Bahia\",\"Itaju do Col\\u00f4nia\",\"Itaju\\u00edpe\",\"Itamaraju\",\"Itamari\",\"Itamb\\u00e9\",\"Itanagra\",\"Itanh\\u00e9m\",\"Itaparica\",\"Itap\\u00e9\",\"Itapebi\",\"Itapetinga\",\"Itapicuru\",\"Itapitanga\",\"Itaquara\",\"Itarantim\",\"Itatim\",\"Itiru\\u00e7u\",\"Iti\\u00faba\",\"Itoror\\u00f3\",\"Itua\\u00e7u\",\"Ituber\\u00e1\",\"Iuiu\",\"Jaborandi\",\"Jacaraci\",\"Jacobina\",\"Jaguaquara\",\"Jaguarari\",\"Jaguaripe\",\"Janda\\u00edra\",\"Jequi\\u00e9\",\"Jeremoabo\",\"Jiquiri\\u00e7\\u00e1\",\"Jita\\u00fana\",\"Jo\\u00e3o Dourado\",\"Juazeiro\",\"Jucuru\\u00e7u\",\"Jussara\",\"Jussari\",\"Jussiape\",\"Lafaiete Coutinho\",\"Lagoa Real\",\"Laje\",\"Lajed\\u00e3o\",\"Lajedinho\",\"Lajedo do Tabocal\",\"Lamar\\u00e3o\",\"Lap\\u00e3o\",\"Lauro de Freitas\",\"Len\\u00e7\\u00f3is\",\"Lic\\u00ednio de Almeida\",\"Livramento de Nossa Senhora\",\"Lu\\u00eds Eduardo Magalh\\u00e3es\",\"Macajuba\",\"Macarani\",\"Maca\\u00fabas\",\"Macurur\\u00e9\",\"Madre de Deus\",\"Maetinga\",\"Maiquinique\",\"Mairi\",\"Malhada\",\"Malhada de Pedras\",\"Manoel Vitorino\",\"Mansid\\u00e3o\",\"Marac\\u00e1s\",\"Maragogipe\",\"Mara\\u00fa\",\"Marcion\\u00edlio Souza\",\"Mascote\",\"Mata de S\\u00e3o Jo\\u00e3o\",\"Matina\",\"Medeiros Neto\",\"Miguel Calmon\",\"Milagres\",\"Mirangaba\",\"Mirante\",\"Monte Santo\",\"Morpar\\u00e1\",\"Morro do Chap\\u00e9u\",\"Mortugaba\",\"Mucug\\u00ea\",\"Mucuri\",\"Mulungu do Morro\",\"Mundo Novo\",\"Muniz Ferreira\",\"Muqu\\u00e9m do S\\u00e3o Francisco\",\"Muritiba\",\"Mutu\\u00edpe\",\"Nazar\\u00e9\",\"Nilo Pe\\u00e7anha\",\"Nordestina\",\"Nova Cana\\u00e3\",\"Nova F\\u00e1tima\",\"Nova Ibi\\u00e1\",\"Nova Itarana\",\"Nova Reden\\u00e7\\u00e3o\",\"Nova Soure\",\"Nova Vi\\u00e7osa\",\"Novo Horizonte\",\"Novo Triunfo\",\"Olindina\",\"Oliveira dos Brejinhos\",\"Ouri\\u00e7angas\",\"Ourol\\u00e2ndia\",\"Palmas de Monte Alto\",\"Palmeiras\",\"Paramirim\",\"Paratinga\",\"Paripiranga\",\"Pau Brasil\",\"Paulo Afonso\",\"P\\u00e9 de Serra\",\"Pedr\\u00e3o\",\"Pedro Alexandre\",\"Piat\\u00e3\",\"Pil\\u00e3o Arcado\",\"Pinda\\u00ed\",\"Pindoba\\u00e7u\",\"Pintadas\",\"Pira\\u00ed do Norte\",\"Pirip\\u00e1\",\"Piritiba\",\"Planaltino\",\"Planalto\",\"Po\\u00e7\\u00f5es\",\"Pojuca\",\"Ponto Novo\",\"Porto Seguro\",\"Potiragu\\u00e1\",\"Prado\",\"Presidente Dutra\",\"Presidente J\\u00e2nio Quadros\",\"Presidente Tancredo Neves\",\"Queimadas\",\"Quijingue\",\"Quixabeira\",\"Rafael Jambeiro\",\"Remanso\",\"Retirol\\u00e2ndia\",\"Riach\\u00e3o das Neves\",\"Riach\\u00e3o do Jacu\\u00edpe\",\"Riacho de Santana\",\"Ribeira do Amparo\",\"Ribeira do Pombal\",\"Ribeir\\u00e3o do Largo\",\"Rio de Contas\",\"Rio do Ant\\u00f4nio\",\"Rio do Pires\",\"Rio Real\",\"Rodelas\",\"Ruy Barbosa\",\"Salinas da Margarida\",\"Salvador\",\"Santa B\\u00e1rbara\",\"Santa Br\\u00edgida\",\"Santa Cruz Cabr\\u00e1lia\",\"Santa Cruz da Vit\\u00f3ria\",\"Santa In\\u00eas\",\"Santa Luzia\",\"Santa Maria da Vit\\u00f3ria\",\"Santa Rita de C\\u00e1ssia\",\"Santa Terezinha\",\"Santaluz\",\"Santana\",\"Santan\\u00f3polis\",\"Santo Amaro\",\"Santo Ant\\u00f4nio de Jesus\",\"Santo Est\\u00eav\\u00e3o\",\"S\\u00e3o Desid\\u00e9rio\",\"S\\u00e3o Domingos\",\"S\\u00e3o Felipe\",\"S\\u00e3o F\\u00e9lix\",\"S\\u00e3o F\\u00e9lix do Coribe\",\"S\\u00e3o Francisco do Conde\",\"S\\u00e3o Gabriel\",\"S\\u00e3o Gon\\u00e7alo dos Campos\",\"S\\u00e3o Jos\\u00e9 da Vit\\u00f3ria\",\"S\\u00e3o Jos\\u00e9 do Jacu\\u00edpe\",\"S\\u00e3o Miguel das Matas\",\"S\\u00e3o Sebasti\\u00e3o do Pass\\u00e9\",\"Sapea\\u00e7u\",\"S\\u00e1tiro Dias\",\"Saubara\",\"Sa\\u00fade\",\"Seabra\",\"Sebasti\\u00e3o Laranjeiras\",\"Senhor do Bonfim\",\"Sento S\\u00e9\",\"Serra do Ramalho\",\"Serra Dourada\",\"Serra Preta\",\"Serrinha\",\"Serrol\\u00e2ndia\",\"Sim\\u00f5es Filho\",\"S\\u00edtio do Mato\",\"S\\u00edtio do Quinto\",\"Sobradinho\",\"Souto Soares\",\"Tabocas do Brejo Velho\",\"Tanha\\u00e7u\",\"Tanque Novo\",\"Tanquinho\",\"Tapero\\u00e1\",\"Tapiramut\\u00e1\",\"Teixeira de Freitas\",\"Teodoro Sampaio\",\"Teofil\\u00e2ndia\",\"Teol\\u00e2ndia\",\"Terra Nova\",\"Tremedal\",\"Tucano\",\"Uau\\u00e1\",\"Uba\\u00edra\",\"Ubaitaba\",\"Ubat\\u00e3\",\"Uiba\\u00ed\",\"Umburanas\",\"Una\",\"Urandi\",\"Uru\\u00e7uca\",\"Utinga\",\"Valen\\u00e7a\",\"Valente\",\"V\\u00e1rzea da Ro\\u00e7a\",\"V\\u00e1rzea do Po\\u00e7o\",\"V\\u00e1rzea Nova\",\"Varzedo\",\"Vera Cruz\",\"Vereda\",\"Vit\\u00f3ria da Conquista\",\"Wagner\",\"Wanderley\",\"Wenceslau Guimar\\u00e3es\",\"Xique-Xique\"],\"legendgroup\":\"\",\"marker\":{\"color\":\"#636efa\",\"symbol\":\"circle\",\"line\":{\"width\":2},\"size\":12},\"mode\":\"markers\",\"name\":\"\",\"orientation\":\"v\",\"showlegend\":false,\"x\":[\" 7.290 \",\" 18.766 \",\" 13.715 \",\" 14.166 \",\" 17.398 \",\" 4.566 \",\" 157.864 \",\" 23.633 \",\" 5.195 \",\" 36.260 \",\" 23.639 \",\" 15.104 \",\" 25.452 \",\" 13.406 \",\" 15.011 \",\" 14.973 \",\" 11.019 \",\" 14.453 \",\" 11.268 \",\" 11.921 \",\" 16.909 \",\" 6.900 \",\" 12.605 \",\" 13.819 \",\" 51.377 \",\" 9.781 \",\" 8.219 \",\" 10.006 \",\" 11.782 \",\" 13.618 \",\" 17.880 \",\" 11.869 \",\" 50.543 \",\" 26.031 \",\" 40.025 \",\" 13.852 \",\" 6.682 \",\" 165.413 \",\" 13.761 \",\" 5.820 \",\" 15.396 \",\" 20.565 \",\" 18.399 \",\" 15.151 \",\" 14.160 \",\" 19.320 \",\" 74.040 \",\" 9.572 \",\" 13.653 \",\" 15.837 \",\" 20.588 \",\" 11.040 \",\" 12.914 \",\" 9.114 \",\" 12.467 \",\" 70.268 \",\" 16.880 \",\" 19.514 \",\" 6.915 \",\" 19.432 \",\" 31.982 \",\" 22.412 \",\" 10.360 \",\" 13.242 \",\" 52.099 \",\" 17.975 \",\" 17.591 \",\" 13.063 \",\" 22.460 \",\" 334.195 \",\" 30.480 \",\" 30.659 \",\" 68.571 \",\" 10.225 \",\" 23.491 \",\" 33.080 \",\" 7.785 \",\" 77.026 \",\" 13.007 \",\" 25.278 \",\" 39.475 \",\" 15.906 \",\" 10.754 \",\" 33.344 \",\" 9.938 \",\" 21.612 \",\" 8.376 \",\" 28.869 \",\" 71.572 \",\" 24.700 \",\" 3.480 \",\" 48.137 \",\" 8.847 \",\" 16.223 \",\" 10.587 \",\" 30.836 \",\" 17.246 \",\" 17.949 \",\" 19.156 \",\" 22.936 \",\" 15.401 \",\" 70.202 \",\" 34.994 \",\" 24.433 \",\" 17.059 \",\" 4.750 \",\" 28.340 \",\" 7.555 \",\" 14.158 \",\"17.000(26)\",\" 32.709 \",\" 13.059 \",\" 4.445 \",\" 19.720 \",\" 14.002 \",\" 60.633 \",\" 33.603 \",\" 10.025 \",\" 69.211 \",\" 11.905 \",\" 4.418 \",\" 7.782 \",\" 19.111 \",\" 38.880 \",\" 10.581 \",\" 34.033 \",\" 65.187 \",\" 112.477 \",\" 17.899 \",\" 5.618 \",\" 652.592 \",\" 17.892 \",\" 5.925 \",\" 11.068 \",\" 25.185 \",\" 29.776 \",\" 4.357 \",\" 11.896 \",\" 16.698 \",\" 5.549 \",\" 20.604 \",\" 8.054 \",\" 87.580 \",\" 20.338 \",\" 12.301 \",\" 25.178 \",\"10.426(27)\",\" 21.688 \",\" 20.874 \",\" 13.791 \",\" 18.540 \",\" 13.905 \",\" 3.722 \",\" 27.341 \",\" 8.331 \",\" 19.613 \",\" 14.622 \",\" 17.954 \",\" 26.611 \",\" 6.192 \",\" 17.022 \",\" 13.077 \",\" 25.114 \",\" 197.163 \",\" 33.771 \",\" 16.230 \",\" 43.078 \",\" 58.094 \",\" 9.925 \",\" 6.100 \",\" 10.755 \",\" 25.590 \",\" 27.984 \",\" 76.491 \",\" 27.691 \",\" 67.605 \",\" 185.500 \",\" 28.214 \",\" 14.031 \",\" 13.925 \",\" 15.556 \",\" 7.037 \",\" 13.116 \",\" 6.033 \",\" 19.913 \",\" 60.831 \",\" 7.050 \",\" 26.420 \",\" 5.814 \",\" 19.025 \",\" 19.738 \",\" 10.327 \",\" 9.779 \",\" 68.704 \",\" 32.793 \",\" 10.320 \",\" 8.175 \",\" 17.035 \",\" 15.749 \",\" 11.016 \",\" 33.671 \",\" 17.729 \",\" 18.992 \",\" 21.974 \",\" 11.101 \",\" 9.269 \",\" 14.625 \",\" 88.296 \",\" 46.026 \",\" 32.495 \",\" 20.237 \",\" 9.112 \",\" 156.408 \",\" 37.519 \",\" 13.623 \",\" 14.614 \",\" 26.186 \",\" 244.406 \",\" 9.971 \",\" 16.922 \",\" 5.902 \",\" 7.381 \",\" 4.044 \",\" 13.990 \",\" 23.198 \",\" 4.550 \",\" 4.102 \",\" 7.486 \",\" 9.062 \",\" 25.713 \",\" 220.437 \",\" 11.022 \",\" 11.848 \",\" 43.898 \",\" 108.271 \",\" 10.463 \",\" 21.556 \",\" 41.631 \",\" 7.600 \",\" 18.767 \",\" 6.968 \",\" 9.452 \",\" 16.122 \",\" 15.426 \",\" 8.673 \",\" 13.327 \",\" 13.902 \",\" 27.747 \",\" 38.394 \",\" 24.713 \",\" 9.256 \",\" 11.991 \",\" 48.698 \",\" 10.338 \",\" 23.096 \",\" 27.817 \",\" 11.076 \",\" 15.050 \",\" 10.072 \",\" 47.758 \",\" 8.303 \",\" 33.389 \",\" 11.131 \",\" 12.988 \",\" 38.082 \",\" 13.166 \",\" 20.564 \",\" 7.165 \",\" 11.029 \",\" 28.558 \",\" 20.028 \",\" 28.181 \",\" 12.032 \",\" 18.536 \",\" 15.959 \",\" 7.958 \",\" 8.325 \",\" 7.820 \",\" 7.525 \",\" 24.206 \",\" 41.089 \",\" 11.163 \",\" 10.666 \",\" 22.615 \",\" 22.850 \",\" 7.728 \",\" 19.322 \",\" 20.091 \",\" 10.383 \",\" 20.378 \",\" 28.947 \",\" 26.609 \",\" 10.669 \",\" 118.412 \",\" 13.242 \",\" 6.229 \",\" 14.056 \",\" 20.098 \",\" 35.326 \",\" 14.740 \",\" 19.133 \",\" 9.805 \",\" 10.200 \",\" 9.158 \",\" 17.549 \",\" 8.012 \",\" 23.290 \",\" 48.197 \",\" 33.079 \",\" 17.941 \",\" 158.736 \",\" 11.524 \",\" 31.715 \",\" 15.133 \",\" 12.627 \",\" 27.662 \",\" 26.027 \",\" 27.317 \",\" 9.429 \",\" 20.242 \",\" 40.531 \",\" 13.654 \",\" 22.289 \",\" 33.422 \",\" 39.127 \",\" 13.831 \",\" 53.997 \",\" 10.382 \",\" 13.634 \",\" 13.098 \",\" 9.585 \",\" 35.378 \",\"10.303(28)\",\" 30.172 \",\" 14.989 \",\" 2.610.987 \",\" 22.446 \",\" 14.979 \",\" 30.385 \",\" 4.672 \",\" 10.293 \",\" 11.776 \",\" 38.686 \",\" 28.084 \",\" 9.790 \",\" 37.079 \",\" 24.778 \",\" 9.831 \",\" 55.935 \",\" 103.055 \",\" 55.696 \",\" 36.793 \",\" 8.417 \",\" 20.286 \",\" 10.946 \",\" 15.704 \",\" 37.892 \",\" 18.417 \",\" 39.570 \",\" 5.321 \",\" 10.195 \",\" 10.334 \",\" 40.376 \",\" 17.993 \",\" 16.021 \",\" 11.433 \",\" 10.482 \",\" 49.587 \",\" 9.373 \",\" 77.514 \",\" 37.389 \",\" 34.270 \",\" 16.691 \",\" 18.090 \",\" 85.696 \",\" 13.320 \",\" 127.093 \",\" 13.408 \",\" 14.778 \",\" 24.799 \",\" 16.904 \",\" 11.990 \",\" 21.407 \",\" 18.459 \",\" 7.729 \",\" 18.016 \",\" 15.884 \",\" 147.454 \",\" 7.220 \",\" 21.811 \",\" 15.892 \",\" 10.802 \",\" 17.497 \",\" 48.062 \",\" 24.654 \",\" 18.605 \",\" 17.626 \",\" 18.161 \",\" 14.844 \",\" 13.511 \",\" 17.998 \",\" 15.365 \",\" 21.365 \",\" 16.285 \",\" 96.226 \",\" 23.683 \",\" 13.043 \",\" 8.115 \",\" 13.369 \",\" 9.913 \",\" 40.915 \",\" 7.072 \",\" 387.524 \",\" 8.861 \",\" 13.071 \",\" 26.279 \",\" 46.328 \"],\"xaxis\":\"x\",\"y\":[62,67,91,95,131,44,385,451,25,348,172,183,147,154,207,71,42,135,125,112,75,97,67,71,342,62,107,64,185,60,118,312,268,103,334,111,65,786,115,99,37,157,200,856,129,89,309,39,103,278,106,166,88,35,80,320,79,42,44,127,175,145,95,53,386,117,129,219,174,706,188,92,545,46,394,203,23,350,82,197,906,202,116,283,77,134,55,431,347,184,25,372,45,40,51,147,107,121,91,271,77,529,169,201,65,31,118,40,47,260,221,44,29,291,53,484,276,231,487,151,39,163,137,138,66,120,1120,841,105,114,3040,235,61,111,134,189,41,90,149,191,89,63,954,262,92,475,46,269,226,221,56,103,7,281,98,110,60,98,148,104,72,116,126,1430,140,141,403,250,17,27,72,382,176,802,612,673,2306,304,56,114,215,96,54,116,240,584,34,217,35,121,392,208,81,633,207,79,54,86,409,67,851,118,173,207,72,41,170,434,388,247,157,42,1910,179,167,87,304,1018,81,138,174,15,90,49,222,35,12,50,95,206,1003,73,81,116,880,89,162,164,82,125,37,149,65,255,93,104,20,234,314,205,112,347,416,133,176,114,41,172,53,497,51,169,160,49,764,228,67,15,72,484,146,269,215,151,302,75,68,102,95,74,444,97,77,275,85,20,190,55,46,84,69,90,53,816,166,82,38,354,107,222,145,44,40,68,91,48,146,562,302,220,1840,113,152,51,71,276,404,141,329,74,306,160,132,266,238,59,541,107,37,59,84,139,30,236,87,6578,253,65,581,54,195,186,201,149,80,438,86,84,313,591,489,162,75,166,129,74,227,83,111,41,55,86,133,202,98,46,138,550,31,445,238,438,90,241,990,149,647,20,272,144,115,30,101,195,24,266,48,1045,60,87,128,109,131,410,215,197,558,214,55,127,409,141,289,101,433,275,142,40,136,94,604,47,1248,63,132,113,323],\"yaxis\":\"y\",\"type\":\"scatter\"}],                        {\"template\":{\"data\":{\"histogram2dcontour\":[{\"type\":\"histogram2dcontour\",\"colorbar\":{\"outlinewidth\":0,\"ticks\":\"\"},\"colorscale\":[[0.0,\"#0d0887\"],[0.1111111111111111,\"#46039f\"],[0.2222222222222222,\"#7201a8\"],[0.3333333333333333,\"#9c179e\"],[0.4444444444444444,\"#bd3786\"],[0.5555555555555556,\"#d8576b\"],[0.6666666666666666,\"#ed7953\"],[0.7777777777777778,\"#fb9f3a\"],[0.8888888888888888,\"#fdca26\"],[1.0,\"#f0f921\"]]}],\"choropleth\":[{\"type\":\"choropleth\",\"colorbar\":{\"outlinewidth\":0,\"ticks\":\"\"}}],\"histogram2d\":[{\"type\":\"histogram2d\",\"colorbar\":{\"outlinewidth\":0,\"ticks\":\"\"},\"colorscale\":[[0.0,\"#0d0887\"],[0.1111111111111111,\"#46039f\"],[0.2222222222222222,\"#7201a8\"],[0.3333333333333333,\"#9c179e\"],[0.4444444444444444,\"#bd3786\"],[0.5555555555555556,\"#d8576b\"],[0.6666666666666666,\"#ed7953\"],[0.7777777777777778,\"#fb9f3a\"],[0.8888888888888888,\"#fdca26\"],[1.0,\"#f0f921\"]]}],\"heatmap\":[{\"type\":\"heatmap\",\"colorbar\":{\"outlinewidth\":0,\"ticks\":\"\"},\"colorscale\":[[0.0,\"#0d0887\"],[0.1111111111111111,\"#46039f\"],[0.2222222222222222,\"#7201a8\"],[0.3333333333333333,\"#9c179e\"],[0.4444444444444444,\"#bd3786\"],[0.5555555555555556,\"#d8576b\"],[0.6666666666666666,\"#ed7953\"],[0.7777777777777778,\"#fb9f3a\"],[0.8888888888888888,\"#fdca26\"],[1.0,\"#f0f921\"]]}],\"heatmapgl\":[{\"type\":\"heatmapgl\",\"colorbar\":{\"outlinewidth\":0,\"ticks\":\"\"},\"colorscale\":[[0.0,\"#0d0887\"],[0.1111111111111111,\"#46039f\"],[0.2222222222222222,\"#7201a8\"],[0.3333333333333333,\"#9c179e\"],[0.4444444444444444,\"#bd3786\"],[0.5555555555555556,\"#d8576b\"],[0.6666666666666666,\"#ed7953\"],[0.7777777777777778,\"#fb9f3a\"],[0.8888888888888888,\"#fdca26\"],[1.0,\"#f0f921\"]]}],\"contourcarpet\":[{\"type\":\"contourcarpet\",\"colorbar\":{\"outlinewidth\":0,\"ticks\":\"\"}}],\"contour\":[{\"type\":\"contour\",\"colorbar\":{\"outlinewidth\":0,\"ticks\":\"\"},\"colorscale\":[[0.0,\"#0d0887\"],[0.1111111111111111,\"#46039f\"],[0.2222222222222222,\"#7201a8\"],[0.3333333333333333,\"#9c179e\"],[0.4444444444444444,\"#bd3786\"],[0.5555555555555556,\"#d8576b\"],[0.6666666666666666,\"#ed7953\"],[0.7777777777777778,\"#fb9f3a\"],[0.8888888888888888,\"#fdca26\"],[1.0,\"#f0f921\"]]}],\"surface\":[{\"type\":\"surface\",\"colorbar\":{\"outlinewidth\":0,\"ticks\":\"\"},\"colorscale\":[[0.0,\"#0d0887\"],[0.1111111111111111,\"#46039f\"],[0.2222222222222222,\"#7201a8\"],[0.3333333333333333,\"#9c179e\"],[0.4444444444444444,\"#bd3786\"],[0.5555555555555556,\"#d8576b\"],[0.6666666666666666,\"#ed7953\"],[0.7777777777777778,\"#fb9f3a\"],[0.8888888888888888,\"#fdca26\"],[1.0,\"#f0f921\"]]}],\"mesh3d\":[{\"type\":\"mesh3d\",\"colorbar\":{\"outlinewidth\":0,\"ticks\":\"\"}}],\"scatter\":[{\"fillpattern\":{\"fillmode\":\"overlay\",\"size\":10,\"solidity\":0.2},\"type\":\"scatter\"}],\"parcoords\":[{\"type\":\"parcoords\",\"line\":{\"colorbar\":{\"outlinewidth\":0,\"ticks\":\"\"}}}],\"scatterpolargl\":[{\"type\":\"scatterpolargl\",\"marker\":{\"colorbar\":{\"outlinewidth\":0,\"ticks\":\"\"}}}],\"bar\":[{\"error_x\":{\"color\":\"#2a3f5f\"},\"error_y\":{\"color\":\"#2a3f5f\"},\"marker\":{\"line\":{\"color\":\"#E5ECF6\",\"width\":0.5},\"pattern\":{\"fillmode\":\"overlay\",\"size\":10,\"solidity\":0.2}},\"type\":\"bar\"}],\"scattergeo\":[{\"type\":\"scattergeo\",\"marker\":{\"colorbar\":{\"outlinewidth\":0,\"ticks\":\"\"}}}],\"scatterpolar\":[{\"type\":\"scatterpolar\",\"marker\":{\"colorbar\":{\"outlinewidth\":0,\"ticks\":\"\"}}}],\"histogram\":[{\"marker\":{\"pattern\":{\"fillmode\":\"overlay\",\"size\":10,\"solidity\":0.2}},\"type\":\"histogram\"}],\"scattergl\":[{\"type\":\"scattergl\",\"marker\":{\"colorbar\":{\"outlinewidth\":0,\"ticks\":\"\"}}}],\"scatter3d\":[{\"type\":\"scatter3d\",\"line\":{\"colorbar\":{\"outlinewidth\":0,\"ticks\":\"\"}},\"marker\":{\"colorbar\":{\"outlinewidth\":0,\"ticks\":\"\"}}}],\"scattermapbox\":[{\"type\":\"scattermapbox\",\"marker\":{\"colorbar\":{\"outlinewidth\":0,\"ticks\":\"\"}}}],\"scatterternary\":[{\"type\":\"scatterternary\",\"marker\":{\"colorbar\":{\"outlinewidth\":0,\"ticks\":\"\"}}}],\"scattercarpet\":[{\"type\":\"scattercarpet\",\"marker\":{\"colorbar\":{\"outlinewidth\":0,\"ticks\":\"\"}}}],\"carpet\":[{\"aaxis\":{\"endlinecolor\":\"#2a3f5f\",\"gridcolor\":\"white\",\"linecolor\":\"white\",\"minorgridcolor\":\"white\",\"startlinecolor\":\"#2a3f5f\"},\"baxis\":{\"endlinecolor\":\"#2a3f5f\",\"gridcolor\":\"white\",\"linecolor\":\"white\",\"minorgridcolor\":\"white\",\"startlinecolor\":\"#2a3f5f\"},\"type\":\"carpet\"}],\"table\":[{\"cells\":{\"fill\":{\"color\":\"#EBF0F8\"},\"line\":{\"color\":\"white\"}},\"header\":{\"fill\":{\"color\":\"#C8D4E3\"},\"line\":{\"color\":\"white\"}},\"type\":\"table\"}],\"barpolar\":[{\"marker\":{\"line\":{\"color\":\"#E5ECF6\",\"width\":0.5},\"pattern\":{\"fillmode\":\"overlay\",\"size\":10,\"solidity\":0.2}},\"type\":\"barpolar\"}],\"pie\":[{\"automargin\":true,\"type\":\"pie\"}]},\"layout\":{\"autotypenumbers\":\"strict\",\"colorway\":[\"#636efa\",\"#EF553B\",\"#00cc96\",\"#ab63fa\",\"#FFA15A\",\"#19d3f3\",\"#FF6692\",\"#B6E880\",\"#FF97FF\",\"#FECB52\"],\"font\":{\"color\":\"#2a3f5f\"},\"hovermode\":\"closest\",\"hoverlabel\":{\"align\":\"left\"},\"paper_bgcolor\":\"white\",\"plot_bgcolor\":\"#E5ECF6\",\"polar\":{\"bgcolor\":\"#E5ECF6\",\"angularaxis\":{\"gridcolor\":\"white\",\"linecolor\":\"white\",\"ticks\":\"\"},\"radialaxis\":{\"gridcolor\":\"white\",\"linecolor\":\"white\",\"ticks\":\"\"}},\"ternary\":{\"bgcolor\":\"#E5ECF6\",\"aaxis\":{\"gridcolor\":\"white\",\"linecolor\":\"white\",\"ticks\":\"\"},\"baxis\":{\"gridcolor\":\"white\",\"linecolor\":\"white\",\"ticks\":\"\"},\"caxis\":{\"gridcolor\":\"white\",\"linecolor\":\"white\",\"ticks\":\"\"}},\"coloraxis\":{\"colorbar\":{\"outlinewidth\":0,\"ticks\":\"\"}},\"colorscale\":{\"sequential\":[[0.0,\"#0d0887\"],[0.1111111111111111,\"#46039f\"],[0.2222222222222222,\"#7201a8\"],[0.3333333333333333,\"#9c179e\"],[0.4444444444444444,\"#bd3786\"],[0.5555555555555556,\"#d8576b\"],[0.6666666666666666,\"#ed7953\"],[0.7777777777777778,\"#fb9f3a\"],[0.8888888888888888,\"#fdca26\"],[1.0,\"#f0f921\"]],\"sequentialminus\":[[0.0,\"#0d0887\"],[0.1111111111111111,\"#46039f\"],[0.2222222222222222,\"#7201a8\"],[0.3333333333333333,\"#9c179e\"],[0.4444444444444444,\"#bd3786\"],[0.5555555555555556,\"#d8576b\"],[0.6666666666666666,\"#ed7953\"],[0.7777777777777778,\"#fb9f3a\"],[0.8888888888888888,\"#fdca26\"],[1.0,\"#f0f921\"]],\"diverging\":[[0,\"#8e0152\"],[0.1,\"#c51b7d\"],[0.2,\"#de77ae\"],[0.3,\"#f1b6da\"],[0.4,\"#fde0ef\"],[0.5,\"#f7f7f7\"],[0.6,\"#e6f5d0\"],[0.7,\"#b8e186\"],[0.8,\"#7fbc41\"],[0.9,\"#4d9221\"],[1,\"#276419\"]]},\"xaxis\":{\"gridcolor\":\"white\",\"linecolor\":\"white\",\"ticks\":\"\",\"title\":{\"standoff\":15},\"zerolinecolor\":\"white\",\"automargin\":true,\"zerolinewidth\":2},\"yaxis\":{\"gridcolor\":\"white\",\"linecolor\":\"white\",\"ticks\":\"\",\"title\":{\"standoff\":15},\"zerolinecolor\":\"white\",\"automargin\":true,\"zerolinewidth\":2},\"scene\":{\"xaxis\":{\"backgroundcolor\":\"#E5ECF6\",\"gridcolor\":\"white\",\"linecolor\":\"white\",\"showbackground\":true,\"ticks\":\"\",\"zerolinecolor\":\"white\",\"gridwidth\":2},\"yaxis\":{\"backgroundcolor\":\"#E5ECF6\",\"gridcolor\":\"white\",\"linecolor\":\"white\",\"showbackground\":true,\"ticks\":\"\",\"zerolinecolor\":\"white\",\"gridwidth\":2},\"zaxis\":{\"backgroundcolor\":\"#E5ECF6\",\"gridcolor\":\"white\",\"linecolor\":\"white\",\"showbackground\":true,\"ticks\":\"\",\"zerolinecolor\":\"white\",\"gridwidth\":2}},\"shapedefaults\":{\"line\":{\"color\":\"#2a3f5f\"}},\"annotationdefaults\":{\"arrowcolor\":\"#2a3f5f\",\"arrowhead\":0,\"arrowwidth\":1},\"geo\":{\"bgcolor\":\"white\",\"landcolor\":\"#E5ECF6\",\"subunitcolor\":\"white\",\"showland\":true,\"showlakes\":true,\"lakecolor\":\"white\"},\"title\":{\"x\":0.05},\"mapbox\":{\"style\":\"light\"}}},\"xaxis\":{\"anchor\":\"y\",\"domain\":[0.0,1.0],\"title\":{\"text\":\"Popula\\u00e7\\u00e3o 2022\"},\"type\":\"log\"},\"yaxis\":{\"anchor\":\"x\",\"domain\":[0.0,1.0],\"title\":{\"text\":\"Matr\\u00edculas Especial\"}},\"legend\":{\"tracegroupgap\":0},\"margin\":{\"t\":60},\"width\":800,\"title\":{\"text\":\"Popula\\u00e7\\u00e3o X Matr\\u00edculas Especial\"}},                        {\"responsive\": true}                    ).then(function(){\n",
              "                            \n",
              "var gd = document.getElementById('188216ec-b3b3-4492-ba31-ea1e98b6dcaa');\n",
              "var x = new MutationObserver(function (mutations, observer) {{\n",
              "        var display = window.getComputedStyle(gd).display;\n",
              "        if (!display || display === 'none') {{\n",
              "            console.log([gd, 'removed!']);\n",
              "            Plotly.purge(gd);\n",
              "            observer.disconnect();\n",
              "        }}\n",
              "}});\n",
              "\n",
              "// Listen for the removal of the full notebook cells\n",
              "var notebookContainer = gd.closest('#notebook-container');\n",
              "if (notebookContainer) {{\n",
              "    x.observe(notebookContainer, {childList: true});\n",
              "}}\n",
              "\n",
              "// Listen for the clearing of the current output cell\n",
              "var outputEl = gd.closest('.output');\n",
              "if (outputEl) {{\n",
              "    x.observe(outputEl, {childList: true});\n",
              "}}\n",
              "\n",
              "                        })                };                });            </script>        </div>"
            ]
          },
          "metadata": {},
          "output_type": "display_data"
        },
        {
          "data": {
            "application/vnd.plotly.v1+json": {
              "config": {
                "plotlyServerURL": "https://plot.ly"
              },
              "data": [
                {
                  "hovertemplate": "<b>%{hovertext}</b><br><br>POP_Censo_2022=%{x}<br>QT_MAT_INF_INT_22=%{y}<extra></extra>",
                  "hovertext": [
                    "Abaíra",
                    "Abaré",
                    "Acajutiba",
                    "Adustina",
                    "Água Fria",
                    "Aiquara",
                    "Alagoinhas",
                    "Alcobaça",
                    "Almadina",
                    "Amargosa",
                    "Amélia Rodrigues",
                    "América Dourada",
                    "Anagé",
                    "Andaraí",
                    "Andorinha",
                    "Angical",
                    "Anguera",
                    "Antas",
                    "Antônio Cardoso",
                    "Antônio Gonçalves",
                    "Aporá",
                    "Apuarema",
                    "Araçás",
                    "Aracatu",
                    "Araci",
                    "Aramari",
                    "Arataca",
                    "Aratuípe",
                    "Aurelino Leal",
                    "Baianópolis",
                    "Baixa Grande",
                    "Banzaê",
                    "Barra",
                    "Barra da Estiva",
                    "Barra do Choça",
                    "Barra do Mendes",
                    "Barra do Rocha",
                    "Barreiras",
                    "Barro Alto",
                    "Barro Preto",
                    "Barrocas",
                    "Belmonte",
                    "Belo Campo",
                    "Biritinga",
                    "Boa Nova",
                    "Boa Vista do Tupim",
                    "Bom Jesus da Lapa",
                    "Bom Jesus da Serra",
                    "Boninal",
                    "Bonito",
                    "Boquira",
                    "Botuporã",
                    "Brejões",
                    "Brejolândia",
                    "Brotas de Macaúbas",
                    "Brumado",
                    "Buerarema",
                    "Buritirama",
                    "Caatiba",
                    "Cabaceiras do Paraguaçu",
                    "Cachoeira",
                    "Caculé",
                    "Caém",
                    "Caetanos",
                    "Caetité",
                    "Cafarnaum",
                    "Cairu",
                    "Caldeirão Grande",
                    "Camacan",
                    "Camaçari",
                    "Camamu",
                    "Campo Alegre de Lourdes",
                    "Campo Formoso",
                    "Canápolis",
                    "Canarana",
                    "Canavieiras",
                    "Candeal",
                    "Candeias",
                    "Candiba",
                    "Cândido Sales",
                    "Cansanção",
                    "Canudos",
                    "Capela do Alto Alegre",
                    "Capim Grosso",
                    "Caraíbas",
                    "Caravelas",
                    "Cardeal da Silva",
                    "Carinhanha",
                    "Casa Nova",
                    "Castro Alves",
                    "Catolândia",
                    "Catu",
                    "Caturama",
                    "Central",
                    "Chorrochó",
                    "Cícero Dantas",
                    "Cipó",
                    "Coaraci",
                    "Cocos",
                    "Conceição da Feira",
                    "Conceição do Almeida",
                    "Conceição do Coité",
                    "Conceição do Jacuípe",
                    "Conde",
                    "Condeúba",
                    "Contendas do Sincorá",
                    "Coração de Maria",
                    "Cordeiros",
                    "Coribe",
                    "Coronel João Sá",
                    "Correntina",
                    "Cotegipe",
                    "Cravolândia",
                    "Crisópolis",
                    "Cristópolis",
                    "Cruz das Almas",
                    "Curaçá",
                    "Dário Meira",
                    "Dias d'Ávila",
                    "Dom Basílio",
                    "Dom Macedo Costa",
                    "Elísio Medrado",
                    "Encruzilhada",
                    "Entre Rios",
                    "Érico Cardoso",
                    "Esplanada",
                    "Euclides da Cunha",
                    "Eunápolis",
                    "Fátima",
                    "Feira da Mata",
                    "Feira de Santana",
                    "Filadélfia",
                    "Firmino Alves",
                    "Floresta Azul",
                    "Formosa do Rio Preto",
                    "Gandu",
                    "Gavião",
                    "Gentio do Ouro",
                    "Glória",
                    "Gongogi",
                    "Governador Mangabeira",
                    "Guajeru",
                    "Guanambi",
                    "Guaratinga",
                    "Heliópolis",
                    "Iaçu",
                    "Ibiassucê",
                    "Ibicaraí",
                    "Ibicoara",
                    "Ibicuí",
                    "Ibipeba",
                    "Ibipitanga",
                    "Ibiquera",
                    "Ibirapitanga",
                    "Ibirapuã",
                    "Ibirataia",
                    "Ibitiara",
                    "Ibititá",
                    "Ibotirama",
                    "Ichu",
                    "Igaporã",
                    "Igrapiúna",
                    "Iguaí",
                    "Ilhéus",
                    "Inhambupe",
                    "Ipecaetá",
                    "Ipiaú",
                    "Ipirá",
                    "Ipupiara",
                    "Irajuba",
                    "Iramaia",
                    "Iraquara",
                    "Irará",
                    "Irecê",
                    "Itabela",
                    "Itaberaba",
                    "Itabuna",
                    "Itacaré",
                    "Itaeté",
                    "Itagi",
                    "Itagibá",
                    "Itagimirim",
                    "Itaguaçu da Bahia",
                    "Itaju do Colônia",
                    "Itajuípe",
                    "Itamaraju",
                    "Itamari",
                    "Itambé",
                    "Itanagra",
                    "Itanhém",
                    "Itaparica",
                    "Itapé",
                    "Itapebi",
                    "Itapetinga",
                    "Itapicuru",
                    "Itapitanga",
                    "Itaquara",
                    "Itarantim",
                    "Itatim",
                    "Itiruçu",
                    "Itiúba",
                    "Itororó",
                    "Ituaçu",
                    "Ituberá",
                    "Iuiu",
                    "Jaborandi",
                    "Jacaraci",
                    "Jacobina",
                    "Jaguaquara",
                    "Jaguarari",
                    "Jaguaripe",
                    "Jandaíra",
                    "Jequié",
                    "Jeremoabo",
                    "Jiquiriçá",
                    "Jitaúna",
                    "João Dourado",
                    "Juazeiro",
                    "Jucuruçu",
                    "Jussara",
                    "Jussari",
                    "Jussiape",
                    "Lafaiete Coutinho",
                    "Lagoa Real",
                    "Laje",
                    "Lajedão",
                    "Lajedinho",
                    "Lajedo do Tabocal",
                    "Lamarão",
                    "Lapão",
                    "Lauro de Freitas",
                    "Lençóis",
                    "Licínio de Almeida",
                    "Livramento de Nossa Senhora",
                    "Luís Eduardo Magalhães",
                    "Macajuba",
                    "Macarani",
                    "Macaúbas",
                    "Macururé",
                    "Madre de Deus",
                    "Maetinga",
                    "Maiquinique",
                    "Mairi",
                    "Malhada",
                    "Malhada de Pedras",
                    "Manoel Vitorino",
                    "Mansidão",
                    "Maracás",
                    "Maragogipe",
                    "Maraú",
                    "Marcionílio Souza",
                    "Mascote",
                    "Mata de São João",
                    "Matina",
                    "Medeiros Neto",
                    "Miguel Calmon",
                    "Milagres",
                    "Mirangaba",
                    "Mirante",
                    "Monte Santo",
                    "Morpará",
                    "Morro do Chapéu",
                    "Mortugaba",
                    "Mucugê",
                    "Mucuri",
                    "Mulungu do Morro",
                    "Mundo Novo",
                    "Muniz Ferreira",
                    "Muquém do São Francisco",
                    "Muritiba",
                    "Mutuípe",
                    "Nazaré",
                    "Nilo Peçanha",
                    "Nordestina",
                    "Nova Canaã",
                    "Nova Fátima",
                    "Nova Ibiá",
                    "Nova Itarana",
                    "Nova Redenção",
                    "Nova Soure",
                    "Nova Viçosa",
                    "Novo Horizonte",
                    "Novo Triunfo",
                    "Olindina",
                    "Oliveira dos Brejinhos",
                    "Ouriçangas",
                    "Ourolândia",
                    "Palmas de Monte Alto",
                    "Palmeiras",
                    "Paramirim",
                    "Paratinga",
                    "Paripiranga",
                    "Pau Brasil",
                    "Paulo Afonso",
                    "Pé de Serra",
                    "Pedrão",
                    "Pedro Alexandre",
                    "Piatã",
                    "Pilão Arcado",
                    "Pindaí",
                    "Pindobaçu",
                    "Pintadas",
                    "Piraí do Norte",
                    "Piripá",
                    "Piritiba",
                    "Planaltino",
                    "Planalto",
                    "Poções",
                    "Pojuca",
                    "Ponto Novo",
                    "Porto Seguro",
                    "Potiraguá",
                    "Prado",
                    "Presidente Dutra",
                    "Presidente Jânio Quadros",
                    "Presidente Tancredo Neves",
                    "Queimadas",
                    "Quijingue",
                    "Quixabeira",
                    "Rafael Jambeiro",
                    "Remanso",
                    "Retirolândia",
                    "Riachão das Neves",
                    "Riachão do Jacuípe",
                    "Riacho de Santana",
                    "Ribeira do Amparo",
                    "Ribeira do Pombal",
                    "Ribeirão do Largo",
                    "Rio de Contas",
                    "Rio do Antônio",
                    "Rio do Pires",
                    "Rio Real",
                    "Rodelas",
                    "Ruy Barbosa",
                    "Salinas da Margarida",
                    "Salvador",
                    "Santa Bárbara",
                    "Santa Brígida",
                    "Santa Cruz Cabrália",
                    "Santa Cruz da Vitória",
                    "Santa Inês",
                    "Santa Luzia",
                    "Santa Maria da Vitória",
                    "Santa Rita de Cássia",
                    "Santa Terezinha",
                    "Santaluz",
                    "Santana",
                    "Santanópolis",
                    "Santo Amaro",
                    "Santo Antônio de Jesus",
                    "Santo Estêvão",
                    "São Desidério",
                    "São Domingos",
                    "São Felipe",
                    "São Félix",
                    "São Félix do Coribe",
                    "São Francisco do Conde",
                    "São Gabriel",
                    "São Gonçalo dos Campos",
                    "São José da Vitória",
                    "São José do Jacuípe",
                    "São Miguel das Matas",
                    "São Sebastião do Passé",
                    "Sapeaçu",
                    "Sátiro Dias",
                    "Saubara",
                    "Saúde",
                    "Seabra",
                    "Sebastião Laranjeiras",
                    "Senhor do Bonfim",
                    "Sento Sé",
                    "Serra do Ramalho",
                    "Serra Dourada",
                    "Serra Preta",
                    "Serrinha",
                    "Serrolândia",
                    "Simões Filho",
                    "Sítio do Mato",
                    "Sítio do Quinto",
                    "Sobradinho",
                    "Souto Soares",
                    "Tabocas do Brejo Velho",
                    "Tanhaçu",
                    "Tanque Novo",
                    "Tanquinho",
                    "Taperoá",
                    "Tapiramutá",
                    "Teixeira de Freitas",
                    "Teodoro Sampaio",
                    "Teofilândia",
                    "Teolândia",
                    "Terra Nova",
                    "Tremedal",
                    "Tucano",
                    "Uauá",
                    "Ubaíra",
                    "Ubaitaba",
                    "Ubatã",
                    "Uibaí",
                    "Umburanas",
                    "Una",
                    "Urandi",
                    "Uruçuca",
                    "Utinga",
                    "Valença",
                    "Valente",
                    "Várzea da Roça",
                    "Várzea do Poço",
                    "Várzea Nova",
                    "Varzedo",
                    "Vera Cruz",
                    "Vereda",
                    "Vitória da Conquista",
                    "Wagner",
                    "Wanderley",
                    "Wenceslau Guimarães",
                    "Xique-Xique"
                  ],
                  "legendgroup": "",
                  "marker": {
                    "color": "#636efa",
                    "line": {
                      "width": 2
                    },
                    "size": 12,
                    "symbol": "circle"
                  },
                  "mode": "markers",
                  "name": "",
                  "orientation": "v",
                  "showlegend": false,
                  "type": "scatter",
                  "x": [
                    " 7.290 ",
                    " 18.766 ",
                    " 13.715 ",
                    " 14.166 ",
                    " 17.398 ",
                    " 4.566 ",
                    " 157.864 ",
                    " 23.633 ",
                    " 5.195 ",
                    " 36.260 ",
                    " 23.639 ",
                    " 15.104 ",
                    " 25.452 ",
                    " 13.406 ",
                    " 15.011 ",
                    " 14.973 ",
                    " 11.019 ",
                    " 14.453 ",
                    " 11.268 ",
                    " 11.921 ",
                    " 16.909 ",
                    " 6.900 ",
                    " 12.605 ",
                    " 13.819 ",
                    " 51.377 ",
                    " 9.781 ",
                    " 8.219 ",
                    " 10.006 ",
                    " 11.782 ",
                    " 13.618 ",
                    " 17.880 ",
                    " 11.869 ",
                    " 50.543 ",
                    " 26.031 ",
                    " 40.025 ",
                    " 13.852 ",
                    " 6.682 ",
                    " 165.413 ",
                    " 13.761 ",
                    " 5.820 ",
                    " 15.396 ",
                    " 20.565 ",
                    " 18.399 ",
                    " 15.151 ",
                    " 14.160 ",
                    " 19.320 ",
                    " 74.040 ",
                    " 9.572 ",
                    " 13.653 ",
                    " 15.837 ",
                    " 20.588 ",
                    " 11.040 ",
                    " 12.914 ",
                    " 9.114 ",
                    " 12.467 ",
                    " 70.268 ",
                    " 16.880 ",
                    " 19.514 ",
                    " 6.915 ",
                    " 19.432 ",
                    " 31.982 ",
                    " 22.412 ",
                    " 10.360 ",
                    " 13.242 ",
                    " 52.099 ",
                    " 17.975 ",
                    " 17.591 ",
                    " 13.063 ",
                    " 22.460 ",
                    " 334.195 ",
                    " 30.480 ",
                    " 30.659 ",
                    " 68.571 ",
                    " 10.225 ",
                    " 23.491 ",
                    " 33.080 ",
                    " 7.785 ",
                    " 77.026 ",
                    " 13.007 ",
                    " 25.278 ",
                    " 39.475 ",
                    " 15.906 ",
                    " 10.754 ",
                    " 33.344 ",
                    " 9.938 ",
                    " 21.612 ",
                    " 8.376 ",
                    " 28.869 ",
                    " 71.572 ",
                    " 24.700 ",
                    " 3.480 ",
                    " 48.137 ",
                    " 8.847 ",
                    " 16.223 ",
                    " 10.587 ",
                    " 30.836 ",
                    " 17.246 ",
                    " 17.949 ",
                    " 19.156 ",
                    " 22.936 ",
                    " 15.401 ",
                    " 70.202 ",
                    " 34.994 ",
                    " 24.433 ",
                    " 17.059 ",
                    " 4.750 ",
                    " 28.340 ",
                    " 7.555 ",
                    " 14.158 ",
                    "17.000(26)",
                    " 32.709 ",
                    " 13.059 ",
                    " 4.445 ",
                    " 19.720 ",
                    " 14.002 ",
                    " 60.633 ",
                    " 33.603 ",
                    " 10.025 ",
                    " 69.211 ",
                    " 11.905 ",
                    " 4.418 ",
                    " 7.782 ",
                    " 19.111 ",
                    " 38.880 ",
                    " 10.581 ",
                    " 34.033 ",
                    " 65.187 ",
                    " 112.477 ",
                    " 17.899 ",
                    " 5.618 ",
                    " 652.592 ",
                    " 17.892 ",
                    " 5.925 ",
                    " 11.068 ",
                    " 25.185 ",
                    " 29.776 ",
                    " 4.357 ",
                    " 11.896 ",
                    " 16.698 ",
                    " 5.549 ",
                    " 20.604 ",
                    " 8.054 ",
                    " 87.580 ",
                    " 20.338 ",
                    " 12.301 ",
                    " 25.178 ",
                    "10.426(27)",
                    " 21.688 ",
                    " 20.874 ",
                    " 13.791 ",
                    " 18.540 ",
                    " 13.905 ",
                    " 3.722 ",
                    " 27.341 ",
                    " 8.331 ",
                    " 19.613 ",
                    " 14.622 ",
                    " 17.954 ",
                    " 26.611 ",
                    " 6.192 ",
                    " 17.022 ",
                    " 13.077 ",
                    " 25.114 ",
                    " 197.163 ",
                    " 33.771 ",
                    " 16.230 ",
                    " 43.078 ",
                    " 58.094 ",
                    " 9.925 ",
                    " 6.100 ",
                    " 10.755 ",
                    " 25.590 ",
                    " 27.984 ",
                    " 76.491 ",
                    " 27.691 ",
                    " 67.605 ",
                    " 185.500 ",
                    " 28.214 ",
                    " 14.031 ",
                    " 13.925 ",
                    " 15.556 ",
                    " 7.037 ",
                    " 13.116 ",
                    " 6.033 ",
                    " 19.913 ",
                    " 60.831 ",
                    " 7.050 ",
                    " 26.420 ",
                    " 5.814 ",
                    " 19.025 ",
                    " 19.738 ",
                    " 10.327 ",
                    " 9.779 ",
                    " 68.704 ",
                    " 32.793 ",
                    " 10.320 ",
                    " 8.175 ",
                    " 17.035 ",
                    " 15.749 ",
                    " 11.016 ",
                    " 33.671 ",
                    " 17.729 ",
                    " 18.992 ",
                    " 21.974 ",
                    " 11.101 ",
                    " 9.269 ",
                    " 14.625 ",
                    " 88.296 ",
                    " 46.026 ",
                    " 32.495 ",
                    " 20.237 ",
                    " 9.112 ",
                    " 156.408 ",
                    " 37.519 ",
                    " 13.623 ",
                    " 14.614 ",
                    " 26.186 ",
                    " 244.406 ",
                    " 9.971 ",
                    " 16.922 ",
                    " 5.902 ",
                    " 7.381 ",
                    " 4.044 ",
                    " 13.990 ",
                    " 23.198 ",
                    " 4.550 ",
                    " 4.102 ",
                    " 7.486 ",
                    " 9.062 ",
                    " 25.713 ",
                    " 220.437 ",
                    " 11.022 ",
                    " 11.848 ",
                    " 43.898 ",
                    " 108.271 ",
                    " 10.463 ",
                    " 21.556 ",
                    " 41.631 ",
                    " 7.600 ",
                    " 18.767 ",
                    " 6.968 ",
                    " 9.452 ",
                    " 16.122 ",
                    " 15.426 ",
                    " 8.673 ",
                    " 13.327 ",
                    " 13.902 ",
                    " 27.747 ",
                    " 38.394 ",
                    " 24.713 ",
                    " 9.256 ",
                    " 11.991 ",
                    " 48.698 ",
                    " 10.338 ",
                    " 23.096 ",
                    " 27.817 ",
                    " 11.076 ",
                    " 15.050 ",
                    " 10.072 ",
                    " 47.758 ",
                    " 8.303 ",
                    " 33.389 ",
                    " 11.131 ",
                    " 12.988 ",
                    " 38.082 ",
                    " 13.166 ",
                    " 20.564 ",
                    " 7.165 ",
                    " 11.029 ",
                    " 28.558 ",
                    " 20.028 ",
                    " 28.181 ",
                    " 12.032 ",
                    " 18.536 ",
                    " 15.959 ",
                    " 7.958 ",
                    " 8.325 ",
                    " 7.820 ",
                    " 7.525 ",
                    " 24.206 ",
                    " 41.089 ",
                    " 11.163 ",
                    " 10.666 ",
                    " 22.615 ",
                    " 22.850 ",
                    " 7.728 ",
                    " 19.322 ",
                    " 20.091 ",
                    " 10.383 ",
                    " 20.378 ",
                    " 28.947 ",
                    " 26.609 ",
                    " 10.669 ",
                    " 118.412 ",
                    " 13.242 ",
                    " 6.229 ",
                    " 14.056 ",
                    " 20.098 ",
                    " 35.326 ",
                    " 14.740 ",
                    " 19.133 ",
                    " 9.805 ",
                    " 10.200 ",
                    " 9.158 ",
                    " 17.549 ",
                    " 8.012 ",
                    " 23.290 ",
                    " 48.197 ",
                    " 33.079 ",
                    " 17.941 ",
                    " 158.736 ",
                    " 11.524 ",
                    " 31.715 ",
                    " 15.133 ",
                    " 12.627 ",
                    " 27.662 ",
                    " 26.027 ",
                    " 27.317 ",
                    " 9.429 ",
                    " 20.242 ",
                    " 40.531 ",
                    " 13.654 ",
                    " 22.289 ",
                    " 33.422 ",
                    " 39.127 ",
                    " 13.831 ",
                    " 53.997 ",
                    " 10.382 ",
                    " 13.634 ",
                    " 13.098 ",
                    " 9.585 ",
                    " 35.378 ",
                    "10.303(28)",
                    " 30.172 ",
                    " 14.989 ",
                    " 2.610.987 ",
                    " 22.446 ",
                    " 14.979 ",
                    " 30.385 ",
                    " 4.672 ",
                    " 10.293 ",
                    " 11.776 ",
                    " 38.686 ",
                    " 28.084 ",
                    " 9.790 ",
                    " 37.079 ",
                    " 24.778 ",
                    " 9.831 ",
                    " 55.935 ",
                    " 103.055 ",
                    " 55.696 ",
                    " 36.793 ",
                    " 8.417 ",
                    " 20.286 ",
                    " 10.946 ",
                    " 15.704 ",
                    " 37.892 ",
                    " 18.417 ",
                    " 39.570 ",
                    " 5.321 ",
                    " 10.195 ",
                    " 10.334 ",
                    " 40.376 ",
                    " 17.993 ",
                    " 16.021 ",
                    " 11.433 ",
                    " 10.482 ",
                    " 49.587 ",
                    " 9.373 ",
                    " 77.514 ",
                    " 37.389 ",
                    " 34.270 ",
                    " 16.691 ",
                    " 18.090 ",
                    " 85.696 ",
                    " 13.320 ",
                    " 127.093 ",
                    " 13.408 ",
                    " 14.778 ",
                    " 24.799 ",
                    " 16.904 ",
                    " 11.990 ",
                    " 21.407 ",
                    " 18.459 ",
                    " 7.729 ",
                    " 18.016 ",
                    " 15.884 ",
                    " 147.454 ",
                    " 7.220 ",
                    " 21.811 ",
                    " 15.892 ",
                    " 10.802 ",
                    " 17.497 ",
                    " 48.062 ",
                    " 24.654 ",
                    " 18.605 ",
                    " 17.626 ",
                    " 18.161 ",
                    " 14.844 ",
                    " 13.511 ",
                    " 17.998 ",
                    " 15.365 ",
                    " 21.365 ",
                    " 16.285 ",
                    " 96.226 ",
                    " 23.683 ",
                    " 13.043 ",
                    " 8.115 ",
                    " 13.369 ",
                    " 9.913 ",
                    " 40.915 ",
                    " 7.072 ",
                    " 387.524 ",
                    " 8.861 ",
                    " 13.071 ",
                    " 26.279 ",
                    " 46.328 "
                  ],
                  "xaxis": "x",
                  "y": [
                    0,
                    0,
                    361,
                    0,
                    98,
                    6,
                    1093,
                    218,
                    162,
                    838,
                    482,
                    82,
                    202,
                    270,
                    496,
                    101,
                    10,
                    483,
                    173,
                    350,
                    449,
                    58,
                    64,
                    376,
                    408,
                    3,
                    113,
                    412,
                    0,
                    0,
                    216,
                    479,
                    556,
                    109,
                    598,
                    161,
                    131,
                    1072,
                    265,
                    468,
                    189,
                    331,
                    17,
                    73,
                    140,
                    210,
                    117,
                    124,
                    11,
                    232,
                    52,
                    19,
                    74,
                    0,
                    141,
                    1800,
                    38,
                    273,
                    80,
                    10,
                    566,
                    301,
                    309,
                    0,
                    377,
                    559,
                    665,
                    942,
                    448,
                    247,
                    352,
                    292,
                    819,
                    138,
                    843,
                    199,
                    66,
                    396,
                    83,
                    194,
                    280,
                    25,
                    0,
                    505,
                    0,
                    146,
                    4,
                    137,
                    517,
                    29,
                    0,
                    169,
                    301,
                    0,
                    15,
                    403,
                    109,
                    506,
                    15,
                    441,
                    103,
                    563,
                    723,
                    100,
                    0,
                    87,
                    255,
                    111,
                    0,
                    631,
                    181,
                    1,
                    23,
                    389,
                    1,
                    706,
                    622,
                    551,
                    2647,
                    11,
                    136,
                    375,
                    295,
                    429,
                    0,
                    387,
                    1051,
                    654,
                    13,
                    0,
                    933,
                    675,
                    0,
                    137,
                    8,
                    186,
                    32,
                    0,
                    96,
                    0,
                    32,
                    0,
                    626,
                    0,
                    60,
                    610,
                    0,
                    347,
                    67,
                    192,
                    0,
                    6,
                    65,
                    256,
                    166,
                    158,
                    38,
                    111,
                    5,
                    189,
                    36,
                    196,
                    353,
                    295,
                    264,
                    550,
                    680,
                    689,
                    134,
                    129,
                    62,
                    297,
                    562,
                    636,
                    0,
                    528,
                    1030,
                    4,
                    67,
                    10,
                    115,
                    190,
                    0,
                    0,
                    0,
                    86,
                    92,
                    561,
                    113,
                    2,
                    479,
                    219,
                    171,
                    728,
                    292,
                    25,
                    132,
                    102,
                    381,
                    364,
                    848,
                    149,
                    300,
                    322,
                    322,
                    0,
                    241,
                    852,
                    0,
                    32,
                    374,
                    75,
                    1399,
                    823,
                    307,
                    104,
                    316,
                    1793,
                    0,
                    0,
                    214,
                    130,
                    222,
                    1,
                    449,
                    123,
                    38,
                    391,
                    0,
                    1384,
                    2524,
                    74,
                    121,
                    517,
                    1561,
                    271,
                    0,
                    429,
                    11,
                    525,
                    189,
                    0,
                    233,
                    2,
                    102,
                    2,
                    0,
                    175,
                    764,
                    2,
                    220,
                    1,
                    2436,
                    145,
                    260,
                    12,
                    124,
                    323,
                    0,
                    335,
                    0,
                    328,
                    382,
                    59,
                    559,
                    161,
                    407,
                    66,
                    5,
                    598,
                    230,
                    734,
                    121,
                    0,
                    691,
                    250,
                    109,
                    6,
                    14,
                    297,
                    748,
                    20,
                    418,
                    167,
                    0,
                    353,
                    111,
                    662,
                    29,
                    96,
                    304,
                    57,
                    0,
                    453,
                    3,
                    0,
                    356,
                    328,
                    678,
                    70,
                    1108,
                    0,
                    4,
                    0,
                    10,
                    86,
                    194,
                    682,
                    72,
                    805,
                    1358,
                    85,
                    574,
                    6,
                    0,
                    45,
                    0,
                    519,
                    392,
                    0,
                    236,
                    373,
                    108,
                    194,
                    811,
                    206,
                    1053,
                    79,
                    86,
                    0,
                    92,
                    1030,
                    0,
                    553,
                    562,
                    8860,
                    201,
                    90,
                    234,
                    132,
                    449,
                    246,
                    493,
                    8,
                    1,
                    1263,
                    151,
                    3,
                    1902,
                    983,
                    288,
                    195,
                    145,
                    677,
                    256,
                    17,
                    511,
                    246,
                    0,
                    0,
                    302,
                    94,
                    417,
                    301,
                    461,
                    374,
                    109,
                    357,
                    0,
                    162,
                    18,
                    84,
                    85,
                    0,
                    2992,
                    505,
                    1591,
                    0,
                    125,
                    260,
                    229,
                    0,
                    427,
                    163,
                    75,
                    251,
                    206,
                    1138,
                    0,
                    171,
                    119,
                    335,
                    245,
                    716,
                    332,
                    345,
                    206,
                    344,
                    0,
                    171,
                    269,
                    104,
                    272,
                    178,
                    1716,
                    712,
                    210,
                    329,
                    21,
                    84,
                    880,
                    28,
                    3271,
                    121,
                    349,
                    208,
                    736
                  ],
                  "yaxis": "y"
                }
              ],
              "layout": {
                "legend": {
                  "tracegroupgap": 0
                },
                "margin": {
                  "t": 60
                },
                "template": {
                  "data": {
                    "bar": [
                      {
                        "error_x": {
                          "color": "#2a3f5f"
                        },
                        "error_y": {
                          "color": "#2a3f5f"
                        },
                        "marker": {
                          "line": {
                            "color": "#E5ECF6",
                            "width": 0.5
                          },
                          "pattern": {
                            "fillmode": "overlay",
                            "size": 10,
                            "solidity": 0.2
                          }
                        },
                        "type": "bar"
                      }
                    ],
                    "barpolar": [
                      {
                        "marker": {
                          "line": {
                            "color": "#E5ECF6",
                            "width": 0.5
                          },
                          "pattern": {
                            "fillmode": "overlay",
                            "size": 10,
                            "solidity": 0.2
                          }
                        },
                        "type": "barpolar"
                      }
                    ],
                    "carpet": [
                      {
                        "aaxis": {
                          "endlinecolor": "#2a3f5f",
                          "gridcolor": "white",
                          "linecolor": "white",
                          "minorgridcolor": "white",
                          "startlinecolor": "#2a3f5f"
                        },
                        "baxis": {
                          "endlinecolor": "#2a3f5f",
                          "gridcolor": "white",
                          "linecolor": "white",
                          "minorgridcolor": "white",
                          "startlinecolor": "#2a3f5f"
                        },
                        "type": "carpet"
                      }
                    ],
                    "choropleth": [
                      {
                        "colorbar": {
                          "outlinewidth": 0,
                          "ticks": ""
                        },
                        "type": "choropleth"
                      }
                    ],
                    "contour": [
                      {
                        "colorbar": {
                          "outlinewidth": 0,
                          "ticks": ""
                        },
                        "colorscale": [
                          [
                            0,
                            "#0d0887"
                          ],
                          [
                            0.1111111111111111,
                            "#46039f"
                          ],
                          [
                            0.2222222222222222,
                            "#7201a8"
                          ],
                          [
                            0.3333333333333333,
                            "#9c179e"
                          ],
                          [
                            0.4444444444444444,
                            "#bd3786"
                          ],
                          [
                            0.5555555555555556,
                            "#d8576b"
                          ],
                          [
                            0.6666666666666666,
                            "#ed7953"
                          ],
                          [
                            0.7777777777777778,
                            "#fb9f3a"
                          ],
                          [
                            0.8888888888888888,
                            "#fdca26"
                          ],
                          [
                            1,
                            "#f0f921"
                          ]
                        ],
                        "type": "contour"
                      }
                    ],
                    "contourcarpet": [
                      {
                        "colorbar": {
                          "outlinewidth": 0,
                          "ticks": ""
                        },
                        "type": "contourcarpet"
                      }
                    ],
                    "heatmap": [
                      {
                        "colorbar": {
                          "outlinewidth": 0,
                          "ticks": ""
                        },
                        "colorscale": [
                          [
                            0,
                            "#0d0887"
                          ],
                          [
                            0.1111111111111111,
                            "#46039f"
                          ],
                          [
                            0.2222222222222222,
                            "#7201a8"
                          ],
                          [
                            0.3333333333333333,
                            "#9c179e"
                          ],
                          [
                            0.4444444444444444,
                            "#bd3786"
                          ],
                          [
                            0.5555555555555556,
                            "#d8576b"
                          ],
                          [
                            0.6666666666666666,
                            "#ed7953"
                          ],
                          [
                            0.7777777777777778,
                            "#fb9f3a"
                          ],
                          [
                            0.8888888888888888,
                            "#fdca26"
                          ],
                          [
                            1,
                            "#f0f921"
                          ]
                        ],
                        "type": "heatmap"
                      }
                    ],
                    "heatmapgl": [
                      {
                        "colorbar": {
                          "outlinewidth": 0,
                          "ticks": ""
                        },
                        "colorscale": [
                          [
                            0,
                            "#0d0887"
                          ],
                          [
                            0.1111111111111111,
                            "#46039f"
                          ],
                          [
                            0.2222222222222222,
                            "#7201a8"
                          ],
                          [
                            0.3333333333333333,
                            "#9c179e"
                          ],
                          [
                            0.4444444444444444,
                            "#bd3786"
                          ],
                          [
                            0.5555555555555556,
                            "#d8576b"
                          ],
                          [
                            0.6666666666666666,
                            "#ed7953"
                          ],
                          [
                            0.7777777777777778,
                            "#fb9f3a"
                          ],
                          [
                            0.8888888888888888,
                            "#fdca26"
                          ],
                          [
                            1,
                            "#f0f921"
                          ]
                        ],
                        "type": "heatmapgl"
                      }
                    ],
                    "histogram": [
                      {
                        "marker": {
                          "pattern": {
                            "fillmode": "overlay",
                            "size": 10,
                            "solidity": 0.2
                          }
                        },
                        "type": "histogram"
                      }
                    ],
                    "histogram2d": [
                      {
                        "colorbar": {
                          "outlinewidth": 0,
                          "ticks": ""
                        },
                        "colorscale": [
                          [
                            0,
                            "#0d0887"
                          ],
                          [
                            0.1111111111111111,
                            "#46039f"
                          ],
                          [
                            0.2222222222222222,
                            "#7201a8"
                          ],
                          [
                            0.3333333333333333,
                            "#9c179e"
                          ],
                          [
                            0.4444444444444444,
                            "#bd3786"
                          ],
                          [
                            0.5555555555555556,
                            "#d8576b"
                          ],
                          [
                            0.6666666666666666,
                            "#ed7953"
                          ],
                          [
                            0.7777777777777778,
                            "#fb9f3a"
                          ],
                          [
                            0.8888888888888888,
                            "#fdca26"
                          ],
                          [
                            1,
                            "#f0f921"
                          ]
                        ],
                        "type": "histogram2d"
                      }
                    ],
                    "histogram2dcontour": [
                      {
                        "colorbar": {
                          "outlinewidth": 0,
                          "ticks": ""
                        },
                        "colorscale": [
                          [
                            0,
                            "#0d0887"
                          ],
                          [
                            0.1111111111111111,
                            "#46039f"
                          ],
                          [
                            0.2222222222222222,
                            "#7201a8"
                          ],
                          [
                            0.3333333333333333,
                            "#9c179e"
                          ],
                          [
                            0.4444444444444444,
                            "#bd3786"
                          ],
                          [
                            0.5555555555555556,
                            "#d8576b"
                          ],
                          [
                            0.6666666666666666,
                            "#ed7953"
                          ],
                          [
                            0.7777777777777778,
                            "#fb9f3a"
                          ],
                          [
                            0.8888888888888888,
                            "#fdca26"
                          ],
                          [
                            1,
                            "#f0f921"
                          ]
                        ],
                        "type": "histogram2dcontour"
                      }
                    ],
                    "mesh3d": [
                      {
                        "colorbar": {
                          "outlinewidth": 0,
                          "ticks": ""
                        },
                        "type": "mesh3d"
                      }
                    ],
                    "parcoords": [
                      {
                        "line": {
                          "colorbar": {
                            "outlinewidth": 0,
                            "ticks": ""
                          }
                        },
                        "type": "parcoords"
                      }
                    ],
                    "pie": [
                      {
                        "automargin": true,
                        "type": "pie"
                      }
                    ],
                    "scatter": [
                      {
                        "fillpattern": {
                          "fillmode": "overlay",
                          "size": 10,
                          "solidity": 0.2
                        },
                        "type": "scatter"
                      }
                    ],
                    "scatter3d": [
                      {
                        "line": {
                          "colorbar": {
                            "outlinewidth": 0,
                            "ticks": ""
                          }
                        },
                        "marker": {
                          "colorbar": {
                            "outlinewidth": 0,
                            "ticks": ""
                          }
                        },
                        "type": "scatter3d"
                      }
                    ],
                    "scattercarpet": [
                      {
                        "marker": {
                          "colorbar": {
                            "outlinewidth": 0,
                            "ticks": ""
                          }
                        },
                        "type": "scattercarpet"
                      }
                    ],
                    "scattergeo": [
                      {
                        "marker": {
                          "colorbar": {
                            "outlinewidth": 0,
                            "ticks": ""
                          }
                        },
                        "type": "scattergeo"
                      }
                    ],
                    "scattergl": [
                      {
                        "marker": {
                          "colorbar": {
                            "outlinewidth": 0,
                            "ticks": ""
                          }
                        },
                        "type": "scattergl"
                      }
                    ],
                    "scattermapbox": [
                      {
                        "marker": {
                          "colorbar": {
                            "outlinewidth": 0,
                            "ticks": ""
                          }
                        },
                        "type": "scattermapbox"
                      }
                    ],
                    "scatterpolar": [
                      {
                        "marker": {
                          "colorbar": {
                            "outlinewidth": 0,
                            "ticks": ""
                          }
                        },
                        "type": "scatterpolar"
                      }
                    ],
                    "scatterpolargl": [
                      {
                        "marker": {
                          "colorbar": {
                            "outlinewidth": 0,
                            "ticks": ""
                          }
                        },
                        "type": "scatterpolargl"
                      }
                    ],
                    "scatterternary": [
                      {
                        "marker": {
                          "colorbar": {
                            "outlinewidth": 0,
                            "ticks": ""
                          }
                        },
                        "type": "scatterternary"
                      }
                    ],
                    "surface": [
                      {
                        "colorbar": {
                          "outlinewidth": 0,
                          "ticks": ""
                        },
                        "colorscale": [
                          [
                            0,
                            "#0d0887"
                          ],
                          [
                            0.1111111111111111,
                            "#46039f"
                          ],
                          [
                            0.2222222222222222,
                            "#7201a8"
                          ],
                          [
                            0.3333333333333333,
                            "#9c179e"
                          ],
                          [
                            0.4444444444444444,
                            "#bd3786"
                          ],
                          [
                            0.5555555555555556,
                            "#d8576b"
                          ],
                          [
                            0.6666666666666666,
                            "#ed7953"
                          ],
                          [
                            0.7777777777777778,
                            "#fb9f3a"
                          ],
                          [
                            0.8888888888888888,
                            "#fdca26"
                          ],
                          [
                            1,
                            "#f0f921"
                          ]
                        ],
                        "type": "surface"
                      }
                    ],
                    "table": [
                      {
                        "cells": {
                          "fill": {
                            "color": "#EBF0F8"
                          },
                          "line": {
                            "color": "white"
                          }
                        },
                        "header": {
                          "fill": {
                            "color": "#C8D4E3"
                          },
                          "line": {
                            "color": "white"
                          }
                        },
                        "type": "table"
                      }
                    ]
                  },
                  "layout": {
                    "annotationdefaults": {
                      "arrowcolor": "#2a3f5f",
                      "arrowhead": 0,
                      "arrowwidth": 1
                    },
                    "autotypenumbers": "strict",
                    "coloraxis": {
                      "colorbar": {
                        "outlinewidth": 0,
                        "ticks": ""
                      }
                    },
                    "colorscale": {
                      "diverging": [
                        [
                          0,
                          "#8e0152"
                        ],
                        [
                          0.1,
                          "#c51b7d"
                        ],
                        [
                          0.2,
                          "#de77ae"
                        ],
                        [
                          0.3,
                          "#f1b6da"
                        ],
                        [
                          0.4,
                          "#fde0ef"
                        ],
                        [
                          0.5,
                          "#f7f7f7"
                        ],
                        [
                          0.6,
                          "#e6f5d0"
                        ],
                        [
                          0.7,
                          "#b8e186"
                        ],
                        [
                          0.8,
                          "#7fbc41"
                        ],
                        [
                          0.9,
                          "#4d9221"
                        ],
                        [
                          1,
                          "#276419"
                        ]
                      ],
                      "sequential": [
                        [
                          0,
                          "#0d0887"
                        ],
                        [
                          0.1111111111111111,
                          "#46039f"
                        ],
                        [
                          0.2222222222222222,
                          "#7201a8"
                        ],
                        [
                          0.3333333333333333,
                          "#9c179e"
                        ],
                        [
                          0.4444444444444444,
                          "#bd3786"
                        ],
                        [
                          0.5555555555555556,
                          "#d8576b"
                        ],
                        [
                          0.6666666666666666,
                          "#ed7953"
                        ],
                        [
                          0.7777777777777778,
                          "#fb9f3a"
                        ],
                        [
                          0.8888888888888888,
                          "#fdca26"
                        ],
                        [
                          1,
                          "#f0f921"
                        ]
                      ],
                      "sequentialminus": [
                        [
                          0,
                          "#0d0887"
                        ],
                        [
                          0.1111111111111111,
                          "#46039f"
                        ],
                        [
                          0.2222222222222222,
                          "#7201a8"
                        ],
                        [
                          0.3333333333333333,
                          "#9c179e"
                        ],
                        [
                          0.4444444444444444,
                          "#bd3786"
                        ],
                        [
                          0.5555555555555556,
                          "#d8576b"
                        ],
                        [
                          0.6666666666666666,
                          "#ed7953"
                        ],
                        [
                          0.7777777777777778,
                          "#fb9f3a"
                        ],
                        [
                          0.8888888888888888,
                          "#fdca26"
                        ],
                        [
                          1,
                          "#f0f921"
                        ]
                      ]
                    },
                    "colorway": [
                      "#636efa",
                      "#EF553B",
                      "#00cc96",
                      "#ab63fa",
                      "#FFA15A",
                      "#19d3f3",
                      "#FF6692",
                      "#B6E880",
                      "#FF97FF",
                      "#FECB52"
                    ],
                    "font": {
                      "color": "#2a3f5f"
                    },
                    "geo": {
                      "bgcolor": "white",
                      "lakecolor": "white",
                      "landcolor": "#E5ECF6",
                      "showlakes": true,
                      "showland": true,
                      "subunitcolor": "white"
                    },
                    "hoverlabel": {
                      "align": "left"
                    },
                    "hovermode": "closest",
                    "mapbox": {
                      "style": "light"
                    },
                    "paper_bgcolor": "white",
                    "plot_bgcolor": "#E5ECF6",
                    "polar": {
                      "angularaxis": {
                        "gridcolor": "white",
                        "linecolor": "white",
                        "ticks": ""
                      },
                      "bgcolor": "#E5ECF6",
                      "radialaxis": {
                        "gridcolor": "white",
                        "linecolor": "white",
                        "ticks": ""
                      }
                    },
                    "scene": {
                      "xaxis": {
                        "backgroundcolor": "#E5ECF6",
                        "gridcolor": "white",
                        "gridwidth": 2,
                        "linecolor": "white",
                        "showbackground": true,
                        "ticks": "",
                        "zerolinecolor": "white"
                      },
                      "yaxis": {
                        "backgroundcolor": "#E5ECF6",
                        "gridcolor": "white",
                        "gridwidth": 2,
                        "linecolor": "white",
                        "showbackground": true,
                        "ticks": "",
                        "zerolinecolor": "white"
                      },
                      "zaxis": {
                        "backgroundcolor": "#E5ECF6",
                        "gridcolor": "white",
                        "gridwidth": 2,
                        "linecolor": "white",
                        "showbackground": true,
                        "ticks": "",
                        "zerolinecolor": "white"
                      }
                    },
                    "shapedefaults": {
                      "line": {
                        "color": "#2a3f5f"
                      }
                    },
                    "ternary": {
                      "aaxis": {
                        "gridcolor": "white",
                        "linecolor": "white",
                        "ticks": ""
                      },
                      "baxis": {
                        "gridcolor": "white",
                        "linecolor": "white",
                        "ticks": ""
                      },
                      "bgcolor": "#E5ECF6",
                      "caxis": {
                        "gridcolor": "white",
                        "linecolor": "white",
                        "ticks": ""
                      }
                    },
                    "title": {
                      "x": 0.05
                    },
                    "xaxis": {
                      "automargin": true,
                      "gridcolor": "white",
                      "linecolor": "white",
                      "ticks": "",
                      "title": {
                        "standoff": 15
                      },
                      "zerolinecolor": "white",
                      "zerolinewidth": 2
                    },
                    "yaxis": {
                      "automargin": true,
                      "gridcolor": "white",
                      "linecolor": "white",
                      "ticks": "",
                      "title": {
                        "standoff": 15
                      },
                      "zerolinecolor": "white",
                      "zerolinewidth": 2
                    }
                  }
                },
                "title": {
                  "text": "População X Matrículas Infantil Integral"
                },
                "width": 800,
                "xaxis": {
                  "anchor": "y",
                  "domain": [
                    0,
                    1
                  ],
                  "title": {
                    "text": "População 2022"
                  },
                  "type": "log"
                },
                "yaxis": {
                  "anchor": "x",
                  "domain": [
                    0,
                    1
                  ],
                  "title": {
                    "text": "Matrículas Infantil Integral"
                  }
                }
              }
            },
            "text/html": [
              "<div>                            <div id=\"0d053123-4d0a-4665-a17d-62f00a41f3a6\" class=\"plotly-graph-div\" style=\"height:525px; width:800px;\"></div>            <script type=\"text/javascript\">                require([\"plotly\"], function(Plotly) {                    window.PLOTLYENV=window.PLOTLYENV || {};                                    if (document.getElementById(\"0d053123-4d0a-4665-a17d-62f00a41f3a6\")) {                    Plotly.newPlot(                        \"0d053123-4d0a-4665-a17d-62f00a41f3a6\",                        [{\"hovertemplate\":\"\\u003cb\\u003e%{hovertext}\\u003c\\u002fb\\u003e\\u003cbr\\u003e\\u003cbr\\u003ePOP_Censo_2022=%{x}\\u003cbr\\u003eQT_MAT_INF_INT_22=%{y}\\u003cextra\\u003e\\u003c\\u002fextra\\u003e\",\"hovertext\":[\"Aba\\u00edra\",\"Abar\\u00e9\",\"Acajutiba\",\"Adustina\",\"\\u00c1gua Fria\",\"Aiquara\",\"Alagoinhas\",\"Alcoba\\u00e7a\",\"Almadina\",\"Amargosa\",\"Am\\u00e9lia Rodrigues\",\"Am\\u00e9rica Dourada\",\"Anag\\u00e9\",\"Andara\\u00ed\",\"Andorinha\",\"Angical\",\"Anguera\",\"Antas\",\"Ant\\u00f4nio Cardoso\",\"Ant\\u00f4nio Gon\\u00e7alves\",\"Apor\\u00e1\",\"Apuarema\",\"Ara\\u00e7\\u00e1s\",\"Aracatu\",\"Araci\",\"Aramari\",\"Arataca\",\"Aratu\\u00edpe\",\"Aurelino Leal\",\"Baian\\u00f3polis\",\"Baixa Grande\",\"Banza\\u00ea\",\"Barra\",\"Barra da Estiva\",\"Barra do Cho\\u00e7a\",\"Barra do Mendes\",\"Barra do Rocha\",\"Barreiras\",\"Barro Alto\",\"Barro Preto\",\"Barrocas\",\"Belmonte\",\"Belo Campo\",\"Biritinga\",\"Boa Nova\",\"Boa Vista do Tupim\",\"Bom Jesus da Lapa\",\"Bom Jesus da Serra\",\"Boninal\",\"Bonito\",\"Boquira\",\"Botupor\\u00e3\",\"Brej\\u00f5es\",\"Brejol\\u00e2ndia\",\"Brotas de Maca\\u00fabas\",\"Brumado\",\"Buerarema\",\"Buritirama\",\"Caatiba\",\"Cabaceiras do Paragua\\u00e7u\",\"Cachoeira\",\"Cacul\\u00e9\",\"Ca\\u00e9m\",\"Caetanos\",\"Caetit\\u00e9\",\"Cafarnaum\",\"Cairu\",\"Caldeir\\u00e3o Grande\",\"Camacan\",\"Cama\\u00e7ari\",\"Camamu\",\"Campo Alegre de Lourdes\",\"Campo Formoso\",\"Can\\u00e1polis\",\"Canarana\",\"Canavieiras\",\"Candeal\",\"Candeias\",\"Candiba\",\"C\\u00e2ndido Sales\",\"Cansan\\u00e7\\u00e3o\",\"Canudos\",\"Capela do Alto Alegre\",\"Capim Grosso\",\"Cara\\u00edbas\",\"Caravelas\",\"Cardeal da Silva\",\"Carinhanha\",\"Casa Nova\",\"Castro Alves\",\"Catol\\u00e2ndia\",\"Catu\",\"Caturama\",\"Central\",\"Chorroch\\u00f3\",\"C\\u00edcero Dantas\",\"Cip\\u00f3\",\"Coaraci\",\"Cocos\",\"Concei\\u00e7\\u00e3o da Feira\",\"Concei\\u00e7\\u00e3o do Almeida\",\"Concei\\u00e7\\u00e3o do Coit\\u00e9\",\"Concei\\u00e7\\u00e3o do Jacu\\u00edpe\",\"Conde\",\"Conde\\u00faba\",\"Contendas do Sincor\\u00e1\",\"Cora\\u00e7\\u00e3o de Maria\",\"Cordeiros\",\"Coribe\",\"Coronel Jo\\u00e3o S\\u00e1\",\"Correntina\",\"Cotegipe\",\"Cravol\\u00e2ndia\",\"Cris\\u00f3polis\",\"Crist\\u00f3polis\",\"Cruz das Almas\",\"Cura\\u00e7\\u00e1\",\"D\\u00e1rio Meira\",\"Dias d'\\u00c1vila\",\"Dom Bas\\u00edlio\",\"Dom Macedo Costa\",\"El\\u00edsio Medrado\",\"Encruzilhada\",\"Entre Rios\",\"\\u00c9rico Cardoso\",\"Esplanada\",\"Euclides da Cunha\",\"Eun\\u00e1polis\",\"F\\u00e1tima\",\"Feira da Mata\",\"Feira de Santana\",\"Filad\\u00e9lfia\",\"Firmino Alves\",\"Floresta Azul\",\"Formosa do Rio Preto\",\"Gandu\",\"Gavi\\u00e3o\",\"Gentio do Ouro\",\"Gl\\u00f3ria\",\"Gongogi\",\"Governador Mangabeira\",\"Guajeru\",\"Guanambi\",\"Guaratinga\",\"Heli\\u00f3polis\",\"Ia\\u00e7u\",\"Ibiassuc\\u00ea\",\"Ibicara\\u00ed\",\"Ibicoara\",\"Ibicu\\u00ed\",\"Ibipeba\",\"Ibipitanga\",\"Ibiquera\",\"Ibirapitanga\",\"Ibirapu\\u00e3\",\"Ibirataia\",\"Ibitiara\",\"Ibitit\\u00e1\",\"Ibotirama\",\"Ichu\",\"Igapor\\u00e3\",\"Igrapi\\u00fana\",\"Igua\\u00ed\",\"Ilh\\u00e9us\",\"Inhambupe\",\"Ipecaet\\u00e1\",\"Ipia\\u00fa\",\"Ipir\\u00e1\",\"Ipupiara\",\"Irajuba\",\"Iramaia\",\"Iraquara\",\"Irar\\u00e1\",\"Irec\\u00ea\",\"Itabela\",\"Itaberaba\",\"Itabuna\",\"Itacar\\u00e9\",\"Itaet\\u00e9\",\"Itagi\",\"Itagib\\u00e1\",\"Itagimirim\",\"Itagua\\u00e7u da Bahia\",\"Itaju do Col\\u00f4nia\",\"Itaju\\u00edpe\",\"Itamaraju\",\"Itamari\",\"Itamb\\u00e9\",\"Itanagra\",\"Itanh\\u00e9m\",\"Itaparica\",\"Itap\\u00e9\",\"Itapebi\",\"Itapetinga\",\"Itapicuru\",\"Itapitanga\",\"Itaquara\",\"Itarantim\",\"Itatim\",\"Itiru\\u00e7u\",\"Iti\\u00faba\",\"Itoror\\u00f3\",\"Itua\\u00e7u\",\"Ituber\\u00e1\",\"Iuiu\",\"Jaborandi\",\"Jacaraci\",\"Jacobina\",\"Jaguaquara\",\"Jaguarari\",\"Jaguaripe\",\"Janda\\u00edra\",\"Jequi\\u00e9\",\"Jeremoabo\",\"Jiquiri\\u00e7\\u00e1\",\"Jita\\u00fana\",\"Jo\\u00e3o Dourado\",\"Juazeiro\",\"Jucuru\\u00e7u\",\"Jussara\",\"Jussari\",\"Jussiape\",\"Lafaiete Coutinho\",\"Lagoa Real\",\"Laje\",\"Lajed\\u00e3o\",\"Lajedinho\",\"Lajedo do Tabocal\",\"Lamar\\u00e3o\",\"Lap\\u00e3o\",\"Lauro de Freitas\",\"Len\\u00e7\\u00f3is\",\"Lic\\u00ednio de Almeida\",\"Livramento de Nossa Senhora\",\"Lu\\u00eds Eduardo Magalh\\u00e3es\",\"Macajuba\",\"Macarani\",\"Maca\\u00fabas\",\"Macurur\\u00e9\",\"Madre de Deus\",\"Maetinga\",\"Maiquinique\",\"Mairi\",\"Malhada\",\"Malhada de Pedras\",\"Manoel Vitorino\",\"Mansid\\u00e3o\",\"Marac\\u00e1s\",\"Maragogipe\",\"Mara\\u00fa\",\"Marcion\\u00edlio Souza\",\"Mascote\",\"Mata de S\\u00e3o Jo\\u00e3o\",\"Matina\",\"Medeiros Neto\",\"Miguel Calmon\",\"Milagres\",\"Mirangaba\",\"Mirante\",\"Monte Santo\",\"Morpar\\u00e1\",\"Morro do Chap\\u00e9u\",\"Mortugaba\",\"Mucug\\u00ea\",\"Mucuri\",\"Mulungu do Morro\",\"Mundo Novo\",\"Muniz Ferreira\",\"Muqu\\u00e9m do S\\u00e3o Francisco\",\"Muritiba\",\"Mutu\\u00edpe\",\"Nazar\\u00e9\",\"Nilo Pe\\u00e7anha\",\"Nordestina\",\"Nova Cana\\u00e3\",\"Nova F\\u00e1tima\",\"Nova Ibi\\u00e1\",\"Nova Itarana\",\"Nova Reden\\u00e7\\u00e3o\",\"Nova Soure\",\"Nova Vi\\u00e7osa\",\"Novo Horizonte\",\"Novo Triunfo\",\"Olindina\",\"Oliveira dos Brejinhos\",\"Ouri\\u00e7angas\",\"Ourol\\u00e2ndia\",\"Palmas de Monte Alto\",\"Palmeiras\",\"Paramirim\",\"Paratinga\",\"Paripiranga\",\"Pau Brasil\",\"Paulo Afonso\",\"P\\u00e9 de Serra\",\"Pedr\\u00e3o\",\"Pedro Alexandre\",\"Piat\\u00e3\",\"Pil\\u00e3o Arcado\",\"Pinda\\u00ed\",\"Pindoba\\u00e7u\",\"Pintadas\",\"Pira\\u00ed do Norte\",\"Pirip\\u00e1\",\"Piritiba\",\"Planaltino\",\"Planalto\",\"Po\\u00e7\\u00f5es\",\"Pojuca\",\"Ponto Novo\",\"Porto Seguro\",\"Potiragu\\u00e1\",\"Prado\",\"Presidente Dutra\",\"Presidente J\\u00e2nio Quadros\",\"Presidente Tancredo Neves\",\"Queimadas\",\"Quijingue\",\"Quixabeira\",\"Rafael Jambeiro\",\"Remanso\",\"Retirol\\u00e2ndia\",\"Riach\\u00e3o das Neves\",\"Riach\\u00e3o do Jacu\\u00edpe\",\"Riacho de Santana\",\"Ribeira do Amparo\",\"Ribeira do Pombal\",\"Ribeir\\u00e3o do Largo\",\"Rio de Contas\",\"Rio do Ant\\u00f4nio\",\"Rio do Pires\",\"Rio Real\",\"Rodelas\",\"Ruy Barbosa\",\"Salinas da Margarida\",\"Salvador\",\"Santa B\\u00e1rbara\",\"Santa Br\\u00edgida\",\"Santa Cruz Cabr\\u00e1lia\",\"Santa Cruz da Vit\\u00f3ria\",\"Santa In\\u00eas\",\"Santa Luzia\",\"Santa Maria da Vit\\u00f3ria\",\"Santa Rita de C\\u00e1ssia\",\"Santa Terezinha\",\"Santaluz\",\"Santana\",\"Santan\\u00f3polis\",\"Santo Amaro\",\"Santo Ant\\u00f4nio de Jesus\",\"Santo Est\\u00eav\\u00e3o\",\"S\\u00e3o Desid\\u00e9rio\",\"S\\u00e3o Domingos\",\"S\\u00e3o Felipe\",\"S\\u00e3o F\\u00e9lix\",\"S\\u00e3o F\\u00e9lix do Coribe\",\"S\\u00e3o Francisco do Conde\",\"S\\u00e3o Gabriel\",\"S\\u00e3o Gon\\u00e7alo dos Campos\",\"S\\u00e3o Jos\\u00e9 da Vit\\u00f3ria\",\"S\\u00e3o Jos\\u00e9 do Jacu\\u00edpe\",\"S\\u00e3o Miguel das Matas\",\"S\\u00e3o Sebasti\\u00e3o do Pass\\u00e9\",\"Sapea\\u00e7u\",\"S\\u00e1tiro Dias\",\"Saubara\",\"Sa\\u00fade\",\"Seabra\",\"Sebasti\\u00e3o Laranjeiras\",\"Senhor do Bonfim\",\"Sento S\\u00e9\",\"Serra do Ramalho\",\"Serra Dourada\",\"Serra Preta\",\"Serrinha\",\"Serrol\\u00e2ndia\",\"Sim\\u00f5es Filho\",\"S\\u00edtio do Mato\",\"S\\u00edtio do Quinto\",\"Sobradinho\",\"Souto Soares\",\"Tabocas do Brejo Velho\",\"Tanha\\u00e7u\",\"Tanque Novo\",\"Tanquinho\",\"Tapero\\u00e1\",\"Tapiramut\\u00e1\",\"Teixeira de Freitas\",\"Teodoro Sampaio\",\"Teofil\\u00e2ndia\",\"Teol\\u00e2ndia\",\"Terra Nova\",\"Tremedal\",\"Tucano\",\"Uau\\u00e1\",\"Uba\\u00edra\",\"Ubaitaba\",\"Ubat\\u00e3\",\"Uiba\\u00ed\",\"Umburanas\",\"Una\",\"Urandi\",\"Uru\\u00e7uca\",\"Utinga\",\"Valen\\u00e7a\",\"Valente\",\"V\\u00e1rzea da Ro\\u00e7a\",\"V\\u00e1rzea do Po\\u00e7o\",\"V\\u00e1rzea Nova\",\"Varzedo\",\"Vera Cruz\",\"Vereda\",\"Vit\\u00f3ria da Conquista\",\"Wagner\",\"Wanderley\",\"Wenceslau Guimar\\u00e3es\",\"Xique-Xique\"],\"legendgroup\":\"\",\"marker\":{\"color\":\"#636efa\",\"symbol\":\"circle\",\"line\":{\"width\":2},\"size\":12},\"mode\":\"markers\",\"name\":\"\",\"orientation\":\"v\",\"showlegend\":false,\"x\":[\" 7.290 \",\" 18.766 \",\" 13.715 \",\" 14.166 \",\" 17.398 \",\" 4.566 \",\" 157.864 \",\" 23.633 \",\" 5.195 \",\" 36.260 \",\" 23.639 \",\" 15.104 \",\" 25.452 \",\" 13.406 \",\" 15.011 \",\" 14.973 \",\" 11.019 \",\" 14.453 \",\" 11.268 \",\" 11.921 \",\" 16.909 \",\" 6.900 \",\" 12.605 \",\" 13.819 \",\" 51.377 \",\" 9.781 \",\" 8.219 \",\" 10.006 \",\" 11.782 \",\" 13.618 \",\" 17.880 \",\" 11.869 \",\" 50.543 \",\" 26.031 \",\" 40.025 \",\" 13.852 \",\" 6.682 \",\" 165.413 \",\" 13.761 \",\" 5.820 \",\" 15.396 \",\" 20.565 \",\" 18.399 \",\" 15.151 \",\" 14.160 \",\" 19.320 \",\" 74.040 \",\" 9.572 \",\" 13.653 \",\" 15.837 \",\" 20.588 \",\" 11.040 \",\" 12.914 \",\" 9.114 \",\" 12.467 \",\" 70.268 \",\" 16.880 \",\" 19.514 \",\" 6.915 \",\" 19.432 \",\" 31.982 \",\" 22.412 \",\" 10.360 \",\" 13.242 \",\" 52.099 \",\" 17.975 \",\" 17.591 \",\" 13.063 \",\" 22.460 \",\" 334.195 \",\" 30.480 \",\" 30.659 \",\" 68.571 \",\" 10.225 \",\" 23.491 \",\" 33.080 \",\" 7.785 \",\" 77.026 \",\" 13.007 \",\" 25.278 \",\" 39.475 \",\" 15.906 \",\" 10.754 \",\" 33.344 \",\" 9.938 \",\" 21.612 \",\" 8.376 \",\" 28.869 \",\" 71.572 \",\" 24.700 \",\" 3.480 \",\" 48.137 \",\" 8.847 \",\" 16.223 \",\" 10.587 \",\" 30.836 \",\" 17.246 \",\" 17.949 \",\" 19.156 \",\" 22.936 \",\" 15.401 \",\" 70.202 \",\" 34.994 \",\" 24.433 \",\" 17.059 \",\" 4.750 \",\" 28.340 \",\" 7.555 \",\" 14.158 \",\"17.000(26)\",\" 32.709 \",\" 13.059 \",\" 4.445 \",\" 19.720 \",\" 14.002 \",\" 60.633 \",\" 33.603 \",\" 10.025 \",\" 69.211 \",\" 11.905 \",\" 4.418 \",\" 7.782 \",\" 19.111 \",\" 38.880 \",\" 10.581 \",\" 34.033 \",\" 65.187 \",\" 112.477 \",\" 17.899 \",\" 5.618 \",\" 652.592 \",\" 17.892 \",\" 5.925 \",\" 11.068 \",\" 25.185 \",\" 29.776 \",\" 4.357 \",\" 11.896 \",\" 16.698 \",\" 5.549 \",\" 20.604 \",\" 8.054 \",\" 87.580 \",\" 20.338 \",\" 12.301 \",\" 25.178 \",\"10.426(27)\",\" 21.688 \",\" 20.874 \",\" 13.791 \",\" 18.540 \",\" 13.905 \",\" 3.722 \",\" 27.341 \",\" 8.331 \",\" 19.613 \",\" 14.622 \",\" 17.954 \",\" 26.611 \",\" 6.192 \",\" 17.022 \",\" 13.077 \",\" 25.114 \",\" 197.163 \",\" 33.771 \",\" 16.230 \",\" 43.078 \",\" 58.094 \",\" 9.925 \",\" 6.100 \",\" 10.755 \",\" 25.590 \",\" 27.984 \",\" 76.491 \",\" 27.691 \",\" 67.605 \",\" 185.500 \",\" 28.214 \",\" 14.031 \",\" 13.925 \",\" 15.556 \",\" 7.037 \",\" 13.116 \",\" 6.033 \",\" 19.913 \",\" 60.831 \",\" 7.050 \",\" 26.420 \",\" 5.814 \",\" 19.025 \",\" 19.738 \",\" 10.327 \",\" 9.779 \",\" 68.704 \",\" 32.793 \",\" 10.320 \",\" 8.175 \",\" 17.035 \",\" 15.749 \",\" 11.016 \",\" 33.671 \",\" 17.729 \",\" 18.992 \",\" 21.974 \",\" 11.101 \",\" 9.269 \",\" 14.625 \",\" 88.296 \",\" 46.026 \",\" 32.495 \",\" 20.237 \",\" 9.112 \",\" 156.408 \",\" 37.519 \",\" 13.623 \",\" 14.614 \",\" 26.186 \",\" 244.406 \",\" 9.971 \",\" 16.922 \",\" 5.902 \",\" 7.381 \",\" 4.044 \",\" 13.990 \",\" 23.198 \",\" 4.550 \",\" 4.102 \",\" 7.486 \",\" 9.062 \",\" 25.713 \",\" 220.437 \",\" 11.022 \",\" 11.848 \",\" 43.898 \",\" 108.271 \",\" 10.463 \",\" 21.556 \",\" 41.631 \",\" 7.600 \",\" 18.767 \",\" 6.968 \",\" 9.452 \",\" 16.122 \",\" 15.426 \",\" 8.673 \",\" 13.327 \",\" 13.902 \",\" 27.747 \",\" 38.394 \",\" 24.713 \",\" 9.256 \",\" 11.991 \",\" 48.698 \",\" 10.338 \",\" 23.096 \",\" 27.817 \",\" 11.076 \",\" 15.050 \",\" 10.072 \",\" 47.758 \",\" 8.303 \",\" 33.389 \",\" 11.131 \",\" 12.988 \",\" 38.082 \",\" 13.166 \",\" 20.564 \",\" 7.165 \",\" 11.029 \",\" 28.558 \",\" 20.028 \",\" 28.181 \",\" 12.032 \",\" 18.536 \",\" 15.959 \",\" 7.958 \",\" 8.325 \",\" 7.820 \",\" 7.525 \",\" 24.206 \",\" 41.089 \",\" 11.163 \",\" 10.666 \",\" 22.615 \",\" 22.850 \",\" 7.728 \",\" 19.322 \",\" 20.091 \",\" 10.383 \",\" 20.378 \",\" 28.947 \",\" 26.609 \",\" 10.669 \",\" 118.412 \",\" 13.242 \",\" 6.229 \",\" 14.056 \",\" 20.098 \",\" 35.326 \",\" 14.740 \",\" 19.133 \",\" 9.805 \",\" 10.200 \",\" 9.158 \",\" 17.549 \",\" 8.012 \",\" 23.290 \",\" 48.197 \",\" 33.079 \",\" 17.941 \",\" 158.736 \",\" 11.524 \",\" 31.715 \",\" 15.133 \",\" 12.627 \",\" 27.662 \",\" 26.027 \",\" 27.317 \",\" 9.429 \",\" 20.242 \",\" 40.531 \",\" 13.654 \",\" 22.289 \",\" 33.422 \",\" 39.127 \",\" 13.831 \",\" 53.997 \",\" 10.382 \",\" 13.634 \",\" 13.098 \",\" 9.585 \",\" 35.378 \",\"10.303(28)\",\" 30.172 \",\" 14.989 \",\" 2.610.987 \",\" 22.446 \",\" 14.979 \",\" 30.385 \",\" 4.672 \",\" 10.293 \",\" 11.776 \",\" 38.686 \",\" 28.084 \",\" 9.790 \",\" 37.079 \",\" 24.778 \",\" 9.831 \",\" 55.935 \",\" 103.055 \",\" 55.696 \",\" 36.793 \",\" 8.417 \",\" 20.286 \",\" 10.946 \",\" 15.704 \",\" 37.892 \",\" 18.417 \",\" 39.570 \",\" 5.321 \",\" 10.195 \",\" 10.334 \",\" 40.376 \",\" 17.993 \",\" 16.021 \",\" 11.433 \",\" 10.482 \",\" 49.587 \",\" 9.373 \",\" 77.514 \",\" 37.389 \",\" 34.270 \",\" 16.691 \",\" 18.090 \",\" 85.696 \",\" 13.320 \",\" 127.093 \",\" 13.408 \",\" 14.778 \",\" 24.799 \",\" 16.904 \",\" 11.990 \",\" 21.407 \",\" 18.459 \",\" 7.729 \",\" 18.016 \",\" 15.884 \",\" 147.454 \",\" 7.220 \",\" 21.811 \",\" 15.892 \",\" 10.802 \",\" 17.497 \",\" 48.062 \",\" 24.654 \",\" 18.605 \",\" 17.626 \",\" 18.161 \",\" 14.844 \",\" 13.511 \",\" 17.998 \",\" 15.365 \",\" 21.365 \",\" 16.285 \",\" 96.226 \",\" 23.683 \",\" 13.043 \",\" 8.115 \",\" 13.369 \",\" 9.913 \",\" 40.915 \",\" 7.072 \",\" 387.524 \",\" 8.861 \",\" 13.071 \",\" 26.279 \",\" 46.328 \"],\"xaxis\":\"x\",\"y\":[0,0,361,0,98,6,1093,218,162,838,482,82,202,270,496,101,10,483,173,350,449,58,64,376,408,3,113,412,0,0,216,479,556,109,598,161,131,1072,265,468,189,331,17,73,140,210,117,124,11,232,52,19,74,0,141,1800,38,273,80,10,566,301,309,0,377,559,665,942,448,247,352,292,819,138,843,199,66,396,83,194,280,25,0,505,0,146,4,137,517,29,0,169,301,0,15,403,109,506,15,441,103,563,723,100,0,87,255,111,0,631,181,1,23,389,1,706,622,551,2647,11,136,375,295,429,0,387,1051,654,13,0,933,675,0,137,8,186,32,0,96,0,32,0,626,0,60,610,0,347,67,192,0,6,65,256,166,158,38,111,5,189,36,196,353,295,264,550,680,689,134,129,62,297,562,636,0,528,1030,4,67,10,115,190,0,0,0,86,92,561,113,2,479,219,171,728,292,25,132,102,381,364,848,149,300,322,322,0,241,852,0,32,374,75,1399,823,307,104,316,1793,0,0,214,130,222,1,449,123,38,391,0,1384,2524,74,121,517,1561,271,0,429,11,525,189,0,233,2,102,2,0,175,764,2,220,1,2436,145,260,12,124,323,0,335,0,328,382,59,559,161,407,66,5,598,230,734,121,0,691,250,109,6,14,297,748,20,418,167,0,353,111,662,29,96,304,57,0,453,3,0,356,328,678,70,1108,0,4,0,10,86,194,682,72,805,1358,85,574,6,0,45,0,519,392,0,236,373,108,194,811,206,1053,79,86,0,92,1030,0,553,562,8860,201,90,234,132,449,246,493,8,1,1263,151,3,1902,983,288,195,145,677,256,17,511,246,0,0,302,94,417,301,461,374,109,357,0,162,18,84,85,0,2992,505,1591,0,125,260,229,0,427,163,75,251,206,1138,0,171,119,335,245,716,332,345,206,344,0,171,269,104,272,178,1716,712,210,329,21,84,880,28,3271,121,349,208,736],\"yaxis\":\"y\",\"type\":\"scatter\"}],                        {\"template\":{\"data\":{\"histogram2dcontour\":[{\"type\":\"histogram2dcontour\",\"colorbar\":{\"outlinewidth\":0,\"ticks\":\"\"},\"colorscale\":[[0.0,\"#0d0887\"],[0.1111111111111111,\"#46039f\"],[0.2222222222222222,\"#7201a8\"],[0.3333333333333333,\"#9c179e\"],[0.4444444444444444,\"#bd3786\"],[0.5555555555555556,\"#d8576b\"],[0.6666666666666666,\"#ed7953\"],[0.7777777777777778,\"#fb9f3a\"],[0.8888888888888888,\"#fdca26\"],[1.0,\"#f0f921\"]]}],\"choropleth\":[{\"type\":\"choropleth\",\"colorbar\":{\"outlinewidth\":0,\"ticks\":\"\"}}],\"histogram2d\":[{\"type\":\"histogram2d\",\"colorbar\":{\"outlinewidth\":0,\"ticks\":\"\"},\"colorscale\":[[0.0,\"#0d0887\"],[0.1111111111111111,\"#46039f\"],[0.2222222222222222,\"#7201a8\"],[0.3333333333333333,\"#9c179e\"],[0.4444444444444444,\"#bd3786\"],[0.5555555555555556,\"#d8576b\"],[0.6666666666666666,\"#ed7953\"],[0.7777777777777778,\"#fb9f3a\"],[0.8888888888888888,\"#fdca26\"],[1.0,\"#f0f921\"]]}],\"heatmap\":[{\"type\":\"heatmap\",\"colorbar\":{\"outlinewidth\":0,\"ticks\":\"\"},\"colorscale\":[[0.0,\"#0d0887\"],[0.1111111111111111,\"#46039f\"],[0.2222222222222222,\"#7201a8\"],[0.3333333333333333,\"#9c179e\"],[0.4444444444444444,\"#bd3786\"],[0.5555555555555556,\"#d8576b\"],[0.6666666666666666,\"#ed7953\"],[0.7777777777777778,\"#fb9f3a\"],[0.8888888888888888,\"#fdca26\"],[1.0,\"#f0f921\"]]}],\"heatmapgl\":[{\"type\":\"heatmapgl\",\"colorbar\":{\"outlinewidth\":0,\"ticks\":\"\"},\"colorscale\":[[0.0,\"#0d0887\"],[0.1111111111111111,\"#46039f\"],[0.2222222222222222,\"#7201a8\"],[0.3333333333333333,\"#9c179e\"],[0.4444444444444444,\"#bd3786\"],[0.5555555555555556,\"#d8576b\"],[0.6666666666666666,\"#ed7953\"],[0.7777777777777778,\"#fb9f3a\"],[0.8888888888888888,\"#fdca26\"],[1.0,\"#f0f921\"]]}],\"contourcarpet\":[{\"type\":\"contourcarpet\",\"colorbar\":{\"outlinewidth\":0,\"ticks\":\"\"}}],\"contour\":[{\"type\":\"contour\",\"colorbar\":{\"outlinewidth\":0,\"ticks\":\"\"},\"colorscale\":[[0.0,\"#0d0887\"],[0.1111111111111111,\"#46039f\"],[0.2222222222222222,\"#7201a8\"],[0.3333333333333333,\"#9c179e\"],[0.4444444444444444,\"#bd3786\"],[0.5555555555555556,\"#d8576b\"],[0.6666666666666666,\"#ed7953\"],[0.7777777777777778,\"#fb9f3a\"],[0.8888888888888888,\"#fdca26\"],[1.0,\"#f0f921\"]]}],\"surface\":[{\"type\":\"surface\",\"colorbar\":{\"outlinewidth\":0,\"ticks\":\"\"},\"colorscale\":[[0.0,\"#0d0887\"],[0.1111111111111111,\"#46039f\"],[0.2222222222222222,\"#7201a8\"],[0.3333333333333333,\"#9c179e\"],[0.4444444444444444,\"#bd3786\"],[0.5555555555555556,\"#d8576b\"],[0.6666666666666666,\"#ed7953\"],[0.7777777777777778,\"#fb9f3a\"],[0.8888888888888888,\"#fdca26\"],[1.0,\"#f0f921\"]]}],\"mesh3d\":[{\"type\":\"mesh3d\",\"colorbar\":{\"outlinewidth\":0,\"ticks\":\"\"}}],\"scatter\":[{\"fillpattern\":{\"fillmode\":\"overlay\",\"size\":10,\"solidity\":0.2},\"type\":\"scatter\"}],\"parcoords\":[{\"type\":\"parcoords\",\"line\":{\"colorbar\":{\"outlinewidth\":0,\"ticks\":\"\"}}}],\"scatterpolargl\":[{\"type\":\"scatterpolargl\",\"marker\":{\"colorbar\":{\"outlinewidth\":0,\"ticks\":\"\"}}}],\"bar\":[{\"error_x\":{\"color\":\"#2a3f5f\"},\"error_y\":{\"color\":\"#2a3f5f\"},\"marker\":{\"line\":{\"color\":\"#E5ECF6\",\"width\":0.5},\"pattern\":{\"fillmode\":\"overlay\",\"size\":10,\"solidity\":0.2}},\"type\":\"bar\"}],\"scattergeo\":[{\"type\":\"scattergeo\",\"marker\":{\"colorbar\":{\"outlinewidth\":0,\"ticks\":\"\"}}}],\"scatterpolar\":[{\"type\":\"scatterpolar\",\"marker\":{\"colorbar\":{\"outlinewidth\":0,\"ticks\":\"\"}}}],\"histogram\":[{\"marker\":{\"pattern\":{\"fillmode\":\"overlay\",\"size\":10,\"solidity\":0.2}},\"type\":\"histogram\"}],\"scattergl\":[{\"type\":\"scattergl\",\"marker\":{\"colorbar\":{\"outlinewidth\":0,\"ticks\":\"\"}}}],\"scatter3d\":[{\"type\":\"scatter3d\",\"line\":{\"colorbar\":{\"outlinewidth\":0,\"ticks\":\"\"}},\"marker\":{\"colorbar\":{\"outlinewidth\":0,\"ticks\":\"\"}}}],\"scattermapbox\":[{\"type\":\"scattermapbox\",\"marker\":{\"colorbar\":{\"outlinewidth\":0,\"ticks\":\"\"}}}],\"scatterternary\":[{\"type\":\"scatterternary\",\"marker\":{\"colorbar\":{\"outlinewidth\":0,\"ticks\":\"\"}}}],\"scattercarpet\":[{\"type\":\"scattercarpet\",\"marker\":{\"colorbar\":{\"outlinewidth\":0,\"ticks\":\"\"}}}],\"carpet\":[{\"aaxis\":{\"endlinecolor\":\"#2a3f5f\",\"gridcolor\":\"white\",\"linecolor\":\"white\",\"minorgridcolor\":\"white\",\"startlinecolor\":\"#2a3f5f\"},\"baxis\":{\"endlinecolor\":\"#2a3f5f\",\"gridcolor\":\"white\",\"linecolor\":\"white\",\"minorgridcolor\":\"white\",\"startlinecolor\":\"#2a3f5f\"},\"type\":\"carpet\"}],\"table\":[{\"cells\":{\"fill\":{\"color\":\"#EBF0F8\"},\"line\":{\"color\":\"white\"}},\"header\":{\"fill\":{\"color\":\"#C8D4E3\"},\"line\":{\"color\":\"white\"}},\"type\":\"table\"}],\"barpolar\":[{\"marker\":{\"line\":{\"color\":\"#E5ECF6\",\"width\":0.5},\"pattern\":{\"fillmode\":\"overlay\",\"size\":10,\"solidity\":0.2}},\"type\":\"barpolar\"}],\"pie\":[{\"automargin\":true,\"type\":\"pie\"}]},\"layout\":{\"autotypenumbers\":\"strict\",\"colorway\":[\"#636efa\",\"#EF553B\",\"#00cc96\",\"#ab63fa\",\"#FFA15A\",\"#19d3f3\",\"#FF6692\",\"#B6E880\",\"#FF97FF\",\"#FECB52\"],\"font\":{\"color\":\"#2a3f5f\"},\"hovermode\":\"closest\",\"hoverlabel\":{\"align\":\"left\"},\"paper_bgcolor\":\"white\",\"plot_bgcolor\":\"#E5ECF6\",\"polar\":{\"bgcolor\":\"#E5ECF6\",\"angularaxis\":{\"gridcolor\":\"white\",\"linecolor\":\"white\",\"ticks\":\"\"},\"radialaxis\":{\"gridcolor\":\"white\",\"linecolor\":\"white\",\"ticks\":\"\"}},\"ternary\":{\"bgcolor\":\"#E5ECF6\",\"aaxis\":{\"gridcolor\":\"white\",\"linecolor\":\"white\",\"ticks\":\"\"},\"baxis\":{\"gridcolor\":\"white\",\"linecolor\":\"white\",\"ticks\":\"\"},\"caxis\":{\"gridcolor\":\"white\",\"linecolor\":\"white\",\"ticks\":\"\"}},\"coloraxis\":{\"colorbar\":{\"outlinewidth\":0,\"ticks\":\"\"}},\"colorscale\":{\"sequential\":[[0.0,\"#0d0887\"],[0.1111111111111111,\"#46039f\"],[0.2222222222222222,\"#7201a8\"],[0.3333333333333333,\"#9c179e\"],[0.4444444444444444,\"#bd3786\"],[0.5555555555555556,\"#d8576b\"],[0.6666666666666666,\"#ed7953\"],[0.7777777777777778,\"#fb9f3a\"],[0.8888888888888888,\"#fdca26\"],[1.0,\"#f0f921\"]],\"sequentialminus\":[[0.0,\"#0d0887\"],[0.1111111111111111,\"#46039f\"],[0.2222222222222222,\"#7201a8\"],[0.3333333333333333,\"#9c179e\"],[0.4444444444444444,\"#bd3786\"],[0.5555555555555556,\"#d8576b\"],[0.6666666666666666,\"#ed7953\"],[0.7777777777777778,\"#fb9f3a\"],[0.8888888888888888,\"#fdca26\"],[1.0,\"#f0f921\"]],\"diverging\":[[0,\"#8e0152\"],[0.1,\"#c51b7d\"],[0.2,\"#de77ae\"],[0.3,\"#f1b6da\"],[0.4,\"#fde0ef\"],[0.5,\"#f7f7f7\"],[0.6,\"#e6f5d0\"],[0.7,\"#b8e186\"],[0.8,\"#7fbc41\"],[0.9,\"#4d9221\"],[1,\"#276419\"]]},\"xaxis\":{\"gridcolor\":\"white\",\"linecolor\":\"white\",\"ticks\":\"\",\"title\":{\"standoff\":15},\"zerolinecolor\":\"white\",\"automargin\":true,\"zerolinewidth\":2},\"yaxis\":{\"gridcolor\":\"white\",\"linecolor\":\"white\",\"ticks\":\"\",\"title\":{\"standoff\":15},\"zerolinecolor\":\"white\",\"automargin\":true,\"zerolinewidth\":2},\"scene\":{\"xaxis\":{\"backgroundcolor\":\"#E5ECF6\",\"gridcolor\":\"white\",\"linecolor\":\"white\",\"showbackground\":true,\"ticks\":\"\",\"zerolinecolor\":\"white\",\"gridwidth\":2},\"yaxis\":{\"backgroundcolor\":\"#E5ECF6\",\"gridcolor\":\"white\",\"linecolor\":\"white\",\"showbackground\":true,\"ticks\":\"\",\"zerolinecolor\":\"white\",\"gridwidth\":2},\"zaxis\":{\"backgroundcolor\":\"#E5ECF6\",\"gridcolor\":\"white\",\"linecolor\":\"white\",\"showbackground\":true,\"ticks\":\"\",\"zerolinecolor\":\"white\",\"gridwidth\":2}},\"shapedefaults\":{\"line\":{\"color\":\"#2a3f5f\"}},\"annotationdefaults\":{\"arrowcolor\":\"#2a3f5f\",\"arrowhead\":0,\"arrowwidth\":1},\"geo\":{\"bgcolor\":\"white\",\"landcolor\":\"#E5ECF6\",\"subunitcolor\":\"white\",\"showland\":true,\"showlakes\":true,\"lakecolor\":\"white\"},\"title\":{\"x\":0.05},\"mapbox\":{\"style\":\"light\"}}},\"xaxis\":{\"anchor\":\"y\",\"domain\":[0.0,1.0],\"title\":{\"text\":\"Popula\\u00e7\\u00e3o 2022\"},\"type\":\"log\"},\"yaxis\":{\"anchor\":\"x\",\"domain\":[0.0,1.0],\"title\":{\"text\":\"Matr\\u00edculas Infantil Integral\"}},\"legend\":{\"tracegroupgap\":0},\"margin\":{\"t\":60},\"width\":800,\"title\":{\"text\":\"Popula\\u00e7\\u00e3o X Matr\\u00edculas Infantil Integral\"}},                        {\"responsive\": true}                    ).then(function(){\n",
              "                            \n",
              "var gd = document.getElementById('0d053123-4d0a-4665-a17d-62f00a41f3a6');\n",
              "var x = new MutationObserver(function (mutations, observer) {{\n",
              "        var display = window.getComputedStyle(gd).display;\n",
              "        if (!display || display === 'none') {{\n",
              "            console.log([gd, 'removed!']);\n",
              "            Plotly.purge(gd);\n",
              "            observer.disconnect();\n",
              "        }}\n",
              "}});\n",
              "\n",
              "// Listen for the removal of the full notebook cells\n",
              "var notebookContainer = gd.closest('#notebook-container');\n",
              "if (notebookContainer) {{\n",
              "    x.observe(notebookContainer, {childList: true});\n",
              "}}\n",
              "\n",
              "// Listen for the clearing of the current output cell\n",
              "var outputEl = gd.closest('.output');\n",
              "if (outputEl) {{\n",
              "    x.observe(outputEl, {childList: true});\n",
              "}}\n",
              "\n",
              "                        })                };                });            </script>        </div>"
            ]
          },
          "metadata": {},
          "output_type": "display_data"
        },
        {
          "data": {
            "application/vnd.plotly.v1+json": {
              "config": {
                "plotlyServerURL": "https://plot.ly"
              },
              "data": [
                {
                  "hovertemplate": "<b>%{hovertext}</b><br><br>POP_Censo_2022=%{x}<br>QT_MAT_FUND_INT_22=%{y}<extra></extra>",
                  "hovertext": [
                    "Abaíra",
                    "Abaré",
                    "Acajutiba",
                    "Adustina",
                    "Água Fria",
                    "Aiquara",
                    "Alagoinhas",
                    "Alcobaça",
                    "Almadina",
                    "Amargosa",
                    "Amélia Rodrigues",
                    "América Dourada",
                    "Anagé",
                    "Andaraí",
                    "Andorinha",
                    "Angical",
                    "Anguera",
                    "Antas",
                    "Antônio Cardoso",
                    "Antônio Gonçalves",
                    "Aporá",
                    "Apuarema",
                    "Araçás",
                    "Aracatu",
                    "Araci",
                    "Aramari",
                    "Arataca",
                    "Aratuípe",
                    "Aurelino Leal",
                    "Baianópolis",
                    "Baixa Grande",
                    "Banzaê",
                    "Barra",
                    "Barra da Estiva",
                    "Barra do Choça",
                    "Barra do Mendes",
                    "Barra do Rocha",
                    "Barreiras",
                    "Barro Alto",
                    "Barro Preto",
                    "Barrocas",
                    "Belmonte",
                    "Belo Campo",
                    "Biritinga",
                    "Boa Nova",
                    "Boa Vista do Tupim",
                    "Bom Jesus da Lapa",
                    "Bom Jesus da Serra",
                    "Boninal",
                    "Bonito",
                    "Boquira",
                    "Botuporã",
                    "Brejões",
                    "Brejolândia",
                    "Brotas de Macaúbas",
                    "Brumado",
                    "Buerarema",
                    "Buritirama",
                    "Caatiba",
                    "Cabaceiras do Paraguaçu",
                    "Cachoeira",
                    "Caculé",
                    "Caém",
                    "Caetanos",
                    "Caetité",
                    "Cafarnaum",
                    "Cairu",
                    "Caldeirão Grande",
                    "Camacan",
                    "Camaçari",
                    "Camamu",
                    "Campo Alegre de Lourdes",
                    "Campo Formoso",
                    "Canápolis",
                    "Canarana",
                    "Canavieiras",
                    "Candeal",
                    "Candeias",
                    "Candiba",
                    "Cândido Sales",
                    "Cansanção",
                    "Canudos",
                    "Capela do Alto Alegre",
                    "Capim Grosso",
                    "Caraíbas",
                    "Caravelas",
                    "Cardeal da Silva",
                    "Carinhanha",
                    "Casa Nova",
                    "Castro Alves",
                    "Catolândia",
                    "Catu",
                    "Caturama",
                    "Central",
                    "Chorrochó",
                    "Cícero Dantas",
                    "Cipó",
                    "Coaraci",
                    "Cocos",
                    "Conceição da Feira",
                    "Conceição do Almeida",
                    "Conceição do Coité",
                    "Conceição do Jacuípe",
                    "Conde",
                    "Condeúba",
                    "Contendas do Sincorá",
                    "Coração de Maria",
                    "Cordeiros",
                    "Coribe",
                    "Coronel João Sá",
                    "Correntina",
                    "Cotegipe",
                    "Cravolândia",
                    "Crisópolis",
                    "Cristópolis",
                    "Cruz das Almas",
                    "Curaçá",
                    "Dário Meira",
                    "Dias d'Ávila",
                    "Dom Basílio",
                    "Dom Macedo Costa",
                    "Elísio Medrado",
                    "Encruzilhada",
                    "Entre Rios",
                    "Érico Cardoso",
                    "Esplanada",
                    "Euclides da Cunha",
                    "Eunápolis",
                    "Fátima",
                    "Feira da Mata",
                    "Feira de Santana",
                    "Filadélfia",
                    "Firmino Alves",
                    "Floresta Azul",
                    "Formosa do Rio Preto",
                    "Gandu",
                    "Gavião",
                    "Gentio do Ouro",
                    "Glória",
                    "Gongogi",
                    "Governador Mangabeira",
                    "Guajeru",
                    "Guanambi",
                    "Guaratinga",
                    "Heliópolis",
                    "Iaçu",
                    "Ibiassucê",
                    "Ibicaraí",
                    "Ibicoara",
                    "Ibicuí",
                    "Ibipeba",
                    "Ibipitanga",
                    "Ibiquera",
                    "Ibirapitanga",
                    "Ibirapuã",
                    "Ibirataia",
                    "Ibitiara",
                    "Ibititá",
                    "Ibotirama",
                    "Ichu",
                    "Igaporã",
                    "Igrapiúna",
                    "Iguaí",
                    "Ilhéus",
                    "Inhambupe",
                    "Ipecaetá",
                    "Ipiaú",
                    "Ipirá",
                    "Ipupiara",
                    "Irajuba",
                    "Iramaia",
                    "Iraquara",
                    "Irará",
                    "Irecê",
                    "Itabela",
                    "Itaberaba",
                    "Itabuna",
                    "Itacaré",
                    "Itaeté",
                    "Itagi",
                    "Itagibá",
                    "Itagimirim",
                    "Itaguaçu da Bahia",
                    "Itaju do Colônia",
                    "Itajuípe",
                    "Itamaraju",
                    "Itamari",
                    "Itambé",
                    "Itanagra",
                    "Itanhém",
                    "Itaparica",
                    "Itapé",
                    "Itapebi",
                    "Itapetinga",
                    "Itapicuru",
                    "Itapitanga",
                    "Itaquara",
                    "Itarantim",
                    "Itatim",
                    "Itiruçu",
                    "Itiúba",
                    "Itororó",
                    "Ituaçu",
                    "Ituberá",
                    "Iuiu",
                    "Jaborandi",
                    "Jacaraci",
                    "Jacobina",
                    "Jaguaquara",
                    "Jaguarari",
                    "Jaguaripe",
                    "Jandaíra",
                    "Jequié",
                    "Jeremoabo",
                    "Jiquiriçá",
                    "Jitaúna",
                    "João Dourado",
                    "Juazeiro",
                    "Jucuruçu",
                    "Jussara",
                    "Jussari",
                    "Jussiape",
                    "Lafaiete Coutinho",
                    "Lagoa Real",
                    "Laje",
                    "Lajedão",
                    "Lajedinho",
                    "Lajedo do Tabocal",
                    "Lamarão",
                    "Lapão",
                    "Lauro de Freitas",
                    "Lençóis",
                    "Licínio de Almeida",
                    "Livramento de Nossa Senhora",
                    "Luís Eduardo Magalhães",
                    "Macajuba",
                    "Macarani",
                    "Macaúbas",
                    "Macururé",
                    "Madre de Deus",
                    "Maetinga",
                    "Maiquinique",
                    "Mairi",
                    "Malhada",
                    "Malhada de Pedras",
                    "Manoel Vitorino",
                    "Mansidão",
                    "Maracás",
                    "Maragogipe",
                    "Maraú",
                    "Marcionílio Souza",
                    "Mascote",
                    "Mata de São João",
                    "Matina",
                    "Medeiros Neto",
                    "Miguel Calmon",
                    "Milagres",
                    "Mirangaba",
                    "Mirante",
                    "Monte Santo",
                    "Morpará",
                    "Morro do Chapéu",
                    "Mortugaba",
                    "Mucugê",
                    "Mucuri",
                    "Mulungu do Morro",
                    "Mundo Novo",
                    "Muniz Ferreira",
                    "Muquém do São Francisco",
                    "Muritiba",
                    "Mutuípe",
                    "Nazaré",
                    "Nilo Peçanha",
                    "Nordestina",
                    "Nova Canaã",
                    "Nova Fátima",
                    "Nova Ibiá",
                    "Nova Itarana",
                    "Nova Redenção",
                    "Nova Soure",
                    "Nova Viçosa",
                    "Novo Horizonte",
                    "Novo Triunfo",
                    "Olindina",
                    "Oliveira dos Brejinhos",
                    "Ouriçangas",
                    "Ourolândia",
                    "Palmas de Monte Alto",
                    "Palmeiras",
                    "Paramirim",
                    "Paratinga",
                    "Paripiranga",
                    "Pau Brasil",
                    "Paulo Afonso",
                    "Pé de Serra",
                    "Pedrão",
                    "Pedro Alexandre",
                    "Piatã",
                    "Pilão Arcado",
                    "Pindaí",
                    "Pindobaçu",
                    "Pintadas",
                    "Piraí do Norte",
                    "Piripá",
                    "Piritiba",
                    "Planaltino",
                    "Planalto",
                    "Poções",
                    "Pojuca",
                    "Ponto Novo",
                    "Porto Seguro",
                    "Potiraguá",
                    "Prado",
                    "Presidente Dutra",
                    "Presidente Jânio Quadros",
                    "Presidente Tancredo Neves",
                    "Queimadas",
                    "Quijingue",
                    "Quixabeira",
                    "Rafael Jambeiro",
                    "Remanso",
                    "Retirolândia",
                    "Riachão das Neves",
                    "Riachão do Jacuípe",
                    "Riacho de Santana",
                    "Ribeira do Amparo",
                    "Ribeira do Pombal",
                    "Ribeirão do Largo",
                    "Rio de Contas",
                    "Rio do Antônio",
                    "Rio do Pires",
                    "Rio Real",
                    "Rodelas",
                    "Ruy Barbosa",
                    "Salinas da Margarida",
                    "Salvador",
                    "Santa Bárbara",
                    "Santa Brígida",
                    "Santa Cruz Cabrália",
                    "Santa Cruz da Vitória",
                    "Santa Inês",
                    "Santa Luzia",
                    "Santa Maria da Vitória",
                    "Santa Rita de Cássia",
                    "Santa Terezinha",
                    "Santaluz",
                    "Santana",
                    "Santanópolis",
                    "Santo Amaro",
                    "Santo Antônio de Jesus",
                    "Santo Estêvão",
                    "São Desidério",
                    "São Domingos",
                    "São Felipe",
                    "São Félix",
                    "São Félix do Coribe",
                    "São Francisco do Conde",
                    "São Gabriel",
                    "São Gonçalo dos Campos",
                    "São José da Vitória",
                    "São José do Jacuípe",
                    "São Miguel das Matas",
                    "São Sebastião do Passé",
                    "Sapeaçu",
                    "Sátiro Dias",
                    "Saubara",
                    "Saúde",
                    "Seabra",
                    "Sebastião Laranjeiras",
                    "Senhor do Bonfim",
                    "Sento Sé",
                    "Serra do Ramalho",
                    "Serra Dourada",
                    "Serra Preta",
                    "Serrinha",
                    "Serrolândia",
                    "Simões Filho",
                    "Sítio do Mato",
                    "Sítio do Quinto",
                    "Sobradinho",
                    "Souto Soares",
                    "Tabocas do Brejo Velho",
                    "Tanhaçu",
                    "Tanque Novo",
                    "Tanquinho",
                    "Taperoá",
                    "Tapiramutá",
                    "Teixeira de Freitas",
                    "Teodoro Sampaio",
                    "Teofilândia",
                    "Teolândia",
                    "Terra Nova",
                    "Tremedal",
                    "Tucano",
                    "Uauá",
                    "Ubaíra",
                    "Ubaitaba",
                    "Ubatã",
                    "Uibaí",
                    "Umburanas",
                    "Una",
                    "Urandi",
                    "Uruçuca",
                    "Utinga",
                    "Valença",
                    "Valente",
                    "Várzea da Roça",
                    "Várzea do Poço",
                    "Várzea Nova",
                    "Varzedo",
                    "Vera Cruz",
                    "Vereda",
                    "Vitória da Conquista",
                    "Wagner",
                    "Wanderley",
                    "Wenceslau Guimarães",
                    "Xique-Xique"
                  ],
                  "legendgroup": "",
                  "marker": {
                    "color": "#636efa",
                    "line": {
                      "width": 2
                    },
                    "size": 12,
                    "symbol": "circle"
                  },
                  "mode": "markers",
                  "name": "",
                  "orientation": "v",
                  "showlegend": false,
                  "type": "scatter",
                  "x": [
                    " 7.290 ",
                    " 18.766 ",
                    " 13.715 ",
                    " 14.166 ",
                    " 17.398 ",
                    " 4.566 ",
                    " 157.864 ",
                    " 23.633 ",
                    " 5.195 ",
                    " 36.260 ",
                    " 23.639 ",
                    " 15.104 ",
                    " 25.452 ",
                    " 13.406 ",
                    " 15.011 ",
                    " 14.973 ",
                    " 11.019 ",
                    " 14.453 ",
                    " 11.268 ",
                    " 11.921 ",
                    " 16.909 ",
                    " 6.900 ",
                    " 12.605 ",
                    " 13.819 ",
                    " 51.377 ",
                    " 9.781 ",
                    " 8.219 ",
                    " 10.006 ",
                    " 11.782 ",
                    " 13.618 ",
                    " 17.880 ",
                    " 11.869 ",
                    " 50.543 ",
                    " 26.031 ",
                    " 40.025 ",
                    " 13.852 ",
                    " 6.682 ",
                    " 165.413 ",
                    " 13.761 ",
                    " 5.820 ",
                    " 15.396 ",
                    " 20.565 ",
                    " 18.399 ",
                    " 15.151 ",
                    " 14.160 ",
                    " 19.320 ",
                    " 74.040 ",
                    " 9.572 ",
                    " 13.653 ",
                    " 15.837 ",
                    " 20.588 ",
                    " 11.040 ",
                    " 12.914 ",
                    " 9.114 ",
                    " 12.467 ",
                    " 70.268 ",
                    " 16.880 ",
                    " 19.514 ",
                    " 6.915 ",
                    " 19.432 ",
                    " 31.982 ",
                    " 22.412 ",
                    " 10.360 ",
                    " 13.242 ",
                    " 52.099 ",
                    " 17.975 ",
                    " 17.591 ",
                    " 13.063 ",
                    " 22.460 ",
                    " 334.195 ",
                    " 30.480 ",
                    " 30.659 ",
                    " 68.571 ",
                    " 10.225 ",
                    " 23.491 ",
                    " 33.080 ",
                    " 7.785 ",
                    " 77.026 ",
                    " 13.007 ",
                    " 25.278 ",
                    " 39.475 ",
                    " 15.906 ",
                    " 10.754 ",
                    " 33.344 ",
                    " 9.938 ",
                    " 21.612 ",
                    " 8.376 ",
                    " 28.869 ",
                    " 71.572 ",
                    " 24.700 ",
                    " 3.480 ",
                    " 48.137 ",
                    " 8.847 ",
                    " 16.223 ",
                    " 10.587 ",
                    " 30.836 ",
                    " 17.246 ",
                    " 17.949 ",
                    " 19.156 ",
                    " 22.936 ",
                    " 15.401 ",
                    " 70.202 ",
                    " 34.994 ",
                    " 24.433 ",
                    " 17.059 ",
                    " 4.750 ",
                    " 28.340 ",
                    " 7.555 ",
                    " 14.158 ",
                    "17.000(26)",
                    " 32.709 ",
                    " 13.059 ",
                    " 4.445 ",
                    " 19.720 ",
                    " 14.002 ",
                    " 60.633 ",
                    " 33.603 ",
                    " 10.025 ",
                    " 69.211 ",
                    " 11.905 ",
                    " 4.418 ",
                    " 7.782 ",
                    " 19.111 ",
                    " 38.880 ",
                    " 10.581 ",
                    " 34.033 ",
                    " 65.187 ",
                    " 112.477 ",
                    " 17.899 ",
                    " 5.618 ",
                    " 652.592 ",
                    " 17.892 ",
                    " 5.925 ",
                    " 11.068 ",
                    " 25.185 ",
                    " 29.776 ",
                    " 4.357 ",
                    " 11.896 ",
                    " 16.698 ",
                    " 5.549 ",
                    " 20.604 ",
                    " 8.054 ",
                    " 87.580 ",
                    " 20.338 ",
                    " 12.301 ",
                    " 25.178 ",
                    "10.426(27)",
                    " 21.688 ",
                    " 20.874 ",
                    " 13.791 ",
                    " 18.540 ",
                    " 13.905 ",
                    " 3.722 ",
                    " 27.341 ",
                    " 8.331 ",
                    " 19.613 ",
                    " 14.622 ",
                    " 17.954 ",
                    " 26.611 ",
                    " 6.192 ",
                    " 17.022 ",
                    " 13.077 ",
                    " 25.114 ",
                    " 197.163 ",
                    " 33.771 ",
                    " 16.230 ",
                    " 43.078 ",
                    " 58.094 ",
                    " 9.925 ",
                    " 6.100 ",
                    " 10.755 ",
                    " 25.590 ",
                    " 27.984 ",
                    " 76.491 ",
                    " 27.691 ",
                    " 67.605 ",
                    " 185.500 ",
                    " 28.214 ",
                    " 14.031 ",
                    " 13.925 ",
                    " 15.556 ",
                    " 7.037 ",
                    " 13.116 ",
                    " 6.033 ",
                    " 19.913 ",
                    " 60.831 ",
                    " 7.050 ",
                    " 26.420 ",
                    " 5.814 ",
                    " 19.025 ",
                    " 19.738 ",
                    " 10.327 ",
                    " 9.779 ",
                    " 68.704 ",
                    " 32.793 ",
                    " 10.320 ",
                    " 8.175 ",
                    " 17.035 ",
                    " 15.749 ",
                    " 11.016 ",
                    " 33.671 ",
                    " 17.729 ",
                    " 18.992 ",
                    " 21.974 ",
                    " 11.101 ",
                    " 9.269 ",
                    " 14.625 ",
                    " 88.296 ",
                    " 46.026 ",
                    " 32.495 ",
                    " 20.237 ",
                    " 9.112 ",
                    " 156.408 ",
                    " 37.519 ",
                    " 13.623 ",
                    " 14.614 ",
                    " 26.186 ",
                    " 244.406 ",
                    " 9.971 ",
                    " 16.922 ",
                    " 5.902 ",
                    " 7.381 ",
                    " 4.044 ",
                    " 13.990 ",
                    " 23.198 ",
                    " 4.550 ",
                    " 4.102 ",
                    " 7.486 ",
                    " 9.062 ",
                    " 25.713 ",
                    " 220.437 ",
                    " 11.022 ",
                    " 11.848 ",
                    " 43.898 ",
                    " 108.271 ",
                    " 10.463 ",
                    " 21.556 ",
                    " 41.631 ",
                    " 7.600 ",
                    " 18.767 ",
                    " 6.968 ",
                    " 9.452 ",
                    " 16.122 ",
                    " 15.426 ",
                    " 8.673 ",
                    " 13.327 ",
                    " 13.902 ",
                    " 27.747 ",
                    " 38.394 ",
                    " 24.713 ",
                    " 9.256 ",
                    " 11.991 ",
                    " 48.698 ",
                    " 10.338 ",
                    " 23.096 ",
                    " 27.817 ",
                    " 11.076 ",
                    " 15.050 ",
                    " 10.072 ",
                    " 47.758 ",
                    " 8.303 ",
                    " 33.389 ",
                    " 11.131 ",
                    " 12.988 ",
                    " 38.082 ",
                    " 13.166 ",
                    " 20.564 ",
                    " 7.165 ",
                    " 11.029 ",
                    " 28.558 ",
                    " 20.028 ",
                    " 28.181 ",
                    " 12.032 ",
                    " 18.536 ",
                    " 15.959 ",
                    " 7.958 ",
                    " 8.325 ",
                    " 7.820 ",
                    " 7.525 ",
                    " 24.206 ",
                    " 41.089 ",
                    " 11.163 ",
                    " 10.666 ",
                    " 22.615 ",
                    " 22.850 ",
                    " 7.728 ",
                    " 19.322 ",
                    " 20.091 ",
                    " 10.383 ",
                    " 20.378 ",
                    " 28.947 ",
                    " 26.609 ",
                    " 10.669 ",
                    " 118.412 ",
                    " 13.242 ",
                    " 6.229 ",
                    " 14.056 ",
                    " 20.098 ",
                    " 35.326 ",
                    " 14.740 ",
                    " 19.133 ",
                    " 9.805 ",
                    " 10.200 ",
                    " 9.158 ",
                    " 17.549 ",
                    " 8.012 ",
                    " 23.290 ",
                    " 48.197 ",
                    " 33.079 ",
                    " 17.941 ",
                    " 158.736 ",
                    " 11.524 ",
                    " 31.715 ",
                    " 15.133 ",
                    " 12.627 ",
                    " 27.662 ",
                    " 26.027 ",
                    " 27.317 ",
                    " 9.429 ",
                    " 20.242 ",
                    " 40.531 ",
                    " 13.654 ",
                    " 22.289 ",
                    " 33.422 ",
                    " 39.127 ",
                    " 13.831 ",
                    " 53.997 ",
                    " 10.382 ",
                    " 13.634 ",
                    " 13.098 ",
                    " 9.585 ",
                    " 35.378 ",
                    "10.303(28)",
                    " 30.172 ",
                    " 14.989 ",
                    " 2.610.987 ",
                    " 22.446 ",
                    " 14.979 ",
                    " 30.385 ",
                    " 4.672 ",
                    " 10.293 ",
                    " 11.776 ",
                    " 38.686 ",
                    " 28.084 ",
                    " 9.790 ",
                    " 37.079 ",
                    " 24.778 ",
                    " 9.831 ",
                    " 55.935 ",
                    " 103.055 ",
                    " 55.696 ",
                    " 36.793 ",
                    " 8.417 ",
                    " 20.286 ",
                    " 10.946 ",
                    " 15.704 ",
                    " 37.892 ",
                    " 18.417 ",
                    " 39.570 ",
                    " 5.321 ",
                    " 10.195 ",
                    " 10.334 ",
                    " 40.376 ",
                    " 17.993 ",
                    " 16.021 ",
                    " 11.433 ",
                    " 10.482 ",
                    " 49.587 ",
                    " 9.373 ",
                    " 77.514 ",
                    " 37.389 ",
                    " 34.270 ",
                    " 16.691 ",
                    " 18.090 ",
                    " 85.696 ",
                    " 13.320 ",
                    " 127.093 ",
                    " 13.408 ",
                    " 14.778 ",
                    " 24.799 ",
                    " 16.904 ",
                    " 11.990 ",
                    " 21.407 ",
                    " 18.459 ",
                    " 7.729 ",
                    " 18.016 ",
                    " 15.884 ",
                    " 147.454 ",
                    " 7.220 ",
                    " 21.811 ",
                    " 15.892 ",
                    " 10.802 ",
                    " 17.497 ",
                    " 48.062 ",
                    " 24.654 ",
                    " 18.605 ",
                    " 17.626 ",
                    " 18.161 ",
                    " 14.844 ",
                    " 13.511 ",
                    " 17.998 ",
                    " 15.365 ",
                    " 21.365 ",
                    " 16.285 ",
                    " 96.226 ",
                    " 23.683 ",
                    " 13.043 ",
                    " 8.115 ",
                    " 13.369 ",
                    " 9.913 ",
                    " 40.915 ",
                    " 7.072 ",
                    " 387.524 ",
                    " 8.861 ",
                    " 13.071 ",
                    " 26.279 ",
                    " 46.328 "
                  ],
                  "xaxis": "x",
                  "y": [
                    0,
                    0,
                    298,
                    22,
                    34,
                    20,
                    415,
                    174,
                    0,
                    404,
                    2350,
                    124,
                    192,
                    850,
                    1067,
                    0,
                    1,
                    28,
                    2,
                    529,
                    1,
                    139,
                    23,
                    181,
                    228,
                    54,
                    1,
                    1093,
                    696,
                    804,
                    1,
                    483,
                    16,
                    1,
                    38,
                    19,
                    248,
                    1234,
                    1340,
                    734,
                    129,
                    41,
                    113,
                    293,
                    167,
                    0,
                    120,
                    0,
                    0,
                    445,
                    79,
                    0,
                    149,
                    0,
                    81,
                    6751,
                    117,
                    0,
                    246,
                    442,
                    0,
                    109,
                    342,
                    0,
                    341,
                    794,
                    9,
                    1875,
                    149,
                    1028,
                    69,
                    0,
                    6,
                    0,
                    3273,
                    103,
                    0,
                    124,
                    41,
                    30,
                    2067,
                    85,
                    4,
                    136,
                    402,
                    0,
                    12,
                    393,
                    118,
                    740,
                    0,
                    817,
                    13,
                    0,
                    0,
                    1661,
                    0,
                    155,
                    59,
                    325,
                    7,
                    190,
                    490,
                    387,
                    16,
                    1,
                    96,
                    0,
                    46,
                    0,
                    92,
                    5,
                    0,
                    1496,
                    82,
                    76,
                    121,
                    242,
                    2106,
                    71,
                    43,
                    180,
                    1,
                    418,
                    18,
                    24,
                    1033,
                    256,
                    57,
                    0,
                    1977,
                    2383,
                    2,
                    345,
                    246,
                    156,
                    316,
                    0,
                    38,
                    0,
                    11,
                    39,
                    429,
                    13,
                    200,
                    730,
                    3,
                    171,
                    205,
                    362,
                    0,
                    67,
                    225,
                    149,
                    25,
                    48,
                    0,
                    43,
                    174,
                    235,
                    0,
                    613,
                    631,
                    283,
                    138,
                    1459,
                    314,
                    152,
                    0,
                    50,
                    0,
                    505,
                    1641,
                    5146,
                    3,
                    488,
                    1804,
                    88,
                    0,
                    56,
                    218,
                    289,
                    5,
                    0,
                    1,
                    186,
                    69,
                    2663,
                    108,
                    9,
                    787,
                    596,
                    81,
                    678,
                    2683,
                    0,
                    0,
                    202,
                    88,
                    356,
                    4562,
                    169,
                    45,
                    18,
                    477,
                    13,
                    120,
                    173,
                    150,
                    258,
                    203,
                    8,
                    1095,
                    954,
                    154,
                    379,
                    331,
                    3266,
                    0,
                    694,
                    718,
                    0,
                    501,
                    15,
                    226,
                    0,
                    0,
                    489,
                    0,
                    774,
                    1711,
                    96,
                    177,
                    18,
                    585,
                    1767,
                    0,
                    74,
                    50,
                    21,
                    20,
                    0,
                    1,
                    35,
                    139,
                    34,
                    0,
                    191,
                    120,
                    156,
                    463,
                    1,
                    6332,
                    0,
                    44,
                    68,
                    9,
                    49,
                    66,
                    55,
                    0,
                    357,
                    147,
                    0,
                    227,
                    1879,
                    1554,
                    0,
                    28,
                    2581,
                    238,
                    2252,
                    149,
                    0,
                    1787,
                    881,
                    116,
                    547,
                    28,
                    257,
                    97,
                    234,
                    587,
                    573,
                    0,
                    589,
                    88,
                    2424,
                    0,
                    25,
                    13,
                    18,
                    1,
                    113,
                    769,
                    0,
                    0,
                    736,
                    0,
                    88,
                    2751,
                    0,
                    14,
                    21,
                    205,
                    22,
                    3,
                    173,
                    823,
                    2091,
                    492,
                    26,
                    39,
                    211,
                    0,
                    185,
                    474,
                    66,
                    950,
                    1,
                    65,
                    54,
                    28,
                    460,
                    153,
                    432,
                    1116,
                    51,
                    0,
                    0,
                    16,
                    108,
                    0,
                    0,
                    0,
                    2381,
                    23,
                    0,
                    183,
                    8,
                    1152,
                    0,
                    79,
                    479,
                    33,
                    1443,
                    19,
                    62,
                    157,
                    138,
                    0,
                    81,
                    564,
                    711,
                    471,
                    37,
                    452,
                    619,
                    32,
                    0,
                    880,
                    0,
                    231,
                    2016,
                    2259,
                    94,
                    98,
                    233,
                    7,
                    754,
                    2595,
                    245,
                    17,
                    31,
                    432,
                    74,
                    2199,
                    0,
                    132,
                    619,
                    282,
                    0,
                    144,
                    85,
                    0,
                    165,
                    199,
                    48,
                    1,
                    426,
                    7,
                    571,
                    409,
                    77,
                    125,
                    110,
                    99,
                    265,
                    1,
                    35,
                    816,
                    687,
                    170,
                    0,
                    68,
                    1317,
                    363,
                    399,
                    96,
                    50,
                    1014,
                    0,
                    2332,
                    151,
                    252,
                    11,
                    2219
                  ],
                  "yaxis": "y"
                }
              ],
              "layout": {
                "legend": {
                  "tracegroupgap": 0
                },
                "margin": {
                  "t": 60
                },
                "template": {
                  "data": {
                    "bar": [
                      {
                        "error_x": {
                          "color": "#2a3f5f"
                        },
                        "error_y": {
                          "color": "#2a3f5f"
                        },
                        "marker": {
                          "line": {
                            "color": "#E5ECF6",
                            "width": 0.5
                          },
                          "pattern": {
                            "fillmode": "overlay",
                            "size": 10,
                            "solidity": 0.2
                          }
                        },
                        "type": "bar"
                      }
                    ],
                    "barpolar": [
                      {
                        "marker": {
                          "line": {
                            "color": "#E5ECF6",
                            "width": 0.5
                          },
                          "pattern": {
                            "fillmode": "overlay",
                            "size": 10,
                            "solidity": 0.2
                          }
                        },
                        "type": "barpolar"
                      }
                    ],
                    "carpet": [
                      {
                        "aaxis": {
                          "endlinecolor": "#2a3f5f",
                          "gridcolor": "white",
                          "linecolor": "white",
                          "minorgridcolor": "white",
                          "startlinecolor": "#2a3f5f"
                        },
                        "baxis": {
                          "endlinecolor": "#2a3f5f",
                          "gridcolor": "white",
                          "linecolor": "white",
                          "minorgridcolor": "white",
                          "startlinecolor": "#2a3f5f"
                        },
                        "type": "carpet"
                      }
                    ],
                    "choropleth": [
                      {
                        "colorbar": {
                          "outlinewidth": 0,
                          "ticks": ""
                        },
                        "type": "choropleth"
                      }
                    ],
                    "contour": [
                      {
                        "colorbar": {
                          "outlinewidth": 0,
                          "ticks": ""
                        },
                        "colorscale": [
                          [
                            0,
                            "#0d0887"
                          ],
                          [
                            0.1111111111111111,
                            "#46039f"
                          ],
                          [
                            0.2222222222222222,
                            "#7201a8"
                          ],
                          [
                            0.3333333333333333,
                            "#9c179e"
                          ],
                          [
                            0.4444444444444444,
                            "#bd3786"
                          ],
                          [
                            0.5555555555555556,
                            "#d8576b"
                          ],
                          [
                            0.6666666666666666,
                            "#ed7953"
                          ],
                          [
                            0.7777777777777778,
                            "#fb9f3a"
                          ],
                          [
                            0.8888888888888888,
                            "#fdca26"
                          ],
                          [
                            1,
                            "#f0f921"
                          ]
                        ],
                        "type": "contour"
                      }
                    ],
                    "contourcarpet": [
                      {
                        "colorbar": {
                          "outlinewidth": 0,
                          "ticks": ""
                        },
                        "type": "contourcarpet"
                      }
                    ],
                    "heatmap": [
                      {
                        "colorbar": {
                          "outlinewidth": 0,
                          "ticks": ""
                        },
                        "colorscale": [
                          [
                            0,
                            "#0d0887"
                          ],
                          [
                            0.1111111111111111,
                            "#46039f"
                          ],
                          [
                            0.2222222222222222,
                            "#7201a8"
                          ],
                          [
                            0.3333333333333333,
                            "#9c179e"
                          ],
                          [
                            0.4444444444444444,
                            "#bd3786"
                          ],
                          [
                            0.5555555555555556,
                            "#d8576b"
                          ],
                          [
                            0.6666666666666666,
                            "#ed7953"
                          ],
                          [
                            0.7777777777777778,
                            "#fb9f3a"
                          ],
                          [
                            0.8888888888888888,
                            "#fdca26"
                          ],
                          [
                            1,
                            "#f0f921"
                          ]
                        ],
                        "type": "heatmap"
                      }
                    ],
                    "heatmapgl": [
                      {
                        "colorbar": {
                          "outlinewidth": 0,
                          "ticks": ""
                        },
                        "colorscale": [
                          [
                            0,
                            "#0d0887"
                          ],
                          [
                            0.1111111111111111,
                            "#46039f"
                          ],
                          [
                            0.2222222222222222,
                            "#7201a8"
                          ],
                          [
                            0.3333333333333333,
                            "#9c179e"
                          ],
                          [
                            0.4444444444444444,
                            "#bd3786"
                          ],
                          [
                            0.5555555555555556,
                            "#d8576b"
                          ],
                          [
                            0.6666666666666666,
                            "#ed7953"
                          ],
                          [
                            0.7777777777777778,
                            "#fb9f3a"
                          ],
                          [
                            0.8888888888888888,
                            "#fdca26"
                          ],
                          [
                            1,
                            "#f0f921"
                          ]
                        ],
                        "type": "heatmapgl"
                      }
                    ],
                    "histogram": [
                      {
                        "marker": {
                          "pattern": {
                            "fillmode": "overlay",
                            "size": 10,
                            "solidity": 0.2
                          }
                        },
                        "type": "histogram"
                      }
                    ],
                    "histogram2d": [
                      {
                        "colorbar": {
                          "outlinewidth": 0,
                          "ticks": ""
                        },
                        "colorscale": [
                          [
                            0,
                            "#0d0887"
                          ],
                          [
                            0.1111111111111111,
                            "#46039f"
                          ],
                          [
                            0.2222222222222222,
                            "#7201a8"
                          ],
                          [
                            0.3333333333333333,
                            "#9c179e"
                          ],
                          [
                            0.4444444444444444,
                            "#bd3786"
                          ],
                          [
                            0.5555555555555556,
                            "#d8576b"
                          ],
                          [
                            0.6666666666666666,
                            "#ed7953"
                          ],
                          [
                            0.7777777777777778,
                            "#fb9f3a"
                          ],
                          [
                            0.8888888888888888,
                            "#fdca26"
                          ],
                          [
                            1,
                            "#f0f921"
                          ]
                        ],
                        "type": "histogram2d"
                      }
                    ],
                    "histogram2dcontour": [
                      {
                        "colorbar": {
                          "outlinewidth": 0,
                          "ticks": ""
                        },
                        "colorscale": [
                          [
                            0,
                            "#0d0887"
                          ],
                          [
                            0.1111111111111111,
                            "#46039f"
                          ],
                          [
                            0.2222222222222222,
                            "#7201a8"
                          ],
                          [
                            0.3333333333333333,
                            "#9c179e"
                          ],
                          [
                            0.4444444444444444,
                            "#bd3786"
                          ],
                          [
                            0.5555555555555556,
                            "#d8576b"
                          ],
                          [
                            0.6666666666666666,
                            "#ed7953"
                          ],
                          [
                            0.7777777777777778,
                            "#fb9f3a"
                          ],
                          [
                            0.8888888888888888,
                            "#fdca26"
                          ],
                          [
                            1,
                            "#f0f921"
                          ]
                        ],
                        "type": "histogram2dcontour"
                      }
                    ],
                    "mesh3d": [
                      {
                        "colorbar": {
                          "outlinewidth": 0,
                          "ticks": ""
                        },
                        "type": "mesh3d"
                      }
                    ],
                    "parcoords": [
                      {
                        "line": {
                          "colorbar": {
                            "outlinewidth": 0,
                            "ticks": ""
                          }
                        },
                        "type": "parcoords"
                      }
                    ],
                    "pie": [
                      {
                        "automargin": true,
                        "type": "pie"
                      }
                    ],
                    "scatter": [
                      {
                        "fillpattern": {
                          "fillmode": "overlay",
                          "size": 10,
                          "solidity": 0.2
                        },
                        "type": "scatter"
                      }
                    ],
                    "scatter3d": [
                      {
                        "line": {
                          "colorbar": {
                            "outlinewidth": 0,
                            "ticks": ""
                          }
                        },
                        "marker": {
                          "colorbar": {
                            "outlinewidth": 0,
                            "ticks": ""
                          }
                        },
                        "type": "scatter3d"
                      }
                    ],
                    "scattercarpet": [
                      {
                        "marker": {
                          "colorbar": {
                            "outlinewidth": 0,
                            "ticks": ""
                          }
                        },
                        "type": "scattercarpet"
                      }
                    ],
                    "scattergeo": [
                      {
                        "marker": {
                          "colorbar": {
                            "outlinewidth": 0,
                            "ticks": ""
                          }
                        },
                        "type": "scattergeo"
                      }
                    ],
                    "scattergl": [
                      {
                        "marker": {
                          "colorbar": {
                            "outlinewidth": 0,
                            "ticks": ""
                          }
                        },
                        "type": "scattergl"
                      }
                    ],
                    "scattermapbox": [
                      {
                        "marker": {
                          "colorbar": {
                            "outlinewidth": 0,
                            "ticks": ""
                          }
                        },
                        "type": "scattermapbox"
                      }
                    ],
                    "scatterpolar": [
                      {
                        "marker": {
                          "colorbar": {
                            "outlinewidth": 0,
                            "ticks": ""
                          }
                        },
                        "type": "scatterpolar"
                      }
                    ],
                    "scatterpolargl": [
                      {
                        "marker": {
                          "colorbar": {
                            "outlinewidth": 0,
                            "ticks": ""
                          }
                        },
                        "type": "scatterpolargl"
                      }
                    ],
                    "scatterternary": [
                      {
                        "marker": {
                          "colorbar": {
                            "outlinewidth": 0,
                            "ticks": ""
                          }
                        },
                        "type": "scatterternary"
                      }
                    ],
                    "surface": [
                      {
                        "colorbar": {
                          "outlinewidth": 0,
                          "ticks": ""
                        },
                        "colorscale": [
                          [
                            0,
                            "#0d0887"
                          ],
                          [
                            0.1111111111111111,
                            "#46039f"
                          ],
                          [
                            0.2222222222222222,
                            "#7201a8"
                          ],
                          [
                            0.3333333333333333,
                            "#9c179e"
                          ],
                          [
                            0.4444444444444444,
                            "#bd3786"
                          ],
                          [
                            0.5555555555555556,
                            "#d8576b"
                          ],
                          [
                            0.6666666666666666,
                            "#ed7953"
                          ],
                          [
                            0.7777777777777778,
                            "#fb9f3a"
                          ],
                          [
                            0.8888888888888888,
                            "#fdca26"
                          ],
                          [
                            1,
                            "#f0f921"
                          ]
                        ],
                        "type": "surface"
                      }
                    ],
                    "table": [
                      {
                        "cells": {
                          "fill": {
                            "color": "#EBF0F8"
                          },
                          "line": {
                            "color": "white"
                          }
                        },
                        "header": {
                          "fill": {
                            "color": "#C8D4E3"
                          },
                          "line": {
                            "color": "white"
                          }
                        },
                        "type": "table"
                      }
                    ]
                  },
                  "layout": {
                    "annotationdefaults": {
                      "arrowcolor": "#2a3f5f",
                      "arrowhead": 0,
                      "arrowwidth": 1
                    },
                    "autotypenumbers": "strict",
                    "coloraxis": {
                      "colorbar": {
                        "outlinewidth": 0,
                        "ticks": ""
                      }
                    },
                    "colorscale": {
                      "diverging": [
                        [
                          0,
                          "#8e0152"
                        ],
                        [
                          0.1,
                          "#c51b7d"
                        ],
                        [
                          0.2,
                          "#de77ae"
                        ],
                        [
                          0.3,
                          "#f1b6da"
                        ],
                        [
                          0.4,
                          "#fde0ef"
                        ],
                        [
                          0.5,
                          "#f7f7f7"
                        ],
                        [
                          0.6,
                          "#e6f5d0"
                        ],
                        [
                          0.7,
                          "#b8e186"
                        ],
                        [
                          0.8,
                          "#7fbc41"
                        ],
                        [
                          0.9,
                          "#4d9221"
                        ],
                        [
                          1,
                          "#276419"
                        ]
                      ],
                      "sequential": [
                        [
                          0,
                          "#0d0887"
                        ],
                        [
                          0.1111111111111111,
                          "#46039f"
                        ],
                        [
                          0.2222222222222222,
                          "#7201a8"
                        ],
                        [
                          0.3333333333333333,
                          "#9c179e"
                        ],
                        [
                          0.4444444444444444,
                          "#bd3786"
                        ],
                        [
                          0.5555555555555556,
                          "#d8576b"
                        ],
                        [
                          0.6666666666666666,
                          "#ed7953"
                        ],
                        [
                          0.7777777777777778,
                          "#fb9f3a"
                        ],
                        [
                          0.8888888888888888,
                          "#fdca26"
                        ],
                        [
                          1,
                          "#f0f921"
                        ]
                      ],
                      "sequentialminus": [
                        [
                          0,
                          "#0d0887"
                        ],
                        [
                          0.1111111111111111,
                          "#46039f"
                        ],
                        [
                          0.2222222222222222,
                          "#7201a8"
                        ],
                        [
                          0.3333333333333333,
                          "#9c179e"
                        ],
                        [
                          0.4444444444444444,
                          "#bd3786"
                        ],
                        [
                          0.5555555555555556,
                          "#d8576b"
                        ],
                        [
                          0.6666666666666666,
                          "#ed7953"
                        ],
                        [
                          0.7777777777777778,
                          "#fb9f3a"
                        ],
                        [
                          0.8888888888888888,
                          "#fdca26"
                        ],
                        [
                          1,
                          "#f0f921"
                        ]
                      ]
                    },
                    "colorway": [
                      "#636efa",
                      "#EF553B",
                      "#00cc96",
                      "#ab63fa",
                      "#FFA15A",
                      "#19d3f3",
                      "#FF6692",
                      "#B6E880",
                      "#FF97FF",
                      "#FECB52"
                    ],
                    "font": {
                      "color": "#2a3f5f"
                    },
                    "geo": {
                      "bgcolor": "white",
                      "lakecolor": "white",
                      "landcolor": "#E5ECF6",
                      "showlakes": true,
                      "showland": true,
                      "subunitcolor": "white"
                    },
                    "hoverlabel": {
                      "align": "left"
                    },
                    "hovermode": "closest",
                    "mapbox": {
                      "style": "light"
                    },
                    "paper_bgcolor": "white",
                    "plot_bgcolor": "#E5ECF6",
                    "polar": {
                      "angularaxis": {
                        "gridcolor": "white",
                        "linecolor": "white",
                        "ticks": ""
                      },
                      "bgcolor": "#E5ECF6",
                      "radialaxis": {
                        "gridcolor": "white",
                        "linecolor": "white",
                        "ticks": ""
                      }
                    },
                    "scene": {
                      "xaxis": {
                        "backgroundcolor": "#E5ECF6",
                        "gridcolor": "white",
                        "gridwidth": 2,
                        "linecolor": "white",
                        "showbackground": true,
                        "ticks": "",
                        "zerolinecolor": "white"
                      },
                      "yaxis": {
                        "backgroundcolor": "#E5ECF6",
                        "gridcolor": "white",
                        "gridwidth": 2,
                        "linecolor": "white",
                        "showbackground": true,
                        "ticks": "",
                        "zerolinecolor": "white"
                      },
                      "zaxis": {
                        "backgroundcolor": "#E5ECF6",
                        "gridcolor": "white",
                        "gridwidth": 2,
                        "linecolor": "white",
                        "showbackground": true,
                        "ticks": "",
                        "zerolinecolor": "white"
                      }
                    },
                    "shapedefaults": {
                      "line": {
                        "color": "#2a3f5f"
                      }
                    },
                    "ternary": {
                      "aaxis": {
                        "gridcolor": "white",
                        "linecolor": "white",
                        "ticks": ""
                      },
                      "baxis": {
                        "gridcolor": "white",
                        "linecolor": "white",
                        "ticks": ""
                      },
                      "bgcolor": "#E5ECF6",
                      "caxis": {
                        "gridcolor": "white",
                        "linecolor": "white",
                        "ticks": ""
                      }
                    },
                    "title": {
                      "x": 0.05
                    },
                    "xaxis": {
                      "automargin": true,
                      "gridcolor": "white",
                      "linecolor": "white",
                      "ticks": "",
                      "title": {
                        "standoff": 15
                      },
                      "zerolinecolor": "white",
                      "zerolinewidth": 2
                    },
                    "yaxis": {
                      "automargin": true,
                      "gridcolor": "white",
                      "linecolor": "white",
                      "ticks": "",
                      "title": {
                        "standoff": 15
                      },
                      "zerolinecolor": "white",
                      "zerolinewidth": 2
                    }
                  }
                },
                "title": {
                  "text": "População X Matrículas Fundamental Integral"
                },
                "width": 800,
                "xaxis": {
                  "anchor": "y",
                  "domain": [
                    0,
                    1
                  ],
                  "title": {
                    "text": "População 2022"
                  },
                  "type": "log"
                },
                "yaxis": {
                  "anchor": "x",
                  "domain": [
                    0,
                    1
                  ],
                  "title": {
                    "text": "Matrículas Fundamental Integral"
                  }
                }
              }
            },
            "text/html": [
              "<div>                            <div id=\"407bb44c-c57e-49ea-b902-1b0d1f6ef79e\" class=\"plotly-graph-div\" style=\"height:525px; width:800px;\"></div>            <script type=\"text/javascript\">                require([\"plotly\"], function(Plotly) {                    window.PLOTLYENV=window.PLOTLYENV || {};                                    if (document.getElementById(\"407bb44c-c57e-49ea-b902-1b0d1f6ef79e\")) {                    Plotly.newPlot(                        \"407bb44c-c57e-49ea-b902-1b0d1f6ef79e\",                        [{\"hovertemplate\":\"\\u003cb\\u003e%{hovertext}\\u003c\\u002fb\\u003e\\u003cbr\\u003e\\u003cbr\\u003ePOP_Censo_2022=%{x}\\u003cbr\\u003eQT_MAT_FUND_INT_22=%{y}\\u003cextra\\u003e\\u003c\\u002fextra\\u003e\",\"hovertext\":[\"Aba\\u00edra\",\"Abar\\u00e9\",\"Acajutiba\",\"Adustina\",\"\\u00c1gua Fria\",\"Aiquara\",\"Alagoinhas\",\"Alcoba\\u00e7a\",\"Almadina\",\"Amargosa\",\"Am\\u00e9lia Rodrigues\",\"Am\\u00e9rica Dourada\",\"Anag\\u00e9\",\"Andara\\u00ed\",\"Andorinha\",\"Angical\",\"Anguera\",\"Antas\",\"Ant\\u00f4nio Cardoso\",\"Ant\\u00f4nio Gon\\u00e7alves\",\"Apor\\u00e1\",\"Apuarema\",\"Ara\\u00e7\\u00e1s\",\"Aracatu\",\"Araci\",\"Aramari\",\"Arataca\",\"Aratu\\u00edpe\",\"Aurelino Leal\",\"Baian\\u00f3polis\",\"Baixa Grande\",\"Banza\\u00ea\",\"Barra\",\"Barra da Estiva\",\"Barra do Cho\\u00e7a\",\"Barra do Mendes\",\"Barra do Rocha\",\"Barreiras\",\"Barro Alto\",\"Barro Preto\",\"Barrocas\",\"Belmonte\",\"Belo Campo\",\"Biritinga\",\"Boa Nova\",\"Boa Vista do Tupim\",\"Bom Jesus da Lapa\",\"Bom Jesus da Serra\",\"Boninal\",\"Bonito\",\"Boquira\",\"Botupor\\u00e3\",\"Brej\\u00f5es\",\"Brejol\\u00e2ndia\",\"Brotas de Maca\\u00fabas\",\"Brumado\",\"Buerarema\",\"Buritirama\",\"Caatiba\",\"Cabaceiras do Paragua\\u00e7u\",\"Cachoeira\",\"Cacul\\u00e9\",\"Ca\\u00e9m\",\"Caetanos\",\"Caetit\\u00e9\",\"Cafarnaum\",\"Cairu\",\"Caldeir\\u00e3o Grande\",\"Camacan\",\"Cama\\u00e7ari\",\"Camamu\",\"Campo Alegre de Lourdes\",\"Campo Formoso\",\"Can\\u00e1polis\",\"Canarana\",\"Canavieiras\",\"Candeal\",\"Candeias\",\"Candiba\",\"C\\u00e2ndido Sales\",\"Cansan\\u00e7\\u00e3o\",\"Canudos\",\"Capela do Alto Alegre\",\"Capim Grosso\",\"Cara\\u00edbas\",\"Caravelas\",\"Cardeal da Silva\",\"Carinhanha\",\"Casa Nova\",\"Castro Alves\",\"Catol\\u00e2ndia\",\"Catu\",\"Caturama\",\"Central\",\"Chorroch\\u00f3\",\"C\\u00edcero Dantas\",\"Cip\\u00f3\",\"Coaraci\",\"Cocos\",\"Concei\\u00e7\\u00e3o da Feira\",\"Concei\\u00e7\\u00e3o do Almeida\",\"Concei\\u00e7\\u00e3o do Coit\\u00e9\",\"Concei\\u00e7\\u00e3o do Jacu\\u00edpe\",\"Conde\",\"Conde\\u00faba\",\"Contendas do Sincor\\u00e1\",\"Cora\\u00e7\\u00e3o de Maria\",\"Cordeiros\",\"Coribe\",\"Coronel Jo\\u00e3o S\\u00e1\",\"Correntina\",\"Cotegipe\",\"Cravol\\u00e2ndia\",\"Cris\\u00f3polis\",\"Crist\\u00f3polis\",\"Cruz das Almas\",\"Cura\\u00e7\\u00e1\",\"D\\u00e1rio Meira\",\"Dias d'\\u00c1vila\",\"Dom Bas\\u00edlio\",\"Dom Macedo Costa\",\"El\\u00edsio Medrado\",\"Encruzilhada\",\"Entre Rios\",\"\\u00c9rico Cardoso\",\"Esplanada\",\"Euclides da Cunha\",\"Eun\\u00e1polis\",\"F\\u00e1tima\",\"Feira da Mata\",\"Feira de Santana\",\"Filad\\u00e9lfia\",\"Firmino Alves\",\"Floresta Azul\",\"Formosa do Rio Preto\",\"Gandu\",\"Gavi\\u00e3o\",\"Gentio do Ouro\",\"Gl\\u00f3ria\",\"Gongogi\",\"Governador Mangabeira\",\"Guajeru\",\"Guanambi\",\"Guaratinga\",\"Heli\\u00f3polis\",\"Ia\\u00e7u\",\"Ibiassuc\\u00ea\",\"Ibicara\\u00ed\",\"Ibicoara\",\"Ibicu\\u00ed\",\"Ibipeba\",\"Ibipitanga\",\"Ibiquera\",\"Ibirapitanga\",\"Ibirapu\\u00e3\",\"Ibirataia\",\"Ibitiara\",\"Ibitit\\u00e1\",\"Ibotirama\",\"Ichu\",\"Igapor\\u00e3\",\"Igrapi\\u00fana\",\"Igua\\u00ed\",\"Ilh\\u00e9us\",\"Inhambupe\",\"Ipecaet\\u00e1\",\"Ipia\\u00fa\",\"Ipir\\u00e1\",\"Ipupiara\",\"Irajuba\",\"Iramaia\",\"Iraquara\",\"Irar\\u00e1\",\"Irec\\u00ea\",\"Itabela\",\"Itaberaba\",\"Itabuna\",\"Itacar\\u00e9\",\"Itaet\\u00e9\",\"Itagi\",\"Itagib\\u00e1\",\"Itagimirim\",\"Itagua\\u00e7u da Bahia\",\"Itaju do Col\\u00f4nia\",\"Itaju\\u00edpe\",\"Itamaraju\",\"Itamari\",\"Itamb\\u00e9\",\"Itanagra\",\"Itanh\\u00e9m\",\"Itaparica\",\"Itap\\u00e9\",\"Itapebi\",\"Itapetinga\",\"Itapicuru\",\"Itapitanga\",\"Itaquara\",\"Itarantim\",\"Itatim\",\"Itiru\\u00e7u\",\"Iti\\u00faba\",\"Itoror\\u00f3\",\"Itua\\u00e7u\",\"Ituber\\u00e1\",\"Iuiu\",\"Jaborandi\",\"Jacaraci\",\"Jacobina\",\"Jaguaquara\",\"Jaguarari\",\"Jaguaripe\",\"Janda\\u00edra\",\"Jequi\\u00e9\",\"Jeremoabo\",\"Jiquiri\\u00e7\\u00e1\",\"Jita\\u00fana\",\"Jo\\u00e3o Dourado\",\"Juazeiro\",\"Jucuru\\u00e7u\",\"Jussara\",\"Jussari\",\"Jussiape\",\"Lafaiete Coutinho\",\"Lagoa Real\",\"Laje\",\"Lajed\\u00e3o\",\"Lajedinho\",\"Lajedo do Tabocal\",\"Lamar\\u00e3o\",\"Lap\\u00e3o\",\"Lauro de Freitas\",\"Len\\u00e7\\u00f3is\",\"Lic\\u00ednio de Almeida\",\"Livramento de Nossa Senhora\",\"Lu\\u00eds Eduardo Magalh\\u00e3es\",\"Macajuba\",\"Macarani\",\"Maca\\u00fabas\",\"Macurur\\u00e9\",\"Madre de Deus\",\"Maetinga\",\"Maiquinique\",\"Mairi\",\"Malhada\",\"Malhada de Pedras\",\"Manoel Vitorino\",\"Mansid\\u00e3o\",\"Marac\\u00e1s\",\"Maragogipe\",\"Mara\\u00fa\",\"Marcion\\u00edlio Souza\",\"Mascote\",\"Mata de S\\u00e3o Jo\\u00e3o\",\"Matina\",\"Medeiros Neto\",\"Miguel Calmon\",\"Milagres\",\"Mirangaba\",\"Mirante\",\"Monte Santo\",\"Morpar\\u00e1\",\"Morro do Chap\\u00e9u\",\"Mortugaba\",\"Mucug\\u00ea\",\"Mucuri\",\"Mulungu do Morro\",\"Mundo Novo\",\"Muniz Ferreira\",\"Muqu\\u00e9m do S\\u00e3o Francisco\",\"Muritiba\",\"Mutu\\u00edpe\",\"Nazar\\u00e9\",\"Nilo Pe\\u00e7anha\",\"Nordestina\",\"Nova Cana\\u00e3\",\"Nova F\\u00e1tima\",\"Nova Ibi\\u00e1\",\"Nova Itarana\",\"Nova Reden\\u00e7\\u00e3o\",\"Nova Soure\",\"Nova Vi\\u00e7osa\",\"Novo Horizonte\",\"Novo Triunfo\",\"Olindina\",\"Oliveira dos Brejinhos\",\"Ouri\\u00e7angas\",\"Ourol\\u00e2ndia\",\"Palmas de Monte Alto\",\"Palmeiras\",\"Paramirim\",\"Paratinga\",\"Paripiranga\",\"Pau Brasil\",\"Paulo Afonso\",\"P\\u00e9 de Serra\",\"Pedr\\u00e3o\",\"Pedro Alexandre\",\"Piat\\u00e3\",\"Pil\\u00e3o Arcado\",\"Pinda\\u00ed\",\"Pindoba\\u00e7u\",\"Pintadas\",\"Pira\\u00ed do Norte\",\"Pirip\\u00e1\",\"Piritiba\",\"Planaltino\",\"Planalto\",\"Po\\u00e7\\u00f5es\",\"Pojuca\",\"Ponto Novo\",\"Porto Seguro\",\"Potiragu\\u00e1\",\"Prado\",\"Presidente Dutra\",\"Presidente J\\u00e2nio Quadros\",\"Presidente Tancredo Neves\",\"Queimadas\",\"Quijingue\",\"Quixabeira\",\"Rafael Jambeiro\",\"Remanso\",\"Retirol\\u00e2ndia\",\"Riach\\u00e3o das Neves\",\"Riach\\u00e3o do Jacu\\u00edpe\",\"Riacho de Santana\",\"Ribeira do Amparo\",\"Ribeira do Pombal\",\"Ribeir\\u00e3o do Largo\",\"Rio de Contas\",\"Rio do Ant\\u00f4nio\",\"Rio do Pires\",\"Rio Real\",\"Rodelas\",\"Ruy Barbosa\",\"Salinas da Margarida\",\"Salvador\",\"Santa B\\u00e1rbara\",\"Santa Br\\u00edgida\",\"Santa Cruz Cabr\\u00e1lia\",\"Santa Cruz da Vit\\u00f3ria\",\"Santa In\\u00eas\",\"Santa Luzia\",\"Santa Maria da Vit\\u00f3ria\",\"Santa Rita de C\\u00e1ssia\",\"Santa Terezinha\",\"Santaluz\",\"Santana\",\"Santan\\u00f3polis\",\"Santo Amaro\",\"Santo Ant\\u00f4nio de Jesus\",\"Santo Est\\u00eav\\u00e3o\",\"S\\u00e3o Desid\\u00e9rio\",\"S\\u00e3o Domingos\",\"S\\u00e3o Felipe\",\"S\\u00e3o F\\u00e9lix\",\"S\\u00e3o F\\u00e9lix do Coribe\",\"S\\u00e3o Francisco do Conde\",\"S\\u00e3o Gabriel\",\"S\\u00e3o Gon\\u00e7alo dos Campos\",\"S\\u00e3o Jos\\u00e9 da Vit\\u00f3ria\",\"S\\u00e3o Jos\\u00e9 do Jacu\\u00edpe\",\"S\\u00e3o Miguel das Matas\",\"S\\u00e3o Sebasti\\u00e3o do Pass\\u00e9\",\"Sapea\\u00e7u\",\"S\\u00e1tiro Dias\",\"Saubara\",\"Sa\\u00fade\",\"Seabra\",\"Sebasti\\u00e3o Laranjeiras\",\"Senhor do Bonfim\",\"Sento S\\u00e9\",\"Serra do Ramalho\",\"Serra Dourada\",\"Serra Preta\",\"Serrinha\",\"Serrol\\u00e2ndia\",\"Sim\\u00f5es Filho\",\"S\\u00edtio do Mato\",\"S\\u00edtio do Quinto\",\"Sobradinho\",\"Souto Soares\",\"Tabocas do Brejo Velho\",\"Tanha\\u00e7u\",\"Tanque Novo\",\"Tanquinho\",\"Tapero\\u00e1\",\"Tapiramut\\u00e1\",\"Teixeira de Freitas\",\"Teodoro Sampaio\",\"Teofil\\u00e2ndia\",\"Teol\\u00e2ndia\",\"Terra Nova\",\"Tremedal\",\"Tucano\",\"Uau\\u00e1\",\"Uba\\u00edra\",\"Ubaitaba\",\"Ubat\\u00e3\",\"Uiba\\u00ed\",\"Umburanas\",\"Una\",\"Urandi\",\"Uru\\u00e7uca\",\"Utinga\",\"Valen\\u00e7a\",\"Valente\",\"V\\u00e1rzea da Ro\\u00e7a\",\"V\\u00e1rzea do Po\\u00e7o\",\"V\\u00e1rzea Nova\",\"Varzedo\",\"Vera Cruz\",\"Vereda\",\"Vit\\u00f3ria da Conquista\",\"Wagner\",\"Wanderley\",\"Wenceslau Guimar\\u00e3es\",\"Xique-Xique\"],\"legendgroup\":\"\",\"marker\":{\"color\":\"#636efa\",\"symbol\":\"circle\",\"line\":{\"width\":2},\"size\":12},\"mode\":\"markers\",\"name\":\"\",\"orientation\":\"v\",\"showlegend\":false,\"x\":[\" 7.290 \",\" 18.766 \",\" 13.715 \",\" 14.166 \",\" 17.398 \",\" 4.566 \",\" 157.864 \",\" 23.633 \",\" 5.195 \",\" 36.260 \",\" 23.639 \",\" 15.104 \",\" 25.452 \",\" 13.406 \",\" 15.011 \",\" 14.973 \",\" 11.019 \",\" 14.453 \",\" 11.268 \",\" 11.921 \",\" 16.909 \",\" 6.900 \",\" 12.605 \",\" 13.819 \",\" 51.377 \",\" 9.781 \",\" 8.219 \",\" 10.006 \",\" 11.782 \",\" 13.618 \",\" 17.880 \",\" 11.869 \",\" 50.543 \",\" 26.031 \",\" 40.025 \",\" 13.852 \",\" 6.682 \",\" 165.413 \",\" 13.761 \",\" 5.820 \",\" 15.396 \",\" 20.565 \",\" 18.399 \",\" 15.151 \",\" 14.160 \",\" 19.320 \",\" 74.040 \",\" 9.572 \",\" 13.653 \",\" 15.837 \",\" 20.588 \",\" 11.040 \",\" 12.914 \",\" 9.114 \",\" 12.467 \",\" 70.268 \",\" 16.880 \",\" 19.514 \",\" 6.915 \",\" 19.432 \",\" 31.982 \",\" 22.412 \",\" 10.360 \",\" 13.242 \",\" 52.099 \",\" 17.975 \",\" 17.591 \",\" 13.063 \",\" 22.460 \",\" 334.195 \",\" 30.480 \",\" 30.659 \",\" 68.571 \",\" 10.225 \",\" 23.491 \",\" 33.080 \",\" 7.785 \",\" 77.026 \",\" 13.007 \",\" 25.278 \",\" 39.475 \",\" 15.906 \",\" 10.754 \",\" 33.344 \",\" 9.938 \",\" 21.612 \",\" 8.376 \",\" 28.869 \",\" 71.572 \",\" 24.700 \",\" 3.480 \",\" 48.137 \",\" 8.847 \",\" 16.223 \",\" 10.587 \",\" 30.836 \",\" 17.246 \",\" 17.949 \",\" 19.156 \",\" 22.936 \",\" 15.401 \",\" 70.202 \",\" 34.994 \",\" 24.433 \",\" 17.059 \",\" 4.750 \",\" 28.340 \",\" 7.555 \",\" 14.158 \",\"17.000(26)\",\" 32.709 \",\" 13.059 \",\" 4.445 \",\" 19.720 \",\" 14.002 \",\" 60.633 \",\" 33.603 \",\" 10.025 \",\" 69.211 \",\" 11.905 \",\" 4.418 \",\" 7.782 \",\" 19.111 \",\" 38.880 \",\" 10.581 \",\" 34.033 \",\" 65.187 \",\" 112.477 \",\" 17.899 \",\" 5.618 \",\" 652.592 \",\" 17.892 \",\" 5.925 \",\" 11.068 \",\" 25.185 \",\" 29.776 \",\" 4.357 \",\" 11.896 \",\" 16.698 \",\" 5.549 \",\" 20.604 \",\" 8.054 \",\" 87.580 \",\" 20.338 \",\" 12.301 \",\" 25.178 \",\"10.426(27)\",\" 21.688 \",\" 20.874 \",\" 13.791 \",\" 18.540 \",\" 13.905 \",\" 3.722 \",\" 27.341 \",\" 8.331 \",\" 19.613 \",\" 14.622 \",\" 17.954 \",\" 26.611 \",\" 6.192 \",\" 17.022 \",\" 13.077 \",\" 25.114 \",\" 197.163 \",\" 33.771 \",\" 16.230 \",\" 43.078 \",\" 58.094 \",\" 9.925 \",\" 6.100 \",\" 10.755 \",\" 25.590 \",\" 27.984 \",\" 76.491 \",\" 27.691 \",\" 67.605 \",\" 185.500 \",\" 28.214 \",\" 14.031 \",\" 13.925 \",\" 15.556 \",\" 7.037 \",\" 13.116 \",\" 6.033 \",\" 19.913 \",\" 60.831 \",\" 7.050 \",\" 26.420 \",\" 5.814 \",\" 19.025 \",\" 19.738 \",\" 10.327 \",\" 9.779 \",\" 68.704 \",\" 32.793 \",\" 10.320 \",\" 8.175 \",\" 17.035 \",\" 15.749 \",\" 11.016 \",\" 33.671 \",\" 17.729 \",\" 18.992 \",\" 21.974 \",\" 11.101 \",\" 9.269 \",\" 14.625 \",\" 88.296 \",\" 46.026 \",\" 32.495 \",\" 20.237 \",\" 9.112 \",\" 156.408 \",\" 37.519 \",\" 13.623 \",\" 14.614 \",\" 26.186 \",\" 244.406 \",\" 9.971 \",\" 16.922 \",\" 5.902 \",\" 7.381 \",\" 4.044 \",\" 13.990 \",\" 23.198 \",\" 4.550 \",\" 4.102 \",\" 7.486 \",\" 9.062 \",\" 25.713 \",\" 220.437 \",\" 11.022 \",\" 11.848 \",\" 43.898 \",\" 108.271 \",\" 10.463 \",\" 21.556 \",\" 41.631 \",\" 7.600 \",\" 18.767 \",\" 6.968 \",\" 9.452 \",\" 16.122 \",\" 15.426 \",\" 8.673 \",\" 13.327 \",\" 13.902 \",\" 27.747 \",\" 38.394 \",\" 24.713 \",\" 9.256 \",\" 11.991 \",\" 48.698 \",\" 10.338 \",\" 23.096 \",\" 27.817 \",\" 11.076 \",\" 15.050 \",\" 10.072 \",\" 47.758 \",\" 8.303 \",\" 33.389 \",\" 11.131 \",\" 12.988 \",\" 38.082 \",\" 13.166 \",\" 20.564 \",\" 7.165 \",\" 11.029 \",\" 28.558 \",\" 20.028 \",\" 28.181 \",\" 12.032 \",\" 18.536 \",\" 15.959 \",\" 7.958 \",\" 8.325 \",\" 7.820 \",\" 7.525 \",\" 24.206 \",\" 41.089 \",\" 11.163 \",\" 10.666 \",\" 22.615 \",\" 22.850 \",\" 7.728 \",\" 19.322 \",\" 20.091 \",\" 10.383 \",\" 20.378 \",\" 28.947 \",\" 26.609 \",\" 10.669 \",\" 118.412 \",\" 13.242 \",\" 6.229 \",\" 14.056 \",\" 20.098 \",\" 35.326 \",\" 14.740 \",\" 19.133 \",\" 9.805 \",\" 10.200 \",\" 9.158 \",\" 17.549 \",\" 8.012 \",\" 23.290 \",\" 48.197 \",\" 33.079 \",\" 17.941 \",\" 158.736 \",\" 11.524 \",\" 31.715 \",\" 15.133 \",\" 12.627 \",\" 27.662 \",\" 26.027 \",\" 27.317 \",\" 9.429 \",\" 20.242 \",\" 40.531 \",\" 13.654 \",\" 22.289 \",\" 33.422 \",\" 39.127 \",\" 13.831 \",\" 53.997 \",\" 10.382 \",\" 13.634 \",\" 13.098 \",\" 9.585 \",\" 35.378 \",\"10.303(28)\",\" 30.172 \",\" 14.989 \",\" 2.610.987 \",\" 22.446 \",\" 14.979 \",\" 30.385 \",\" 4.672 \",\" 10.293 \",\" 11.776 \",\" 38.686 \",\" 28.084 \",\" 9.790 \",\" 37.079 \",\" 24.778 \",\" 9.831 \",\" 55.935 \",\" 103.055 \",\" 55.696 \",\" 36.793 \",\" 8.417 \",\" 20.286 \",\" 10.946 \",\" 15.704 \",\" 37.892 \",\" 18.417 \",\" 39.570 \",\" 5.321 \",\" 10.195 \",\" 10.334 \",\" 40.376 \",\" 17.993 \",\" 16.021 \",\" 11.433 \",\" 10.482 \",\" 49.587 \",\" 9.373 \",\" 77.514 \",\" 37.389 \",\" 34.270 \",\" 16.691 \",\" 18.090 \",\" 85.696 \",\" 13.320 \",\" 127.093 \",\" 13.408 \",\" 14.778 \",\" 24.799 \",\" 16.904 \",\" 11.990 \",\" 21.407 \",\" 18.459 \",\" 7.729 \",\" 18.016 \",\" 15.884 \",\" 147.454 \",\" 7.220 \",\" 21.811 \",\" 15.892 \",\" 10.802 \",\" 17.497 \",\" 48.062 \",\" 24.654 \",\" 18.605 \",\" 17.626 \",\" 18.161 \",\" 14.844 \",\" 13.511 \",\" 17.998 \",\" 15.365 \",\" 21.365 \",\" 16.285 \",\" 96.226 \",\" 23.683 \",\" 13.043 \",\" 8.115 \",\" 13.369 \",\" 9.913 \",\" 40.915 \",\" 7.072 \",\" 387.524 \",\" 8.861 \",\" 13.071 \",\" 26.279 \",\" 46.328 \"],\"xaxis\":\"x\",\"y\":[0,0,298,22,34,20,415,174,0,404,2350,124,192,850,1067,0,1,28,2,529,1,139,23,181,228,54,1,1093,696,804,1,483,16,1,38,19,248,1234,1340,734,129,41,113,293,167,0,120,0,0,445,79,0,149,0,81,6751,117,0,246,442,0,109,342,0,341,794,9,1875,149,1028,69,0,6,0,3273,103,0,124,41,30,2067,85,4,136,402,0,12,393,118,740,0,817,13,0,0,1661,0,155,59,325,7,190,490,387,16,1,96,0,46,0,92,5,0,1496,82,76,121,242,2106,71,43,180,1,418,18,24,1033,256,57,0,1977,2383,2,345,246,156,316,0,38,0,11,39,429,13,200,730,3,171,205,362,0,67,225,149,25,48,0,43,174,235,0,613,631,283,138,1459,314,152,0,50,0,505,1641,5146,3,488,1804,88,0,56,218,289,5,0,1,186,69,2663,108,9,787,596,81,678,2683,0,0,202,88,356,4562,169,45,18,477,13,120,173,150,258,203,8,1095,954,154,379,331,3266,0,694,718,0,501,15,226,0,0,489,0,774,1711,96,177,18,585,1767,0,74,50,21,20,0,1,35,139,34,0,191,120,156,463,1,6332,0,44,68,9,49,66,55,0,357,147,0,227,1879,1554,0,28,2581,238,2252,149,0,1787,881,116,547,28,257,97,234,587,573,0,589,88,2424,0,25,13,18,1,113,769,0,0,736,0,88,2751,0,14,21,205,22,3,173,823,2091,492,26,39,211,0,185,474,66,950,1,65,54,28,460,153,432,1116,51,0,0,16,108,0,0,0,2381,23,0,183,8,1152,0,79,479,33,1443,19,62,157,138,0,81,564,711,471,37,452,619,32,0,880,0,231,2016,2259,94,98,233,7,754,2595,245,17,31,432,74,2199,0,132,619,282,0,144,85,0,165,199,48,1,426,7,571,409,77,125,110,99,265,1,35,816,687,170,0,68,1317,363,399,96,50,1014,0,2332,151,252,11,2219],\"yaxis\":\"y\",\"type\":\"scatter\"}],                        {\"template\":{\"data\":{\"histogram2dcontour\":[{\"type\":\"histogram2dcontour\",\"colorbar\":{\"outlinewidth\":0,\"ticks\":\"\"},\"colorscale\":[[0.0,\"#0d0887\"],[0.1111111111111111,\"#46039f\"],[0.2222222222222222,\"#7201a8\"],[0.3333333333333333,\"#9c179e\"],[0.4444444444444444,\"#bd3786\"],[0.5555555555555556,\"#d8576b\"],[0.6666666666666666,\"#ed7953\"],[0.7777777777777778,\"#fb9f3a\"],[0.8888888888888888,\"#fdca26\"],[1.0,\"#f0f921\"]]}],\"choropleth\":[{\"type\":\"choropleth\",\"colorbar\":{\"outlinewidth\":0,\"ticks\":\"\"}}],\"histogram2d\":[{\"type\":\"histogram2d\",\"colorbar\":{\"outlinewidth\":0,\"ticks\":\"\"},\"colorscale\":[[0.0,\"#0d0887\"],[0.1111111111111111,\"#46039f\"],[0.2222222222222222,\"#7201a8\"],[0.3333333333333333,\"#9c179e\"],[0.4444444444444444,\"#bd3786\"],[0.5555555555555556,\"#d8576b\"],[0.6666666666666666,\"#ed7953\"],[0.7777777777777778,\"#fb9f3a\"],[0.8888888888888888,\"#fdca26\"],[1.0,\"#f0f921\"]]}],\"heatmap\":[{\"type\":\"heatmap\",\"colorbar\":{\"outlinewidth\":0,\"ticks\":\"\"},\"colorscale\":[[0.0,\"#0d0887\"],[0.1111111111111111,\"#46039f\"],[0.2222222222222222,\"#7201a8\"],[0.3333333333333333,\"#9c179e\"],[0.4444444444444444,\"#bd3786\"],[0.5555555555555556,\"#d8576b\"],[0.6666666666666666,\"#ed7953\"],[0.7777777777777778,\"#fb9f3a\"],[0.8888888888888888,\"#fdca26\"],[1.0,\"#f0f921\"]]}],\"heatmapgl\":[{\"type\":\"heatmapgl\",\"colorbar\":{\"outlinewidth\":0,\"ticks\":\"\"},\"colorscale\":[[0.0,\"#0d0887\"],[0.1111111111111111,\"#46039f\"],[0.2222222222222222,\"#7201a8\"],[0.3333333333333333,\"#9c179e\"],[0.4444444444444444,\"#bd3786\"],[0.5555555555555556,\"#d8576b\"],[0.6666666666666666,\"#ed7953\"],[0.7777777777777778,\"#fb9f3a\"],[0.8888888888888888,\"#fdca26\"],[1.0,\"#f0f921\"]]}],\"contourcarpet\":[{\"type\":\"contourcarpet\",\"colorbar\":{\"outlinewidth\":0,\"ticks\":\"\"}}],\"contour\":[{\"type\":\"contour\",\"colorbar\":{\"outlinewidth\":0,\"ticks\":\"\"},\"colorscale\":[[0.0,\"#0d0887\"],[0.1111111111111111,\"#46039f\"],[0.2222222222222222,\"#7201a8\"],[0.3333333333333333,\"#9c179e\"],[0.4444444444444444,\"#bd3786\"],[0.5555555555555556,\"#d8576b\"],[0.6666666666666666,\"#ed7953\"],[0.7777777777777778,\"#fb9f3a\"],[0.8888888888888888,\"#fdca26\"],[1.0,\"#f0f921\"]]}],\"surface\":[{\"type\":\"surface\",\"colorbar\":{\"outlinewidth\":0,\"ticks\":\"\"},\"colorscale\":[[0.0,\"#0d0887\"],[0.1111111111111111,\"#46039f\"],[0.2222222222222222,\"#7201a8\"],[0.3333333333333333,\"#9c179e\"],[0.4444444444444444,\"#bd3786\"],[0.5555555555555556,\"#d8576b\"],[0.6666666666666666,\"#ed7953\"],[0.7777777777777778,\"#fb9f3a\"],[0.8888888888888888,\"#fdca26\"],[1.0,\"#f0f921\"]]}],\"mesh3d\":[{\"type\":\"mesh3d\",\"colorbar\":{\"outlinewidth\":0,\"ticks\":\"\"}}],\"scatter\":[{\"fillpattern\":{\"fillmode\":\"overlay\",\"size\":10,\"solidity\":0.2},\"type\":\"scatter\"}],\"parcoords\":[{\"type\":\"parcoords\",\"line\":{\"colorbar\":{\"outlinewidth\":0,\"ticks\":\"\"}}}],\"scatterpolargl\":[{\"type\":\"scatterpolargl\",\"marker\":{\"colorbar\":{\"outlinewidth\":0,\"ticks\":\"\"}}}],\"bar\":[{\"error_x\":{\"color\":\"#2a3f5f\"},\"error_y\":{\"color\":\"#2a3f5f\"},\"marker\":{\"line\":{\"color\":\"#E5ECF6\",\"width\":0.5},\"pattern\":{\"fillmode\":\"overlay\",\"size\":10,\"solidity\":0.2}},\"type\":\"bar\"}],\"scattergeo\":[{\"type\":\"scattergeo\",\"marker\":{\"colorbar\":{\"outlinewidth\":0,\"ticks\":\"\"}}}],\"scatterpolar\":[{\"type\":\"scatterpolar\",\"marker\":{\"colorbar\":{\"outlinewidth\":0,\"ticks\":\"\"}}}],\"histogram\":[{\"marker\":{\"pattern\":{\"fillmode\":\"overlay\",\"size\":10,\"solidity\":0.2}},\"type\":\"histogram\"}],\"scattergl\":[{\"type\":\"scattergl\",\"marker\":{\"colorbar\":{\"outlinewidth\":0,\"ticks\":\"\"}}}],\"scatter3d\":[{\"type\":\"scatter3d\",\"line\":{\"colorbar\":{\"outlinewidth\":0,\"ticks\":\"\"}},\"marker\":{\"colorbar\":{\"outlinewidth\":0,\"ticks\":\"\"}}}],\"scattermapbox\":[{\"type\":\"scattermapbox\",\"marker\":{\"colorbar\":{\"outlinewidth\":0,\"ticks\":\"\"}}}],\"scatterternary\":[{\"type\":\"scatterternary\",\"marker\":{\"colorbar\":{\"outlinewidth\":0,\"ticks\":\"\"}}}],\"scattercarpet\":[{\"type\":\"scattercarpet\",\"marker\":{\"colorbar\":{\"outlinewidth\":0,\"ticks\":\"\"}}}],\"carpet\":[{\"aaxis\":{\"endlinecolor\":\"#2a3f5f\",\"gridcolor\":\"white\",\"linecolor\":\"white\",\"minorgridcolor\":\"white\",\"startlinecolor\":\"#2a3f5f\"},\"baxis\":{\"endlinecolor\":\"#2a3f5f\",\"gridcolor\":\"white\",\"linecolor\":\"white\",\"minorgridcolor\":\"white\",\"startlinecolor\":\"#2a3f5f\"},\"type\":\"carpet\"}],\"table\":[{\"cells\":{\"fill\":{\"color\":\"#EBF0F8\"},\"line\":{\"color\":\"white\"}},\"header\":{\"fill\":{\"color\":\"#C8D4E3\"},\"line\":{\"color\":\"white\"}},\"type\":\"table\"}],\"barpolar\":[{\"marker\":{\"line\":{\"color\":\"#E5ECF6\",\"width\":0.5},\"pattern\":{\"fillmode\":\"overlay\",\"size\":10,\"solidity\":0.2}},\"type\":\"barpolar\"}],\"pie\":[{\"automargin\":true,\"type\":\"pie\"}]},\"layout\":{\"autotypenumbers\":\"strict\",\"colorway\":[\"#636efa\",\"#EF553B\",\"#00cc96\",\"#ab63fa\",\"#FFA15A\",\"#19d3f3\",\"#FF6692\",\"#B6E880\",\"#FF97FF\",\"#FECB52\"],\"font\":{\"color\":\"#2a3f5f\"},\"hovermode\":\"closest\",\"hoverlabel\":{\"align\":\"left\"},\"paper_bgcolor\":\"white\",\"plot_bgcolor\":\"#E5ECF6\",\"polar\":{\"bgcolor\":\"#E5ECF6\",\"angularaxis\":{\"gridcolor\":\"white\",\"linecolor\":\"white\",\"ticks\":\"\"},\"radialaxis\":{\"gridcolor\":\"white\",\"linecolor\":\"white\",\"ticks\":\"\"}},\"ternary\":{\"bgcolor\":\"#E5ECF6\",\"aaxis\":{\"gridcolor\":\"white\",\"linecolor\":\"white\",\"ticks\":\"\"},\"baxis\":{\"gridcolor\":\"white\",\"linecolor\":\"white\",\"ticks\":\"\"},\"caxis\":{\"gridcolor\":\"white\",\"linecolor\":\"white\",\"ticks\":\"\"}},\"coloraxis\":{\"colorbar\":{\"outlinewidth\":0,\"ticks\":\"\"}},\"colorscale\":{\"sequential\":[[0.0,\"#0d0887\"],[0.1111111111111111,\"#46039f\"],[0.2222222222222222,\"#7201a8\"],[0.3333333333333333,\"#9c179e\"],[0.4444444444444444,\"#bd3786\"],[0.5555555555555556,\"#d8576b\"],[0.6666666666666666,\"#ed7953\"],[0.7777777777777778,\"#fb9f3a\"],[0.8888888888888888,\"#fdca26\"],[1.0,\"#f0f921\"]],\"sequentialminus\":[[0.0,\"#0d0887\"],[0.1111111111111111,\"#46039f\"],[0.2222222222222222,\"#7201a8\"],[0.3333333333333333,\"#9c179e\"],[0.4444444444444444,\"#bd3786\"],[0.5555555555555556,\"#d8576b\"],[0.6666666666666666,\"#ed7953\"],[0.7777777777777778,\"#fb9f3a\"],[0.8888888888888888,\"#fdca26\"],[1.0,\"#f0f921\"]],\"diverging\":[[0,\"#8e0152\"],[0.1,\"#c51b7d\"],[0.2,\"#de77ae\"],[0.3,\"#f1b6da\"],[0.4,\"#fde0ef\"],[0.5,\"#f7f7f7\"],[0.6,\"#e6f5d0\"],[0.7,\"#b8e186\"],[0.8,\"#7fbc41\"],[0.9,\"#4d9221\"],[1,\"#276419\"]]},\"xaxis\":{\"gridcolor\":\"white\",\"linecolor\":\"white\",\"ticks\":\"\",\"title\":{\"standoff\":15},\"zerolinecolor\":\"white\",\"automargin\":true,\"zerolinewidth\":2},\"yaxis\":{\"gridcolor\":\"white\",\"linecolor\":\"white\",\"ticks\":\"\",\"title\":{\"standoff\":15},\"zerolinecolor\":\"white\",\"automargin\":true,\"zerolinewidth\":2},\"scene\":{\"xaxis\":{\"backgroundcolor\":\"#E5ECF6\",\"gridcolor\":\"white\",\"linecolor\":\"white\",\"showbackground\":true,\"ticks\":\"\",\"zerolinecolor\":\"white\",\"gridwidth\":2},\"yaxis\":{\"backgroundcolor\":\"#E5ECF6\",\"gridcolor\":\"white\",\"linecolor\":\"white\",\"showbackground\":true,\"ticks\":\"\",\"zerolinecolor\":\"white\",\"gridwidth\":2},\"zaxis\":{\"backgroundcolor\":\"#E5ECF6\",\"gridcolor\":\"white\",\"linecolor\":\"white\",\"showbackground\":true,\"ticks\":\"\",\"zerolinecolor\":\"white\",\"gridwidth\":2}},\"shapedefaults\":{\"line\":{\"color\":\"#2a3f5f\"}},\"annotationdefaults\":{\"arrowcolor\":\"#2a3f5f\",\"arrowhead\":0,\"arrowwidth\":1},\"geo\":{\"bgcolor\":\"white\",\"landcolor\":\"#E5ECF6\",\"subunitcolor\":\"white\",\"showland\":true,\"showlakes\":true,\"lakecolor\":\"white\"},\"title\":{\"x\":0.05},\"mapbox\":{\"style\":\"light\"}}},\"xaxis\":{\"anchor\":\"y\",\"domain\":[0.0,1.0],\"title\":{\"text\":\"Popula\\u00e7\\u00e3o 2022\"},\"type\":\"log\"},\"yaxis\":{\"anchor\":\"x\",\"domain\":[0.0,1.0],\"title\":{\"text\":\"Matr\\u00edculas Fundamental Integral\"}},\"legend\":{\"tracegroupgap\":0},\"margin\":{\"t\":60},\"width\":800,\"title\":{\"text\":\"Popula\\u00e7\\u00e3o X Matr\\u00edculas Fundamental Integral\"}},                        {\"responsive\": true}                    ).then(function(){\n",
              "                            \n",
              "var gd = document.getElementById('407bb44c-c57e-49ea-b902-1b0d1f6ef79e');\n",
              "var x = new MutationObserver(function (mutations, observer) {{\n",
              "        var display = window.getComputedStyle(gd).display;\n",
              "        if (!display || display === 'none') {{\n",
              "            console.log([gd, 'removed!']);\n",
              "            Plotly.purge(gd);\n",
              "            observer.disconnect();\n",
              "        }}\n",
              "}});\n",
              "\n",
              "// Listen for the removal of the full notebook cells\n",
              "var notebookContainer = gd.closest('#notebook-container');\n",
              "if (notebookContainer) {{\n",
              "    x.observe(notebookContainer, {childList: true});\n",
              "}}\n",
              "\n",
              "// Listen for the clearing of the current output cell\n",
              "var outputEl = gd.closest('.output');\n",
              "if (outputEl) {{\n",
              "    x.observe(outputEl, {childList: true});\n",
              "}}\n",
              "\n",
              "                        })                };                });            </script>        </div>"
            ]
          },
          "metadata": {},
          "output_type": "display_data"
        }
      ],
      "source": [
        "fig  = px.scatter(CensoBA, x = 'POP_Censo_2022', y = 'QT_MAT_EJA_FUND_22', hover_name = \"NO_MUNICIPIO\", log_x = True, width = 800)\n",
        "fig.update_traces(marker = dict(size = 12, line=dict(width = 2)), selector = dict(mode = 'markers'))\n",
        "fig.update_layout(title = 'População X Matrículas Eja Fundamental')\n",
        "fig.update_xaxes(title = 'População 2022')\n",
        "fig.update_yaxes(title = 'Matrículas Eja Fundamental')\n",
        "fig.show()\n",
        "\n",
        "fig  = px.scatter(CensoBA, x = 'POP_Censo_2022', y = 'QT_MAT_INF_22', hover_name = \"NO_MUNICIPIO\", log_x = True, width = 800)\n",
        "fig.update_traces(marker = dict(size = 12, line=dict(width = 2)), selector = dict(mode = 'markers'))\n",
        "fig.update_layout(title = 'População X Matrículas Infantil')\n",
        "fig.update_xaxes(title = 'População 2022')\n",
        "fig.update_yaxes(title = 'Matrículas Infantil')\n",
        "fig.show()\n",
        "\n",
        "fig  = px.scatter(CensoBA, x = 'POP_Censo_2022', y = 'QT_MAT_FUND_22', hover_name = \"NO_MUNICIPIO\", log_x = True, width = 800)\n",
        "fig.update_traces(marker = dict(size = 12, line=dict(width = 2)), selector = dict(mode = 'markers'))\n",
        "fig.update_layout(title = 'População X Matrículas Fundamental')\n",
        "fig.update_xaxes(title = 'População 2022')\n",
        "fig.update_yaxes(title = 'Matrículas Fundamental')\n",
        "fig.show()\n",
        "\n",
        "fig  = px.scatter(CensoBA, x = 'POP_Censo_2022', y = 'QT_MAT_ESP_22', hover_name = \"NO_MUNICIPIO\", log_x = True, width = 800)\n",
        "fig.update_traces(marker = dict(size = 12, line=dict(width = 2)), selector = dict(mode = 'markers'))\n",
        "fig.update_layout(title = 'População X Matrículas Especial')\n",
        "fig.update_xaxes(title = 'População 2022')\n",
        "fig.update_yaxes(title = 'Matrículas Especial')\n",
        "fig.show()\n",
        "\n",
        "fig  = px.scatter(CensoBA, x = 'POP_Censo_2022', y = 'QT_MAT_INF_INT_22', hover_name = \"NO_MUNICIPIO\", log_x = True, width = 800)\n",
        "fig.update_traces(marker = dict(size = 12, line=dict(width = 2)), selector = dict(mode = 'markers'))\n",
        "fig.update_layout(title = 'População X Matrículas Infantil Integral')\n",
        "fig.update_xaxes(title = 'População 2022')\n",
        "fig.update_yaxes(title = 'Matrículas Infantil Integral')\n",
        "fig.show()\n",
        "\n",
        "fig  = px.scatter(CensoBA, x = 'POP_Censo_2022', y = 'QT_MAT_FUND_INT_22', hover_name = \"NO_MUNICIPIO\", log_x = True, width = 800)\n",
        "fig.update_traces(marker = dict(size = 12, line=dict(width = 2)), selector = dict(mode = 'markers'))\n",
        "fig.update_layout(title = 'População X Matrículas Fundamental Integral')\n",
        "fig.update_xaxes(title = 'População 2022')\n",
        "fig.update_yaxes(title = 'Matrículas Fundamental Integral')\n",
        "fig.show()"
      ]
    },
    {
      "cell_type": "code",
      "execution_count": null,
      "id": "d632311d",
      "metadata": {
        "id": "d632311d",
        "outputId": "f2e517d4-5f34-47ff-85a9-8fdf0c9036f5"
      },
      "outputs": [
        {
          "data": {
            "application/vnd.plotly.v1+json": {
              "config": {
                "plotlyServerURL": "https://plot.ly"
              },
              "data": [
                {
                  "hovertemplate": "<b>%{hovertext}</b><br><br>POP_Censo_2022=%{x}<br>QT_MAT_FUND_22=%{y}<extra></extra>",
                  "hovertext": [
                    "Arataca",
                    "Planaltino",
                    "Jussiape",
                    "Milagres",
                    "Ubatã",
                    "Antônio Cardoso",
                    "Heliópolis",
                    "Morro do Chapéu",
                    "Água Fria",
                    "Mata de São João",
                    "Tanque Novo",
                    "Nova Itarana",
                    "Jussari",
                    "Aurelino Leal",
                    "Itapitanga",
                    "Ubaíra",
                    "Tabocas do Brejo Velho",
                    "Tanquinho",
                    "Itajuípe",
                    "Xique-Xique",
                    "Oliveira dos Brejinhos",
                    "Gongogi",
                    "Barra do Rocha",
                    "Rio do Pires",
                    "Itaberaba",
                    "América Dourada",
                    "Laje",
                    "Ourolândia",
                    "Glória",
                    "Belo Campo",
                    "Juazeiro",
                    "Maiquinique",
                    "Muritiba",
                    "Itatim",
                    "Conceição da Feira",
                    "Ichu",
                    "Saúde",
                    "Conceição do Almeida",
                    "Eunápolis",
                    "Pilão Arcado",
                    "Bom Jesus da Serra",
                    "Sítio do Mato",
                    "Piatã",
                    "Camaçari",
                    "Nova Soure",
                    "Teixeira de Freitas",
                    "Dias d'Ávila",
                    "Nova Canaã",
                    "Feira de Santana",
                    "Ribeira do Pombal"
                  ],
                  "legendgroup": "",
                  "marker": {
                    "color": "#636efa",
                    "line": {
                      "width": 2
                    },
                    "size": 12,
                    "symbol": "circle"
                  },
                  "mode": "markers",
                  "name": "",
                  "orientation": "v",
                  "showlegend": false,
                  "type": "scatter",
                  "x": [
                    " 8.219 ",
                    " 8.012 ",
                    " 7.381 ",
                    " 11.076 ",
                    " 18.161 ",
                    " 11.268 ",
                    " 12.301 ",
                    " 33.389 ",
                    " 17.398 ",
                    " 48.698 ",
                    " 18.459 ",
                    " 7.820 ",
                    " 5.902 ",
                    " 11.782 ",
                    " 10.320 ",
                    " 18.605 ",
                    " 11.990 ",
                    " 7.729 ",
                    " 19.913 ",
                    " 46.328 ",
                    " 22.850 ",
                    " 5.549 ",
                    " 6.682 ",
                    " 9.585 ",
                    " 67.605 ",
                    " 15.104 ",
                    " 23.198 ",
                    " 19.322 ",
                    " 16.698 ",
                    " 18.399 ",
                    " 244.406 ",
                    " 9.452 ",
                    " 28.558 ",
                    " 15.749 ",
                    " 22.936 ",
                    " 6.192 ",
                    " 10.482 ",
                    " 15.401 ",
                    " 112.477 ",
                    " 35.326 ",
                    " 9.572 ",
                    " 13.408 ",
                    " 20.098 ",
                    " 334.195 ",
                    " 24.206 ",
                    " 147.454 ",
                    " 69.211 ",
                    " 15.959 ",
                    " 652.592 ",
                    " 53.997 "
                  ],
                  "xaxis": "x",
                  "y": [
                    1230,
                    1037,
                    744,
                    1407,
                    1891,
                    1742,
                    1471,
                    4328,
                    2098,
                    7196,
                    2323,
                    1180,
                    722,
                    1935,
                    976,
                    2286,
                    1623,
                    857,
                    2433,
                    7063,
                    2715,
                    807,
                    773,
                    1086,
                    7758,
                    2386,
                    3079,
                    2779,
                    2162,
                    2293,
                    25126,
                    1252,
                    3038,
                    2234,
                    2576,
                    796,
                    1374,
                    1282,
                    13722,
                    6061,
                    1412,
                    2179,
                    2868,
                    29633,
                    3468,
                    16362,
                    8625,
                    1832,
                    39202,
                    6528
                  ],
                  "yaxis": "y"
                }
              ],
              "layout": {
                "legend": {
                  "tracegroupgap": 0
                },
                "margin": {
                  "t": 60
                },
                "template": {
                  "data": {
                    "bar": [
                      {
                        "error_x": {
                          "color": "#2a3f5f"
                        },
                        "error_y": {
                          "color": "#2a3f5f"
                        },
                        "marker": {
                          "line": {
                            "color": "#E5ECF6",
                            "width": 0.5
                          },
                          "pattern": {
                            "fillmode": "overlay",
                            "size": 10,
                            "solidity": 0.2
                          }
                        },
                        "type": "bar"
                      }
                    ],
                    "barpolar": [
                      {
                        "marker": {
                          "line": {
                            "color": "#E5ECF6",
                            "width": 0.5
                          },
                          "pattern": {
                            "fillmode": "overlay",
                            "size": 10,
                            "solidity": 0.2
                          }
                        },
                        "type": "barpolar"
                      }
                    ],
                    "carpet": [
                      {
                        "aaxis": {
                          "endlinecolor": "#2a3f5f",
                          "gridcolor": "white",
                          "linecolor": "white",
                          "minorgridcolor": "white",
                          "startlinecolor": "#2a3f5f"
                        },
                        "baxis": {
                          "endlinecolor": "#2a3f5f",
                          "gridcolor": "white",
                          "linecolor": "white",
                          "minorgridcolor": "white",
                          "startlinecolor": "#2a3f5f"
                        },
                        "type": "carpet"
                      }
                    ],
                    "choropleth": [
                      {
                        "colorbar": {
                          "outlinewidth": 0,
                          "ticks": ""
                        },
                        "type": "choropleth"
                      }
                    ],
                    "contour": [
                      {
                        "colorbar": {
                          "outlinewidth": 0,
                          "ticks": ""
                        },
                        "colorscale": [
                          [
                            0,
                            "#0d0887"
                          ],
                          [
                            0.1111111111111111,
                            "#46039f"
                          ],
                          [
                            0.2222222222222222,
                            "#7201a8"
                          ],
                          [
                            0.3333333333333333,
                            "#9c179e"
                          ],
                          [
                            0.4444444444444444,
                            "#bd3786"
                          ],
                          [
                            0.5555555555555556,
                            "#d8576b"
                          ],
                          [
                            0.6666666666666666,
                            "#ed7953"
                          ],
                          [
                            0.7777777777777778,
                            "#fb9f3a"
                          ],
                          [
                            0.8888888888888888,
                            "#fdca26"
                          ],
                          [
                            1,
                            "#f0f921"
                          ]
                        ],
                        "type": "contour"
                      }
                    ],
                    "contourcarpet": [
                      {
                        "colorbar": {
                          "outlinewidth": 0,
                          "ticks": ""
                        },
                        "type": "contourcarpet"
                      }
                    ],
                    "heatmap": [
                      {
                        "colorbar": {
                          "outlinewidth": 0,
                          "ticks": ""
                        },
                        "colorscale": [
                          [
                            0,
                            "#0d0887"
                          ],
                          [
                            0.1111111111111111,
                            "#46039f"
                          ],
                          [
                            0.2222222222222222,
                            "#7201a8"
                          ],
                          [
                            0.3333333333333333,
                            "#9c179e"
                          ],
                          [
                            0.4444444444444444,
                            "#bd3786"
                          ],
                          [
                            0.5555555555555556,
                            "#d8576b"
                          ],
                          [
                            0.6666666666666666,
                            "#ed7953"
                          ],
                          [
                            0.7777777777777778,
                            "#fb9f3a"
                          ],
                          [
                            0.8888888888888888,
                            "#fdca26"
                          ],
                          [
                            1,
                            "#f0f921"
                          ]
                        ],
                        "type": "heatmap"
                      }
                    ],
                    "heatmapgl": [
                      {
                        "colorbar": {
                          "outlinewidth": 0,
                          "ticks": ""
                        },
                        "colorscale": [
                          [
                            0,
                            "#0d0887"
                          ],
                          [
                            0.1111111111111111,
                            "#46039f"
                          ],
                          [
                            0.2222222222222222,
                            "#7201a8"
                          ],
                          [
                            0.3333333333333333,
                            "#9c179e"
                          ],
                          [
                            0.4444444444444444,
                            "#bd3786"
                          ],
                          [
                            0.5555555555555556,
                            "#d8576b"
                          ],
                          [
                            0.6666666666666666,
                            "#ed7953"
                          ],
                          [
                            0.7777777777777778,
                            "#fb9f3a"
                          ],
                          [
                            0.8888888888888888,
                            "#fdca26"
                          ],
                          [
                            1,
                            "#f0f921"
                          ]
                        ],
                        "type": "heatmapgl"
                      }
                    ],
                    "histogram": [
                      {
                        "marker": {
                          "pattern": {
                            "fillmode": "overlay",
                            "size": 10,
                            "solidity": 0.2
                          }
                        },
                        "type": "histogram"
                      }
                    ],
                    "histogram2d": [
                      {
                        "colorbar": {
                          "outlinewidth": 0,
                          "ticks": ""
                        },
                        "colorscale": [
                          [
                            0,
                            "#0d0887"
                          ],
                          [
                            0.1111111111111111,
                            "#46039f"
                          ],
                          [
                            0.2222222222222222,
                            "#7201a8"
                          ],
                          [
                            0.3333333333333333,
                            "#9c179e"
                          ],
                          [
                            0.4444444444444444,
                            "#bd3786"
                          ],
                          [
                            0.5555555555555556,
                            "#d8576b"
                          ],
                          [
                            0.6666666666666666,
                            "#ed7953"
                          ],
                          [
                            0.7777777777777778,
                            "#fb9f3a"
                          ],
                          [
                            0.8888888888888888,
                            "#fdca26"
                          ],
                          [
                            1,
                            "#f0f921"
                          ]
                        ],
                        "type": "histogram2d"
                      }
                    ],
                    "histogram2dcontour": [
                      {
                        "colorbar": {
                          "outlinewidth": 0,
                          "ticks": ""
                        },
                        "colorscale": [
                          [
                            0,
                            "#0d0887"
                          ],
                          [
                            0.1111111111111111,
                            "#46039f"
                          ],
                          [
                            0.2222222222222222,
                            "#7201a8"
                          ],
                          [
                            0.3333333333333333,
                            "#9c179e"
                          ],
                          [
                            0.4444444444444444,
                            "#bd3786"
                          ],
                          [
                            0.5555555555555556,
                            "#d8576b"
                          ],
                          [
                            0.6666666666666666,
                            "#ed7953"
                          ],
                          [
                            0.7777777777777778,
                            "#fb9f3a"
                          ],
                          [
                            0.8888888888888888,
                            "#fdca26"
                          ],
                          [
                            1,
                            "#f0f921"
                          ]
                        ],
                        "type": "histogram2dcontour"
                      }
                    ],
                    "mesh3d": [
                      {
                        "colorbar": {
                          "outlinewidth": 0,
                          "ticks": ""
                        },
                        "type": "mesh3d"
                      }
                    ],
                    "parcoords": [
                      {
                        "line": {
                          "colorbar": {
                            "outlinewidth": 0,
                            "ticks": ""
                          }
                        },
                        "type": "parcoords"
                      }
                    ],
                    "pie": [
                      {
                        "automargin": true,
                        "type": "pie"
                      }
                    ],
                    "scatter": [
                      {
                        "fillpattern": {
                          "fillmode": "overlay",
                          "size": 10,
                          "solidity": 0.2
                        },
                        "type": "scatter"
                      }
                    ],
                    "scatter3d": [
                      {
                        "line": {
                          "colorbar": {
                            "outlinewidth": 0,
                            "ticks": ""
                          }
                        },
                        "marker": {
                          "colorbar": {
                            "outlinewidth": 0,
                            "ticks": ""
                          }
                        },
                        "type": "scatter3d"
                      }
                    ],
                    "scattercarpet": [
                      {
                        "marker": {
                          "colorbar": {
                            "outlinewidth": 0,
                            "ticks": ""
                          }
                        },
                        "type": "scattercarpet"
                      }
                    ],
                    "scattergeo": [
                      {
                        "marker": {
                          "colorbar": {
                            "outlinewidth": 0,
                            "ticks": ""
                          }
                        },
                        "type": "scattergeo"
                      }
                    ],
                    "scattergl": [
                      {
                        "marker": {
                          "colorbar": {
                            "outlinewidth": 0,
                            "ticks": ""
                          }
                        },
                        "type": "scattergl"
                      }
                    ],
                    "scattermapbox": [
                      {
                        "marker": {
                          "colorbar": {
                            "outlinewidth": 0,
                            "ticks": ""
                          }
                        },
                        "type": "scattermapbox"
                      }
                    ],
                    "scatterpolar": [
                      {
                        "marker": {
                          "colorbar": {
                            "outlinewidth": 0,
                            "ticks": ""
                          }
                        },
                        "type": "scatterpolar"
                      }
                    ],
                    "scatterpolargl": [
                      {
                        "marker": {
                          "colorbar": {
                            "outlinewidth": 0,
                            "ticks": ""
                          }
                        },
                        "type": "scatterpolargl"
                      }
                    ],
                    "scatterternary": [
                      {
                        "marker": {
                          "colorbar": {
                            "outlinewidth": 0,
                            "ticks": ""
                          }
                        },
                        "type": "scatterternary"
                      }
                    ],
                    "surface": [
                      {
                        "colorbar": {
                          "outlinewidth": 0,
                          "ticks": ""
                        },
                        "colorscale": [
                          [
                            0,
                            "#0d0887"
                          ],
                          [
                            0.1111111111111111,
                            "#46039f"
                          ],
                          [
                            0.2222222222222222,
                            "#7201a8"
                          ],
                          [
                            0.3333333333333333,
                            "#9c179e"
                          ],
                          [
                            0.4444444444444444,
                            "#bd3786"
                          ],
                          [
                            0.5555555555555556,
                            "#d8576b"
                          ],
                          [
                            0.6666666666666666,
                            "#ed7953"
                          ],
                          [
                            0.7777777777777778,
                            "#fb9f3a"
                          ],
                          [
                            0.8888888888888888,
                            "#fdca26"
                          ],
                          [
                            1,
                            "#f0f921"
                          ]
                        ],
                        "type": "surface"
                      }
                    ],
                    "table": [
                      {
                        "cells": {
                          "fill": {
                            "color": "#EBF0F8"
                          },
                          "line": {
                            "color": "white"
                          }
                        },
                        "header": {
                          "fill": {
                            "color": "#C8D4E3"
                          },
                          "line": {
                            "color": "white"
                          }
                        },
                        "type": "table"
                      }
                    ]
                  },
                  "layout": {
                    "annotationdefaults": {
                      "arrowcolor": "#2a3f5f",
                      "arrowhead": 0,
                      "arrowwidth": 1
                    },
                    "autotypenumbers": "strict",
                    "coloraxis": {
                      "colorbar": {
                        "outlinewidth": 0,
                        "ticks": ""
                      }
                    },
                    "colorscale": {
                      "diverging": [
                        [
                          0,
                          "#8e0152"
                        ],
                        [
                          0.1,
                          "#c51b7d"
                        ],
                        [
                          0.2,
                          "#de77ae"
                        ],
                        [
                          0.3,
                          "#f1b6da"
                        ],
                        [
                          0.4,
                          "#fde0ef"
                        ],
                        [
                          0.5,
                          "#f7f7f7"
                        ],
                        [
                          0.6,
                          "#e6f5d0"
                        ],
                        [
                          0.7,
                          "#b8e186"
                        ],
                        [
                          0.8,
                          "#7fbc41"
                        ],
                        [
                          0.9,
                          "#4d9221"
                        ],
                        [
                          1,
                          "#276419"
                        ]
                      ],
                      "sequential": [
                        [
                          0,
                          "#0d0887"
                        ],
                        [
                          0.1111111111111111,
                          "#46039f"
                        ],
                        [
                          0.2222222222222222,
                          "#7201a8"
                        ],
                        [
                          0.3333333333333333,
                          "#9c179e"
                        ],
                        [
                          0.4444444444444444,
                          "#bd3786"
                        ],
                        [
                          0.5555555555555556,
                          "#d8576b"
                        ],
                        [
                          0.6666666666666666,
                          "#ed7953"
                        ],
                        [
                          0.7777777777777778,
                          "#fb9f3a"
                        ],
                        [
                          0.8888888888888888,
                          "#fdca26"
                        ],
                        [
                          1,
                          "#f0f921"
                        ]
                      ],
                      "sequentialminus": [
                        [
                          0,
                          "#0d0887"
                        ],
                        [
                          0.1111111111111111,
                          "#46039f"
                        ],
                        [
                          0.2222222222222222,
                          "#7201a8"
                        ],
                        [
                          0.3333333333333333,
                          "#9c179e"
                        ],
                        [
                          0.4444444444444444,
                          "#bd3786"
                        ],
                        [
                          0.5555555555555556,
                          "#d8576b"
                        ],
                        [
                          0.6666666666666666,
                          "#ed7953"
                        ],
                        [
                          0.7777777777777778,
                          "#fb9f3a"
                        ],
                        [
                          0.8888888888888888,
                          "#fdca26"
                        ],
                        [
                          1,
                          "#f0f921"
                        ]
                      ]
                    },
                    "colorway": [
                      "#636efa",
                      "#EF553B",
                      "#00cc96",
                      "#ab63fa",
                      "#FFA15A",
                      "#19d3f3",
                      "#FF6692",
                      "#B6E880",
                      "#FF97FF",
                      "#FECB52"
                    ],
                    "font": {
                      "color": "#2a3f5f"
                    },
                    "geo": {
                      "bgcolor": "white",
                      "lakecolor": "white",
                      "landcolor": "#E5ECF6",
                      "showlakes": true,
                      "showland": true,
                      "subunitcolor": "white"
                    },
                    "hoverlabel": {
                      "align": "left"
                    },
                    "hovermode": "closest",
                    "mapbox": {
                      "style": "light"
                    },
                    "paper_bgcolor": "white",
                    "plot_bgcolor": "#E5ECF6",
                    "polar": {
                      "angularaxis": {
                        "gridcolor": "white",
                        "linecolor": "white",
                        "ticks": ""
                      },
                      "bgcolor": "#E5ECF6",
                      "radialaxis": {
                        "gridcolor": "white",
                        "linecolor": "white",
                        "ticks": ""
                      }
                    },
                    "scene": {
                      "xaxis": {
                        "backgroundcolor": "#E5ECF6",
                        "gridcolor": "white",
                        "gridwidth": 2,
                        "linecolor": "white",
                        "showbackground": true,
                        "ticks": "",
                        "zerolinecolor": "white"
                      },
                      "yaxis": {
                        "backgroundcolor": "#E5ECF6",
                        "gridcolor": "white",
                        "gridwidth": 2,
                        "linecolor": "white",
                        "showbackground": true,
                        "ticks": "",
                        "zerolinecolor": "white"
                      },
                      "zaxis": {
                        "backgroundcolor": "#E5ECF6",
                        "gridcolor": "white",
                        "gridwidth": 2,
                        "linecolor": "white",
                        "showbackground": true,
                        "ticks": "",
                        "zerolinecolor": "white"
                      }
                    },
                    "shapedefaults": {
                      "line": {
                        "color": "#2a3f5f"
                      }
                    },
                    "ternary": {
                      "aaxis": {
                        "gridcolor": "white",
                        "linecolor": "white",
                        "ticks": ""
                      },
                      "baxis": {
                        "gridcolor": "white",
                        "linecolor": "white",
                        "ticks": ""
                      },
                      "bgcolor": "#E5ECF6",
                      "caxis": {
                        "gridcolor": "white",
                        "linecolor": "white",
                        "ticks": ""
                      }
                    },
                    "title": {
                      "x": 0.05
                    },
                    "xaxis": {
                      "automargin": true,
                      "gridcolor": "white",
                      "linecolor": "white",
                      "ticks": "",
                      "title": {
                        "standoff": 15
                      },
                      "zerolinecolor": "white",
                      "zerolinewidth": 2
                    },
                    "yaxis": {
                      "automargin": true,
                      "gridcolor": "white",
                      "linecolor": "white",
                      "ticks": "",
                      "title": {
                        "standoff": 15
                      },
                      "zerolinecolor": "white",
                      "zerolinewidth": 2
                    }
                  }
                },
                "title": {
                  "text": "População X Matrículas Fundamental"
                },
                "width": 800,
                "xaxis": {
                  "anchor": "y",
                  "domain": [
                    0,
                    1
                  ],
                  "title": {
                    "text": "População 2022"
                  },
                  "type": "log"
                },
                "yaxis": {
                  "anchor": "x",
                  "domain": [
                    0,
                    1
                  ],
                  "title": {
                    "text": "Matrículas Fundamental"
                  }
                }
              }
            },
            "text/html": [
              "<div>                            <div id=\"ccae0280-ace5-4c59-8697-cbabd2428ed7\" class=\"plotly-graph-div\" style=\"height:525px; width:800px;\"></div>            <script type=\"text/javascript\">                require([\"plotly\"], function(Plotly) {                    window.PLOTLYENV=window.PLOTLYENV || {};                                    if (document.getElementById(\"ccae0280-ace5-4c59-8697-cbabd2428ed7\")) {                    Plotly.newPlot(                        \"ccae0280-ace5-4c59-8697-cbabd2428ed7\",                        [{\"hovertemplate\":\"\\u003cb\\u003e%{hovertext}\\u003c\\u002fb\\u003e\\u003cbr\\u003e\\u003cbr\\u003ePOP_Censo_2022=%{x}\\u003cbr\\u003eQT_MAT_FUND_22=%{y}\\u003cextra\\u003e\\u003c\\u002fextra\\u003e\",\"hovertext\":[\"Arataca\",\"Planaltino\",\"Jussiape\",\"Milagres\",\"Ubat\\u00e3\",\"Ant\\u00f4nio Cardoso\",\"Heli\\u00f3polis\",\"Morro do Chap\\u00e9u\",\"\\u00c1gua Fria\",\"Mata de S\\u00e3o Jo\\u00e3o\",\"Tanque Novo\",\"Nova Itarana\",\"Jussari\",\"Aurelino Leal\",\"Itapitanga\",\"Uba\\u00edra\",\"Tabocas do Brejo Velho\",\"Tanquinho\",\"Itaju\\u00edpe\",\"Xique-Xique\",\"Oliveira dos Brejinhos\",\"Gongogi\",\"Barra do Rocha\",\"Rio do Pires\",\"Itaberaba\",\"Am\\u00e9rica Dourada\",\"Laje\",\"Ourol\\u00e2ndia\",\"Gl\\u00f3ria\",\"Belo Campo\",\"Juazeiro\",\"Maiquinique\",\"Muritiba\",\"Itatim\",\"Concei\\u00e7\\u00e3o da Feira\",\"Ichu\",\"Sa\\u00fade\",\"Concei\\u00e7\\u00e3o do Almeida\",\"Eun\\u00e1polis\",\"Pil\\u00e3o Arcado\",\"Bom Jesus da Serra\",\"S\\u00edtio do Mato\",\"Piat\\u00e3\",\"Cama\\u00e7ari\",\"Nova Soure\",\"Teixeira de Freitas\",\"Dias d'\\u00c1vila\",\"Nova Cana\\u00e3\",\"Feira de Santana\",\"Ribeira do Pombal\"],\"legendgroup\":\"\",\"marker\":{\"color\":\"#636efa\",\"symbol\":\"circle\",\"line\":{\"width\":2},\"size\":12},\"mode\":\"markers\",\"name\":\"\",\"orientation\":\"v\",\"showlegend\":false,\"x\":[\" 8.219 \",\" 8.012 \",\" 7.381 \",\" 11.076 \",\" 18.161 \",\" 11.268 \",\" 12.301 \",\" 33.389 \",\" 17.398 \",\" 48.698 \",\" 18.459 \",\" 7.820 \",\" 5.902 \",\" 11.782 \",\" 10.320 \",\" 18.605 \",\" 11.990 \",\" 7.729 \",\" 19.913 \",\" 46.328 \",\" 22.850 \",\" 5.549 \",\" 6.682 \",\" 9.585 \",\" 67.605 \",\" 15.104 \",\" 23.198 \",\" 19.322 \",\" 16.698 \",\" 18.399 \",\" 244.406 \",\" 9.452 \",\" 28.558 \",\" 15.749 \",\" 22.936 \",\" 6.192 \",\" 10.482 \",\" 15.401 \",\" 112.477 \",\" 35.326 \",\" 9.572 \",\" 13.408 \",\" 20.098 \",\" 334.195 \",\" 24.206 \",\" 147.454 \",\" 69.211 \",\" 15.959 \",\" 652.592 \",\" 53.997 \"],\"xaxis\":\"x\",\"y\":[1230,1037,744,1407,1891,1742,1471,4328,2098,7196,2323,1180,722,1935,976,2286,1623,857,2433,7063,2715,807,773,1086,7758,2386,3079,2779,2162,2293,25126,1252,3038,2234,2576,796,1374,1282,13722,6061,1412,2179,2868,29633,3468,16362,8625,1832,39202,6528],\"yaxis\":\"y\",\"type\":\"scatter\"}],                        {\"template\":{\"data\":{\"histogram2dcontour\":[{\"type\":\"histogram2dcontour\",\"colorbar\":{\"outlinewidth\":0,\"ticks\":\"\"},\"colorscale\":[[0.0,\"#0d0887\"],[0.1111111111111111,\"#46039f\"],[0.2222222222222222,\"#7201a8\"],[0.3333333333333333,\"#9c179e\"],[0.4444444444444444,\"#bd3786\"],[0.5555555555555556,\"#d8576b\"],[0.6666666666666666,\"#ed7953\"],[0.7777777777777778,\"#fb9f3a\"],[0.8888888888888888,\"#fdca26\"],[1.0,\"#f0f921\"]]}],\"choropleth\":[{\"type\":\"choropleth\",\"colorbar\":{\"outlinewidth\":0,\"ticks\":\"\"}}],\"histogram2d\":[{\"type\":\"histogram2d\",\"colorbar\":{\"outlinewidth\":0,\"ticks\":\"\"},\"colorscale\":[[0.0,\"#0d0887\"],[0.1111111111111111,\"#46039f\"],[0.2222222222222222,\"#7201a8\"],[0.3333333333333333,\"#9c179e\"],[0.4444444444444444,\"#bd3786\"],[0.5555555555555556,\"#d8576b\"],[0.6666666666666666,\"#ed7953\"],[0.7777777777777778,\"#fb9f3a\"],[0.8888888888888888,\"#fdca26\"],[1.0,\"#f0f921\"]]}],\"heatmap\":[{\"type\":\"heatmap\",\"colorbar\":{\"outlinewidth\":0,\"ticks\":\"\"},\"colorscale\":[[0.0,\"#0d0887\"],[0.1111111111111111,\"#46039f\"],[0.2222222222222222,\"#7201a8\"],[0.3333333333333333,\"#9c179e\"],[0.4444444444444444,\"#bd3786\"],[0.5555555555555556,\"#d8576b\"],[0.6666666666666666,\"#ed7953\"],[0.7777777777777778,\"#fb9f3a\"],[0.8888888888888888,\"#fdca26\"],[1.0,\"#f0f921\"]]}],\"heatmapgl\":[{\"type\":\"heatmapgl\",\"colorbar\":{\"outlinewidth\":0,\"ticks\":\"\"},\"colorscale\":[[0.0,\"#0d0887\"],[0.1111111111111111,\"#46039f\"],[0.2222222222222222,\"#7201a8\"],[0.3333333333333333,\"#9c179e\"],[0.4444444444444444,\"#bd3786\"],[0.5555555555555556,\"#d8576b\"],[0.6666666666666666,\"#ed7953\"],[0.7777777777777778,\"#fb9f3a\"],[0.8888888888888888,\"#fdca26\"],[1.0,\"#f0f921\"]]}],\"contourcarpet\":[{\"type\":\"contourcarpet\",\"colorbar\":{\"outlinewidth\":0,\"ticks\":\"\"}}],\"contour\":[{\"type\":\"contour\",\"colorbar\":{\"outlinewidth\":0,\"ticks\":\"\"},\"colorscale\":[[0.0,\"#0d0887\"],[0.1111111111111111,\"#46039f\"],[0.2222222222222222,\"#7201a8\"],[0.3333333333333333,\"#9c179e\"],[0.4444444444444444,\"#bd3786\"],[0.5555555555555556,\"#d8576b\"],[0.6666666666666666,\"#ed7953\"],[0.7777777777777778,\"#fb9f3a\"],[0.8888888888888888,\"#fdca26\"],[1.0,\"#f0f921\"]]}],\"surface\":[{\"type\":\"surface\",\"colorbar\":{\"outlinewidth\":0,\"ticks\":\"\"},\"colorscale\":[[0.0,\"#0d0887\"],[0.1111111111111111,\"#46039f\"],[0.2222222222222222,\"#7201a8\"],[0.3333333333333333,\"#9c179e\"],[0.4444444444444444,\"#bd3786\"],[0.5555555555555556,\"#d8576b\"],[0.6666666666666666,\"#ed7953\"],[0.7777777777777778,\"#fb9f3a\"],[0.8888888888888888,\"#fdca26\"],[1.0,\"#f0f921\"]]}],\"mesh3d\":[{\"type\":\"mesh3d\",\"colorbar\":{\"outlinewidth\":0,\"ticks\":\"\"}}],\"scatter\":[{\"fillpattern\":{\"fillmode\":\"overlay\",\"size\":10,\"solidity\":0.2},\"type\":\"scatter\"}],\"parcoords\":[{\"type\":\"parcoords\",\"line\":{\"colorbar\":{\"outlinewidth\":0,\"ticks\":\"\"}}}],\"scatterpolargl\":[{\"type\":\"scatterpolargl\",\"marker\":{\"colorbar\":{\"outlinewidth\":0,\"ticks\":\"\"}}}],\"bar\":[{\"error_x\":{\"color\":\"#2a3f5f\"},\"error_y\":{\"color\":\"#2a3f5f\"},\"marker\":{\"line\":{\"color\":\"#E5ECF6\",\"width\":0.5},\"pattern\":{\"fillmode\":\"overlay\",\"size\":10,\"solidity\":0.2}},\"type\":\"bar\"}],\"scattergeo\":[{\"type\":\"scattergeo\",\"marker\":{\"colorbar\":{\"outlinewidth\":0,\"ticks\":\"\"}}}],\"scatterpolar\":[{\"type\":\"scatterpolar\",\"marker\":{\"colorbar\":{\"outlinewidth\":0,\"ticks\":\"\"}}}],\"histogram\":[{\"marker\":{\"pattern\":{\"fillmode\":\"overlay\",\"size\":10,\"solidity\":0.2}},\"type\":\"histogram\"}],\"scattergl\":[{\"type\":\"scattergl\",\"marker\":{\"colorbar\":{\"outlinewidth\":0,\"ticks\":\"\"}}}],\"scatter3d\":[{\"type\":\"scatter3d\",\"line\":{\"colorbar\":{\"outlinewidth\":0,\"ticks\":\"\"}},\"marker\":{\"colorbar\":{\"outlinewidth\":0,\"ticks\":\"\"}}}],\"scattermapbox\":[{\"type\":\"scattermapbox\",\"marker\":{\"colorbar\":{\"outlinewidth\":0,\"ticks\":\"\"}}}],\"scatterternary\":[{\"type\":\"scatterternary\",\"marker\":{\"colorbar\":{\"outlinewidth\":0,\"ticks\":\"\"}}}],\"scattercarpet\":[{\"type\":\"scattercarpet\",\"marker\":{\"colorbar\":{\"outlinewidth\":0,\"ticks\":\"\"}}}],\"carpet\":[{\"aaxis\":{\"endlinecolor\":\"#2a3f5f\",\"gridcolor\":\"white\",\"linecolor\":\"white\",\"minorgridcolor\":\"white\",\"startlinecolor\":\"#2a3f5f\"},\"baxis\":{\"endlinecolor\":\"#2a3f5f\",\"gridcolor\":\"white\",\"linecolor\":\"white\",\"minorgridcolor\":\"white\",\"startlinecolor\":\"#2a3f5f\"},\"type\":\"carpet\"}],\"table\":[{\"cells\":{\"fill\":{\"color\":\"#EBF0F8\"},\"line\":{\"color\":\"white\"}},\"header\":{\"fill\":{\"color\":\"#C8D4E3\"},\"line\":{\"color\":\"white\"}},\"type\":\"table\"}],\"barpolar\":[{\"marker\":{\"line\":{\"color\":\"#E5ECF6\",\"width\":0.5},\"pattern\":{\"fillmode\":\"overlay\",\"size\":10,\"solidity\":0.2}},\"type\":\"barpolar\"}],\"pie\":[{\"automargin\":true,\"type\":\"pie\"}]},\"layout\":{\"autotypenumbers\":\"strict\",\"colorway\":[\"#636efa\",\"#EF553B\",\"#00cc96\",\"#ab63fa\",\"#FFA15A\",\"#19d3f3\",\"#FF6692\",\"#B6E880\",\"#FF97FF\",\"#FECB52\"],\"font\":{\"color\":\"#2a3f5f\"},\"hovermode\":\"closest\",\"hoverlabel\":{\"align\":\"left\"},\"paper_bgcolor\":\"white\",\"plot_bgcolor\":\"#E5ECF6\",\"polar\":{\"bgcolor\":\"#E5ECF6\",\"angularaxis\":{\"gridcolor\":\"white\",\"linecolor\":\"white\",\"ticks\":\"\"},\"radialaxis\":{\"gridcolor\":\"white\",\"linecolor\":\"white\",\"ticks\":\"\"}},\"ternary\":{\"bgcolor\":\"#E5ECF6\",\"aaxis\":{\"gridcolor\":\"white\",\"linecolor\":\"white\",\"ticks\":\"\"},\"baxis\":{\"gridcolor\":\"white\",\"linecolor\":\"white\",\"ticks\":\"\"},\"caxis\":{\"gridcolor\":\"white\",\"linecolor\":\"white\",\"ticks\":\"\"}},\"coloraxis\":{\"colorbar\":{\"outlinewidth\":0,\"ticks\":\"\"}},\"colorscale\":{\"sequential\":[[0.0,\"#0d0887\"],[0.1111111111111111,\"#46039f\"],[0.2222222222222222,\"#7201a8\"],[0.3333333333333333,\"#9c179e\"],[0.4444444444444444,\"#bd3786\"],[0.5555555555555556,\"#d8576b\"],[0.6666666666666666,\"#ed7953\"],[0.7777777777777778,\"#fb9f3a\"],[0.8888888888888888,\"#fdca26\"],[1.0,\"#f0f921\"]],\"sequentialminus\":[[0.0,\"#0d0887\"],[0.1111111111111111,\"#46039f\"],[0.2222222222222222,\"#7201a8\"],[0.3333333333333333,\"#9c179e\"],[0.4444444444444444,\"#bd3786\"],[0.5555555555555556,\"#d8576b\"],[0.6666666666666666,\"#ed7953\"],[0.7777777777777778,\"#fb9f3a\"],[0.8888888888888888,\"#fdca26\"],[1.0,\"#f0f921\"]],\"diverging\":[[0,\"#8e0152\"],[0.1,\"#c51b7d\"],[0.2,\"#de77ae\"],[0.3,\"#f1b6da\"],[0.4,\"#fde0ef\"],[0.5,\"#f7f7f7\"],[0.6,\"#e6f5d0\"],[0.7,\"#b8e186\"],[0.8,\"#7fbc41\"],[0.9,\"#4d9221\"],[1,\"#276419\"]]},\"xaxis\":{\"gridcolor\":\"white\",\"linecolor\":\"white\",\"ticks\":\"\",\"title\":{\"standoff\":15},\"zerolinecolor\":\"white\",\"automargin\":true,\"zerolinewidth\":2},\"yaxis\":{\"gridcolor\":\"white\",\"linecolor\":\"white\",\"ticks\":\"\",\"title\":{\"standoff\":15},\"zerolinecolor\":\"white\",\"automargin\":true,\"zerolinewidth\":2},\"scene\":{\"xaxis\":{\"backgroundcolor\":\"#E5ECF6\",\"gridcolor\":\"white\",\"linecolor\":\"white\",\"showbackground\":true,\"ticks\":\"\",\"zerolinecolor\":\"white\",\"gridwidth\":2},\"yaxis\":{\"backgroundcolor\":\"#E5ECF6\",\"gridcolor\":\"white\",\"linecolor\":\"white\",\"showbackground\":true,\"ticks\":\"\",\"zerolinecolor\":\"white\",\"gridwidth\":2},\"zaxis\":{\"backgroundcolor\":\"#E5ECF6\",\"gridcolor\":\"white\",\"linecolor\":\"white\",\"showbackground\":true,\"ticks\":\"\",\"zerolinecolor\":\"white\",\"gridwidth\":2}},\"shapedefaults\":{\"line\":{\"color\":\"#2a3f5f\"}},\"annotationdefaults\":{\"arrowcolor\":\"#2a3f5f\",\"arrowhead\":0,\"arrowwidth\":1},\"geo\":{\"bgcolor\":\"white\",\"landcolor\":\"#E5ECF6\",\"subunitcolor\":\"white\",\"showland\":true,\"showlakes\":true,\"lakecolor\":\"white\"},\"title\":{\"x\":0.05},\"mapbox\":{\"style\":\"light\"}}},\"xaxis\":{\"anchor\":\"y\",\"domain\":[0.0,1.0],\"title\":{\"text\":\"Popula\\u00e7\\u00e3o 2022\"},\"type\":\"log\"},\"yaxis\":{\"anchor\":\"x\",\"domain\":[0.0,1.0],\"title\":{\"text\":\"Matr\\u00edculas Fundamental\"}},\"legend\":{\"tracegroupgap\":0},\"margin\":{\"t\":60},\"width\":800,\"title\":{\"text\":\"Popula\\u00e7\\u00e3o X Matr\\u00edculas Fundamental\"}},                        {\"responsive\": true}                    ).then(function(){\n",
              "                            \n",
              "var gd = document.getElementById('ccae0280-ace5-4c59-8697-cbabd2428ed7');\n",
              "var x = new MutationObserver(function (mutations, observer) {{\n",
              "        var display = window.getComputedStyle(gd).display;\n",
              "        if (!display || display === 'none') {{\n",
              "            console.log([gd, 'removed!']);\n",
              "            Plotly.purge(gd);\n",
              "            observer.disconnect();\n",
              "        }}\n",
              "}});\n",
              "\n",
              "// Listen for the removal of the full notebook cells\n",
              "var notebookContainer = gd.closest('#notebook-container');\n",
              "if (notebookContainer) {{\n",
              "    x.observe(notebookContainer, {childList: true});\n",
              "}}\n",
              "\n",
              "// Listen for the clearing of the current output cell\n",
              "var outputEl = gd.closest('.output');\n",
              "if (outputEl) {{\n",
              "    x.observe(outputEl, {childList: true});\n",
              "}}\n",
              "\n",
              "                        })                };                });            </script>        </div>"
            ]
          },
          "metadata": {},
          "output_type": "display_data"
        }
      ],
      "source": [
        "CensoBA_sample = CensoBA.sample(n=50)\n",
        "fig = px.scatter(CensoBA_sample, x = 'POP_Censo_2022', y = 'QT_MAT_FUND_22', hover_name = \"NO_MUNICIPIO\", log_x = True, width = 800)\n",
        "fig.update_traces(marker = dict(size=12, line = dict(width=2)),selector=dict(mode = 'markers'))\n",
        "fig.update_layout(title = 'População X Matrículas Fundamental')\n",
        "fig.update_xaxes(title ='População 2022')\n",
        "fig.update_yaxes(title = 'Matrículas Fundamental')\n",
        "fig.show()"
      ]
    },
    {
      "cell_type": "code",
      "execution_count": null,
      "id": "a3556928",
      "metadata": {
        "id": "a3556928",
        "outputId": "adb753a5-c12d-4302-8bf2-22e50f693ac7"
      },
      "outputs": [
        {
          "data": {
            "application/vnd.plotly.v1+json": {
              "config": {
                "plotlyServerURL": "https://plot.ly"
              },
              "data": [
                {
                  "hovertemplate": "<b>%{hovertext}</b><br><br>POP_Censo_2022=%{x}<br>QT_MAT_EJA_FUND_22=%{y}<extra></extra>",
                  "hovertext": [
                    "Arataca",
                    "Planaltino",
                    "Jussiape",
                    "Milagres",
                    "Ubatã",
                    "Antônio Cardoso",
                    "Heliópolis",
                    "Morro do Chapéu",
                    "Água Fria",
                    "Mata de São João",
                    "Tanque Novo",
                    "Nova Itarana",
                    "Jussari",
                    "Aurelino Leal",
                    "Itapitanga",
                    "Ubaíra",
                    "Tabocas do Brejo Velho",
                    "Tanquinho",
                    "Itajuípe",
                    "Xique-Xique",
                    "Oliveira dos Brejinhos",
                    "Gongogi",
                    "Barra do Rocha",
                    "Rio do Pires",
                    "Itaberaba",
                    "América Dourada",
                    "Laje",
                    "Ourolândia",
                    "Glória",
                    "Belo Campo",
                    "Juazeiro",
                    "Maiquinique",
                    "Muritiba",
                    "Itatim",
                    "Conceição da Feira",
                    "Ichu",
                    "Saúde",
                    "Conceição do Almeida",
                    "Eunápolis",
                    "Pilão Arcado",
                    "Bom Jesus da Serra",
                    "Sítio do Mato",
                    "Piatã",
                    "Camaçari",
                    "Nova Soure",
                    "Teixeira de Freitas",
                    "Dias d'Ávila",
                    "Nova Canaã",
                    "Feira de Santana",
                    "Ribeira do Pombal"
                  ],
                  "legendgroup": "",
                  "marker": {
                    "color": "#636efa",
                    "opacity": 0.5,
                    "symbol": "circle"
                  },
                  "mode": "markers",
                  "name": "",
                  "orientation": "v",
                  "showlegend": false,
                  "type": "scatter",
                  "x": [
                    " 8.219 ",
                    " 8.012 ",
                    " 7.381 ",
                    " 11.076 ",
                    " 18.161 ",
                    " 11.268 ",
                    " 12.301 ",
                    " 33.389 ",
                    " 17.398 ",
                    " 48.698 ",
                    " 18.459 ",
                    " 7.820 ",
                    " 5.902 ",
                    " 11.782 ",
                    " 10.320 ",
                    " 18.605 ",
                    " 11.990 ",
                    " 7.729 ",
                    " 19.913 ",
                    " 46.328 ",
                    " 22.850 ",
                    " 5.549 ",
                    " 6.682 ",
                    " 9.585 ",
                    " 67.605 ",
                    " 15.104 ",
                    " 23.198 ",
                    " 19.322 ",
                    " 16.698 ",
                    " 18.399 ",
                    " 244.406 ",
                    " 9.452 ",
                    " 28.558 ",
                    " 15.749 ",
                    " 22.936 ",
                    " 6.192 ",
                    " 10.482 ",
                    " 15.401 ",
                    " 112.477 ",
                    " 35.326 ",
                    " 9.572 ",
                    " 13.408 ",
                    " 20.098 ",
                    " 334.195 ",
                    " 24.206 ",
                    " 147.454 ",
                    " 69.211 ",
                    " 15.959 ",
                    " 652.592 ",
                    " 53.997 "
                  ],
                  "xaxis": "x",
                  "y": [
                    188,
                    193,
                    31,
                    83,
                    647,
                    181,
                    688,
                    319,
                    191,
                    273,
                    115,
                    233,
                    730,
                    384,
                    594,
                    336,
                    48,
                    60,
                    364,
                    1482,
                    68,
                    607,
                    1474,
                    20,
                    969,
                    226,
                    437,
                    133,
                    95,
                    415,
                    1350,
                    243,
                    2615,
                    1041,
                    294,
                    56,
                    243,
                    277,
                    1509,
                    465,
                    53,
                    50,
                    56,
                    1992,
                    759,
                    1156,
                    514,
                    692,
                    3277,
                    2008
                  ],
                  "yaxis": "y"
                }
              ],
              "layout": {
                "legend": {
                  "tracegroupgap": 0
                },
                "margin": {
                  "t": 60
                },
                "template": {
                  "data": {
                    "bar": [
                      {
                        "error_x": {
                          "color": "#2a3f5f"
                        },
                        "error_y": {
                          "color": "#2a3f5f"
                        },
                        "marker": {
                          "line": {
                            "color": "#E5ECF6",
                            "width": 0.5
                          },
                          "pattern": {
                            "fillmode": "overlay",
                            "size": 10,
                            "solidity": 0.2
                          }
                        },
                        "type": "bar"
                      }
                    ],
                    "barpolar": [
                      {
                        "marker": {
                          "line": {
                            "color": "#E5ECF6",
                            "width": 0.5
                          },
                          "pattern": {
                            "fillmode": "overlay",
                            "size": 10,
                            "solidity": 0.2
                          }
                        },
                        "type": "barpolar"
                      }
                    ],
                    "carpet": [
                      {
                        "aaxis": {
                          "endlinecolor": "#2a3f5f",
                          "gridcolor": "white",
                          "linecolor": "white",
                          "minorgridcolor": "white",
                          "startlinecolor": "#2a3f5f"
                        },
                        "baxis": {
                          "endlinecolor": "#2a3f5f",
                          "gridcolor": "white",
                          "linecolor": "white",
                          "minorgridcolor": "white",
                          "startlinecolor": "#2a3f5f"
                        },
                        "type": "carpet"
                      }
                    ],
                    "choropleth": [
                      {
                        "colorbar": {
                          "outlinewidth": 0,
                          "ticks": ""
                        },
                        "type": "choropleth"
                      }
                    ],
                    "contour": [
                      {
                        "colorbar": {
                          "outlinewidth": 0,
                          "ticks": ""
                        },
                        "colorscale": [
                          [
                            0,
                            "#0d0887"
                          ],
                          [
                            0.1111111111111111,
                            "#46039f"
                          ],
                          [
                            0.2222222222222222,
                            "#7201a8"
                          ],
                          [
                            0.3333333333333333,
                            "#9c179e"
                          ],
                          [
                            0.4444444444444444,
                            "#bd3786"
                          ],
                          [
                            0.5555555555555556,
                            "#d8576b"
                          ],
                          [
                            0.6666666666666666,
                            "#ed7953"
                          ],
                          [
                            0.7777777777777778,
                            "#fb9f3a"
                          ],
                          [
                            0.8888888888888888,
                            "#fdca26"
                          ],
                          [
                            1,
                            "#f0f921"
                          ]
                        ],
                        "type": "contour"
                      }
                    ],
                    "contourcarpet": [
                      {
                        "colorbar": {
                          "outlinewidth": 0,
                          "ticks": ""
                        },
                        "type": "contourcarpet"
                      }
                    ],
                    "heatmap": [
                      {
                        "colorbar": {
                          "outlinewidth": 0,
                          "ticks": ""
                        },
                        "colorscale": [
                          [
                            0,
                            "#0d0887"
                          ],
                          [
                            0.1111111111111111,
                            "#46039f"
                          ],
                          [
                            0.2222222222222222,
                            "#7201a8"
                          ],
                          [
                            0.3333333333333333,
                            "#9c179e"
                          ],
                          [
                            0.4444444444444444,
                            "#bd3786"
                          ],
                          [
                            0.5555555555555556,
                            "#d8576b"
                          ],
                          [
                            0.6666666666666666,
                            "#ed7953"
                          ],
                          [
                            0.7777777777777778,
                            "#fb9f3a"
                          ],
                          [
                            0.8888888888888888,
                            "#fdca26"
                          ],
                          [
                            1,
                            "#f0f921"
                          ]
                        ],
                        "type": "heatmap"
                      }
                    ],
                    "heatmapgl": [
                      {
                        "colorbar": {
                          "outlinewidth": 0,
                          "ticks": ""
                        },
                        "colorscale": [
                          [
                            0,
                            "#0d0887"
                          ],
                          [
                            0.1111111111111111,
                            "#46039f"
                          ],
                          [
                            0.2222222222222222,
                            "#7201a8"
                          ],
                          [
                            0.3333333333333333,
                            "#9c179e"
                          ],
                          [
                            0.4444444444444444,
                            "#bd3786"
                          ],
                          [
                            0.5555555555555556,
                            "#d8576b"
                          ],
                          [
                            0.6666666666666666,
                            "#ed7953"
                          ],
                          [
                            0.7777777777777778,
                            "#fb9f3a"
                          ],
                          [
                            0.8888888888888888,
                            "#fdca26"
                          ],
                          [
                            1,
                            "#f0f921"
                          ]
                        ],
                        "type": "heatmapgl"
                      }
                    ],
                    "histogram": [
                      {
                        "marker": {
                          "pattern": {
                            "fillmode": "overlay",
                            "size": 10,
                            "solidity": 0.2
                          }
                        },
                        "type": "histogram"
                      }
                    ],
                    "histogram2d": [
                      {
                        "colorbar": {
                          "outlinewidth": 0,
                          "ticks": ""
                        },
                        "colorscale": [
                          [
                            0,
                            "#0d0887"
                          ],
                          [
                            0.1111111111111111,
                            "#46039f"
                          ],
                          [
                            0.2222222222222222,
                            "#7201a8"
                          ],
                          [
                            0.3333333333333333,
                            "#9c179e"
                          ],
                          [
                            0.4444444444444444,
                            "#bd3786"
                          ],
                          [
                            0.5555555555555556,
                            "#d8576b"
                          ],
                          [
                            0.6666666666666666,
                            "#ed7953"
                          ],
                          [
                            0.7777777777777778,
                            "#fb9f3a"
                          ],
                          [
                            0.8888888888888888,
                            "#fdca26"
                          ],
                          [
                            1,
                            "#f0f921"
                          ]
                        ],
                        "type": "histogram2d"
                      }
                    ],
                    "histogram2dcontour": [
                      {
                        "colorbar": {
                          "outlinewidth": 0,
                          "ticks": ""
                        },
                        "colorscale": [
                          [
                            0,
                            "#0d0887"
                          ],
                          [
                            0.1111111111111111,
                            "#46039f"
                          ],
                          [
                            0.2222222222222222,
                            "#7201a8"
                          ],
                          [
                            0.3333333333333333,
                            "#9c179e"
                          ],
                          [
                            0.4444444444444444,
                            "#bd3786"
                          ],
                          [
                            0.5555555555555556,
                            "#d8576b"
                          ],
                          [
                            0.6666666666666666,
                            "#ed7953"
                          ],
                          [
                            0.7777777777777778,
                            "#fb9f3a"
                          ],
                          [
                            0.8888888888888888,
                            "#fdca26"
                          ],
                          [
                            1,
                            "#f0f921"
                          ]
                        ],
                        "type": "histogram2dcontour"
                      }
                    ],
                    "mesh3d": [
                      {
                        "colorbar": {
                          "outlinewidth": 0,
                          "ticks": ""
                        },
                        "type": "mesh3d"
                      }
                    ],
                    "parcoords": [
                      {
                        "line": {
                          "colorbar": {
                            "outlinewidth": 0,
                            "ticks": ""
                          }
                        },
                        "type": "parcoords"
                      }
                    ],
                    "pie": [
                      {
                        "automargin": true,
                        "type": "pie"
                      }
                    ],
                    "scatter": [
                      {
                        "fillpattern": {
                          "fillmode": "overlay",
                          "size": 10,
                          "solidity": 0.2
                        },
                        "type": "scatter"
                      }
                    ],
                    "scatter3d": [
                      {
                        "line": {
                          "colorbar": {
                            "outlinewidth": 0,
                            "ticks": ""
                          }
                        },
                        "marker": {
                          "colorbar": {
                            "outlinewidth": 0,
                            "ticks": ""
                          }
                        },
                        "type": "scatter3d"
                      }
                    ],
                    "scattercarpet": [
                      {
                        "marker": {
                          "colorbar": {
                            "outlinewidth": 0,
                            "ticks": ""
                          }
                        },
                        "type": "scattercarpet"
                      }
                    ],
                    "scattergeo": [
                      {
                        "marker": {
                          "colorbar": {
                            "outlinewidth": 0,
                            "ticks": ""
                          }
                        },
                        "type": "scattergeo"
                      }
                    ],
                    "scattergl": [
                      {
                        "marker": {
                          "colorbar": {
                            "outlinewidth": 0,
                            "ticks": ""
                          }
                        },
                        "type": "scattergl"
                      }
                    ],
                    "scattermapbox": [
                      {
                        "marker": {
                          "colorbar": {
                            "outlinewidth": 0,
                            "ticks": ""
                          }
                        },
                        "type": "scattermapbox"
                      }
                    ],
                    "scatterpolar": [
                      {
                        "marker": {
                          "colorbar": {
                            "outlinewidth": 0,
                            "ticks": ""
                          }
                        },
                        "type": "scatterpolar"
                      }
                    ],
                    "scatterpolargl": [
                      {
                        "marker": {
                          "colorbar": {
                            "outlinewidth": 0,
                            "ticks": ""
                          }
                        },
                        "type": "scatterpolargl"
                      }
                    ],
                    "scatterternary": [
                      {
                        "marker": {
                          "colorbar": {
                            "outlinewidth": 0,
                            "ticks": ""
                          }
                        },
                        "type": "scatterternary"
                      }
                    ],
                    "surface": [
                      {
                        "colorbar": {
                          "outlinewidth": 0,
                          "ticks": ""
                        },
                        "colorscale": [
                          [
                            0,
                            "#0d0887"
                          ],
                          [
                            0.1111111111111111,
                            "#46039f"
                          ],
                          [
                            0.2222222222222222,
                            "#7201a8"
                          ],
                          [
                            0.3333333333333333,
                            "#9c179e"
                          ],
                          [
                            0.4444444444444444,
                            "#bd3786"
                          ],
                          [
                            0.5555555555555556,
                            "#d8576b"
                          ],
                          [
                            0.6666666666666666,
                            "#ed7953"
                          ],
                          [
                            0.7777777777777778,
                            "#fb9f3a"
                          ],
                          [
                            0.8888888888888888,
                            "#fdca26"
                          ],
                          [
                            1,
                            "#f0f921"
                          ]
                        ],
                        "type": "surface"
                      }
                    ],
                    "table": [
                      {
                        "cells": {
                          "fill": {
                            "color": "#EBF0F8"
                          },
                          "line": {
                            "color": "white"
                          }
                        },
                        "header": {
                          "fill": {
                            "color": "#C8D4E3"
                          },
                          "line": {
                            "color": "white"
                          }
                        },
                        "type": "table"
                      }
                    ]
                  },
                  "layout": {
                    "annotationdefaults": {
                      "arrowcolor": "#2a3f5f",
                      "arrowhead": 0,
                      "arrowwidth": 1
                    },
                    "autotypenumbers": "strict",
                    "coloraxis": {
                      "colorbar": {
                        "outlinewidth": 0,
                        "ticks": ""
                      }
                    },
                    "colorscale": {
                      "diverging": [
                        [
                          0,
                          "#8e0152"
                        ],
                        [
                          0.1,
                          "#c51b7d"
                        ],
                        [
                          0.2,
                          "#de77ae"
                        ],
                        [
                          0.3,
                          "#f1b6da"
                        ],
                        [
                          0.4,
                          "#fde0ef"
                        ],
                        [
                          0.5,
                          "#f7f7f7"
                        ],
                        [
                          0.6,
                          "#e6f5d0"
                        ],
                        [
                          0.7,
                          "#b8e186"
                        ],
                        [
                          0.8,
                          "#7fbc41"
                        ],
                        [
                          0.9,
                          "#4d9221"
                        ],
                        [
                          1,
                          "#276419"
                        ]
                      ],
                      "sequential": [
                        [
                          0,
                          "#0d0887"
                        ],
                        [
                          0.1111111111111111,
                          "#46039f"
                        ],
                        [
                          0.2222222222222222,
                          "#7201a8"
                        ],
                        [
                          0.3333333333333333,
                          "#9c179e"
                        ],
                        [
                          0.4444444444444444,
                          "#bd3786"
                        ],
                        [
                          0.5555555555555556,
                          "#d8576b"
                        ],
                        [
                          0.6666666666666666,
                          "#ed7953"
                        ],
                        [
                          0.7777777777777778,
                          "#fb9f3a"
                        ],
                        [
                          0.8888888888888888,
                          "#fdca26"
                        ],
                        [
                          1,
                          "#f0f921"
                        ]
                      ],
                      "sequentialminus": [
                        [
                          0,
                          "#0d0887"
                        ],
                        [
                          0.1111111111111111,
                          "#46039f"
                        ],
                        [
                          0.2222222222222222,
                          "#7201a8"
                        ],
                        [
                          0.3333333333333333,
                          "#9c179e"
                        ],
                        [
                          0.4444444444444444,
                          "#bd3786"
                        ],
                        [
                          0.5555555555555556,
                          "#d8576b"
                        ],
                        [
                          0.6666666666666666,
                          "#ed7953"
                        ],
                        [
                          0.7777777777777778,
                          "#fb9f3a"
                        ],
                        [
                          0.8888888888888888,
                          "#fdca26"
                        ],
                        [
                          1,
                          "#f0f921"
                        ]
                      ]
                    },
                    "colorway": [
                      "#636efa",
                      "#EF553B",
                      "#00cc96",
                      "#ab63fa",
                      "#FFA15A",
                      "#19d3f3",
                      "#FF6692",
                      "#B6E880",
                      "#FF97FF",
                      "#FECB52"
                    ],
                    "font": {
                      "color": "#2a3f5f"
                    },
                    "geo": {
                      "bgcolor": "white",
                      "lakecolor": "white",
                      "landcolor": "#E5ECF6",
                      "showlakes": true,
                      "showland": true,
                      "subunitcolor": "white"
                    },
                    "hoverlabel": {
                      "align": "left"
                    },
                    "hovermode": "closest",
                    "mapbox": {
                      "style": "light"
                    },
                    "paper_bgcolor": "white",
                    "plot_bgcolor": "#E5ECF6",
                    "polar": {
                      "angularaxis": {
                        "gridcolor": "white",
                        "linecolor": "white",
                        "ticks": ""
                      },
                      "bgcolor": "#E5ECF6",
                      "radialaxis": {
                        "gridcolor": "white",
                        "linecolor": "white",
                        "ticks": ""
                      }
                    },
                    "scene": {
                      "xaxis": {
                        "backgroundcolor": "#E5ECF6",
                        "gridcolor": "white",
                        "gridwidth": 2,
                        "linecolor": "white",
                        "showbackground": true,
                        "ticks": "",
                        "zerolinecolor": "white"
                      },
                      "yaxis": {
                        "backgroundcolor": "#E5ECF6",
                        "gridcolor": "white",
                        "gridwidth": 2,
                        "linecolor": "white",
                        "showbackground": true,
                        "ticks": "",
                        "zerolinecolor": "white"
                      },
                      "zaxis": {
                        "backgroundcolor": "#E5ECF6",
                        "gridcolor": "white",
                        "gridwidth": 2,
                        "linecolor": "white",
                        "showbackground": true,
                        "ticks": "",
                        "zerolinecolor": "white"
                      }
                    },
                    "shapedefaults": {
                      "line": {
                        "color": "#2a3f5f"
                      }
                    },
                    "ternary": {
                      "aaxis": {
                        "gridcolor": "white",
                        "linecolor": "white",
                        "ticks": ""
                      },
                      "baxis": {
                        "gridcolor": "white",
                        "linecolor": "white",
                        "ticks": ""
                      },
                      "bgcolor": "#E5ECF6",
                      "caxis": {
                        "gridcolor": "white",
                        "linecolor": "white",
                        "ticks": ""
                      }
                    },
                    "title": {
                      "x": 0.05
                    },
                    "xaxis": {
                      "automargin": true,
                      "gridcolor": "white",
                      "linecolor": "white",
                      "ticks": "",
                      "title": {
                        "standoff": 15
                      },
                      "zerolinecolor": "white",
                      "zerolinewidth": 2
                    },
                    "yaxis": {
                      "automargin": true,
                      "gridcolor": "white",
                      "linecolor": "white",
                      "ticks": "",
                      "title": {
                        "standoff": 15
                      },
                      "zerolinecolor": "white",
                      "zerolinewidth": 2
                    }
                  }
                },
                "title": {
                  "text": "População X Matrículas Fundamental"
                },
                "width": 800,
                "xaxis": {
                  "anchor": "y",
                  "domain": [
                    0,
                    1
                  ],
                  "title": {
                    "text": "População 2022"
                  },
                  "type": "log"
                },
                "yaxis": {
                  "anchor": "x",
                  "domain": [
                    0,
                    1
                  ],
                  "title": {
                    "text": "Matrículas Eja Fundamental"
                  }
                }
              }
            },
            "text/html": [
              "<div>                            <div id=\"911f2491-1f20-4b39-9f2a-06f40349312f\" class=\"plotly-graph-div\" style=\"height:525px; width:800px;\"></div>            <script type=\"text/javascript\">                require([\"plotly\"], function(Plotly) {                    window.PLOTLYENV=window.PLOTLYENV || {};                                    if (document.getElementById(\"911f2491-1f20-4b39-9f2a-06f40349312f\")) {                    Plotly.newPlot(                        \"911f2491-1f20-4b39-9f2a-06f40349312f\",                        [{\"hovertemplate\":\"\\u003cb\\u003e%{hovertext}\\u003c\\u002fb\\u003e\\u003cbr\\u003e\\u003cbr\\u003ePOP_Censo_2022=%{x}\\u003cbr\\u003eQT_MAT_EJA_FUND_22=%{y}\\u003cextra\\u003e\\u003c\\u002fextra\\u003e\",\"hovertext\":[\"Arataca\",\"Planaltino\",\"Jussiape\",\"Milagres\",\"Ubat\\u00e3\",\"Ant\\u00f4nio Cardoso\",\"Heli\\u00f3polis\",\"Morro do Chap\\u00e9u\",\"\\u00c1gua Fria\",\"Mata de S\\u00e3o Jo\\u00e3o\",\"Tanque Novo\",\"Nova Itarana\",\"Jussari\",\"Aurelino Leal\",\"Itapitanga\",\"Uba\\u00edra\",\"Tabocas do Brejo Velho\",\"Tanquinho\",\"Itaju\\u00edpe\",\"Xique-Xique\",\"Oliveira dos Brejinhos\",\"Gongogi\",\"Barra do Rocha\",\"Rio do Pires\",\"Itaberaba\",\"Am\\u00e9rica Dourada\",\"Laje\",\"Ourol\\u00e2ndia\",\"Gl\\u00f3ria\",\"Belo Campo\",\"Juazeiro\",\"Maiquinique\",\"Muritiba\",\"Itatim\",\"Concei\\u00e7\\u00e3o da Feira\",\"Ichu\",\"Sa\\u00fade\",\"Concei\\u00e7\\u00e3o do Almeida\",\"Eun\\u00e1polis\",\"Pil\\u00e3o Arcado\",\"Bom Jesus da Serra\",\"S\\u00edtio do Mato\",\"Piat\\u00e3\",\"Cama\\u00e7ari\",\"Nova Soure\",\"Teixeira de Freitas\",\"Dias d'\\u00c1vila\",\"Nova Cana\\u00e3\",\"Feira de Santana\",\"Ribeira do Pombal\"],\"legendgroup\":\"\",\"marker\":{\"color\":\"#636efa\",\"opacity\":0.5,\"symbol\":\"circle\"},\"mode\":\"markers\",\"name\":\"\",\"orientation\":\"v\",\"showlegend\":false,\"x\":[\" 8.219 \",\" 8.012 \",\" 7.381 \",\" 11.076 \",\" 18.161 \",\" 11.268 \",\" 12.301 \",\" 33.389 \",\" 17.398 \",\" 48.698 \",\" 18.459 \",\" 7.820 \",\" 5.902 \",\" 11.782 \",\" 10.320 \",\" 18.605 \",\" 11.990 \",\" 7.729 \",\" 19.913 \",\" 46.328 \",\" 22.850 \",\" 5.549 \",\" 6.682 \",\" 9.585 \",\" 67.605 \",\" 15.104 \",\" 23.198 \",\" 19.322 \",\" 16.698 \",\" 18.399 \",\" 244.406 \",\" 9.452 \",\" 28.558 \",\" 15.749 \",\" 22.936 \",\" 6.192 \",\" 10.482 \",\" 15.401 \",\" 112.477 \",\" 35.326 \",\" 9.572 \",\" 13.408 \",\" 20.098 \",\" 334.195 \",\" 24.206 \",\" 147.454 \",\" 69.211 \",\" 15.959 \",\" 652.592 \",\" 53.997 \"],\"xaxis\":\"x\",\"y\":[188,193,31,83,647,181,688,319,191,273,115,233,730,384,594,336,48,60,364,1482,68,607,1474,20,969,226,437,133,95,415,1350,243,2615,1041,294,56,243,277,1509,465,53,50,56,1992,759,1156,514,692,3277,2008],\"yaxis\":\"y\",\"type\":\"scatter\"}],                        {\"template\":{\"data\":{\"histogram2dcontour\":[{\"type\":\"histogram2dcontour\",\"colorbar\":{\"outlinewidth\":0,\"ticks\":\"\"},\"colorscale\":[[0.0,\"#0d0887\"],[0.1111111111111111,\"#46039f\"],[0.2222222222222222,\"#7201a8\"],[0.3333333333333333,\"#9c179e\"],[0.4444444444444444,\"#bd3786\"],[0.5555555555555556,\"#d8576b\"],[0.6666666666666666,\"#ed7953\"],[0.7777777777777778,\"#fb9f3a\"],[0.8888888888888888,\"#fdca26\"],[1.0,\"#f0f921\"]]}],\"choropleth\":[{\"type\":\"choropleth\",\"colorbar\":{\"outlinewidth\":0,\"ticks\":\"\"}}],\"histogram2d\":[{\"type\":\"histogram2d\",\"colorbar\":{\"outlinewidth\":0,\"ticks\":\"\"},\"colorscale\":[[0.0,\"#0d0887\"],[0.1111111111111111,\"#46039f\"],[0.2222222222222222,\"#7201a8\"],[0.3333333333333333,\"#9c179e\"],[0.4444444444444444,\"#bd3786\"],[0.5555555555555556,\"#d8576b\"],[0.6666666666666666,\"#ed7953\"],[0.7777777777777778,\"#fb9f3a\"],[0.8888888888888888,\"#fdca26\"],[1.0,\"#f0f921\"]]}],\"heatmap\":[{\"type\":\"heatmap\",\"colorbar\":{\"outlinewidth\":0,\"ticks\":\"\"},\"colorscale\":[[0.0,\"#0d0887\"],[0.1111111111111111,\"#46039f\"],[0.2222222222222222,\"#7201a8\"],[0.3333333333333333,\"#9c179e\"],[0.4444444444444444,\"#bd3786\"],[0.5555555555555556,\"#d8576b\"],[0.6666666666666666,\"#ed7953\"],[0.7777777777777778,\"#fb9f3a\"],[0.8888888888888888,\"#fdca26\"],[1.0,\"#f0f921\"]]}],\"heatmapgl\":[{\"type\":\"heatmapgl\",\"colorbar\":{\"outlinewidth\":0,\"ticks\":\"\"},\"colorscale\":[[0.0,\"#0d0887\"],[0.1111111111111111,\"#46039f\"],[0.2222222222222222,\"#7201a8\"],[0.3333333333333333,\"#9c179e\"],[0.4444444444444444,\"#bd3786\"],[0.5555555555555556,\"#d8576b\"],[0.6666666666666666,\"#ed7953\"],[0.7777777777777778,\"#fb9f3a\"],[0.8888888888888888,\"#fdca26\"],[1.0,\"#f0f921\"]]}],\"contourcarpet\":[{\"type\":\"contourcarpet\",\"colorbar\":{\"outlinewidth\":0,\"ticks\":\"\"}}],\"contour\":[{\"type\":\"contour\",\"colorbar\":{\"outlinewidth\":0,\"ticks\":\"\"},\"colorscale\":[[0.0,\"#0d0887\"],[0.1111111111111111,\"#46039f\"],[0.2222222222222222,\"#7201a8\"],[0.3333333333333333,\"#9c179e\"],[0.4444444444444444,\"#bd3786\"],[0.5555555555555556,\"#d8576b\"],[0.6666666666666666,\"#ed7953\"],[0.7777777777777778,\"#fb9f3a\"],[0.8888888888888888,\"#fdca26\"],[1.0,\"#f0f921\"]]}],\"surface\":[{\"type\":\"surface\",\"colorbar\":{\"outlinewidth\":0,\"ticks\":\"\"},\"colorscale\":[[0.0,\"#0d0887\"],[0.1111111111111111,\"#46039f\"],[0.2222222222222222,\"#7201a8\"],[0.3333333333333333,\"#9c179e\"],[0.4444444444444444,\"#bd3786\"],[0.5555555555555556,\"#d8576b\"],[0.6666666666666666,\"#ed7953\"],[0.7777777777777778,\"#fb9f3a\"],[0.8888888888888888,\"#fdca26\"],[1.0,\"#f0f921\"]]}],\"mesh3d\":[{\"type\":\"mesh3d\",\"colorbar\":{\"outlinewidth\":0,\"ticks\":\"\"}}],\"scatter\":[{\"fillpattern\":{\"fillmode\":\"overlay\",\"size\":10,\"solidity\":0.2},\"type\":\"scatter\"}],\"parcoords\":[{\"type\":\"parcoords\",\"line\":{\"colorbar\":{\"outlinewidth\":0,\"ticks\":\"\"}}}],\"scatterpolargl\":[{\"type\":\"scatterpolargl\",\"marker\":{\"colorbar\":{\"outlinewidth\":0,\"ticks\":\"\"}}}],\"bar\":[{\"error_x\":{\"color\":\"#2a3f5f\"},\"error_y\":{\"color\":\"#2a3f5f\"},\"marker\":{\"line\":{\"color\":\"#E5ECF6\",\"width\":0.5},\"pattern\":{\"fillmode\":\"overlay\",\"size\":10,\"solidity\":0.2}},\"type\":\"bar\"}],\"scattergeo\":[{\"type\":\"scattergeo\",\"marker\":{\"colorbar\":{\"outlinewidth\":0,\"ticks\":\"\"}}}],\"scatterpolar\":[{\"type\":\"scatterpolar\",\"marker\":{\"colorbar\":{\"outlinewidth\":0,\"ticks\":\"\"}}}],\"histogram\":[{\"marker\":{\"pattern\":{\"fillmode\":\"overlay\",\"size\":10,\"solidity\":0.2}},\"type\":\"histogram\"}],\"scattergl\":[{\"type\":\"scattergl\",\"marker\":{\"colorbar\":{\"outlinewidth\":0,\"ticks\":\"\"}}}],\"scatter3d\":[{\"type\":\"scatter3d\",\"line\":{\"colorbar\":{\"outlinewidth\":0,\"ticks\":\"\"}},\"marker\":{\"colorbar\":{\"outlinewidth\":0,\"ticks\":\"\"}}}],\"scattermapbox\":[{\"type\":\"scattermapbox\",\"marker\":{\"colorbar\":{\"outlinewidth\":0,\"ticks\":\"\"}}}],\"scatterternary\":[{\"type\":\"scatterternary\",\"marker\":{\"colorbar\":{\"outlinewidth\":0,\"ticks\":\"\"}}}],\"scattercarpet\":[{\"type\":\"scattercarpet\",\"marker\":{\"colorbar\":{\"outlinewidth\":0,\"ticks\":\"\"}}}],\"carpet\":[{\"aaxis\":{\"endlinecolor\":\"#2a3f5f\",\"gridcolor\":\"white\",\"linecolor\":\"white\",\"minorgridcolor\":\"white\",\"startlinecolor\":\"#2a3f5f\"},\"baxis\":{\"endlinecolor\":\"#2a3f5f\",\"gridcolor\":\"white\",\"linecolor\":\"white\",\"minorgridcolor\":\"white\",\"startlinecolor\":\"#2a3f5f\"},\"type\":\"carpet\"}],\"table\":[{\"cells\":{\"fill\":{\"color\":\"#EBF0F8\"},\"line\":{\"color\":\"white\"}},\"header\":{\"fill\":{\"color\":\"#C8D4E3\"},\"line\":{\"color\":\"white\"}},\"type\":\"table\"}],\"barpolar\":[{\"marker\":{\"line\":{\"color\":\"#E5ECF6\",\"width\":0.5},\"pattern\":{\"fillmode\":\"overlay\",\"size\":10,\"solidity\":0.2}},\"type\":\"barpolar\"}],\"pie\":[{\"automargin\":true,\"type\":\"pie\"}]},\"layout\":{\"autotypenumbers\":\"strict\",\"colorway\":[\"#636efa\",\"#EF553B\",\"#00cc96\",\"#ab63fa\",\"#FFA15A\",\"#19d3f3\",\"#FF6692\",\"#B6E880\",\"#FF97FF\",\"#FECB52\"],\"font\":{\"color\":\"#2a3f5f\"},\"hovermode\":\"closest\",\"hoverlabel\":{\"align\":\"left\"},\"paper_bgcolor\":\"white\",\"plot_bgcolor\":\"#E5ECF6\",\"polar\":{\"bgcolor\":\"#E5ECF6\",\"angularaxis\":{\"gridcolor\":\"white\",\"linecolor\":\"white\",\"ticks\":\"\"},\"radialaxis\":{\"gridcolor\":\"white\",\"linecolor\":\"white\",\"ticks\":\"\"}},\"ternary\":{\"bgcolor\":\"#E5ECF6\",\"aaxis\":{\"gridcolor\":\"white\",\"linecolor\":\"white\",\"ticks\":\"\"},\"baxis\":{\"gridcolor\":\"white\",\"linecolor\":\"white\",\"ticks\":\"\"},\"caxis\":{\"gridcolor\":\"white\",\"linecolor\":\"white\",\"ticks\":\"\"}},\"coloraxis\":{\"colorbar\":{\"outlinewidth\":0,\"ticks\":\"\"}},\"colorscale\":{\"sequential\":[[0.0,\"#0d0887\"],[0.1111111111111111,\"#46039f\"],[0.2222222222222222,\"#7201a8\"],[0.3333333333333333,\"#9c179e\"],[0.4444444444444444,\"#bd3786\"],[0.5555555555555556,\"#d8576b\"],[0.6666666666666666,\"#ed7953\"],[0.7777777777777778,\"#fb9f3a\"],[0.8888888888888888,\"#fdca26\"],[1.0,\"#f0f921\"]],\"sequentialminus\":[[0.0,\"#0d0887\"],[0.1111111111111111,\"#46039f\"],[0.2222222222222222,\"#7201a8\"],[0.3333333333333333,\"#9c179e\"],[0.4444444444444444,\"#bd3786\"],[0.5555555555555556,\"#d8576b\"],[0.6666666666666666,\"#ed7953\"],[0.7777777777777778,\"#fb9f3a\"],[0.8888888888888888,\"#fdca26\"],[1.0,\"#f0f921\"]],\"diverging\":[[0,\"#8e0152\"],[0.1,\"#c51b7d\"],[0.2,\"#de77ae\"],[0.3,\"#f1b6da\"],[0.4,\"#fde0ef\"],[0.5,\"#f7f7f7\"],[0.6,\"#e6f5d0\"],[0.7,\"#b8e186\"],[0.8,\"#7fbc41\"],[0.9,\"#4d9221\"],[1,\"#276419\"]]},\"xaxis\":{\"gridcolor\":\"white\",\"linecolor\":\"white\",\"ticks\":\"\",\"title\":{\"standoff\":15},\"zerolinecolor\":\"white\",\"automargin\":true,\"zerolinewidth\":2},\"yaxis\":{\"gridcolor\":\"white\",\"linecolor\":\"white\",\"ticks\":\"\",\"title\":{\"standoff\":15},\"zerolinecolor\":\"white\",\"automargin\":true,\"zerolinewidth\":2},\"scene\":{\"xaxis\":{\"backgroundcolor\":\"#E5ECF6\",\"gridcolor\":\"white\",\"linecolor\":\"white\",\"showbackground\":true,\"ticks\":\"\",\"zerolinecolor\":\"white\",\"gridwidth\":2},\"yaxis\":{\"backgroundcolor\":\"#E5ECF6\",\"gridcolor\":\"white\",\"linecolor\":\"white\",\"showbackground\":true,\"ticks\":\"\",\"zerolinecolor\":\"white\",\"gridwidth\":2},\"zaxis\":{\"backgroundcolor\":\"#E5ECF6\",\"gridcolor\":\"white\",\"linecolor\":\"white\",\"showbackground\":true,\"ticks\":\"\",\"zerolinecolor\":\"white\",\"gridwidth\":2}},\"shapedefaults\":{\"line\":{\"color\":\"#2a3f5f\"}},\"annotationdefaults\":{\"arrowcolor\":\"#2a3f5f\",\"arrowhead\":0,\"arrowwidth\":1},\"geo\":{\"bgcolor\":\"white\",\"landcolor\":\"#E5ECF6\",\"subunitcolor\":\"white\",\"showland\":true,\"showlakes\":true,\"lakecolor\":\"white\"},\"title\":{\"x\":0.05},\"mapbox\":{\"style\":\"light\"}}},\"xaxis\":{\"anchor\":\"y\",\"domain\":[0.0,1.0],\"title\":{\"text\":\"Popula\\u00e7\\u00e3o 2022\"},\"type\":\"log\"},\"yaxis\":{\"anchor\":\"x\",\"domain\":[0.0,1.0],\"title\":{\"text\":\"Matr\\u00edculas Eja Fundamental\"}},\"legend\":{\"tracegroupgap\":0},\"margin\":{\"t\":60},\"width\":800,\"title\":{\"text\":\"Popula\\u00e7\\u00e3o X Matr\\u00edculas Fundamental\"}},                        {\"responsive\": true}                    ).then(function(){\n",
              "                            \n",
              "var gd = document.getElementById('911f2491-1f20-4b39-9f2a-06f40349312f');\n",
              "var x = new MutationObserver(function (mutations, observer) {{\n",
              "        var display = window.getComputedStyle(gd).display;\n",
              "        if (!display || display === 'none') {{\n",
              "            console.log([gd, 'removed!']);\n",
              "            Plotly.purge(gd);\n",
              "            observer.disconnect();\n",
              "        }}\n",
              "}});\n",
              "\n",
              "// Listen for the removal of the full notebook cells\n",
              "var notebookContainer = gd.closest('#notebook-container');\n",
              "if (notebookContainer) {{\n",
              "    x.observe(notebookContainer, {childList: true});\n",
              "}}\n",
              "\n",
              "// Listen for the clearing of the current output cell\n",
              "var outputEl = gd.closest('.output');\n",
              "if (outputEl) {{\n",
              "    x.observe(outputEl, {childList: true});\n",
              "}}\n",
              "\n",
              "                        })                };                });            </script>        </div>"
            ]
          },
          "metadata": {},
          "output_type": "display_data"
        }
      ],
      "source": [
        "fig=px.scatter(CensoBA_sample, x = 'POP_Censo_2022', opacity=0.5, y = 'QT_MAT_EJA_FUND_22', hover_name = \"NO_MUNICIPIO\", log_x = True, width = 800)\n",
        "fig.update_layout(title = 'População X Matrículas Fundamental')\n",
        "fig.update_xaxes(title = 'População 2022')\n",
        "fig.update_yaxes(title = 'Matrículas Eja Fundamental')\n",
        "fig.show()"
      ]
    },
    {
      "cell_type": "code",
      "execution_count": null,
      "id": "2205d0b0",
      "metadata": {
        "id": "2205d0b0",
        "outputId": "e60f8409-6418-4c13-f834-f89eff83d7e8"
      },
      "outputs": [
        {
          "name": "stderr",
          "output_type": "stream",
          "text": [
            "/opt/anaconda3/lib/python3.8/site-packages/seaborn/_decorators.py:36: FutureWarning:\n",
            "\n",
            "Pass the following variable as a keyword arg: x. From version 0.12, the only valid positional argument will be `data`, and passing other arguments without an explicit keyword will result in an error or misinterpretation.\n",
            "\n"
          ]
        },
        {
          "data": {
            "text/plain": [
              "<AxesSubplot:xlabel='QT_MAT_FUND_INT_22'>"
            ]
          },
          "execution_count": 71,
          "metadata": {},
          "output_type": "execute_result"
        },
        {
          "data": {
            "image/png": "[encoded data removed]",
            "text/plain": [
              "<Figure size 1440x720 with 1 Axes>"
            ]
          },
          "metadata": {},
          "output_type": "display_data"
        }
      ],
      "source": [
        "plt.figure(figsize=(20,10))\n",
        "sns.boxplot(CensoBA['QT_MAT_FUND_INT_22'])"
      ]
    },
    {
      "cell_type": "code",
      "execution_count": null,
      "id": "387d1686",
      "metadata": {
        "id": "387d1686",
        "outputId": "825f94af-77c8-4bd8-f522-7189874f00c4"
      },
      "outputs": [
        {
          "data": {
            "text/html": [
              "<div>\n",
              "<style scoped>\n",
              "    .dataframe tbody tr th:only-of-type {\n",
              "        vertical-align: middle;\n",
              "    }\n",
              "\n",
              "    .dataframe tbody tr th {\n",
              "        vertical-align: top;\n",
              "    }\n",
              "\n",
              "    .dataframe thead th {\n",
              "        text-align: right;\n",
              "    }\n",
              "</style>\n",
              "<table border=\"1\" class=\"dataframe\">\n",
              "  <thead>\n",
              "    <tr style=\"text-align: right;\">\n",
              "      <th></th>\n",
              "      <th>NO_MUNICIPIO</th>\n",
              "      <th>QT_MAT_FUND_19</th>\n",
              "      <th>QT_MAT_FUND_20</th>\n",
              "      <th>QT_MAT_FUND_21</th>\n",
              "      <th>QT_MAT_FUND_22</th>\n",
              "    </tr>\n",
              "  </thead>\n",
              "  <tbody>\n",
              "    <tr>\n",
              "      <th>0</th>\n",
              "      <td>Abaíra</td>\n",
              "      <td>827</td>\n",
              "      <td>788</td>\n",
              "      <td>764</td>\n",
              "      <td>757</td>\n",
              "    </tr>\n",
              "    <tr>\n",
              "      <th>1</th>\n",
              "      <td>Abaré</td>\n",
              "      <td>2993</td>\n",
              "      <td>2959</td>\n",
              "      <td>2939</td>\n",
              "      <td>2861</td>\n",
              "    </tr>\n",
              "    <tr>\n",
              "      <th>2</th>\n",
              "      <td>Acajutiba</td>\n",
              "      <td>2021</td>\n",
              "      <td>2400</td>\n",
              "      <td>2039</td>\n",
              "      <td>1929</td>\n",
              "    </tr>\n",
              "    <tr>\n",
              "      <th>3</th>\n",
              "      <td>Adustina</td>\n",
              "      <td>1966</td>\n",
              "      <td>1980</td>\n",
              "      <td>1865</td>\n",
              "      <td>1758</td>\n",
              "    </tr>\n",
              "    <tr>\n",
              "      <th>4</th>\n",
              "      <td>Água Fria</td>\n",
              "      <td>2122</td>\n",
              "      <td>2077</td>\n",
              "      <td>2187</td>\n",
              "      <td>2098</td>\n",
              "    </tr>\n",
              "  </tbody>\n",
              "</table>\n",
              "</div>"
            ],
            "text/plain": [
              "  NO_MUNICIPIO  QT_MAT_FUND_19  QT_MAT_FUND_20  QT_MAT_FUND_21  QT_MAT_FUND_22\n",
              "0       Abaíra             827             788             764             757\n",
              "1        Abaré            2993            2959            2939            2861\n",
              "2    Acajutiba            2021            2400            2039            1929\n",
              "3     Adustina            1966            1980            1865            1758\n",
              "4    Água Fria            2122            2077            2187            2098"
            ]
          },
          "execution_count": 41,
          "metadata": {},
          "output_type": "execute_result"
        }
      ],
      "source": [
        "CensoResumido=CensoBA.iloc[:,[0, 8, 9, 10, 11]]\n",
        "CensoResumido.head()"
      ]
    },
    {
      "cell_type": "code",
      "execution_count": null,
      "id": "d8911514",
      "metadata": {
        "id": "d8911514",
        "outputId": "168a2d8e-72f5-4e83-9a96-96ec99556978"
      },
      "outputs": [
        {
          "data": {
            "image/png": "[encoded data removed]",
            "text/plain": [
              "<Figure size 720x7200 with 1 Axes>"
            ]
          },
          "metadata": {},
          "output_type": "display_data"
        }
      ],
      "source": [
        "plt.figure(figsize=(10,100))\n",
        "sns.boxplot(data=CensoResumido);"
      ]
    },
    {
      "cell_type": "code",
      "execution_count": null,
      "id": "20e0f0c0",
      "metadata": {
        "id": "20e0f0c0"
      },
      "outputs": [],
      "source": []
    }
  ],
  "metadata": {
    "kernelspec": {
      "display_name": "Python 3",
      "language": "python",
      "name": "python3"
    },
    "language_info": {
      "codemirror_mode": {
        "name": "ipython",
        "version": 3
      },
      "file_extension": ".py",
      "mimetype": "text/x-python",
      "name": "python",
      "nbconvert_exporter": "python",
      "pygments_lexer": "ipython3",
      "version": "3.8.8"
    },
    "colab": {
      "provenance": [],
      "include_colab_link": true
    }
  },
  "nbformat": 4,
  "nbformat_minor": 5
}